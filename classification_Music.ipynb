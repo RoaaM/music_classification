{
  "nbformat": 4,
  "nbformat_minor": 0,
  "metadata": {
    "colab": {
      "provenance": [],
      "collapsed_sections": [
        "efaQ5_YTxJFk",
        "0MRt0OIIwoy4",
        "HLRTczDYw1rD",
        "jgQF4BP2w_Vo",
        "7FisWnXfxCXO",
        "Ln0zPk9fRH20",
        "5Y1UXOSjxJ3l",
        "g0NagL_xZaM0",
        "f44IfDwrdo-9"
      ],
      "include_colab_link": true
    },
    "kernelspec": {
      "name": "python3",
      "display_name": "Python 3"
    },
    "language_info": {
      "name": "python"
    },
    "gpuClass": "standard"
  },
  "cells": [
    {
      "cell_type": "markdown",
      "metadata": {
        "id": "view-in-github",
        "colab_type": "text"
      },
      "source": [
        "<a href=\"https://colab.research.google.com/github/RoaaM/music_classification/blob/main/classification_Music.ipynb\" target=\"_parent\"><img src=\"https://colab.research.google.com/assets/colab-badge.svg\" alt=\"Open In Colab\"/></a>"
      ]
    },
    {
      "cell_type": "code",
      "execution_count": null,
      "metadata": {
        "id": "uyRUgGY7wuq1"
      },
      "outputs": [],
      "source": [
        "import pandas as pd\n",
        "import numpy as np\n",
        "import matplotlib.pyplot as plt\n",
        "import seaborn as sns\n",
        "\n",
        "from sklearn import svm\n",
        "from sklearn.metrics import accuracy_score\n",
        "\n",
        "from sklearn.model_selection import train_test_split\n",
        "from sklearn.ensemble import RandomForestClassifier\n",
        "from sklearn.linear_model import SGDClassifier\n",
        "from sklearn.neighbors import KNeighborsClassifier\n",
        "from sklearn.tree import DecisionTreeClassifier\n",
        "from sklearn.linear_model import LogisticRegression\n",
        "from xgboost import XGBClassifier\n",
        "from sklearn.model_selection import GridSearchCV\n",
        "\n",
        "from sklearn.metrics import classification_report"
      ]
    },
    {
      "cell_type": "markdown",
      "source": [
        "#read the dataset"
      ],
      "metadata": {
        "id": "wHzCE1EmnwMI"
      }
    },
    {
      "cell_type": "code",
      "source": [
        "data_train = pd.read_csv('/content/train (1).csv')\n",
        "data_test = pd.read_csv('/content/test (2).csv')"
      ],
      "metadata": {
        "id": "s-hANyQbnvQ3"
      },
      "execution_count": null,
      "outputs": []
    },
    {
      "cell_type": "code",
      "source": [
        "data_train"
      ],
      "metadata": {
        "colab": {
          "base_uri": "https://localhost:8080/",
          "height": 783
        },
        "id": "vgMPoHxhnvhH",
        "outputId": "c2a5e841-4221-4538-c07c-c81a97b1dc57"
      },
      "execution_count": null,
      "outputs": [
        {
          "output_type": "execute_result",
          "data": {
            "text/plain": [
              "          Id            Artist Name                           Track Name  \\\n",
              "0          1      Marina Maximilian                           Not Afraid   \n",
              "1          2         The Black Keys                      Howlin' for You   \n",
              "2          3    Royal & the Serpent                              phuck u   \n",
              "3          4     Detroit Blues Band                          Missing You   \n",
              "4          5           Coast Contra                              My Lady   \n",
              "...      ...                    ...                                  ...   \n",
              "14391  14392                  NOISY                    I Wish I Was A...   \n",
              "14392  14393              BLOODSPOT  Deadline Story (feat. Patrick Boos)   \n",
              "14393  14394             Cold Years                         Too Far Gone   \n",
              "14394  14395  The Jaded Hearts Club              Reach Out I'll Be There   \n",
              "14395  14396          Freddy Fender       Before the Next Teardrop Falls   \n",
              "\n",
              "       Popularity  danceability  energy   key  loudness  mode  speechiness  \\\n",
              "0            37.0         0.334   0.536   9.0    -6.649     0       0.0381   \n",
              "1            67.0         0.725   0.747  11.0    -5.545     1       0.0876   \n",
              "2             NaN         0.584   0.804   7.0    -6.094     1       0.0619   \n",
              "3            12.0         0.515   0.308   NaN   -14.711     1       0.0312   \n",
              "4            48.0         0.565   0.777   6.0    -5.096     0       0.2490   \n",
              "...           ...           ...     ...   ...       ...   ...          ...   \n",
              "14391        47.0         0.607   0.946   1.0    -2.965     1       0.1500   \n",
              "14392        27.0         0.435   0.951   8.0    -7.475     1       0.0576   \n",
              "14393        22.0         0.415   0.941  11.0    -4.300     1       0.0524   \n",
              "14394        37.0         0.493   0.986   1.0    -2.279     1       0.0917   \n",
              "14395        50.0         0.799   0.345  10.0   -11.520     1       0.0276   \n",
              "\n",
              "       acousticness  instrumentalness  liveness  valence    tempo  \\\n",
              "0          0.378000               NaN    0.1060    0.235  152.429   \n",
              "1          0.027200          0.046800    0.1040    0.380  132.921   \n",
              "2          0.000968          0.635000    0.2840    0.635  159.953   \n",
              "3          0.907000          0.021300    0.3000    0.501  172.472   \n",
              "4          0.183000               NaN    0.2110    0.619   88.311   \n",
              "...             ...               ...       ...      ...      ...   \n",
              "14391      0.005480          0.000390    0.2780    0.653  120.011   \n",
              "14392      0.000005          0.550000    0.0952    0.203  135.034   \n",
              "14393      0.001810          0.000004    0.3370    0.572  167.978   \n",
              "14394      0.000967          0.006620    0.1230    0.567  122.036   \n",
              "14395      0.748000          0.000024    0.1690    0.776   90.417   \n",
              "\n",
              "       duration_in min/ms  time_signature  Class  \n",
              "0           204947.000000               4      9  \n",
              "1           191956.000000               4      6  \n",
              "2           161037.000000               4     10  \n",
              "3           298093.000000               3      2  \n",
              "4           254145.000000               4      5  \n",
              "...                   ...             ...    ...  \n",
              "14391       195181.000000               4     10  \n",
              "14392       282043.000000               4      8  \n",
              "14393       176529.000000               4     10  \n",
              "14394       186307.000000               4     10  \n",
              "14395            2.614567               4      4  \n",
              "\n",
              "[14396 rows x 18 columns]"
            ],
            "text/html": [
              "\n",
              "  <div id=\"df-660818d7-a18f-4fe3-8579-299bddbc9759\">\n",
              "    <div class=\"colab-df-container\">\n",
              "      <div>\n",
              "<style scoped>\n",
              "    .dataframe tbody tr th:only-of-type {\n",
              "        vertical-align: middle;\n",
              "    }\n",
              "\n",
              "    .dataframe tbody tr th {\n",
              "        vertical-align: top;\n",
              "    }\n",
              "\n",
              "    .dataframe thead th {\n",
              "        text-align: right;\n",
              "    }\n",
              "</style>\n",
              "<table border=\"1\" class=\"dataframe\">\n",
              "  <thead>\n",
              "    <tr style=\"text-align: right;\">\n",
              "      <th></th>\n",
              "      <th>Id</th>\n",
              "      <th>Artist Name</th>\n",
              "      <th>Track Name</th>\n",
              "      <th>Popularity</th>\n",
              "      <th>danceability</th>\n",
              "      <th>energy</th>\n",
              "      <th>key</th>\n",
              "      <th>loudness</th>\n",
              "      <th>mode</th>\n",
              "      <th>speechiness</th>\n",
              "      <th>acousticness</th>\n",
              "      <th>instrumentalness</th>\n",
              "      <th>liveness</th>\n",
              "      <th>valence</th>\n",
              "      <th>tempo</th>\n",
              "      <th>duration_in min/ms</th>\n",
              "      <th>time_signature</th>\n",
              "      <th>Class</th>\n",
              "    </tr>\n",
              "  </thead>\n",
              "  <tbody>\n",
              "    <tr>\n",
              "      <th>0</th>\n",
              "      <td>1</td>\n",
              "      <td>Marina Maximilian</td>\n",
              "      <td>Not Afraid</td>\n",
              "      <td>37.0</td>\n",
              "      <td>0.334</td>\n",
              "      <td>0.536</td>\n",
              "      <td>9.0</td>\n",
              "      <td>-6.649</td>\n",
              "      <td>0</td>\n",
              "      <td>0.0381</td>\n",
              "      <td>0.378000</td>\n",
              "      <td>NaN</td>\n",
              "      <td>0.1060</td>\n",
              "      <td>0.235</td>\n",
              "      <td>152.429</td>\n",
              "      <td>204947.000000</td>\n",
              "      <td>4</td>\n",
              "      <td>9</td>\n",
              "    </tr>\n",
              "    <tr>\n",
              "      <th>1</th>\n",
              "      <td>2</td>\n",
              "      <td>The Black Keys</td>\n",
              "      <td>Howlin' for You</td>\n",
              "      <td>67.0</td>\n",
              "      <td>0.725</td>\n",
              "      <td>0.747</td>\n",
              "      <td>11.0</td>\n",
              "      <td>-5.545</td>\n",
              "      <td>1</td>\n",
              "      <td>0.0876</td>\n",
              "      <td>0.027200</td>\n",
              "      <td>0.046800</td>\n",
              "      <td>0.1040</td>\n",
              "      <td>0.380</td>\n",
              "      <td>132.921</td>\n",
              "      <td>191956.000000</td>\n",
              "      <td>4</td>\n",
              "      <td>6</td>\n",
              "    </tr>\n",
              "    <tr>\n",
              "      <th>2</th>\n",
              "      <td>3</td>\n",
              "      <td>Royal &amp; the Serpent</td>\n",
              "      <td>phuck u</td>\n",
              "      <td>NaN</td>\n",
              "      <td>0.584</td>\n",
              "      <td>0.804</td>\n",
              "      <td>7.0</td>\n",
              "      <td>-6.094</td>\n",
              "      <td>1</td>\n",
              "      <td>0.0619</td>\n",
              "      <td>0.000968</td>\n",
              "      <td>0.635000</td>\n",
              "      <td>0.2840</td>\n",
              "      <td>0.635</td>\n",
              "      <td>159.953</td>\n",
              "      <td>161037.000000</td>\n",
              "      <td>4</td>\n",
              "      <td>10</td>\n",
              "    </tr>\n",
              "    <tr>\n",
              "      <th>3</th>\n",
              "      <td>4</td>\n",
              "      <td>Detroit Blues Band</td>\n",
              "      <td>Missing You</td>\n",
              "      <td>12.0</td>\n",
              "      <td>0.515</td>\n",
              "      <td>0.308</td>\n",
              "      <td>NaN</td>\n",
              "      <td>-14.711</td>\n",
              "      <td>1</td>\n",
              "      <td>0.0312</td>\n",
              "      <td>0.907000</td>\n",
              "      <td>0.021300</td>\n",
              "      <td>0.3000</td>\n",
              "      <td>0.501</td>\n",
              "      <td>172.472</td>\n",
              "      <td>298093.000000</td>\n",
              "      <td>3</td>\n",
              "      <td>2</td>\n",
              "    </tr>\n",
              "    <tr>\n",
              "      <th>4</th>\n",
              "      <td>5</td>\n",
              "      <td>Coast Contra</td>\n",
              "      <td>My Lady</td>\n",
              "      <td>48.0</td>\n",
              "      <td>0.565</td>\n",
              "      <td>0.777</td>\n",
              "      <td>6.0</td>\n",
              "      <td>-5.096</td>\n",
              "      <td>0</td>\n",
              "      <td>0.2490</td>\n",
              "      <td>0.183000</td>\n",
              "      <td>NaN</td>\n",
              "      <td>0.2110</td>\n",
              "      <td>0.619</td>\n",
              "      <td>88.311</td>\n",
              "      <td>254145.000000</td>\n",
              "      <td>4</td>\n",
              "      <td>5</td>\n",
              "    </tr>\n",
              "    <tr>\n",
              "      <th>...</th>\n",
              "      <td>...</td>\n",
              "      <td>...</td>\n",
              "      <td>...</td>\n",
              "      <td>...</td>\n",
              "      <td>...</td>\n",
              "      <td>...</td>\n",
              "      <td>...</td>\n",
              "      <td>...</td>\n",
              "      <td>...</td>\n",
              "      <td>...</td>\n",
              "      <td>...</td>\n",
              "      <td>...</td>\n",
              "      <td>...</td>\n",
              "      <td>...</td>\n",
              "      <td>...</td>\n",
              "      <td>...</td>\n",
              "      <td>...</td>\n",
              "      <td>...</td>\n",
              "    </tr>\n",
              "    <tr>\n",
              "      <th>14391</th>\n",
              "      <td>14392</td>\n",
              "      <td>NOISY</td>\n",
              "      <td>I Wish I Was A...</td>\n",
              "      <td>47.0</td>\n",
              "      <td>0.607</td>\n",
              "      <td>0.946</td>\n",
              "      <td>1.0</td>\n",
              "      <td>-2.965</td>\n",
              "      <td>1</td>\n",
              "      <td>0.1500</td>\n",
              "      <td>0.005480</td>\n",
              "      <td>0.000390</td>\n",
              "      <td>0.2780</td>\n",
              "      <td>0.653</td>\n",
              "      <td>120.011</td>\n",
              "      <td>195181.000000</td>\n",
              "      <td>4</td>\n",
              "      <td>10</td>\n",
              "    </tr>\n",
              "    <tr>\n",
              "      <th>14392</th>\n",
              "      <td>14393</td>\n",
              "      <td>BLOODSPOT</td>\n",
              "      <td>Deadline Story (feat. Patrick Boos)</td>\n",
              "      <td>27.0</td>\n",
              "      <td>0.435</td>\n",
              "      <td>0.951</td>\n",
              "      <td>8.0</td>\n",
              "      <td>-7.475</td>\n",
              "      <td>1</td>\n",
              "      <td>0.0576</td>\n",
              "      <td>0.000005</td>\n",
              "      <td>0.550000</td>\n",
              "      <td>0.0952</td>\n",
              "      <td>0.203</td>\n",
              "      <td>135.034</td>\n",
              "      <td>282043.000000</td>\n",
              "      <td>4</td>\n",
              "      <td>8</td>\n",
              "    </tr>\n",
              "    <tr>\n",
              "      <th>14393</th>\n",
              "      <td>14394</td>\n",
              "      <td>Cold Years</td>\n",
              "      <td>Too Far Gone</td>\n",
              "      <td>22.0</td>\n",
              "      <td>0.415</td>\n",
              "      <td>0.941</td>\n",
              "      <td>11.0</td>\n",
              "      <td>-4.300</td>\n",
              "      <td>1</td>\n",
              "      <td>0.0524</td>\n",
              "      <td>0.001810</td>\n",
              "      <td>0.000004</td>\n",
              "      <td>0.3370</td>\n",
              "      <td>0.572</td>\n",
              "      <td>167.978</td>\n",
              "      <td>176529.000000</td>\n",
              "      <td>4</td>\n",
              "      <td>10</td>\n",
              "    </tr>\n",
              "    <tr>\n",
              "      <th>14394</th>\n",
              "      <td>14395</td>\n",
              "      <td>The Jaded Hearts Club</td>\n",
              "      <td>Reach Out I'll Be There</td>\n",
              "      <td>37.0</td>\n",
              "      <td>0.493</td>\n",
              "      <td>0.986</td>\n",
              "      <td>1.0</td>\n",
              "      <td>-2.279</td>\n",
              "      <td>1</td>\n",
              "      <td>0.0917</td>\n",
              "      <td>0.000967</td>\n",
              "      <td>0.006620</td>\n",
              "      <td>0.1230</td>\n",
              "      <td>0.567</td>\n",
              "      <td>122.036</td>\n",
              "      <td>186307.000000</td>\n",
              "      <td>4</td>\n",
              "      <td>10</td>\n",
              "    </tr>\n",
              "    <tr>\n",
              "      <th>14395</th>\n",
              "      <td>14396</td>\n",
              "      <td>Freddy Fender</td>\n",
              "      <td>Before the Next Teardrop Falls</td>\n",
              "      <td>50.0</td>\n",
              "      <td>0.799</td>\n",
              "      <td>0.345</td>\n",
              "      <td>10.0</td>\n",
              "      <td>-11.520</td>\n",
              "      <td>1</td>\n",
              "      <td>0.0276</td>\n",
              "      <td>0.748000</td>\n",
              "      <td>0.000024</td>\n",
              "      <td>0.1690</td>\n",
              "      <td>0.776</td>\n",
              "      <td>90.417</td>\n",
              "      <td>2.614567</td>\n",
              "      <td>4</td>\n",
              "      <td>4</td>\n",
              "    </tr>\n",
              "  </tbody>\n",
              "</table>\n",
              "<p>14396 rows × 18 columns</p>\n",
              "</div>\n",
              "      <button class=\"colab-df-convert\" onclick=\"convertToInteractive('df-660818d7-a18f-4fe3-8579-299bddbc9759')\"\n",
              "              title=\"Convert this dataframe to an interactive table.\"\n",
              "              style=\"display:none;\">\n",
              "        \n",
              "  <svg xmlns=\"http://www.w3.org/2000/svg\" height=\"24px\"viewBox=\"0 0 24 24\"\n",
              "       width=\"24px\">\n",
              "    <path d=\"M0 0h24v24H0V0z\" fill=\"none\"/>\n",
              "    <path d=\"M18.56 5.44l.94 2.06.94-2.06 2.06-.94-2.06-.94-.94-2.06-.94 2.06-2.06.94zm-11 1L8.5 8.5l.94-2.06 2.06-.94-2.06-.94L8.5 2.5l-.94 2.06-2.06.94zm10 10l.94 2.06.94-2.06 2.06-.94-2.06-.94-.94-2.06-.94 2.06-2.06.94z\"/><path d=\"M17.41 7.96l-1.37-1.37c-.4-.4-.92-.59-1.43-.59-.52 0-1.04.2-1.43.59L10.3 9.45l-7.72 7.72c-.78.78-.78 2.05 0 2.83L4 21.41c.39.39.9.59 1.41.59.51 0 1.02-.2 1.41-.59l7.78-7.78 2.81-2.81c.8-.78.8-2.07 0-2.86zM5.41 20L4 18.59l7.72-7.72 1.47 1.35L5.41 20z\"/>\n",
              "  </svg>\n",
              "      </button>\n",
              "      \n",
              "  <style>\n",
              "    .colab-df-container {\n",
              "      display:flex;\n",
              "      flex-wrap:wrap;\n",
              "      gap: 12px;\n",
              "    }\n",
              "\n",
              "    .colab-df-convert {\n",
              "      background-color: #E8F0FE;\n",
              "      border: none;\n",
              "      border-radius: 50%;\n",
              "      cursor: pointer;\n",
              "      display: none;\n",
              "      fill: #1967D2;\n",
              "      height: 32px;\n",
              "      padding: 0 0 0 0;\n",
              "      width: 32px;\n",
              "    }\n",
              "\n",
              "    .colab-df-convert:hover {\n",
              "      background-color: #E2EBFA;\n",
              "      box-shadow: 0px 1px 2px rgba(60, 64, 67, 0.3), 0px 1px 3px 1px rgba(60, 64, 67, 0.15);\n",
              "      fill: #174EA6;\n",
              "    }\n",
              "\n",
              "    [theme=dark] .colab-df-convert {\n",
              "      background-color: #3B4455;\n",
              "      fill: #D2E3FC;\n",
              "    }\n",
              "\n",
              "    [theme=dark] .colab-df-convert:hover {\n",
              "      background-color: #434B5C;\n",
              "      box-shadow: 0px 1px 3px 1px rgba(0, 0, 0, 0.15);\n",
              "      filter: drop-shadow(0px 1px 2px rgba(0, 0, 0, 0.3));\n",
              "      fill: #FFFFFF;\n",
              "    }\n",
              "  </style>\n",
              "\n",
              "      <script>\n",
              "        const buttonEl =\n",
              "          document.querySelector('#df-660818d7-a18f-4fe3-8579-299bddbc9759 button.colab-df-convert');\n",
              "        buttonEl.style.display =\n",
              "          google.colab.kernel.accessAllowed ? 'block' : 'none';\n",
              "\n",
              "        async function convertToInteractive(key) {\n",
              "          const element = document.querySelector('#df-660818d7-a18f-4fe3-8579-299bddbc9759');\n",
              "          const dataTable =\n",
              "            await google.colab.kernel.invokeFunction('convertToInteractive',\n",
              "                                                     [key], {});\n",
              "          if (!dataTable) return;\n",
              "\n",
              "          const docLinkHtml = 'Like what you see? Visit the ' +\n",
              "            '<a target=\"_blank\" href=https://colab.research.google.com/notebooks/data_table.ipynb>data table notebook</a>'\n",
              "            + ' to learn more about interactive tables.';\n",
              "          element.innerHTML = '';\n",
              "          dataTable['output_type'] = 'display_data';\n",
              "          await google.colab.output.renderOutput(dataTable, element);\n",
              "          const docLink = document.createElement('div');\n",
              "          docLink.innerHTML = docLinkHtml;\n",
              "          element.appendChild(docLink);\n",
              "        }\n",
              "      </script>\n",
              "    </div>\n",
              "  </div>\n",
              "  "
            ]
          },
          "metadata": {},
          "execution_count": 3
        }
      ]
    },
    {
      "cell_type": "markdown",
      "source": [
        "##summarize the data"
      ],
      "metadata": {
        "id": "JvIGamTkfC_o"
      }
    },
    {
      "cell_type": "code",
      "source": [
        "data_train.info()"
      ],
      "metadata": {
        "id": "PkiwVu8ynvje",
        "colab": {
          "base_uri": "https://localhost:8080/"
        },
        "outputId": "71a8363b-9c0e-4de8-ed7d-eedb8014b828"
      },
      "execution_count": null,
      "outputs": [
        {
          "output_type": "stream",
          "name": "stdout",
          "text": [
            "<class 'pandas.core.frame.DataFrame'>\n",
            "RangeIndex: 14396 entries, 0 to 14395\n",
            "Data columns (total 18 columns):\n",
            " #   Column              Non-Null Count  Dtype  \n",
            "---  ------              --------------  -----  \n",
            " 0   Id                  14396 non-null  int64  \n",
            " 1   Artist Name         14396 non-null  object \n",
            " 2   Track Name          14396 non-null  object \n",
            " 3   Popularity          14063 non-null  float64\n",
            " 4   danceability        14396 non-null  float64\n",
            " 5   energy              14396 non-null  float64\n",
            " 6   key                 12787 non-null  float64\n",
            " 7   loudness            14396 non-null  float64\n",
            " 8   mode                14396 non-null  int64  \n",
            " 9   speechiness         14396 non-null  float64\n",
            " 10  acousticness        14396 non-null  float64\n",
            " 11  instrumentalness    10855 non-null  float64\n",
            " 12  liveness            14396 non-null  float64\n",
            " 13  valence             14396 non-null  float64\n",
            " 14  tempo               14396 non-null  float64\n",
            " 15  duration_in min/ms  14396 non-null  float64\n",
            " 16  time_signature      14396 non-null  int64  \n",
            " 17  Class               14396 non-null  int64  \n",
            "dtypes: float64(12), int64(4), object(2)\n",
            "memory usage: 2.0+ MB\n"
          ]
        }
      ]
    },
    {
      "cell_type": "code",
      "source": [
        "data_train.describe()"
      ],
      "metadata": {
        "id": "I6ulq95bnvoK",
        "colab": {
          "base_uri": "https://localhost:8080/",
          "height": 382
        },
        "outputId": "7f19ccf7-a973-4cda-8dcc-615da877fa50"
      },
      "execution_count": null,
      "outputs": [
        {
          "output_type": "execute_result",
          "data": {
            "text/plain": [
              "                 Id    Popularity  danceability        energy           key  \\\n",
              "count  14396.000000  14063.000000  14396.000000  14396.000000  12787.000000   \n",
              "mean    7198.500000     44.525208      0.543105      0.662422      5.953781   \n",
              "std     4155.911573     17.418940      0.165517      0.235967      3.200013   \n",
              "min        1.000000      1.000000      0.059600      0.001210      1.000000   \n",
              "25%     3599.750000     33.000000      0.432000      0.508000      3.000000   \n",
              "50%     7198.500000     44.000000      0.545000      0.699000      6.000000   \n",
              "75%    10797.250000     56.000000      0.658000      0.861000      9.000000   \n",
              "max    14396.000000    100.000000      0.989000      1.000000     11.000000   \n",
              "\n",
              "           loudness          mode   speechiness  acousticness  \\\n",
              "count  14396.000000  14396.000000  14396.000000  14396.000000   \n",
              "mean      -7.900852      0.640247      0.080181      0.246746   \n",
              "std        4.057362      0.479944      0.085157      0.310922   \n",
              "min      -39.952000      0.000000      0.022500      0.000000   \n",
              "25%       -9.538000      0.000000      0.034800      0.004280   \n",
              "50%       -7.013500      1.000000      0.047100      0.081450   \n",
              "75%       -5.162000      1.000000      0.083100      0.432250   \n",
              "max        1.342000      1.000000      0.955000      0.996000   \n",
              "\n",
              "       instrumentalness      liveness       valence         tempo  \\\n",
              "count      10855.000000  14396.000000  14396.000000  14396.000000   \n",
              "mean           0.178129      0.195782      0.486379    122.695372   \n",
              "std            0.304266      0.159258      0.239476     29.538490   \n",
              "min            0.000001      0.011900      0.021500     30.557000   \n",
              "25%            0.000088      0.097275      0.299000     99.799000   \n",
              "50%            0.003920      0.129000      0.480500    120.060000   \n",
              "75%            0.201000      0.256000      0.672000    141.988250   \n",
              "max            0.996000      0.992000      0.986000    217.416000   \n",
              "\n",
              "       duration_in min/ms  time_signature         Class  \n",
              "count        1.439600e+04    14396.000000  14396.000000  \n",
              "mean         2.000942e+05        3.924354      6.695679  \n",
              "std          1.116891e+05        0.359520      3.206170  \n",
              "min          5.016500e-01        1.000000      0.000000  \n",
              "25%          1.654458e+05        4.000000      5.000000  \n",
              "50%          2.089410e+05        4.000000      8.000000  \n",
              "75%          2.522470e+05        4.000000     10.000000  \n",
              "max          1.477187e+06        5.000000     10.000000  "
            ],
            "text/html": [
              "\n",
              "  <div id=\"df-57a67281-87b5-4626-bce4-d49db2e768fb\">\n",
              "    <div class=\"colab-df-container\">\n",
              "      <div>\n",
              "<style scoped>\n",
              "    .dataframe tbody tr th:only-of-type {\n",
              "        vertical-align: middle;\n",
              "    }\n",
              "\n",
              "    .dataframe tbody tr th {\n",
              "        vertical-align: top;\n",
              "    }\n",
              "\n",
              "    .dataframe thead th {\n",
              "        text-align: right;\n",
              "    }\n",
              "</style>\n",
              "<table border=\"1\" class=\"dataframe\">\n",
              "  <thead>\n",
              "    <tr style=\"text-align: right;\">\n",
              "      <th></th>\n",
              "      <th>Id</th>\n",
              "      <th>Popularity</th>\n",
              "      <th>danceability</th>\n",
              "      <th>energy</th>\n",
              "      <th>key</th>\n",
              "      <th>loudness</th>\n",
              "      <th>mode</th>\n",
              "      <th>speechiness</th>\n",
              "      <th>acousticness</th>\n",
              "      <th>instrumentalness</th>\n",
              "      <th>liveness</th>\n",
              "      <th>valence</th>\n",
              "      <th>tempo</th>\n",
              "      <th>duration_in min/ms</th>\n",
              "      <th>time_signature</th>\n",
              "      <th>Class</th>\n",
              "    </tr>\n",
              "  </thead>\n",
              "  <tbody>\n",
              "    <tr>\n",
              "      <th>count</th>\n",
              "      <td>14396.000000</td>\n",
              "      <td>14063.000000</td>\n",
              "      <td>14396.000000</td>\n",
              "      <td>14396.000000</td>\n",
              "      <td>12787.000000</td>\n",
              "      <td>14396.000000</td>\n",
              "      <td>14396.000000</td>\n",
              "      <td>14396.000000</td>\n",
              "      <td>14396.000000</td>\n",
              "      <td>10855.000000</td>\n",
              "      <td>14396.000000</td>\n",
              "      <td>14396.000000</td>\n",
              "      <td>14396.000000</td>\n",
              "      <td>1.439600e+04</td>\n",
              "      <td>14396.000000</td>\n",
              "      <td>14396.000000</td>\n",
              "    </tr>\n",
              "    <tr>\n",
              "      <th>mean</th>\n",
              "      <td>7198.500000</td>\n",
              "      <td>44.525208</td>\n",
              "      <td>0.543105</td>\n",
              "      <td>0.662422</td>\n",
              "      <td>5.953781</td>\n",
              "      <td>-7.900852</td>\n",
              "      <td>0.640247</td>\n",
              "      <td>0.080181</td>\n",
              "      <td>0.246746</td>\n",
              "      <td>0.178129</td>\n",
              "      <td>0.195782</td>\n",
              "      <td>0.486379</td>\n",
              "      <td>122.695372</td>\n",
              "      <td>2.000942e+05</td>\n",
              "      <td>3.924354</td>\n",
              "      <td>6.695679</td>\n",
              "    </tr>\n",
              "    <tr>\n",
              "      <th>std</th>\n",
              "      <td>4155.911573</td>\n",
              "      <td>17.418940</td>\n",
              "      <td>0.165517</td>\n",
              "      <td>0.235967</td>\n",
              "      <td>3.200013</td>\n",
              "      <td>4.057362</td>\n",
              "      <td>0.479944</td>\n",
              "      <td>0.085157</td>\n",
              "      <td>0.310922</td>\n",
              "      <td>0.304266</td>\n",
              "      <td>0.159258</td>\n",
              "      <td>0.239476</td>\n",
              "      <td>29.538490</td>\n",
              "      <td>1.116891e+05</td>\n",
              "      <td>0.359520</td>\n",
              "      <td>3.206170</td>\n",
              "    </tr>\n",
              "    <tr>\n",
              "      <th>min</th>\n",
              "      <td>1.000000</td>\n",
              "      <td>1.000000</td>\n",
              "      <td>0.059600</td>\n",
              "      <td>0.001210</td>\n",
              "      <td>1.000000</td>\n",
              "      <td>-39.952000</td>\n",
              "      <td>0.000000</td>\n",
              "      <td>0.022500</td>\n",
              "      <td>0.000000</td>\n",
              "      <td>0.000001</td>\n",
              "      <td>0.011900</td>\n",
              "      <td>0.021500</td>\n",
              "      <td>30.557000</td>\n",
              "      <td>5.016500e-01</td>\n",
              "      <td>1.000000</td>\n",
              "      <td>0.000000</td>\n",
              "    </tr>\n",
              "    <tr>\n",
              "      <th>25%</th>\n",
              "      <td>3599.750000</td>\n",
              "      <td>33.000000</td>\n",
              "      <td>0.432000</td>\n",
              "      <td>0.508000</td>\n",
              "      <td>3.000000</td>\n",
              "      <td>-9.538000</td>\n",
              "      <td>0.000000</td>\n",
              "      <td>0.034800</td>\n",
              "      <td>0.004280</td>\n",
              "      <td>0.000088</td>\n",
              "      <td>0.097275</td>\n",
              "      <td>0.299000</td>\n",
              "      <td>99.799000</td>\n",
              "      <td>1.654458e+05</td>\n",
              "      <td>4.000000</td>\n",
              "      <td>5.000000</td>\n",
              "    </tr>\n",
              "    <tr>\n",
              "      <th>50%</th>\n",
              "      <td>7198.500000</td>\n",
              "      <td>44.000000</td>\n",
              "      <td>0.545000</td>\n",
              "      <td>0.699000</td>\n",
              "      <td>6.000000</td>\n",
              "      <td>-7.013500</td>\n",
              "      <td>1.000000</td>\n",
              "      <td>0.047100</td>\n",
              "      <td>0.081450</td>\n",
              "      <td>0.003920</td>\n",
              "      <td>0.129000</td>\n",
              "      <td>0.480500</td>\n",
              "      <td>120.060000</td>\n",
              "      <td>2.089410e+05</td>\n",
              "      <td>4.000000</td>\n",
              "      <td>8.000000</td>\n",
              "    </tr>\n",
              "    <tr>\n",
              "      <th>75%</th>\n",
              "      <td>10797.250000</td>\n",
              "      <td>56.000000</td>\n",
              "      <td>0.658000</td>\n",
              "      <td>0.861000</td>\n",
              "      <td>9.000000</td>\n",
              "      <td>-5.162000</td>\n",
              "      <td>1.000000</td>\n",
              "      <td>0.083100</td>\n",
              "      <td>0.432250</td>\n",
              "      <td>0.201000</td>\n",
              "      <td>0.256000</td>\n",
              "      <td>0.672000</td>\n",
              "      <td>141.988250</td>\n",
              "      <td>2.522470e+05</td>\n",
              "      <td>4.000000</td>\n",
              "      <td>10.000000</td>\n",
              "    </tr>\n",
              "    <tr>\n",
              "      <th>max</th>\n",
              "      <td>14396.000000</td>\n",
              "      <td>100.000000</td>\n",
              "      <td>0.989000</td>\n",
              "      <td>1.000000</td>\n",
              "      <td>11.000000</td>\n",
              "      <td>1.342000</td>\n",
              "      <td>1.000000</td>\n",
              "      <td>0.955000</td>\n",
              "      <td>0.996000</td>\n",
              "      <td>0.996000</td>\n",
              "      <td>0.992000</td>\n",
              "      <td>0.986000</td>\n",
              "      <td>217.416000</td>\n",
              "      <td>1.477187e+06</td>\n",
              "      <td>5.000000</td>\n",
              "      <td>10.000000</td>\n",
              "    </tr>\n",
              "  </tbody>\n",
              "</table>\n",
              "</div>\n",
              "      <button class=\"colab-df-convert\" onclick=\"convertToInteractive('df-57a67281-87b5-4626-bce4-d49db2e768fb')\"\n",
              "              title=\"Convert this dataframe to an interactive table.\"\n",
              "              style=\"display:none;\">\n",
              "        \n",
              "  <svg xmlns=\"http://www.w3.org/2000/svg\" height=\"24px\"viewBox=\"0 0 24 24\"\n",
              "       width=\"24px\">\n",
              "    <path d=\"M0 0h24v24H0V0z\" fill=\"none\"/>\n",
              "    <path d=\"M18.56 5.44l.94 2.06.94-2.06 2.06-.94-2.06-.94-.94-2.06-.94 2.06-2.06.94zm-11 1L8.5 8.5l.94-2.06 2.06-.94-2.06-.94L8.5 2.5l-.94 2.06-2.06.94zm10 10l.94 2.06.94-2.06 2.06-.94-2.06-.94-.94-2.06-.94 2.06-2.06.94z\"/><path d=\"M17.41 7.96l-1.37-1.37c-.4-.4-.92-.59-1.43-.59-.52 0-1.04.2-1.43.59L10.3 9.45l-7.72 7.72c-.78.78-.78 2.05 0 2.83L4 21.41c.39.39.9.59 1.41.59.51 0 1.02-.2 1.41-.59l7.78-7.78 2.81-2.81c.8-.78.8-2.07 0-2.86zM5.41 20L4 18.59l7.72-7.72 1.47 1.35L5.41 20z\"/>\n",
              "  </svg>\n",
              "      </button>\n",
              "      \n",
              "  <style>\n",
              "    .colab-df-container {\n",
              "      display:flex;\n",
              "      flex-wrap:wrap;\n",
              "      gap: 12px;\n",
              "    }\n",
              "\n",
              "    .colab-df-convert {\n",
              "      background-color: #E8F0FE;\n",
              "      border: none;\n",
              "      border-radius: 50%;\n",
              "      cursor: pointer;\n",
              "      display: none;\n",
              "      fill: #1967D2;\n",
              "      height: 32px;\n",
              "      padding: 0 0 0 0;\n",
              "      width: 32px;\n",
              "    }\n",
              "\n",
              "    .colab-df-convert:hover {\n",
              "      background-color: #E2EBFA;\n",
              "      box-shadow: 0px 1px 2px rgba(60, 64, 67, 0.3), 0px 1px 3px 1px rgba(60, 64, 67, 0.15);\n",
              "      fill: #174EA6;\n",
              "    }\n",
              "\n",
              "    [theme=dark] .colab-df-convert {\n",
              "      background-color: #3B4455;\n",
              "      fill: #D2E3FC;\n",
              "    }\n",
              "\n",
              "    [theme=dark] .colab-df-convert:hover {\n",
              "      background-color: #434B5C;\n",
              "      box-shadow: 0px 1px 3px 1px rgba(0, 0, 0, 0.15);\n",
              "      filter: drop-shadow(0px 1px 2px rgba(0, 0, 0, 0.3));\n",
              "      fill: #FFFFFF;\n",
              "    }\n",
              "  </style>\n",
              "\n",
              "      <script>\n",
              "        const buttonEl =\n",
              "          document.querySelector('#df-57a67281-87b5-4626-bce4-d49db2e768fb button.colab-df-convert');\n",
              "        buttonEl.style.display =\n",
              "          google.colab.kernel.accessAllowed ? 'block' : 'none';\n",
              "\n",
              "        async function convertToInteractive(key) {\n",
              "          const element = document.querySelector('#df-57a67281-87b5-4626-bce4-d49db2e768fb');\n",
              "          const dataTable =\n",
              "            await google.colab.kernel.invokeFunction('convertToInteractive',\n",
              "                                                     [key], {});\n",
              "          if (!dataTable) return;\n",
              "\n",
              "          const docLinkHtml = 'Like what you see? Visit the ' +\n",
              "            '<a target=\"_blank\" href=https://colab.research.google.com/notebooks/data_table.ipynb>data table notebook</a>'\n",
              "            + ' to learn more about interactive tables.';\n",
              "          element.innerHTML = '';\n",
              "          dataTable['output_type'] = 'display_data';\n",
              "          await google.colab.output.renderOutput(dataTable, element);\n",
              "          const docLink = document.createElement('div');\n",
              "          docLink.innerHTML = docLinkHtml;\n",
              "          element.appendChild(docLink);\n",
              "        }\n",
              "      </script>\n",
              "    </div>\n",
              "  </div>\n",
              "  "
            ]
          },
          "metadata": {},
          "execution_count": 5
        }
      ]
    },
    {
      "cell_type": "code",
      "source": [
        "data_train['Class'].value_counts(ascending=True)"
      ],
      "metadata": {
        "id": "kvRLzORznvrJ",
        "colab": {
          "base_uri": "https://localhost:8080/"
        },
        "outputId": "ac283874-4367-42c9-cb16-b571a9162a4e"
      },
      "execution_count": null,
      "outputs": [
        {
          "output_type": "execute_result",
          "data": {
            "text/plain": [
              "4      310\n",
              "3      322\n",
              "7      461\n",
              "0      500\n",
              "2     1018\n",
              "1     1098\n",
              "5     1157\n",
              "8     1483\n",
              "9     2019\n",
              "6     2069\n",
              "10    3959\n",
              "Name: Class, dtype: int64"
            ]
          },
          "metadata": {},
          "execution_count": 6
        }
      ]
    },
    {
      "cell_type": "code",
      "source": [
        "data_train.groupby('Class').mean()"
      ],
      "metadata": {
        "colab": {
          "base_uri": "https://localhost:8080/",
          "height": 507
        },
        "id": "MCKpDxg0g0Yv",
        "outputId": "5300a6d2-5f3a-4917-f903-1a0074cd0be5"
      },
      "execution_count": null,
      "outputs": [
        {
          "output_type": "execute_result",
          "data": {
            "text/plain": [
              "                Id  Popularity  danceability    energy       key   loudness  \\\n",
              "Class                                                                         \n",
              "0      7063.228000   38.195455      0.530466  0.439463  5.771812 -10.149606   \n",
              "1      7214.010929   46.101207      0.538002  0.688784  5.989765  -7.729302   \n",
              "2      7118.203340   33.096326      0.561626  0.573651  6.165893  -9.077617   \n",
              "3      7115.198758   26.019355      0.497497  0.526979  5.562712 -10.143304   \n",
              "4      6976.667742   56.766323      0.593961  0.602628  5.963636  -8.498868   \n",
              "5      7354.164218   48.528484      0.724016  0.643204  5.915191  -7.475449   \n",
              "6      7245.682939   41.508600      0.550992  0.652035  6.124251  -8.234368   \n",
              "7      7344.557484   41.583710      0.427356  0.156317  5.716495 -18.737629   \n",
              "8      7188.223196   42.023304      0.411686  0.876008  5.794834  -5.857826   \n",
              "9      7097.667162   50.515998      0.633129  0.617447  5.973094  -6.948937   \n",
              "10     7224.188937   46.965313      0.500887  0.734699  5.947368  -7.071527   \n",
              "\n",
              "           mode  speechiness  acousticness  instrumentalness  liveness  \\\n",
              "Class                                                                    \n",
              "0      0.804000     0.043989      0.580676          0.109438  0.147287   \n",
              "1      0.658470     0.067952      0.189024          0.198979  0.186545   \n",
              "2      0.652259     0.060550      0.389249          0.096399  0.209352   \n",
              "3      0.655280     0.078138      0.728095          0.136211  0.238048   \n",
              "4      0.935484     0.042307      0.313610          0.015513  0.168922   \n",
              "5      0.525497     0.240016      0.204467          0.060772  0.195989   \n",
              "6      0.664572     0.067541      0.230709          0.265326  0.181865   \n",
              "7      0.620390     0.044861      0.908020          0.750352  0.128377   \n",
              "8      0.592717     0.088433      0.027171          0.235799  0.231183   \n",
              "9      0.560674     0.074140      0.295091          0.048501  0.188554   \n",
              "10     0.668603     0.060319      0.140883          0.112199  0.205133   \n",
              "\n",
              "        valence       tempo  duration_in min/ms  time_signature  \n",
              "Class                                                            \n",
              "0      0.388546  118.895202            4.101821        3.894000  \n",
              "1      0.506410  125.181969       224334.498179        3.948998  \n",
              "2      0.610081  122.427574       248134.234774        3.830059  \n",
              "3      0.629100  114.112481            4.847606        3.801242  \n",
              "4      0.619455  123.732287            3.381314        3.938710  \n",
              "5      0.548072  117.901328       206552.664650        3.987035  \n",
              "6      0.490466  123.625856       227194.830836        3.944901  \n",
              "7      0.226846  107.166783            4.164950        3.731020  \n",
              "8      0.319123  127.768329       271536.306136        3.900202  \n",
              "9      0.517811  119.456757       173034.888884        3.958395  \n",
              "10     0.496021  125.645726       232517.454163        3.939631  "
            ],
            "text/html": [
              "\n",
              "  <div id=\"df-5169b1db-c502-4157-80e3-aca998296d7b\">\n",
              "    <div class=\"colab-df-container\">\n",
              "      <div>\n",
              "<style scoped>\n",
              "    .dataframe tbody tr th:only-of-type {\n",
              "        vertical-align: middle;\n",
              "    }\n",
              "\n",
              "    .dataframe tbody tr th {\n",
              "        vertical-align: top;\n",
              "    }\n",
              "\n",
              "    .dataframe thead th {\n",
              "        text-align: right;\n",
              "    }\n",
              "</style>\n",
              "<table border=\"1\" class=\"dataframe\">\n",
              "  <thead>\n",
              "    <tr style=\"text-align: right;\">\n",
              "      <th></th>\n",
              "      <th>Id</th>\n",
              "      <th>Popularity</th>\n",
              "      <th>danceability</th>\n",
              "      <th>energy</th>\n",
              "      <th>key</th>\n",
              "      <th>loudness</th>\n",
              "      <th>mode</th>\n",
              "      <th>speechiness</th>\n",
              "      <th>acousticness</th>\n",
              "      <th>instrumentalness</th>\n",
              "      <th>liveness</th>\n",
              "      <th>valence</th>\n",
              "      <th>tempo</th>\n",
              "      <th>duration_in min/ms</th>\n",
              "      <th>time_signature</th>\n",
              "    </tr>\n",
              "    <tr>\n",
              "      <th>Class</th>\n",
              "      <th></th>\n",
              "      <th></th>\n",
              "      <th></th>\n",
              "      <th></th>\n",
              "      <th></th>\n",
              "      <th></th>\n",
              "      <th></th>\n",
              "      <th></th>\n",
              "      <th></th>\n",
              "      <th></th>\n",
              "      <th></th>\n",
              "      <th></th>\n",
              "      <th></th>\n",
              "      <th></th>\n",
              "      <th></th>\n",
              "    </tr>\n",
              "  </thead>\n",
              "  <tbody>\n",
              "    <tr>\n",
              "      <th>0</th>\n",
              "      <td>7063.228000</td>\n",
              "      <td>38.195455</td>\n",
              "      <td>0.530466</td>\n",
              "      <td>0.439463</td>\n",
              "      <td>5.771812</td>\n",
              "      <td>-10.149606</td>\n",
              "      <td>0.804000</td>\n",
              "      <td>0.043989</td>\n",
              "      <td>0.580676</td>\n",
              "      <td>0.109438</td>\n",
              "      <td>0.147287</td>\n",
              "      <td>0.388546</td>\n",
              "      <td>118.895202</td>\n",
              "      <td>4.101821</td>\n",
              "      <td>3.894000</td>\n",
              "    </tr>\n",
              "    <tr>\n",
              "      <th>1</th>\n",
              "      <td>7214.010929</td>\n",
              "      <td>46.101207</td>\n",
              "      <td>0.538002</td>\n",
              "      <td>0.688784</td>\n",
              "      <td>5.989765</td>\n",
              "      <td>-7.729302</td>\n",
              "      <td>0.658470</td>\n",
              "      <td>0.067952</td>\n",
              "      <td>0.189024</td>\n",
              "      <td>0.198979</td>\n",
              "      <td>0.186545</td>\n",
              "      <td>0.506410</td>\n",
              "      <td>125.181969</td>\n",
              "      <td>224334.498179</td>\n",
              "      <td>3.948998</td>\n",
              "    </tr>\n",
              "    <tr>\n",
              "      <th>2</th>\n",
              "      <td>7118.203340</td>\n",
              "      <td>33.096326</td>\n",
              "      <td>0.561626</td>\n",
              "      <td>0.573651</td>\n",
              "      <td>6.165893</td>\n",
              "      <td>-9.077617</td>\n",
              "      <td>0.652259</td>\n",
              "      <td>0.060550</td>\n",
              "      <td>0.389249</td>\n",
              "      <td>0.096399</td>\n",
              "      <td>0.209352</td>\n",
              "      <td>0.610081</td>\n",
              "      <td>122.427574</td>\n",
              "      <td>248134.234774</td>\n",
              "      <td>3.830059</td>\n",
              "    </tr>\n",
              "    <tr>\n",
              "      <th>3</th>\n",
              "      <td>7115.198758</td>\n",
              "      <td>26.019355</td>\n",
              "      <td>0.497497</td>\n",
              "      <td>0.526979</td>\n",
              "      <td>5.562712</td>\n",
              "      <td>-10.143304</td>\n",
              "      <td>0.655280</td>\n",
              "      <td>0.078138</td>\n",
              "      <td>0.728095</td>\n",
              "      <td>0.136211</td>\n",
              "      <td>0.238048</td>\n",
              "      <td>0.629100</td>\n",
              "      <td>114.112481</td>\n",
              "      <td>4.847606</td>\n",
              "      <td>3.801242</td>\n",
              "    </tr>\n",
              "    <tr>\n",
              "      <th>4</th>\n",
              "      <td>6976.667742</td>\n",
              "      <td>56.766323</td>\n",
              "      <td>0.593961</td>\n",
              "      <td>0.602628</td>\n",
              "      <td>5.963636</td>\n",
              "      <td>-8.498868</td>\n",
              "      <td>0.935484</td>\n",
              "      <td>0.042307</td>\n",
              "      <td>0.313610</td>\n",
              "      <td>0.015513</td>\n",
              "      <td>0.168922</td>\n",
              "      <td>0.619455</td>\n",
              "      <td>123.732287</td>\n",
              "      <td>3.381314</td>\n",
              "      <td>3.938710</td>\n",
              "    </tr>\n",
              "    <tr>\n",
              "      <th>5</th>\n",
              "      <td>7354.164218</td>\n",
              "      <td>48.528484</td>\n",
              "      <td>0.724016</td>\n",
              "      <td>0.643204</td>\n",
              "      <td>5.915191</td>\n",
              "      <td>-7.475449</td>\n",
              "      <td>0.525497</td>\n",
              "      <td>0.240016</td>\n",
              "      <td>0.204467</td>\n",
              "      <td>0.060772</td>\n",
              "      <td>0.195989</td>\n",
              "      <td>0.548072</td>\n",
              "      <td>117.901328</td>\n",
              "      <td>206552.664650</td>\n",
              "      <td>3.987035</td>\n",
              "    </tr>\n",
              "    <tr>\n",
              "      <th>6</th>\n",
              "      <td>7245.682939</td>\n",
              "      <td>41.508600</td>\n",
              "      <td>0.550992</td>\n",
              "      <td>0.652035</td>\n",
              "      <td>6.124251</td>\n",
              "      <td>-8.234368</td>\n",
              "      <td>0.664572</td>\n",
              "      <td>0.067541</td>\n",
              "      <td>0.230709</td>\n",
              "      <td>0.265326</td>\n",
              "      <td>0.181865</td>\n",
              "      <td>0.490466</td>\n",
              "      <td>123.625856</td>\n",
              "      <td>227194.830836</td>\n",
              "      <td>3.944901</td>\n",
              "    </tr>\n",
              "    <tr>\n",
              "      <th>7</th>\n",
              "      <td>7344.557484</td>\n",
              "      <td>41.583710</td>\n",
              "      <td>0.427356</td>\n",
              "      <td>0.156317</td>\n",
              "      <td>5.716495</td>\n",
              "      <td>-18.737629</td>\n",
              "      <td>0.620390</td>\n",
              "      <td>0.044861</td>\n",
              "      <td>0.908020</td>\n",
              "      <td>0.750352</td>\n",
              "      <td>0.128377</td>\n",
              "      <td>0.226846</td>\n",
              "      <td>107.166783</td>\n",
              "      <td>4.164950</td>\n",
              "      <td>3.731020</td>\n",
              "    </tr>\n",
              "    <tr>\n",
              "      <th>8</th>\n",
              "      <td>7188.223196</td>\n",
              "      <td>42.023304</td>\n",
              "      <td>0.411686</td>\n",
              "      <td>0.876008</td>\n",
              "      <td>5.794834</td>\n",
              "      <td>-5.857826</td>\n",
              "      <td>0.592717</td>\n",
              "      <td>0.088433</td>\n",
              "      <td>0.027171</td>\n",
              "      <td>0.235799</td>\n",
              "      <td>0.231183</td>\n",
              "      <td>0.319123</td>\n",
              "      <td>127.768329</td>\n",
              "      <td>271536.306136</td>\n",
              "      <td>3.900202</td>\n",
              "    </tr>\n",
              "    <tr>\n",
              "      <th>9</th>\n",
              "      <td>7097.667162</td>\n",
              "      <td>50.515998</td>\n",
              "      <td>0.633129</td>\n",
              "      <td>0.617447</td>\n",
              "      <td>5.973094</td>\n",
              "      <td>-6.948937</td>\n",
              "      <td>0.560674</td>\n",
              "      <td>0.074140</td>\n",
              "      <td>0.295091</td>\n",
              "      <td>0.048501</td>\n",
              "      <td>0.188554</td>\n",
              "      <td>0.517811</td>\n",
              "      <td>119.456757</td>\n",
              "      <td>173034.888884</td>\n",
              "      <td>3.958395</td>\n",
              "    </tr>\n",
              "    <tr>\n",
              "      <th>10</th>\n",
              "      <td>7224.188937</td>\n",
              "      <td>46.965313</td>\n",
              "      <td>0.500887</td>\n",
              "      <td>0.734699</td>\n",
              "      <td>5.947368</td>\n",
              "      <td>-7.071527</td>\n",
              "      <td>0.668603</td>\n",
              "      <td>0.060319</td>\n",
              "      <td>0.140883</td>\n",
              "      <td>0.112199</td>\n",
              "      <td>0.205133</td>\n",
              "      <td>0.496021</td>\n",
              "      <td>125.645726</td>\n",
              "      <td>232517.454163</td>\n",
              "      <td>3.939631</td>\n",
              "    </tr>\n",
              "  </tbody>\n",
              "</table>\n",
              "</div>\n",
              "      <button class=\"colab-df-convert\" onclick=\"convertToInteractive('df-5169b1db-c502-4157-80e3-aca998296d7b')\"\n",
              "              title=\"Convert this dataframe to an interactive table.\"\n",
              "              style=\"display:none;\">\n",
              "        \n",
              "  <svg xmlns=\"http://www.w3.org/2000/svg\" height=\"24px\"viewBox=\"0 0 24 24\"\n",
              "       width=\"24px\">\n",
              "    <path d=\"M0 0h24v24H0V0z\" fill=\"none\"/>\n",
              "    <path d=\"M18.56 5.44l.94 2.06.94-2.06 2.06-.94-2.06-.94-.94-2.06-.94 2.06-2.06.94zm-11 1L8.5 8.5l.94-2.06 2.06-.94-2.06-.94L8.5 2.5l-.94 2.06-2.06.94zm10 10l.94 2.06.94-2.06 2.06-.94-2.06-.94-.94-2.06-.94 2.06-2.06.94z\"/><path d=\"M17.41 7.96l-1.37-1.37c-.4-.4-.92-.59-1.43-.59-.52 0-1.04.2-1.43.59L10.3 9.45l-7.72 7.72c-.78.78-.78 2.05 0 2.83L4 21.41c.39.39.9.59 1.41.59.51 0 1.02-.2 1.41-.59l7.78-7.78 2.81-2.81c.8-.78.8-2.07 0-2.86zM5.41 20L4 18.59l7.72-7.72 1.47 1.35L5.41 20z\"/>\n",
              "  </svg>\n",
              "      </button>\n",
              "      \n",
              "  <style>\n",
              "    .colab-df-container {\n",
              "      display:flex;\n",
              "      flex-wrap:wrap;\n",
              "      gap: 12px;\n",
              "    }\n",
              "\n",
              "    .colab-df-convert {\n",
              "      background-color: #E8F0FE;\n",
              "      border: none;\n",
              "      border-radius: 50%;\n",
              "      cursor: pointer;\n",
              "      display: none;\n",
              "      fill: #1967D2;\n",
              "      height: 32px;\n",
              "      padding: 0 0 0 0;\n",
              "      width: 32px;\n",
              "    }\n",
              "\n",
              "    .colab-df-convert:hover {\n",
              "      background-color: #E2EBFA;\n",
              "      box-shadow: 0px 1px 2px rgba(60, 64, 67, 0.3), 0px 1px 3px 1px rgba(60, 64, 67, 0.15);\n",
              "      fill: #174EA6;\n",
              "    }\n",
              "\n",
              "    [theme=dark] .colab-df-convert {\n",
              "      background-color: #3B4455;\n",
              "      fill: #D2E3FC;\n",
              "    }\n",
              "\n",
              "    [theme=dark] .colab-df-convert:hover {\n",
              "      background-color: #434B5C;\n",
              "      box-shadow: 0px 1px 3px 1px rgba(0, 0, 0, 0.15);\n",
              "      filter: drop-shadow(0px 1px 2px rgba(0, 0, 0, 0.3));\n",
              "      fill: #FFFFFF;\n",
              "    }\n",
              "  </style>\n",
              "\n",
              "      <script>\n",
              "        const buttonEl =\n",
              "          document.querySelector('#df-5169b1db-c502-4157-80e3-aca998296d7b button.colab-df-convert');\n",
              "        buttonEl.style.display =\n",
              "          google.colab.kernel.accessAllowed ? 'block' : 'none';\n",
              "\n",
              "        async function convertToInteractive(key) {\n",
              "          const element = document.querySelector('#df-5169b1db-c502-4157-80e3-aca998296d7b');\n",
              "          const dataTable =\n",
              "            await google.colab.kernel.invokeFunction('convertToInteractive',\n",
              "                                                     [key], {});\n",
              "          if (!dataTable) return;\n",
              "\n",
              "          const docLinkHtml = 'Like what you see? Visit the ' +\n",
              "            '<a target=\"_blank\" href=https://colab.research.google.com/notebooks/data_table.ipynb>data table notebook</a>'\n",
              "            + ' to learn more about interactive tables.';\n",
              "          element.innerHTML = '';\n",
              "          dataTable['output_type'] = 'display_data';\n",
              "          await google.colab.output.renderOutput(dataTable, element);\n",
              "          const docLink = document.createElement('div');\n",
              "          docLink.innerHTML = docLinkHtml;\n",
              "          element.appendChild(docLink);\n",
              "        }\n",
              "      </script>\n",
              "    </div>\n",
              "  </div>\n",
              "  "
            ]
          },
          "metadata": {},
          "execution_count": 7
        }
      ]
    },
    {
      "cell_type": "markdown",
      "source": [
        "##data analysis"
      ],
      "metadata": {
        "id": "6oRpZmTViaTK"
      }
    },
    {
      "cell_type": "code",
      "source": [
        "missing_value = data_train.isna().sum()\n",
        "missing_value"
      ],
      "metadata": {
        "colab": {
          "base_uri": "https://localhost:8080/"
        },
        "id": "zsdGyDEkg0ai",
        "outputId": "c99c0b66-e701-42de-e95a-12f41c47bf44"
      },
      "execution_count": null,
      "outputs": [
        {
          "output_type": "execute_result",
          "data": {
            "text/plain": [
              "Id                       0\n",
              "Artist Name              0\n",
              "Track Name               0\n",
              "Popularity             333\n",
              "danceability             0\n",
              "energy                   0\n",
              "key                   1609\n",
              "loudness                 0\n",
              "mode                     0\n",
              "speechiness              0\n",
              "acousticness             0\n",
              "instrumentalness      3541\n",
              "liveness                 0\n",
              "valence                  0\n",
              "tempo                    0\n",
              "duration_in min/ms       0\n",
              "time_signature           0\n",
              "Class                    0\n",
              "dtype: int64"
            ]
          },
          "metadata": {},
          "execution_count": 8
        }
      ]
    },
    {
      "cell_type": "markdown",
      "source": [
        "##Handling missing data with ML model:\n"
      ],
      "metadata": {
        "id": "b6nQFvCekpIK"
      }
    },
    {
      "cell_type": "code",
      "source": [
        "mis_value_percent = 100 * data_train.isnull().sum() / len(data_train)\n",
        "print(mis_value_percent)"
      ],
      "metadata": {
        "colab": {
          "base_uri": "https://localhost:8080/"
        },
        "id": "ZYCgXm3glcGG",
        "outputId": "64bac717-399a-4689-ad2f-7061f38a6c88"
      },
      "execution_count": null,
      "outputs": [
        {
          "output_type": "stream",
          "name": "stdout",
          "text": [
            "Id                     0.000000\n",
            "Artist Name            0.000000\n",
            "Track Name             0.000000\n",
            "Popularity             2.313143\n",
            "danceability           0.000000\n",
            "energy                 0.000000\n",
            "key                   11.176716\n",
            "loudness               0.000000\n",
            "mode                   0.000000\n",
            "speechiness            0.000000\n",
            "acousticness           0.000000\n",
            "instrumentalness      24.597110\n",
            "liveness               0.000000\n",
            "valence                0.000000\n",
            "tempo                  0.000000\n",
            "duration_in min/ms     0.000000\n",
            "time_signature         0.000000\n",
            "Class                  0.000000\n",
            "dtype: float64\n"
          ]
        }
      ]
    },
    {
      "cell_type": "code",
      "source": [
        "import missingno as msno\n",
        "msno.bar(data_train)"
      ],
      "metadata": {
        "colab": {
          "base_uri": "https://localhost:8080/",
          "height": 712
        },
        "id": "07Abuwz7lcDZ",
        "outputId": "ba53c91d-eea6-49dd-89b6-efee0745cd3d"
      },
      "execution_count": null,
      "outputs": [
        {
          "output_type": "execute_result",
          "data": {
            "text/plain": [
              "<matplotlib.axes._subplots.AxesSubplot at 0x7fce30ca72d0>"
            ]
          },
          "metadata": {},
          "execution_count": 12
        },
        {
          "output_type": "display_data",
          "data": {
            "text/plain": [
              "<Figure size 1800x720 with 3 Axes>"
            ],
            "image/png": "[encoded data removed]"
          },
          "metadata": {
            "needs_background": "light"
          }
        }
      ]
    },
    {
      "cell_type": "code",
      "source": [
        "# to know how the missing data is destributed\n",
        "msno.matrix(data_train)"
      ],
      "metadata": {
        "colab": {
          "base_uri": "https://localhost:8080/",
          "height": 674
        },
        "id": "-I4BXScalb_t",
        "outputId": "a4841f0d-d32f-4191-be9b-65dcc6447094"
      },
      "execution_count": null,
      "outputs": [
        {
          "output_type": "execute_result",
          "data": {
            "text/plain": [
              "<matplotlib.axes._subplots.AxesSubplot at 0x7fce33544ad0>"
            ]
          },
          "metadata": {},
          "execution_count": 27
        },
        {
          "output_type": "display_data",
          "data": {
            "text/plain": [
              "<Figure size 1800x720 with 2 Axes>"
            ],
            "image/png": "[encoded data removed]"
          },
          "metadata": {
            "needs_background": "light"
          }
        }
      ]
    },
    {
      "cell_type": "code",
      "source": [
        "train = data_train.copy()"
      ],
      "metadata": {
        "id": "TIS7-GjFokSM"
      },
      "execution_count": null,
      "outputs": []
    },
    {
      "cell_type": "code",
      "source": [
        "from sklearn.preprocessing import LabelEncoder\n",
        "labelencoder = LabelEncoder()\n",
        "train['Artist Name'] = labelencoder.fit_transform(train['Artist Name'])\n",
        "train['Track Name'] = labelencoder.fit_transform(train['Track Name'])"
      ],
      "metadata": {
        "id": "D4BOI2NFokO-"
      },
      "execution_count": null,
      "outputs": []
    },
    {
      "cell_type": "code",
      "source": [
        "# train = train.drop(['Id', 'Class'], axis=1)"
      ],
      "metadata": {
        "id": "GKhY8JK5okMC"
      },
      "execution_count": null,
      "outputs": []
    },
    {
      "cell_type": "code",
      "source": [
        "train.isna().sum()"
      ],
      "metadata": {
        "colab": {
          "base_uri": "https://localhost:8080/"
        },
        "id": "EHXWK06tre2G",
        "outputId": "eae9e270-62d1-442c-ff17-cd47a86434ed"
      },
      "execution_count": null,
      "outputs": [
        {
          "output_type": "execute_result",
          "data": {
            "text/plain": [
              "Id                       0\n",
              "Artist Name              0\n",
              "Track Name               0\n",
              "Popularity             333\n",
              "danceability             0\n",
              "energy                   0\n",
              "key                   1609\n",
              "loudness                 0\n",
              "mode                     0\n",
              "speechiness              0\n",
              "acousticness             0\n",
              "instrumentalness      3541\n",
              "liveness                 0\n",
              "valence                  0\n",
              "tempo                    0\n",
              "duration_in min/ms       0\n",
              "time_signature           0\n",
              "Class                    0\n",
              "dtype: int64"
            ]
          },
          "metadata": {},
          "execution_count": 210
        }
      ]
    },
    {
      "cell_type": "markdown",
      "source": [
        "handling instrumentalness"
      ],
      "metadata": {
        "id": "6jPGWbXR195_"
      }
    },
    {
      "cell_type": "code",
      "source": [
        "test_data_na = train[train[\"instrumentalness\"].isnull()]"
      ],
      "metadata": {
        "id": "KaAN5sXqrewf"
      },
      "execution_count": null,
      "outputs": []
    },
    {
      "cell_type": "code",
      "source": [
        "train.dropna(inplace=True)"
      ],
      "metadata": {
        "id": "q-QkdVqfsE3a"
      },
      "execution_count": null,
      "outputs": []
    },
    {
      "cell_type": "code",
      "source": [
        "x_train = train.drop(\"instrumentalness\", axis=1)\n",
        "x_test = test_data_na.drop(\"instrumentalness\", axis=1)\n",
        "y_train = train[\"instrumentalness\"]"
      ],
      "metadata": {
        "id": "lHeof7TUsE0i"
      },
      "execution_count": null,
      "outputs": []
    },
    {
      "cell_type": "code",
      "source": [
        "x_test.dropna(inplace=True)"
      ],
      "metadata": {
        "id": "vzFcqB8ftr_b"
      },
      "execution_count": null,
      "outputs": []
    },
    {
      "cell_type": "code",
      "source": [
        "x_test.isna().sum()"
      ],
      "metadata": {
        "colab": {
          "base_uri": "https://localhost:8080/"
        },
        "id": "xIxlyDYaw15G",
        "outputId": "bdab7a43-96c9-49c2-f379-b7a38da6b045"
      },
      "execution_count": null,
      "outputs": [
        {
          "output_type": "execute_result",
          "data": {
            "text/plain": [
              "Id                    0\n",
              "Artist Name           0\n",
              "Track Name            0\n",
              "Popularity            0\n",
              "danceability          0\n",
              "energy                0\n",
              "key                   0\n",
              "loudness              0\n",
              "mode                  0\n",
              "speechiness           0\n",
              "acousticness          0\n",
              "liveness              0\n",
              "valence               0\n",
              "tempo                 0\n",
              "duration_in min/ms    0\n",
              "time_signature        0\n",
              "Class                 0\n",
              "dtype: int64"
            ]
          },
          "metadata": {},
          "execution_count": 215
        }
      ]
    },
    {
      "cell_type": "code",
      "source": [
        "from sklearn.linear_model import LinearRegression\n",
        "model = LinearRegression()\n",
        "model.fit(x_train, y_train)\n",
        "y_pred = model.predict(x_test)"
      ],
      "metadata": {
        "id": "7rklvkjdtTSK"
      },
      "execution_count": null,
      "outputs": []
    },
    {
      "cell_type": "code",
      "source": [
        "print(x_train.shape, x_test.shape, y_pred.shape)"
      ],
      "metadata": {
        "colab": {
          "base_uri": "https://localhost:8080/"
        },
        "id": "JYxA3UJxtTPT",
        "outputId": "4d5efeab-4f3d-43ad-ebae-8e1e166202d0"
      },
      "execution_count": null,
      "outputs": [
        {
          "output_type": "stream",
          "name": "stdout",
          "text": [
            "(9412, 17) (3083, 17) (3083,)\n"
          ]
        }
      ]
    },
    {
      "cell_type": "code",
      "source": [
        "print(type(x_train), type(x_test), type(y_pred))"
      ],
      "metadata": {
        "colab": {
          "base_uri": "https://localhost:8080/"
        },
        "id": "E7EKyer_usBE",
        "outputId": "759f1937-28b2-4b08-d4ad-63b482c3cb5d"
      },
      "execution_count": null,
      "outputs": [
        {
          "output_type": "stream",
          "name": "stdout",
          "text": [
            "<class 'pandas.core.frame.DataFrame'> <class 'pandas.core.frame.DataFrame'> <class 'numpy.ndarray'>\n"
          ]
        }
      ]
    },
    {
      "cell_type": "code",
      "source": [
        "prediction1 = pd.DataFrame({'instrumentalness': y_pred})"
      ],
      "metadata": {
        "id": "yawRnwhTu1oq"
      },
      "execution_count": null,
      "outputs": []
    },
    {
      "cell_type": "code",
      "source": [
        "prediction1.isna().sum()"
      ],
      "metadata": {
        "colab": {
          "base_uri": "https://localhost:8080/"
        },
        "id": "LUo7kEBiwr9_",
        "outputId": "7cc9f7ef-3e86-4261-aa6a-98492455cf78"
      },
      "execution_count": null,
      "outputs": [
        {
          "output_type": "execute_result",
          "data": {
            "text/plain": [
              "instrumentalness    0\n",
              "dtype: int64"
            ]
          },
          "metadata": {},
          "execution_count": 220
        }
      ]
    },
    {
      "cell_type": "code",
      "source": [
        "final_instrumentalness = pd.merge(x_test, prediction1, how=\"inner\",on=x_test['Artist Name'])\n"
      ],
      "metadata": {
        "id": "L2lgj2IcvIQN"
      },
      "execution_count": null,
      "outputs": []
    },
    {
      "cell_type": "code",
      "source": [
        "final_instrumentalness.shape"
      ],
      "metadata": {
        "colab": {
          "base_uri": "https://localhost:8080/"
        },
        "id": "FtH6NK6ow8kQ",
        "outputId": "0779ff23-87b6-4018-d2bb-9d9d133605d2"
      },
      "execution_count": null,
      "outputs": [
        {
          "output_type": "execute_result",
          "data": {
            "text/plain": [
              "(12469, 19)"
            ]
          },
          "metadata": {},
          "execution_count": 222
        }
      ]
    },
    {
      "cell_type": "code",
      "source": [
        "final_instrumentalness.drop(final_instrumentalness[['key_0']], axis=1)"
      ],
      "metadata": {
        "colab": {
          "base_uri": "https://localhost:8080/",
          "height": 505
        },
        "id": "ydCswQzvyfy7",
        "outputId": "fe352215-b46d-43ea-a969-442e89c295ff"
      },
      "execution_count": null,
      "outputs": [
        {
          "output_type": "execute_result",
          "data": {
            "text/plain": [
              "          Id  Artist Name  Track Name  Popularity  danceability  energy   key  \\\n",
              "0          1         4260        6755        37.0         0.334   0.536   9.0   \n",
              "1          5         1377        6441        48.0         0.565   0.777   6.0   \n",
              "2          9         1459        6446        38.0         0.446   0.816   9.0   \n",
              "3         15         3573       11393        70.0         0.571   0.618  10.0   \n",
              "4         19         6611        2171        10.0         0.232   0.895   2.0   \n",
              "...      ...          ...         ...         ...           ...     ...   ...   \n",
              "12464  14332         7605        3452        71.0         0.521   0.625   1.0   \n",
              "12465  14339         6712        8274        48.0         0.581   0.297   7.0   \n",
              "12466  14343         6934        9172        63.0         0.619   0.637   2.0   \n",
              "12467  14371         7310        5252        24.0         0.262   0.471   7.0   \n",
              "12468  14374         7897       11970        17.0         0.537   0.871  11.0   \n",
              "\n",
              "       loudness  mode  speechiness  acousticness  liveness  valence    tempo  \\\n",
              "0        -6.649     0       0.0381        0.3780     0.106    0.235  152.429   \n",
              "1        -5.096     0       0.2490        0.1830     0.211    0.619   88.311   \n",
              "2        -9.762     1       0.0766        0.3180     0.339    0.718  183.696   \n",
              "3        -4.966     1       0.0445        0.1470     0.159    0.288  138.030   \n",
              "4        -2.834     1       0.0517        0.6600     0.124    0.343  175.443   \n",
              "...         ...   ...          ...           ...       ...      ...      ...   \n",
              "12464    -7.470     1       0.0670        0.0301     0.121    0.136  101.019   \n",
              "12465    -7.681     1       0.0354        0.2510     0.123    0.329   95.691   \n",
              "12466    -7.369     1       0.0286        0.0150     0.374    0.936  105.205   \n",
              "12467    -7.795     1       0.0331        0.8240     0.109    0.270  170.356   \n",
              "12468    -2.890     0       0.3280        0.2830     0.132    0.811   86.331   \n",
              "\n",
              "       duration_in min/ms  time_signature  Class  instrumentalness  \n",
              "0           204947.000000               4      9          0.174848  \n",
              "1           254145.000000               4      5          0.025836  \n",
              "2           165293.000000               4     10          0.236575  \n",
              "3                3.863867               4      4         -0.014172  \n",
              "4                5.227267               4      0          0.228639  \n",
              "...                   ...             ...    ...               ...  \n",
              "12464       334067.000000               4      5          0.157036  \n",
              "12465            3.695200               4      0          0.030522  \n",
              "12466       246307.000000               4      6         -0.031800  \n",
              "12467            6.357333               4      0          0.240589  \n",
              "12468       220000.000000               4      5         -0.004263  \n",
              "\n",
              "[12469 rows x 18 columns]"
            ],
            "text/html": [
              "\n",
              "  <div id=\"df-0394d976-1345-4e42-9fa6-9a2f6be7cf0b\">\n",
              "    <div class=\"colab-df-container\">\n",
              "      <div>\n",
              "<style scoped>\n",
              "    .dataframe tbody tr th:only-of-type {\n",
              "        vertical-align: middle;\n",
              "    }\n",
              "\n",
              "    .dataframe tbody tr th {\n",
              "        vertical-align: top;\n",
              "    }\n",
              "\n",
              "    .dataframe thead th {\n",
              "        text-align: right;\n",
              "    }\n",
              "</style>\n",
              "<table border=\"1\" class=\"dataframe\">\n",
              "  <thead>\n",
              "    <tr style=\"text-align: right;\">\n",
              "      <th></th>\n",
              "      <th>Id</th>\n",
              "      <th>Artist Name</th>\n",
              "      <th>Track Name</th>\n",
              "      <th>Popularity</th>\n",
              "      <th>danceability</th>\n",
              "      <th>energy</th>\n",
              "      <th>key</th>\n",
              "      <th>loudness</th>\n",
              "      <th>mode</th>\n",
              "      <th>speechiness</th>\n",
              "      <th>acousticness</th>\n",
              "      <th>liveness</th>\n",
              "      <th>valence</th>\n",
              "      <th>tempo</th>\n",
              "      <th>duration_in min/ms</th>\n",
              "      <th>time_signature</th>\n",
              "      <th>Class</th>\n",
              "      <th>instrumentalness</th>\n",
              "    </tr>\n",
              "  </thead>\n",
              "  <tbody>\n",
              "    <tr>\n",
              "      <th>0</th>\n",
              "      <td>1</td>\n",
              "      <td>4260</td>\n",
              "      <td>6755</td>\n",
              "      <td>37.0</td>\n",
              "      <td>0.334</td>\n",
              "      <td>0.536</td>\n",
              "      <td>9.0</td>\n",
              "      <td>-6.649</td>\n",
              "      <td>0</td>\n",
              "      <td>0.0381</td>\n",
              "      <td>0.3780</td>\n",
              "      <td>0.106</td>\n",
              "      <td>0.235</td>\n",
              "      <td>152.429</td>\n",
              "      <td>204947.000000</td>\n",
              "      <td>4</td>\n",
              "      <td>9</td>\n",
              "      <td>0.174848</td>\n",
              "    </tr>\n",
              "    <tr>\n",
              "      <th>1</th>\n",
              "      <td>5</td>\n",
              "      <td>1377</td>\n",
              "      <td>6441</td>\n",
              "      <td>48.0</td>\n",
              "      <td>0.565</td>\n",
              "      <td>0.777</td>\n",
              "      <td>6.0</td>\n",
              "      <td>-5.096</td>\n",
              "      <td>0</td>\n",
              "      <td>0.2490</td>\n",
              "      <td>0.1830</td>\n",
              "      <td>0.211</td>\n",
              "      <td>0.619</td>\n",
              "      <td>88.311</td>\n",
              "      <td>254145.000000</td>\n",
              "      <td>4</td>\n",
              "      <td>5</td>\n",
              "      <td>0.025836</td>\n",
              "    </tr>\n",
              "    <tr>\n",
              "      <th>2</th>\n",
              "      <td>9</td>\n",
              "      <td>1459</td>\n",
              "      <td>6446</td>\n",
              "      <td>38.0</td>\n",
              "      <td>0.446</td>\n",
              "      <td>0.816</td>\n",
              "      <td>9.0</td>\n",
              "      <td>-9.762</td>\n",
              "      <td>1</td>\n",
              "      <td>0.0766</td>\n",
              "      <td>0.3180</td>\n",
              "      <td>0.339</td>\n",
              "      <td>0.718</td>\n",
              "      <td>183.696</td>\n",
              "      <td>165293.000000</td>\n",
              "      <td>4</td>\n",
              "      <td>10</td>\n",
              "      <td>0.236575</td>\n",
              "    </tr>\n",
              "    <tr>\n",
              "      <th>3</th>\n",
              "      <td>15</td>\n",
              "      <td>3573</td>\n",
              "      <td>11393</td>\n",
              "      <td>70.0</td>\n",
              "      <td>0.571</td>\n",
              "      <td>0.618</td>\n",
              "      <td>10.0</td>\n",
              "      <td>-4.966</td>\n",
              "      <td>1</td>\n",
              "      <td>0.0445</td>\n",
              "      <td>0.1470</td>\n",
              "      <td>0.159</td>\n",
              "      <td>0.288</td>\n",
              "      <td>138.030</td>\n",
              "      <td>3.863867</td>\n",
              "      <td>4</td>\n",
              "      <td>4</td>\n",
              "      <td>-0.014172</td>\n",
              "    </tr>\n",
              "    <tr>\n",
              "      <th>4</th>\n",
              "      <td>19</td>\n",
              "      <td>6611</td>\n",
              "      <td>2171</td>\n",
              "      <td>10.0</td>\n",
              "      <td>0.232</td>\n",
              "      <td>0.895</td>\n",
              "      <td>2.0</td>\n",
              "      <td>-2.834</td>\n",
              "      <td>1</td>\n",
              "      <td>0.0517</td>\n",
              "      <td>0.6600</td>\n",
              "      <td>0.124</td>\n",
              "      <td>0.343</td>\n",
              "      <td>175.443</td>\n",
              "      <td>5.227267</td>\n",
              "      <td>4</td>\n",
              "      <td>0</td>\n",
              "      <td>0.228639</td>\n",
              "    </tr>\n",
              "    <tr>\n",
              "      <th>...</th>\n",
              "      <td>...</td>\n",
              "      <td>...</td>\n",
              "      <td>...</td>\n",
              "      <td>...</td>\n",
              "      <td>...</td>\n",
              "      <td>...</td>\n",
              "      <td>...</td>\n",
              "      <td>...</td>\n",
              "      <td>...</td>\n",
              "      <td>...</td>\n",
              "      <td>...</td>\n",
              "      <td>...</td>\n",
              "      <td>...</td>\n",
              "      <td>...</td>\n",
              "      <td>...</td>\n",
              "      <td>...</td>\n",
              "      <td>...</td>\n",
              "      <td>...</td>\n",
              "    </tr>\n",
              "    <tr>\n",
              "      <th>12464</th>\n",
              "      <td>14332</td>\n",
              "      <td>7605</td>\n",
              "      <td>3452</td>\n",
              "      <td>71.0</td>\n",
              "      <td>0.521</td>\n",
              "      <td>0.625</td>\n",
              "      <td>1.0</td>\n",
              "      <td>-7.470</td>\n",
              "      <td>1</td>\n",
              "      <td>0.0670</td>\n",
              "      <td>0.0301</td>\n",
              "      <td>0.121</td>\n",
              "      <td>0.136</td>\n",
              "      <td>101.019</td>\n",
              "      <td>334067.000000</td>\n",
              "      <td>4</td>\n",
              "      <td>5</td>\n",
              "      <td>0.157036</td>\n",
              "    </tr>\n",
              "    <tr>\n",
              "      <th>12465</th>\n",
              "      <td>14339</td>\n",
              "      <td>6712</td>\n",
              "      <td>8274</td>\n",
              "      <td>48.0</td>\n",
              "      <td>0.581</td>\n",
              "      <td>0.297</td>\n",
              "      <td>7.0</td>\n",
              "      <td>-7.681</td>\n",
              "      <td>1</td>\n",
              "      <td>0.0354</td>\n",
              "      <td>0.2510</td>\n",
              "      <td>0.123</td>\n",
              "      <td>0.329</td>\n",
              "      <td>95.691</td>\n",
              "      <td>3.695200</td>\n",
              "      <td>4</td>\n",
              "      <td>0</td>\n",
              "      <td>0.030522</td>\n",
              "    </tr>\n",
              "    <tr>\n",
              "      <th>12466</th>\n",
              "      <td>14343</td>\n",
              "      <td>6934</td>\n",
              "      <td>9172</td>\n",
              "      <td>63.0</td>\n",
              "      <td>0.619</td>\n",
              "      <td>0.637</td>\n",
              "      <td>2.0</td>\n",
              "      <td>-7.369</td>\n",
              "      <td>1</td>\n",
              "      <td>0.0286</td>\n",
              "      <td>0.0150</td>\n",
              "      <td>0.374</td>\n",
              "      <td>0.936</td>\n",
              "      <td>105.205</td>\n",
              "      <td>246307.000000</td>\n",
              "      <td>4</td>\n",
              "      <td>6</td>\n",
              "      <td>-0.031800</td>\n",
              "    </tr>\n",
              "    <tr>\n",
              "      <th>12467</th>\n",
              "      <td>14371</td>\n",
              "      <td>7310</td>\n",
              "      <td>5252</td>\n",
              "      <td>24.0</td>\n",
              "      <td>0.262</td>\n",
              "      <td>0.471</td>\n",
              "      <td>7.0</td>\n",
              "      <td>-7.795</td>\n",
              "      <td>1</td>\n",
              "      <td>0.0331</td>\n",
              "      <td>0.8240</td>\n",
              "      <td>0.109</td>\n",
              "      <td>0.270</td>\n",
              "      <td>170.356</td>\n",
              "      <td>6.357333</td>\n",
              "      <td>4</td>\n",
              "      <td>0</td>\n",
              "      <td>0.240589</td>\n",
              "    </tr>\n",
              "    <tr>\n",
              "      <th>12468</th>\n",
              "      <td>14374</td>\n",
              "      <td>7897</td>\n",
              "      <td>11970</td>\n",
              "      <td>17.0</td>\n",
              "      <td>0.537</td>\n",
              "      <td>0.871</td>\n",
              "      <td>11.0</td>\n",
              "      <td>-2.890</td>\n",
              "      <td>0</td>\n",
              "      <td>0.3280</td>\n",
              "      <td>0.2830</td>\n",
              "      <td>0.132</td>\n",
              "      <td>0.811</td>\n",
              "      <td>86.331</td>\n",
              "      <td>220000.000000</td>\n",
              "      <td>4</td>\n",
              "      <td>5</td>\n",
              "      <td>-0.004263</td>\n",
              "    </tr>\n",
              "  </tbody>\n",
              "</table>\n",
              "<p>12469 rows × 18 columns</p>\n",
              "</div>\n",
              "      <button class=\"colab-df-convert\" onclick=\"convertToInteractive('df-0394d976-1345-4e42-9fa6-9a2f6be7cf0b')\"\n",
              "              title=\"Convert this dataframe to an interactive table.\"\n",
              "              style=\"display:none;\">\n",
              "        \n",
              "  <svg xmlns=\"http://www.w3.org/2000/svg\" height=\"24px\"viewBox=\"0 0 24 24\"\n",
              "       width=\"24px\">\n",
              "    <path d=\"M0 0h24v24H0V0z\" fill=\"none\"/>\n",
              "    <path d=\"M18.56 5.44l.94 2.06.94-2.06 2.06-.94-2.06-.94-.94-2.06-.94 2.06-2.06.94zm-11 1L8.5 8.5l.94-2.06 2.06-.94-2.06-.94L8.5 2.5l-.94 2.06-2.06.94zm10 10l.94 2.06.94-2.06 2.06-.94-2.06-.94-.94-2.06-.94 2.06-2.06.94z\"/><path d=\"M17.41 7.96l-1.37-1.37c-.4-.4-.92-.59-1.43-.59-.52 0-1.04.2-1.43.59L10.3 9.45l-7.72 7.72c-.78.78-.78 2.05 0 2.83L4 21.41c.39.39.9.59 1.41.59.51 0 1.02-.2 1.41-.59l7.78-7.78 2.81-2.81c.8-.78.8-2.07 0-2.86zM5.41 20L4 18.59l7.72-7.72 1.47 1.35L5.41 20z\"/>\n",
              "  </svg>\n",
              "      </button>\n",
              "      \n",
              "  <style>\n",
              "    .colab-df-container {\n",
              "      display:flex;\n",
              "      flex-wrap:wrap;\n",
              "      gap: 12px;\n",
              "    }\n",
              "\n",
              "    .colab-df-convert {\n",
              "      background-color: #E8F0FE;\n",
              "      border: none;\n",
              "      border-radius: 50%;\n",
              "      cursor: pointer;\n",
              "      display: none;\n",
              "      fill: #1967D2;\n",
              "      height: 32px;\n",
              "      padding: 0 0 0 0;\n",
              "      width: 32px;\n",
              "    }\n",
              "\n",
              "    .colab-df-convert:hover {\n",
              "      background-color: #E2EBFA;\n",
              "      box-shadow: 0px 1px 2px rgba(60, 64, 67, 0.3), 0px 1px 3px 1px rgba(60, 64, 67, 0.15);\n",
              "      fill: #174EA6;\n",
              "    }\n",
              "\n",
              "    [theme=dark] .colab-df-convert {\n",
              "      background-color: #3B4455;\n",
              "      fill: #D2E3FC;\n",
              "    }\n",
              "\n",
              "    [theme=dark] .colab-df-convert:hover {\n",
              "      background-color: #434B5C;\n",
              "      box-shadow: 0px 1px 3px 1px rgba(0, 0, 0, 0.15);\n",
              "      filter: drop-shadow(0px 1px 2px rgba(0, 0, 0, 0.3));\n",
              "      fill: #FFFFFF;\n",
              "    }\n",
              "  </style>\n",
              "\n",
              "      <script>\n",
              "        const buttonEl =\n",
              "          document.querySelector('#df-0394d976-1345-4e42-9fa6-9a2f6be7cf0b button.colab-df-convert');\n",
              "        buttonEl.style.display =\n",
              "          google.colab.kernel.accessAllowed ? 'block' : 'none';\n",
              "\n",
              "        async function convertToInteractive(key) {\n",
              "          const element = document.querySelector('#df-0394d976-1345-4e42-9fa6-9a2f6be7cf0b');\n",
              "          const dataTable =\n",
              "            await google.colab.kernel.invokeFunction('convertToInteractive',\n",
              "                                                     [key], {});\n",
              "          if (!dataTable) return;\n",
              "\n",
              "          const docLinkHtml = 'Like what you see? Visit the ' +\n",
              "            '<a target=\"_blank\" href=https://colab.research.google.com/notebooks/data_table.ipynb>data table notebook</a>'\n",
              "            + ' to learn more about interactive tables.';\n",
              "          element.innerHTML = '';\n",
              "          dataTable['output_type'] = 'display_data';\n",
              "          await google.colab.output.renderOutput(dataTable, element);\n",
              "          const docLink = document.createElement('div');\n",
              "          docLink.innerHTML = docLinkHtml;\n",
              "          element.appendChild(docLink);\n",
              "        }\n",
              "      </script>\n",
              "    </div>\n",
              "  </div>\n",
              "  "
            ]
          },
          "metadata": {},
          "execution_count": 223
        }
      ]
    },
    {
      "cell_type": "markdown",
      "source": [
        "handling key"
      ],
      "metadata": {
        "id": "dCm2f32p2Fxh"
      }
    },
    {
      "cell_type": "code",
      "source": [
        "train = data_train.copy()"
      ],
      "metadata": {
        "id": "S4mJ8ahb55mi"
      },
      "execution_count": null,
      "outputs": []
    },
    {
      "cell_type": "code",
      "source": [
        "from sklearn.preprocessing import LabelEncoder\n",
        "labelencoder = LabelEncoder()\n",
        "train['Artist Name'] = labelencoder.fit_transform(train['Artist Name'])\n",
        "train['Track Name'] = labelencoder.fit_transform(train['Track Name'])"
      ],
      "metadata": {
        "id": "_ST-e9JH55mk"
      },
      "execution_count": null,
      "outputs": []
    },
    {
      "cell_type": "code",
      "source": [
        "test_data_na_key= train[train[\"key\"].isnull()]"
      ],
      "metadata": {
        "id": "2IVQr1lzyftG"
      },
      "execution_count": null,
      "outputs": []
    },
    {
      "cell_type": "code",
      "source": [
        "train.dropna(inplace=True)"
      ],
      "metadata": {
        "id": "Iwj7QYuR0_Nl"
      },
      "execution_count": null,
      "outputs": []
    },
    {
      "cell_type": "code",
      "source": [
        "x_train = train.drop(\"key\", axis=1)\n",
        "x_test = test_data_na_key.drop(\"key\", axis=1)\n",
        "y_train = train[\"key\"]"
      ],
      "metadata": {
        "id": "0mWAnDyn0_Jq"
      },
      "execution_count": null,
      "outputs": []
    },
    {
      "cell_type": "code",
      "source": [
        "x_test.dropna(inplace=True)"
      ],
      "metadata": {
        "id": "c0GKoLJW0_Gb"
      },
      "execution_count": null,
      "outputs": []
    },
    {
      "cell_type": "code",
      "source": [
        "x_test.isna().sum()"
      ],
      "metadata": {
        "colab": {
          "base_uri": "https://localhost:8080/"
        },
        "id": "ijWds4-GvIH0",
        "outputId": "62578c1d-60fd-4ca9-9550-7a55f6cfa979"
      },
      "execution_count": null,
      "outputs": [
        {
          "output_type": "execute_result",
          "data": {
            "text/plain": [
              "Id                    0\n",
              "Artist Name           0\n",
              "Track Name            0\n",
              "Popularity            0\n",
              "danceability          0\n",
              "energy                0\n",
              "loudness              0\n",
              "mode                  0\n",
              "speechiness           0\n",
              "acousticness          0\n",
              "instrumentalness      0\n",
              "liveness              0\n",
              "valence               0\n",
              "tempo                 0\n",
              "duration_in min/ms    0\n",
              "time_signature        0\n",
              "Class                 0\n",
              "dtype: int64"
            ]
          },
          "metadata": {},
          "execution_count": 230
        }
      ]
    },
    {
      "cell_type": "code",
      "source": [
        "from sklearn.linear_model import LinearRegression\n",
        "model = LinearRegression()\n",
        "model.fit(x_train, y_train)\n",
        "y_pred = model.predict(x_test)"
      ],
      "metadata": {
        "id": "6Nx_jmUT2wlM"
      },
      "execution_count": null,
      "outputs": []
    },
    {
      "cell_type": "code",
      "source": [
        "print(x_train.shape, x_test.shape, y_pred.shape)"
      ],
      "metadata": {
        "colab": {
          "base_uri": "https://localhost:8080/"
        },
        "id": "cs3_eI_z2wiO",
        "outputId": "c95bbd6b-0392-40fc-cd4c-7c5502e718fe"
      },
      "execution_count": null,
      "outputs": [
        {
          "output_type": "stream",
          "name": "stdout",
          "text": [
            "(9412, 17) (1205, 17) (1205,)\n"
          ]
        }
      ]
    },
    {
      "cell_type": "code",
      "source": [
        "prediction2 = pd.DataFrame({'key': y_pred})"
      ],
      "metadata": {
        "id": "nzc7pciz2wfx"
      },
      "execution_count": null,
      "outputs": []
    },
    {
      "cell_type": "code",
      "source": [
        "prediction2.isna().sum()"
      ],
      "metadata": {
        "colab": {
          "base_uri": "https://localhost:8080/"
        },
        "id": "-E53mu6w3D5U",
        "outputId": "ea81ebf7-7136-4022-8847-4cec3d3deda4"
      },
      "execution_count": null,
      "outputs": [
        {
          "output_type": "execute_result",
          "data": {
            "text/plain": [
              "key    0\n",
              "dtype: int64"
            ]
          },
          "metadata": {},
          "execution_count": 234
        }
      ]
    },
    {
      "cell_type": "code",
      "source": [
        "final_key = pd.merge(x_test, prediction2, how=\"inner\",on=x_test['Artist Name'])"
      ],
      "metadata": {
        "id": "e5czGCUo3D2X"
      },
      "execution_count": null,
      "outputs": []
    },
    {
      "cell_type": "code",
      "source": [
        "final_key.shape"
      ],
      "metadata": {
        "colab": {
          "base_uri": "https://localhost:8080/"
        },
        "id": "4XZHUVNd3DzZ",
        "outputId": "5ba838c2-8d55-4ea5-e59a-afdceb64c76f"
      },
      "execution_count": null,
      "outputs": [
        {
          "output_type": "execute_result",
          "data": {
            "text/plain": [
              "(1851, 19)"
            ]
          },
          "metadata": {},
          "execution_count": 236
        }
      ]
    },
    {
      "cell_type": "code",
      "source": [
        "final_key.isna().sum()"
      ],
      "metadata": {
        "colab": {
          "base_uri": "https://localhost:8080/"
        },
        "id": "sbibxW-g3DwI",
        "outputId": "21217ecd-e26c-4ea2-d3ea-e76084192515"
      },
      "execution_count": null,
      "outputs": [
        {
          "output_type": "execute_result",
          "data": {
            "text/plain": [
              "key_0                 0\n",
              "Id                    0\n",
              "Artist Name           0\n",
              "Track Name            0\n",
              "Popularity            0\n",
              "danceability          0\n",
              "energy                0\n",
              "loudness              0\n",
              "mode                  0\n",
              "speechiness           0\n",
              "acousticness          0\n",
              "instrumentalness      0\n",
              "liveness              0\n",
              "valence               0\n",
              "tempo                 0\n",
              "duration_in min/ms    0\n",
              "time_signature        0\n",
              "Class                 0\n",
              "key                   0\n",
              "dtype: int64"
            ]
          },
          "metadata": {},
          "execution_count": 237
        }
      ]
    },
    {
      "cell_type": "code",
      "source": [
        "final_key.drop(final_key[['key_0']], axis=1)"
      ],
      "metadata": {
        "colab": {
          "base_uri": "https://localhost:8080/",
          "height": 505
        },
        "id": "33HxgEvo3Dtm",
        "outputId": "34d89731-da1f-4050-d226-e4b9ea902789"
      },
      "execution_count": null,
      "outputs": [
        {
          "output_type": "execute_result",
          "data": {
            "text/plain": [
              "         Id  Artist Name  Track Name  Popularity  danceability  energy  \\\n",
              "0         4         1750        6223        12.0         0.515   0.308   \n",
              "1        31          437        1971        34.0         0.620   0.848   \n",
              "2        63         6565        2760        52.0         0.524   0.265   \n",
              "3        73         4193       10329        42.0         0.493   0.907   \n",
              "4        77         7386         840        29.0         0.299   0.941   \n",
              "...     ...          ...         ...         ...           ...     ...   \n",
              "1846  14330         2822        1599        37.0         0.590   0.141   \n",
              "1847  14345         6787        6327        48.0         0.736   0.796   \n",
              "1848  14354         7254        7958        55.0         0.664   0.660   \n",
              "1849  14365         5804        9145        40.0         0.545   0.534   \n",
              "1850  14375         1875        4137        33.0         0.837   0.737   \n",
              "\n",
              "      loudness  mode  speechiness  acousticness  instrumentalness  liveness  \\\n",
              "0      -14.711     1       0.0312      0.907000          0.021300    0.3000   \n",
              "1       -7.201     1       0.0391      0.354000          0.001030    0.6980   \n",
              "2      -15.365     1       0.0282      0.933000          0.886000    0.1860   \n",
              "3       -4.058     1       0.0716      0.000133          0.004380    0.1310   \n",
              "4       -7.280     1       0.0478      0.000554          0.095300    0.0519   \n",
              "...        ...   ...          ...           ...               ...       ...   \n",
              "1846   -15.304     1       0.0347      0.907000          0.867000    0.0935   \n",
              "1847    -6.020     0       0.0486      0.003610          0.102000    0.1970   \n",
              "1848    -5.284     1       0.2910      0.181000          0.000002    0.1900   \n",
              "1849    -7.531     0       0.0297      0.812000          0.000005    0.0972   \n",
              "1850    -3.336     1       0.2750      0.277000          0.000094    0.3220   \n",
              "\n",
              "      valence    tempo  duration_in min/ms  time_signature  Class       key  \n",
              "0       0.501  172.472        298093.00000               3      2  5.713222  \n",
              "1       0.732  133.557        132880.00000               4     10  5.840685  \n",
              "2       0.218  106.487             4.89950               3      7  5.465223  \n",
              "3       0.258  120.047        292501.00000               4      8  5.629784  \n",
              "4       0.674  130.036        174000.00000               3     10  5.675788  \n",
              "...       ...      ...                 ...             ...    ...       ...  \n",
              "1846    0.157  120.224             1.72550               4      7  5.410497  \n",
              "1847    0.742   93.986        316381.00000               4     10  6.596039  \n",
              "1848    0.470   90.106        261467.00000               4      5  5.616294  \n",
              "1849    0.476   94.014             4.47635               4      0  6.378603  \n",
              "1850    0.578  133.048        162075.00000               4      5  5.615571  \n",
              "\n",
              "[1851 rows x 18 columns]"
            ],
            "text/html": [
              "\n",
              "  <div id=\"df-6b5a057c-be90-4c81-90e0-acc5af151152\">\n",
              "    <div class=\"colab-df-container\">\n",
              "      <div>\n",
              "<style scoped>\n",
              "    .dataframe tbody tr th:only-of-type {\n",
              "        vertical-align: middle;\n",
              "    }\n",
              "\n",
              "    .dataframe tbody tr th {\n",
              "        vertical-align: top;\n",
              "    }\n",
              "\n",
              "    .dataframe thead th {\n",
              "        text-align: right;\n",
              "    }\n",
              "</style>\n",
              "<table border=\"1\" class=\"dataframe\">\n",
              "  <thead>\n",
              "    <tr style=\"text-align: right;\">\n",
              "      <th></th>\n",
              "      <th>Id</th>\n",
              "      <th>Artist Name</th>\n",
              "      <th>Track Name</th>\n",
              "      <th>Popularity</th>\n",
              "      <th>danceability</th>\n",
              "      <th>energy</th>\n",
              "      <th>loudness</th>\n",
              "      <th>mode</th>\n",
              "      <th>speechiness</th>\n",
              "      <th>acousticness</th>\n",
              "      <th>instrumentalness</th>\n",
              "      <th>liveness</th>\n",
              "      <th>valence</th>\n",
              "      <th>tempo</th>\n",
              "      <th>duration_in min/ms</th>\n",
              "      <th>time_signature</th>\n",
              "      <th>Class</th>\n",
              "      <th>key</th>\n",
              "    </tr>\n",
              "  </thead>\n",
              "  <tbody>\n",
              "    <tr>\n",
              "      <th>0</th>\n",
              "      <td>4</td>\n",
              "      <td>1750</td>\n",
              "      <td>6223</td>\n",
              "      <td>12.0</td>\n",
              "      <td>0.515</td>\n",
              "      <td>0.308</td>\n",
              "      <td>-14.711</td>\n",
              "      <td>1</td>\n",
              "      <td>0.0312</td>\n",
              "      <td>0.907000</td>\n",
              "      <td>0.021300</td>\n",
              "      <td>0.3000</td>\n",
              "      <td>0.501</td>\n",
              "      <td>172.472</td>\n",
              "      <td>298093.00000</td>\n",
              "      <td>3</td>\n",
              "      <td>2</td>\n",
              "      <td>5.713222</td>\n",
              "    </tr>\n",
              "    <tr>\n",
              "      <th>1</th>\n",
              "      <td>31</td>\n",
              "      <td>437</td>\n",
              "      <td>1971</td>\n",
              "      <td>34.0</td>\n",
              "      <td>0.620</td>\n",
              "      <td>0.848</td>\n",
              "      <td>-7.201</td>\n",
              "      <td>1</td>\n",
              "      <td>0.0391</td>\n",
              "      <td>0.354000</td>\n",
              "      <td>0.001030</td>\n",
              "      <td>0.6980</td>\n",
              "      <td>0.732</td>\n",
              "      <td>133.557</td>\n",
              "      <td>132880.00000</td>\n",
              "      <td>4</td>\n",
              "      <td>10</td>\n",
              "      <td>5.840685</td>\n",
              "    </tr>\n",
              "    <tr>\n",
              "      <th>2</th>\n",
              "      <td>63</td>\n",
              "      <td>6565</td>\n",
              "      <td>2760</td>\n",
              "      <td>52.0</td>\n",
              "      <td>0.524</td>\n",
              "      <td>0.265</td>\n",
              "      <td>-15.365</td>\n",
              "      <td>1</td>\n",
              "      <td>0.0282</td>\n",
              "      <td>0.933000</td>\n",
              "      <td>0.886000</td>\n",
              "      <td>0.1860</td>\n",
              "      <td>0.218</td>\n",
              "      <td>106.487</td>\n",
              "      <td>4.89950</td>\n",
              "      <td>3</td>\n",
              "      <td>7</td>\n",
              "      <td>5.465223</td>\n",
              "    </tr>\n",
              "    <tr>\n",
              "      <th>3</th>\n",
              "      <td>73</td>\n",
              "      <td>4193</td>\n",
              "      <td>10329</td>\n",
              "      <td>42.0</td>\n",
              "      <td>0.493</td>\n",
              "      <td>0.907</td>\n",
              "      <td>-4.058</td>\n",
              "      <td>1</td>\n",
              "      <td>0.0716</td>\n",
              "      <td>0.000133</td>\n",
              "      <td>0.004380</td>\n",
              "      <td>0.1310</td>\n",
              "      <td>0.258</td>\n",
              "      <td>120.047</td>\n",
              "      <td>292501.00000</td>\n",
              "      <td>4</td>\n",
              "      <td>8</td>\n",
              "      <td>5.629784</td>\n",
              "    </tr>\n",
              "    <tr>\n",
              "      <th>4</th>\n",
              "      <td>77</td>\n",
              "      <td>7386</td>\n",
              "      <td>840</td>\n",
              "      <td>29.0</td>\n",
              "      <td>0.299</td>\n",
              "      <td>0.941</td>\n",
              "      <td>-7.280</td>\n",
              "      <td>1</td>\n",
              "      <td>0.0478</td>\n",
              "      <td>0.000554</td>\n",
              "      <td>0.095300</td>\n",
              "      <td>0.0519</td>\n",
              "      <td>0.674</td>\n",
              "      <td>130.036</td>\n",
              "      <td>174000.00000</td>\n",
              "      <td>3</td>\n",
              "      <td>10</td>\n",
              "      <td>5.675788</td>\n",
              "    </tr>\n",
              "    <tr>\n",
              "      <th>...</th>\n",
              "      <td>...</td>\n",
              "      <td>...</td>\n",
              "      <td>...</td>\n",
              "      <td>...</td>\n",
              "      <td>...</td>\n",
              "      <td>...</td>\n",
              "      <td>...</td>\n",
              "      <td>...</td>\n",
              "      <td>...</td>\n",
              "      <td>...</td>\n",
              "      <td>...</td>\n",
              "      <td>...</td>\n",
              "      <td>...</td>\n",
              "      <td>...</td>\n",
              "      <td>...</td>\n",
              "      <td>...</td>\n",
              "      <td>...</td>\n",
              "      <td>...</td>\n",
              "    </tr>\n",
              "    <tr>\n",
              "      <th>1846</th>\n",
              "      <td>14330</td>\n",
              "      <td>2822</td>\n",
              "      <td>1599</td>\n",
              "      <td>37.0</td>\n",
              "      <td>0.590</td>\n",
              "      <td>0.141</td>\n",
              "      <td>-15.304</td>\n",
              "      <td>1</td>\n",
              "      <td>0.0347</td>\n",
              "      <td>0.907000</td>\n",
              "      <td>0.867000</td>\n",
              "      <td>0.0935</td>\n",
              "      <td>0.157</td>\n",
              "      <td>120.224</td>\n",
              "      <td>1.72550</td>\n",
              "      <td>4</td>\n",
              "      <td>7</td>\n",
              "      <td>5.410497</td>\n",
              "    </tr>\n",
              "    <tr>\n",
              "      <th>1847</th>\n",
              "      <td>14345</td>\n",
              "      <td>6787</td>\n",
              "      <td>6327</td>\n",
              "      <td>48.0</td>\n",
              "      <td>0.736</td>\n",
              "      <td>0.796</td>\n",
              "      <td>-6.020</td>\n",
              "      <td>0</td>\n",
              "      <td>0.0486</td>\n",
              "      <td>0.003610</td>\n",
              "      <td>0.102000</td>\n",
              "      <td>0.1970</td>\n",
              "      <td>0.742</td>\n",
              "      <td>93.986</td>\n",
              "      <td>316381.00000</td>\n",
              "      <td>4</td>\n",
              "      <td>10</td>\n",
              "      <td>6.596039</td>\n",
              "    </tr>\n",
              "    <tr>\n",
              "      <th>1848</th>\n",
              "      <td>14354</td>\n",
              "      <td>7254</td>\n",
              "      <td>7958</td>\n",
              "      <td>55.0</td>\n",
              "      <td>0.664</td>\n",
              "      <td>0.660</td>\n",
              "      <td>-5.284</td>\n",
              "      <td>1</td>\n",
              "      <td>0.2910</td>\n",
              "      <td>0.181000</td>\n",
              "      <td>0.000002</td>\n",
              "      <td>0.1900</td>\n",
              "      <td>0.470</td>\n",
              "      <td>90.106</td>\n",
              "      <td>261467.00000</td>\n",
              "      <td>4</td>\n",
              "      <td>5</td>\n",
              "      <td>5.616294</td>\n",
              "    </tr>\n",
              "    <tr>\n",
              "      <th>1849</th>\n",
              "      <td>14365</td>\n",
              "      <td>5804</td>\n",
              "      <td>9145</td>\n",
              "      <td>40.0</td>\n",
              "      <td>0.545</td>\n",
              "      <td>0.534</td>\n",
              "      <td>-7.531</td>\n",
              "      <td>0</td>\n",
              "      <td>0.0297</td>\n",
              "      <td>0.812000</td>\n",
              "      <td>0.000005</td>\n",
              "      <td>0.0972</td>\n",
              "      <td>0.476</td>\n",
              "      <td>94.014</td>\n",
              "      <td>4.47635</td>\n",
              "      <td>4</td>\n",
              "      <td>0</td>\n",
              "      <td>6.378603</td>\n",
              "    </tr>\n",
              "    <tr>\n",
              "      <th>1850</th>\n",
              "      <td>14375</td>\n",
              "      <td>1875</td>\n",
              "      <td>4137</td>\n",
              "      <td>33.0</td>\n",
              "      <td>0.837</td>\n",
              "      <td>0.737</td>\n",
              "      <td>-3.336</td>\n",
              "      <td>1</td>\n",
              "      <td>0.2750</td>\n",
              "      <td>0.277000</td>\n",
              "      <td>0.000094</td>\n",
              "      <td>0.3220</td>\n",
              "      <td>0.578</td>\n",
              "      <td>133.048</td>\n",
              "      <td>162075.00000</td>\n",
              "      <td>4</td>\n",
              "      <td>5</td>\n",
              "      <td>5.615571</td>\n",
              "    </tr>\n",
              "  </tbody>\n",
              "</table>\n",
              "<p>1851 rows × 18 columns</p>\n",
              "</div>\n",
              "      <button class=\"colab-df-convert\" onclick=\"convertToInteractive('df-6b5a057c-be90-4c81-90e0-acc5af151152')\"\n",
              "              title=\"Convert this dataframe to an interactive table.\"\n",
              "              style=\"display:none;\">\n",
              "        \n",
              "  <svg xmlns=\"http://www.w3.org/2000/svg\" height=\"24px\"viewBox=\"0 0 24 24\"\n",
              "       width=\"24px\">\n",
              "    <path d=\"M0 0h24v24H0V0z\" fill=\"none\"/>\n",
              "    <path d=\"M18.56 5.44l.94 2.06.94-2.06 2.06-.94-2.06-.94-.94-2.06-.94 2.06-2.06.94zm-11 1L8.5 8.5l.94-2.06 2.06-.94-2.06-.94L8.5 2.5l-.94 2.06-2.06.94zm10 10l.94 2.06.94-2.06 2.06-.94-2.06-.94-.94-2.06-.94 2.06-2.06.94z\"/><path d=\"M17.41 7.96l-1.37-1.37c-.4-.4-.92-.59-1.43-.59-.52 0-1.04.2-1.43.59L10.3 9.45l-7.72 7.72c-.78.78-.78 2.05 0 2.83L4 21.41c.39.39.9.59 1.41.59.51 0 1.02-.2 1.41-.59l7.78-7.78 2.81-2.81c.8-.78.8-2.07 0-2.86zM5.41 20L4 18.59l7.72-7.72 1.47 1.35L5.41 20z\"/>\n",
              "  </svg>\n",
              "      </button>\n",
              "      \n",
              "  <style>\n",
              "    .colab-df-container {\n",
              "      display:flex;\n",
              "      flex-wrap:wrap;\n",
              "      gap: 12px;\n",
              "    }\n",
              "\n",
              "    .colab-df-convert {\n",
              "      background-color: #E8F0FE;\n",
              "      border: none;\n",
              "      border-radius: 50%;\n",
              "      cursor: pointer;\n",
              "      display: none;\n",
              "      fill: #1967D2;\n",
              "      height: 32px;\n",
              "      padding: 0 0 0 0;\n",
              "      width: 32px;\n",
              "    }\n",
              "\n",
              "    .colab-df-convert:hover {\n",
              "      background-color: #E2EBFA;\n",
              "      box-shadow: 0px 1px 2px rgba(60, 64, 67, 0.3), 0px 1px 3px 1px rgba(60, 64, 67, 0.15);\n",
              "      fill: #174EA6;\n",
              "    }\n",
              "\n",
              "    [theme=dark] .colab-df-convert {\n",
              "      background-color: #3B4455;\n",
              "      fill: #D2E3FC;\n",
              "    }\n",
              "\n",
              "    [theme=dark] .colab-df-convert:hover {\n",
              "      background-color: #434B5C;\n",
              "      box-shadow: 0px 1px 3px 1px rgba(0, 0, 0, 0.15);\n",
              "      filter: drop-shadow(0px 1px 2px rgba(0, 0, 0, 0.3));\n",
              "      fill: #FFFFFF;\n",
              "    }\n",
              "  </style>\n",
              "\n",
              "      <script>\n",
              "        const buttonEl =\n",
              "          document.querySelector('#df-6b5a057c-be90-4c81-90e0-acc5af151152 button.colab-df-convert');\n",
              "        buttonEl.style.display =\n",
              "          google.colab.kernel.accessAllowed ? 'block' : 'none';\n",
              "\n",
              "        async function convertToInteractive(key) {\n",
              "          const element = document.querySelector('#df-6b5a057c-be90-4c81-90e0-acc5af151152');\n",
              "          const dataTable =\n",
              "            await google.colab.kernel.invokeFunction('convertToInteractive',\n",
              "                                                     [key], {});\n",
              "          if (!dataTable) return;\n",
              "\n",
              "          const docLinkHtml = 'Like what you see? Visit the ' +\n",
              "            '<a target=\"_blank\" href=https://colab.research.google.com/notebooks/data_table.ipynb>data table notebook</a>'\n",
              "            + ' to learn more about interactive tables.';\n",
              "          element.innerHTML = '';\n",
              "          dataTable['output_type'] = 'display_data';\n",
              "          await google.colab.output.renderOutput(dataTable, element);\n",
              "          const docLink = document.createElement('div');\n",
              "          docLink.innerHTML = docLinkHtml;\n",
              "          element.appendChild(docLink);\n",
              "        }\n",
              "      </script>\n",
              "    </div>\n",
              "  </div>\n",
              "  "
            ]
          },
          "metadata": {},
          "execution_count": 238
        }
      ]
    },
    {
      "cell_type": "code",
      "source": [
        "data_train.columns"
      ],
      "metadata": {
        "colab": {
          "base_uri": "https://localhost:8080/"
        },
        "id": "Xo6yC119418R",
        "outputId": "4aff98a0-9bf7-41fd-b4e7-407bddfc5fef"
      },
      "execution_count": null,
      "outputs": [
        {
          "output_type": "execute_result",
          "data": {
            "text/plain": [
              "Index(['Id', 'Artist Name', 'Track Name', 'Popularity', 'danceability',\n",
              "       'energy', 'key', 'loudness', 'mode', 'speechiness', 'acousticness',\n",
              "       'instrumentalness', 'liveness', 'valence', 'tempo',\n",
              "       'duration_in min/ms', 'time_signature', 'Class'],\n",
              "      dtype='object')"
            ]
          },
          "metadata": {},
          "execution_count": 239
        }
      ]
    },
    {
      "cell_type": "code",
      "source": [
        "s1 = {'Id':final_instrumentalness['Id'], 'Artist Name': final_instrumentalness['Artist Name'], 'Track Name': final_instrumentalness['Track Name'],\n",
        "      'Popularity': final_instrumentalness['Popularity'],'danceability': final_instrumentalness['danceability'],\n",
        "       'energy': final_instrumentalness['energy'], 'key': final_instrumentalness['key'], 'loudness': final_instrumentalness['loudness'], 'mode': final_instrumentalness['mode'],\n",
        "       'speechiness': final_instrumentalness['speechiness'], 'acousticness': final_instrumentalness['acousticness'],\n",
        "       'instrumentalness': final_instrumentalness['instrumentalness'],'liveness': final_instrumentalness['liveness'], 'valence': final_instrumentalness['valence'],\n",
        "       'tempo': final_instrumentalness['tempo'],'duration_in min/ms':final_instrumentalness['duration_in min/ms'],'time_signature':final_instrumentalness['time_signature'],'Class':final_instrumentalness['Class']}\n",
        "\n",
        "s2 = {'Id':final_key['Id'], 'Artist Name': final_key['Artist Name'], 'Track Name': final_key['Track Name'],'Popularity': final_key['Popularity'],'danceability': final_key['danceability'],\n",
        "       'energy': final_key['energy'], 'key': final_key['key'], 'loudness': final_key['loudness'], 'mode': final_key['mode'],'speechiness': final_key['speechiness'], 'acousticness': final_key['acousticness'],\n",
        "       'instrumentalness': final_key['instrumentalness'],'liveness': final_key['liveness'], 'valence': final_key['valence'],\n",
        "       'tempo': final_key['tempo'],'duration_in min/ms':final_key['duration_in min/ms'],'time_signature':final_key['time_signature'],'Class':final_key['Class']}\n",
        "\n",
        "\n",
        "df1 = pd.DataFrame(s1)\n",
        "df2 = pd.DataFrame(s2)"
      ],
      "metadata": {
        "id": "VFsEwXVE3Dl4"
      },
      "execution_count": null,
      "outputs": []
    },
    {
      "cell_type": "code",
      "source": [
        "new_df = pd.merge(df1, df2,  how=\"outer\", validate=\"one_to_one\")"
      ],
      "metadata": {
        "id": "uH2szC-Z4VMv"
      },
      "execution_count": null,
      "outputs": []
    },
    {
      "cell_type": "code",
      "source": [
        "new_df.shape"
      ],
      "metadata": {
        "colab": {
          "base_uri": "https://localhost:8080/"
        },
        "id": "2bi-mO4s9Zuk",
        "outputId": "c7580004-cc2a-424a-a9ac-80e90f8a46de"
      },
      "execution_count": null,
      "outputs": [
        {
          "output_type": "execute_result",
          "data": {
            "text/plain": [
              "(14320, 18)"
            ]
          },
          "metadata": {},
          "execution_count": 248
        }
      ]
    },
    {
      "cell_type": "code",
      "source": [
        "new_df.isna().sum()"
      ],
      "metadata": {
        "colab": {
          "base_uri": "https://localhost:8080/"
        },
        "id": "JklhQfUt4VKA",
        "outputId": "28a6da79-9ceb-4caa-a8f6-fd3bf7c07af4"
      },
      "execution_count": null,
      "outputs": [
        {
          "output_type": "execute_result",
          "data": {
            "text/plain": [
              "Id                    0\n",
              "Artist Name           0\n",
              "Track Name            0\n",
              "Popularity            0\n",
              "danceability          0\n",
              "energy                0\n",
              "key                   0\n",
              "loudness              0\n",
              "mode                  0\n",
              "speechiness           0\n",
              "acousticness          0\n",
              "instrumentalness      0\n",
              "liveness              0\n",
              "valence               0\n",
              "tempo                 0\n",
              "duration_in min/ms    0\n",
              "time_signature        0\n",
              "Class                 0\n",
              "dtype: int64"
            ]
          },
          "metadata": {},
          "execution_count": 246
        }
      ]
    },
    {
      "cell_type": "code",
      "source": [
        "new_df['Class'].value_counts()"
      ],
      "metadata": {
        "colab": {
          "base_uri": "https://localhost:8080/"
        },
        "id": "DmnMRhQr4VGl",
        "outputId": "82d4a6bc-5488-42df-b7d3-b2265d49b79c"
      },
      "execution_count": null,
      "outputs": [
        {
          "output_type": "execute_result",
          "data": {
            "text/plain": [
              "9     7554\n",
              "10    2634\n",
              "5     1617\n",
              "6      699\n",
              "1      508\n",
              "2      332\n",
              "8      313\n",
              "4      251\n",
              "0      178\n",
              "3      163\n",
              "7       71\n",
              "Name: Class, dtype: int64"
            ]
          },
          "metadata": {},
          "execution_count": 249
        }
      ]
    },
    {
      "cell_type": "code",
      "source": [],
      "metadata": {
        "id": "AtJGl4MV4VD7"
      },
      "execution_count": null,
      "outputs": []
    },
    {
      "cell_type": "code",
      "source": [],
      "metadata": {
        "id": "dRtYNSZ54VBF"
      },
      "execution_count": null,
      "outputs": []
    },
    {
      "cell_type": "code",
      "source": [
        "sns.countplot(x='Class', data=data_train)"
      ],
      "metadata": {
        "colab": {
          "base_uri": "https://localhost:8080/",
          "height": 296
        },
        "id": "kNtMFgwWg0if",
        "outputId": "c3c71979-ec97-4232-d8d9-5a94db78977d"
      },
      "execution_count": null,
      "outputs": [
        {
          "output_type": "execute_result",
          "data": {
            "text/plain": [
              "<matplotlib.axes._subplots.AxesSubplot at 0x7fce347c4e10>"
            ]
          },
          "metadata": {},
          "execution_count": 9
        },
        {
          "output_type": "display_data",
          "data": {
            "text/plain": [
              "<Figure size 432x288 with 1 Axes>"
            ],
            "image/png": "[encoded data removed]"
          },
          "metadata": {
            "needs_background": "light"
          }
        }
      ]
    },
    {
      "cell_type": "code",
      "source": [
        "data_train.hist(figsize=(20,15), bins=50)\n",
        "plt.show()"
      ],
      "metadata": {
        "colab": {
          "base_uri": "https://localhost:8080/",
          "height": 892
        },
        "id": "pbF7v0iLlVvA",
        "outputId": "cd101018-e8ea-47a7-dd74-90b115123b18"
      },
      "execution_count": null,
      "outputs": [
        {
          "output_type": "display_data",
          "data": {
            "text/plain": [
              "<Figure size 1440x1080 with 16 Axes>"
            ],
            "image/png": "[encoded data removed]"
          },
          "metadata": {
            "needs_background": "light"
          }
        }
      ]
    },
    {
      "cell_type": "code",
      "source": [
        "numerical_feature = data_train.select_dtypes(include=[np.number]).drop(['Id'], axis=1).columns\n",
        "categorical_feature = data_train.select_dtypes(exclude=[np.number]).columns\n"
      ],
      "metadata": {
        "id": "wz9yCclCiyUA"
      },
      "execution_count": null,
      "outputs": []
    },
    {
      "cell_type": "code",
      "source": [
        "for i in numerical_feature:\n",
        "  print(i)"
      ],
      "metadata": {
        "colab": {
          "base_uri": "https://localhost:8080/"
        },
        "id": "45LTDLD3iyjQ",
        "outputId": "ceb816ed-1675-4c6b-fa0e-5bdc7cf31ec5"
      },
      "execution_count": null,
      "outputs": [
        {
          "output_type": "stream",
          "name": "stdout",
          "text": [
            "Popularity\n",
            "danceability\n",
            "energy\n",
            "key\n",
            "loudness\n",
            "mode\n",
            "speechiness\n",
            "acousticness\n",
            "instrumentalness\n",
            "liveness\n",
            "valence\n",
            "tempo\n",
            "duration_in min/ms\n",
            "time_signature\n",
            "Class\n"
          ]
        }
      ]
    },
    {
      "cell_type": "code",
      "source": [
        "numeric_features= numerical_feature.drop(['Class'])"
      ],
      "metadata": {
        "id": "7w6L0uKOoI5A"
      },
      "execution_count": null,
      "outputs": []
    },
    {
      "cell_type": "code",
      "source": [
        "numeric_features"
      ],
      "metadata": {
        "colab": {
          "base_uri": "https://localhost:8080/"
        },
        "id": "bfzoDxU6-Wat",
        "outputId": "9a11e9ad-58f1-484f-f223-272862e0bfe4"
      },
      "execution_count": null,
      "outputs": [
        {
          "output_type": "execute_result",
          "data": {
            "text/plain": [
              "Index(['Popularity', 'danceability', 'energy', 'key', 'loudness', 'mode',\n",
              "       'speechiness', 'acousticness', 'instrumentalness', 'liveness',\n",
              "       'valence', 'tempo', 'duration_in min/ms', 'time_signature'],\n",
              "      dtype='object')"
            ]
          },
          "metadata": {},
          "execution_count": 54
        }
      ]
    },
    {
      "cell_type": "code",
      "source": [
        "categorical_feature\n"
      ],
      "metadata": {
        "colab": {
          "base_uri": "https://localhost:8080/"
        },
        "id": "dGBMvkDeiys8",
        "outputId": "bca4f2ab-86a5-4dc5-c510-2c7f4e6812c1"
      },
      "execution_count": null,
      "outputs": [
        {
          "output_type": "execute_result",
          "data": {
            "text/plain": [
              "Index(['Artist Name', 'Track Name'], dtype='object')"
            ]
          },
          "metadata": {},
          "execution_count": 55
        }
      ]
    },
    {
      "cell_type": "code",
      "source": [
        "corelation = data_train.corr()['Class'].sort_values(ascending=False)\n",
        "corelation"
      ],
      "metadata": {
        "colab": {
          "base_uri": "https://localhost:8080/"
        },
        "id": "Dr92J4O4lOYC",
        "outputId": "505a6433-72be-4a5f-9002-387e4e1f3081"
      },
      "execution_count": null,
      "outputs": [
        {
          "output_type": "execute_result",
          "data": {
            "text/plain": [
              "Class                 1.000000\n",
              "energy                0.215611\n",
              "duration_in min/ms    0.203822\n",
              "loudness              0.174111\n",
              "Popularity            0.159484\n",
              "liveness              0.040101\n",
              "time_signature        0.040053\n",
              "tempo                 0.034496\n",
              "Id                    0.002703\n",
              "key                  -0.004175\n",
              "instrumentalness     -0.028631\n",
              "mode                 -0.040092\n",
              "speechiness          -0.062784\n",
              "valence              -0.080036\n",
              "danceability         -0.101152\n",
              "acousticness         -0.240609\n",
              "Name: Class, dtype: float64"
            ]
          },
          "metadata": {},
          "execution_count": 56
        }
      ]
    },
    {
      "cell_type": "code",
      "source": [
        "heatm = data_train.corr()\n",
        "f, ax = plt.subplots(figsize=(16,12))\n",
        "sns.heatmap(heatm, annot=True)"
      ],
      "metadata": {
        "colab": {
          "base_uri": "https://localhost:8080/",
          "height": 808
        },
        "id": "_RvSZZrPlObB",
        "outputId": "e126e36d-6cce-497f-f09a-22d445b0a140"
      },
      "execution_count": null,
      "outputs": [
        {
          "output_type": "execute_result",
          "data": {
            "text/plain": [
              "<matplotlib.axes._subplots.AxesSubplot at 0x7fd117ec9750>"
            ]
          },
          "metadata": {},
          "execution_count": 57
        },
        {
          "output_type": "display_data",
          "data": {
            "text/plain": [
              "<Figure size 1152x864 with 2 Axes>"
            ],
            "image/png": "[encoded data removed]"
          },
          "metadata": {
            "needs_background": "light"
          }
        }
      ]
    },
    {
      "cell_type": "code",
      "source": [],
      "metadata": {
        "id": "zEGTbji1kv37"
      },
      "execution_count": null,
      "outputs": []
    },
    {
      "cell_type": "markdown",
      "source": [
        "**Outliers:**"
      ],
      "metadata": {
        "id": "ZTsdRqET8Axj"
      }
    },
    {
      "cell_type": "code",
      "source": [
        "sns.boxplot(x=data_train[\"Popularity\"])\n"
      ],
      "metadata": {
        "colab": {
          "base_uri": "https://localhost:8080/",
          "height": 296
        },
        "id": "N9TXNnQSHCKt",
        "outputId": "174e1b99-fa25-4ee3-8045-1620b2306520"
      },
      "execution_count": null,
      "outputs": [
        {
          "output_type": "execute_result",
          "data": {
            "text/plain": [
              "<matplotlib.axes._subplots.AxesSubplot at 0x7fd11f03be10>"
            ]
          },
          "metadata": {},
          "execution_count": 58
        },
        {
          "output_type": "display_data",
          "data": {
            "text/plain": [
              "<Figure size 432x288 with 1 Axes>"
            ],
            "image/png": "[encoded data removed]"
          },
          "metadata": {
            "needs_background": "light"
          }
        }
      ]
    },
    {
      "cell_type": "code",
      "source": [
        "plt.figure(figsize=(30,10))\n",
        "sns.boxplot(data=data_train, x=\"Popularity\", y=\"Class\")\n",
        "plt.xticks(rotation=60)"
      ],
      "metadata": {
        "colab": {
          "base_uri": "https://localhost:8080/",
          "height": 585
        },
        "id": "Dbeu-QRXI3xm",
        "outputId": "1cd2512c-cbdb-4847-9c69-05fce0f01a4b"
      },
      "execution_count": null,
      "outputs": [
        {
          "output_type": "execute_result",
          "data": {
            "text/plain": [
              "(array([ 0,  1,  2,  3,  4,  5,  6,  7,  8,  9, 10, 11, 12, 13, 14, 15, 16,\n",
              "        17, 18, 19, 20, 21, 22, 23, 24, 25, 26, 27, 28, 29, 30, 31, 32, 33,\n",
              "        34, 35, 36, 37, 38, 39, 40, 41, 42, 43, 44, 45, 46, 47, 48, 49, 50,\n",
              "        51, 52, 53, 54, 55, 56, 57, 58, 59, 60, 61, 62, 63, 64, 65, 66, 67,\n",
              "        68, 69, 70, 71, 72, 73, 74, 75, 76, 77, 78, 79, 80, 81, 82, 83, 84,\n",
              "        85, 86, 87, 88, 89, 90, 91, 92, 93, 94, 95, 96, 97, 98, 99]),\n",
              " <a list of 100 Text major ticklabel objects>)"
            ]
          },
          "metadata": {},
          "execution_count": 59
        },
        {
          "output_type": "display_data",
          "data": {
            "text/plain": [
              "<Figure size 2160x720 with 1 Axes>"
            ],
            "image/png": "[encoded data removed]"
          },
          "metadata": {
            "needs_background": "light"
          }
        }
      ]
    },
    {
      "cell_type": "markdown",
      "source": [
        "#### Z-score methode"
      ],
      "metadata": {
        "id": "O3PZJOaEKxct"
      }
    },
    {
      "cell_type": "code",
      "source": [
        "outliers = []\n",
        "def detect_outliers_zscore(data):\n",
        "    thres = 3\n",
        "    mean = np.mean(data)\n",
        "    std = np.std(data)\n",
        "    print('mean = {}'.format(mean),'std = {}'.format(std))\n",
        "    for i in data:\n",
        "        z_score = (i-mean)/std\n",
        "        if (np.abs(z_score) > thres):\n",
        "            outliers.append(i)\n",
        "    return outliers# Driver code"
      ],
      "metadata": {
        "id": "0nnxsq-P8Cu7"
      },
      "execution_count": null,
      "outputs": []
    },
    {
      "cell_type": "code",
      "source": [
        "# outliers in each column\n",
        "\n",
        "for feature in data_train.select_dtypes(include=[np.number]):\n",
        "  sample_outliers = detect_outliers_zscore(data_train[feature])\n",
        "\n",
        "  print(\"Outliers from Z-scores method {}: \".format(feature), sample_outliers,)\n",
        "  print(\"length for {} = \".format(feature),len(sample_outliers),'\\n')\n"
      ],
      "metadata": {
        "colab": {
          "base_uri": "https://localhost:8080/"
        },
        "id": "YihfQMDh8CsY",
        "outputId": "40390b1c-89b6-4f50-b8f7-98368ec524db"
      },
      "execution_count": null,
      "outputs": [
        {
          "output_type": "stream",
          "name": "stdout",
          "text": [
            "mean = 7198.5 std = 4155.767227600699\n",
            "Outliers from Z-scores method Id:  []\n",
            "length for Id =  0 \n",
            "\n",
            "mean = 44.525207992604706 std = 17.418321112741907\n",
            "Outliers from Z-scores method Popularity:  [100.0, 97.0, 97.0, 97.0, 98.0, 100.0, 99.0]\n",
            "length for Popularity =  7 \n",
            "\n",
            "mean = 0.5431053556543485 std = 0.16551126423806684\n",
            "Outliers from Z-scores method danceability:  [100.0, 97.0, 97.0, 97.0, 98.0, 100.0, 99.0]\n",
            "length for danceability =  7 \n",
            "\n",
            "mean = 0.662421645595999 std = 0.23595928673718533\n",
            "Outliers from Z-scores method energy:  [100.0, 97.0, 97.0, 97.0, 98.0, 100.0, 99.0]\n",
            "length for energy =  7 \n",
            "\n",
            "mean = 5.953781184015015 std = 3.199887636348311\n",
            "Outliers from Z-scores method key:  [100.0, 97.0, 97.0, 97.0, 98.0, 100.0, 99.0]\n",
            "length for key =  7 \n",
            "\n",
            "mean = -7.900852181161434 std = 4.057221305366146\n",
            "Outliers from Z-scores method loudness:  [100.0, 97.0, 97.0, 97.0, 98.0, 100.0, 99.0, -31.3, -30.707, -21.748, -31.385, -28.315, -22.094, -23.738, -21.114, -27.383, -28.639, -34.825, -30.252, -20.254, -23.323, -23.969, -20.447, -20.219, -21.95, -23.057, -26.14, -20.659, -23.658, -23.13, -23.209, -20.317, -23.625, -22.227, -24.735, -22.977, -21.216, -29.399, -23.246, -24.082, -22.751, -29.454, -20.82, -22.925, -21.022, -20.995, -21.197, -22.8, -27.06, -27.822, -21.082, -20.449, -21.941, -20.976, -21.724, -20.783, -21.091, -27.214, -29.808, -24.881, -24.035, -22.008, -22.841, -25.285, -21.322, -22.668, -29.991, -22.122, -26.299, -21.734, -22.247, -25.363, -28.954, -25.963, -20.659, -20.747, -25.163, -20.742, -33.082, -24.389, -23.455, -20.472, -21.361, -21.52, -26.075, -23.518, -27.331, -36.214, -23.653, -21.153, -26.292, -27.629, -20.22, -23.455, -23.917, -34.378, -22.533, -20.758, -22.61, -24.094, -20.567, -23.987, -25.174, -35.154, -25.232, -20.872, -21.152, -25.725, -20.494, -22.487, -26.419, -24.053, -24.809, -25.363, -22.17, -20.508, -30.124, -21.435, -20.901, -39.952, -21.126, -20.892, -23.822, -22.627, -24.547, -22.164, -21.438, -21.788, -23.714, -20.359, -28.994, -28.091, -29.891, -21.302, -28.545, -25.358, -30.245, -25.046, -31.858, -20.404, -23.396, -22.639, -20.501, -22.005, -25.66, -20.593, -24.002, -22.355, -25.658, -23.175, -24.913, -20.316, -25.279, -23.806, -20.596, -28.399, -22.227, -25.266, -22.159, -24.467, -24.906, -24.659, -26.466, -20.682, -24.253, -25.743, -32.796, -23.48, -20.089, -32.22, -29.298, -20.4, -22.481, -27.474, -23.045, -25.258, -23.202, -20.496, -20.538, -23.167, -23.899, -20.571, -25.181, -20.968, -27.043, -20.87, -21.076, -29.371, -22.32, -25.917, -26.964, -21.57, -22.505, -20.795, -20.443, -24.745, -25.683, -21.513, -23.766, -23.906, -21.203, -22.016, -23.623, -28.322, -29.617, -24.983, -22.079, -29.161, -21.792, -26.381, -20.538, -24.361, -20.394, -23.67, -23.655, -25.073, -22.327, -24.854, -20.901, -30.47, -25.131, -22.768, -22.455, -28.013, -21.2, -21.265, -22.241, -23.811, -20.306, -30.479, -22.557, -21.88, -25.49, -22.095, -20.689, -24.814, -23.811, -26.726, -28.505, -21.495, -23.646, -20.405, -29.76, -25.934, -26.742, -21.903, -30.016, -30.558, -22.421, -23.791, -21.178, -24.937, -33.395, -21.391, -20.994, -21.941, -20.816, -23.295, -20.167, -20.951, -24.249, -25.533]\n",
            "length for loudness =  262 \n",
            "\n",
            "mean = 0.6402472909141428 std = 0.47992780435315874\n",
            "Outliers from Z-scores method mode:  [100.0, 97.0, 97.0, 97.0, 98.0, 100.0, 99.0, -31.3, -30.707, -21.748, -31.385, -28.315, -22.094, -23.738, -21.114, -27.383, -28.639, -34.825, -30.252, -20.254, -23.323, -23.969, -20.447, -20.219, -21.95, -23.057, -26.14, -20.659, -23.658, -23.13, -23.209, -20.317, -23.625, -22.227, -24.735, -22.977, -21.216, -29.399, -23.246, -24.082, -22.751, -29.454, -20.82, -22.925, -21.022, -20.995, -21.197, -22.8, -27.06, -27.822, -21.082, -20.449, -21.941, -20.976, -21.724, -20.783, -21.091, -27.214, -29.808, -24.881, -24.035, -22.008, -22.841, -25.285, -21.322, -22.668, -29.991, -22.122, -26.299, -21.734, -22.247, -25.363, -28.954, -25.963, -20.659, -20.747, -25.163, -20.742, -33.082, -24.389, -23.455, -20.472, -21.361, -21.52, -26.075, -23.518, -27.331, -36.214, -23.653, -21.153, -26.292, -27.629, -20.22, -23.455, -23.917, -34.378, -22.533, -20.758, -22.61, -24.094, -20.567, -23.987, -25.174, -35.154, -25.232, -20.872, -21.152, -25.725, -20.494, -22.487, -26.419, -24.053, -24.809, -25.363, -22.17, -20.508, -30.124, -21.435, -20.901, -39.952, -21.126, -20.892, -23.822, -22.627, -24.547, -22.164, -21.438, -21.788, -23.714, -20.359, -28.994, -28.091, -29.891, -21.302, -28.545, -25.358, -30.245, -25.046, -31.858, -20.404, -23.396, -22.639, -20.501, -22.005, -25.66, -20.593, -24.002, -22.355, -25.658, -23.175, -24.913, -20.316, -25.279, -23.806, -20.596, -28.399, -22.227, -25.266, -22.159, -24.467, -24.906, -24.659, -26.466, -20.682, -24.253, -25.743, -32.796, -23.48, -20.089, -32.22, -29.298, -20.4, -22.481, -27.474, -23.045, -25.258, -23.202, -20.496, -20.538, -23.167, -23.899, -20.571, -25.181, -20.968, -27.043, -20.87, -21.076, -29.371, -22.32, -25.917, -26.964, -21.57, -22.505, -20.795, -20.443, -24.745, -25.683, -21.513, -23.766, -23.906, -21.203, -22.016, -23.623, -28.322, -29.617, -24.983, -22.079, -29.161, -21.792, -26.381, -20.538, -24.361, -20.394, -23.67, -23.655, -25.073, -22.327, -24.854, -20.901, -30.47, -25.131, -22.768, -22.455, -28.013, -21.2, -21.265, -22.241, -23.811, -20.306, -30.479, -22.557, -21.88, -25.49, -22.095, -20.689, -24.814, -23.811, -26.726, -28.505, -21.495, -23.646, -20.405, -29.76, -25.934, -26.742, -21.903, -30.016, -30.558, -22.421, -23.791, -21.178, -24.937, -33.395, -21.391, -20.994, -21.941, -20.816, -23.295, -20.167, -20.951, -24.249, -25.533]\n",
            "length for mode =  262 \n",
            "\n",
            "mean = 0.08018064740205613 std = 0.08515363545727077\n",
            "Outliers from Z-scores method speechiness:  [100.0, 97.0, 97.0, 97.0, 98.0, 100.0, 99.0, -31.3, -30.707, -21.748, -31.385, -28.315, -22.094, -23.738, -21.114, -27.383, -28.639, -34.825, -30.252, -20.254, -23.323, -23.969, -20.447, -20.219, -21.95, -23.057, -26.14, -20.659, -23.658, -23.13, -23.209, -20.317, -23.625, -22.227, -24.735, -22.977, -21.216, -29.399, -23.246, -24.082, -22.751, -29.454, -20.82, -22.925, -21.022, -20.995, -21.197, -22.8, -27.06, -27.822, -21.082, -20.449, -21.941, -20.976, -21.724, -20.783, -21.091, -27.214, -29.808, -24.881, -24.035, -22.008, -22.841, -25.285, -21.322, -22.668, -29.991, -22.122, -26.299, -21.734, -22.247, -25.363, -28.954, -25.963, -20.659, -20.747, -25.163, -20.742, -33.082, -24.389, -23.455, -20.472, -21.361, -21.52, -26.075, -23.518, -27.331, -36.214, -23.653, -21.153, -26.292, -27.629, -20.22, -23.455, -23.917, -34.378, -22.533, -20.758, -22.61, -24.094, -20.567, -23.987, -25.174, -35.154, -25.232, -20.872, -21.152, -25.725, -20.494, -22.487, -26.419, -24.053, -24.809, -25.363, -22.17, -20.508, -30.124, -21.435, -20.901, -39.952, -21.126, -20.892, -23.822, -22.627, -24.547, -22.164, -21.438, -21.788, -23.714, -20.359, -28.994, -28.091, -29.891, -21.302, -28.545, -25.358, -30.245, -25.046, -31.858, -20.404, -23.396, -22.639, -20.501, -22.005, -25.66, -20.593, -24.002, -22.355, -25.658, -23.175, -24.913, -20.316, -25.279, -23.806, -20.596, -28.399, -22.227, -25.266, -22.159, -24.467, -24.906, -24.659, -26.466, -20.682, -24.253, -25.743, -32.796, -23.48, -20.089, -32.22, -29.298, -20.4, -22.481, -27.474, -23.045, -25.258, -23.202, -20.496, -20.538, -23.167, -23.899, -20.571, -25.181, -20.968, -27.043, -20.87, -21.076, -29.371, -22.32, -25.917, -26.964, -21.57, -22.505, -20.795, -20.443, -24.745, -25.683, -21.513, -23.766, -23.906, -21.203, -22.016, -23.623, -28.322, -29.617, -24.983, -22.079, -29.161, -21.792, -26.381, -20.538, -24.361, -20.394, -23.67, -23.655, -25.073, -22.327, -24.854, -20.901, -30.47, -25.131, -22.768, -22.455, -28.013, -21.2, -21.265, -22.241, -23.811, -20.306, -30.479, -22.557, -21.88, -25.49, -22.095, -20.689, -24.814, -23.811, -26.726, -28.505, -21.495, -23.646, -20.405, -29.76, -25.934, -26.742, -21.903, -30.016, -30.558, -22.421, -23.791, -21.178, -24.937, -33.395, -21.391, -20.994, -21.941, -20.816, -23.295, -20.167, -20.951, -24.249, -25.533, 0.386, 0.351, 0.439, 0.407, 0.353, 0.447, 0.346, 0.38, 0.355, 0.528, 0.418, 0.489, 0.349, 0.891, 0.487, 0.368, 0.347, 0.368, 0.341, 0.4, 0.862, 0.344, 0.364, 0.567, 0.424, 0.392, 0.378, 0.435, 0.402, 0.407, 0.579, 0.36, 0.362, 0.417, 0.371, 0.505, 0.598, 0.402, 0.619, 0.431, 0.393, 0.409, 0.388, 0.35, 0.499, 0.424, 0.359, 0.353, 0.597, 0.379, 0.345, 0.424, 0.5, 0.564, 0.375, 0.372, 0.343, 0.442, 0.374, 0.342, 0.415, 0.349, 0.513, 0.377, 0.357, 0.446, 0.491, 0.406, 0.379, 0.369, 0.387, 0.342, 0.374, 0.48, 0.499, 0.375, 0.423, 0.504, 0.601, 0.348, 0.357, 0.342, 0.417, 0.394, 0.53, 0.379, 0.37, 0.387, 0.521, 0.473, 0.436, 0.413, 0.443, 0.364, 0.496, 0.354, 0.368, 0.369, 0.375, 0.393, 0.678, 0.356, 0.5, 0.443, 0.368, 0.346, 0.344, 0.357, 0.447, 0.437, 0.366, 0.339, 0.525, 0.358, 0.409, 0.486, 0.362, 0.514, 0.539, 0.376, 0.403, 0.417, 0.404, 0.414, 0.36, 0.356, 0.489, 0.544, 0.543, 0.345, 0.362, 0.539, 0.508, 0.48, 0.36, 0.361, 0.359, 0.377, 0.402, 0.34, 0.402, 0.506, 0.39, 0.347, 0.359, 0.403, 0.382, 0.392, 0.568, 0.382, 0.47, 0.344, 0.382, 0.387, 0.39, 0.429, 0.367, 0.357, 0.457, 0.582, 0.427, 0.476, 0.38, 0.362, 0.442, 0.338, 0.501, 0.353, 0.351, 0.43, 0.346, 0.368, 0.508, 0.365, 0.45, 0.441, 0.337, 0.366, 0.55, 0.851, 0.361, 0.374, 0.429, 0.4, 0.521, 0.955, 0.384, 0.397, 0.43, 0.445, 0.409, 0.391, 0.496, 0.355, 0.369, 0.361, 0.364, 0.339, 0.433, 0.4, 0.366, 0.477, 0.49, 0.377, 0.349, 0.339, 0.361, 0.382, 0.35, 0.522, 0.444, 0.439, 0.54, 0.38, 0.497, 0.338, 0.935, 0.354, 0.425, 0.382, 0.438, 0.47, 0.701, 0.367, 0.371, 0.619, 0.352, 0.559, 0.372, 0.352, 0.4, 0.371, 0.348, 0.37, 0.375, 0.595, 0.378, 0.349, 0.347, 0.422, 0.351, 0.492, 0.344, 0.84, 0.55, 0.421, 0.429, 0.394, 0.35, 0.427, 0.38, 0.351, 0.37, 0.462, 0.441, 0.411, 0.382, 0.425, 0.483, 0.34, 0.372, 0.546, 0.384, 0.338, 0.548, 0.363, 0.474, 0.393, 0.381, 0.359, 0.92, 0.387, 0.461, 0.522, 0.497, 0.405, 0.368, 0.42, 0.449, 0.343, 0.381, 0.353, 0.392, 0.515, 0.388, 0.368, 0.342, 0.366, 0.351, 0.421, 0.446, 0.378, 0.559, 0.405, 0.349, 0.454, 0.399, 0.478, 0.494, 0.416, 0.416, 0.73, 0.357, 0.377, 0.411, 0.36, 0.5, 0.43, 0.341, 0.348, 0.502, 0.357, 0.46, 0.34, 0.481, 0.376, 0.363, 0.351, 0.397, 0.341, 0.479, 0.377, 0.341, 0.338, 0.376, 0.372, 0.361, 0.342, 0.351, 0.364, 0.51, 0.543, 0.41, 0.394, 0.406, 0.451, 0.371, 0.46, 0.422, 0.336, 0.38, 0.574, 0.366, 0.449, 0.345, 0.449, 0.351, 0.414, 0.347, 0.481, 0.368, 0.494, 0.409, 0.389, 0.344, 0.872, 0.343, 0.363, 0.392, 0.37, 0.473, 0.371, 0.386, 0.374, 0.347, 0.346, 0.373, 0.354, 0.51, 0.398, 0.53, 0.474, 0.372, 0.53, 0.368, 0.338, 0.378, 0.474, 0.362, 0.52, 0.458, 0.348, 0.48, 0.34, 0.34, 0.442, 0.338, 0.409, 0.346, 0.358, 0.348, 0.409, 0.513, 0.379, 0.372, 0.4, 0.937, 0.496, 0.365, 0.507, 0.391, 0.347, 0.723, 0.437, 0.35, 0.54, 0.472, 0.383, 0.337, 0.398, 0.41, 0.376, 0.489]\n",
            "length for speechiness =  675 \n",
            "\n",
            "mean = 0.2467457084433176 std = 0.31091115910217076\n",
            "Outliers from Z-scores method acousticness:  [100.0, 97.0, 97.0, 97.0, 98.0, 100.0, 99.0, -31.3, -30.707, -21.748, -31.385, -28.315, -22.094, -23.738, -21.114, -27.383, -28.639, -34.825, -30.252, -20.254, -23.323, -23.969, -20.447, -20.219, -21.95, -23.057, -26.14, -20.659, -23.658, -23.13, -23.209, -20.317, -23.625, -22.227, -24.735, -22.977, -21.216, -29.399, -23.246, -24.082, -22.751, -29.454, -20.82, -22.925, -21.022, -20.995, -21.197, -22.8, -27.06, -27.822, -21.082, -20.449, -21.941, -20.976, -21.724, -20.783, -21.091, -27.214, -29.808, -24.881, -24.035, -22.008, -22.841, -25.285, -21.322, -22.668, -29.991, -22.122, -26.299, -21.734, -22.247, -25.363, -28.954, -25.963, -20.659, -20.747, -25.163, -20.742, -33.082, -24.389, -23.455, -20.472, -21.361, -21.52, -26.075, -23.518, -27.331, -36.214, -23.653, -21.153, -26.292, -27.629, -20.22, -23.455, -23.917, -34.378, -22.533, -20.758, -22.61, -24.094, -20.567, -23.987, -25.174, -35.154, -25.232, -20.872, -21.152, -25.725, -20.494, -22.487, -26.419, -24.053, -24.809, -25.363, -22.17, -20.508, -30.124, -21.435, -20.901, -39.952, -21.126, -20.892, -23.822, -22.627, -24.547, -22.164, -21.438, -21.788, -23.714, -20.359, -28.994, -28.091, -29.891, -21.302, -28.545, -25.358, -30.245, -25.046, -31.858, -20.404, -23.396, -22.639, -20.501, -22.005, -25.66, -20.593, -24.002, -22.355, -25.658, -23.175, -24.913, -20.316, -25.279, -23.806, -20.596, -28.399, -22.227, -25.266, -22.159, -24.467, -24.906, -24.659, -26.466, -20.682, -24.253, -25.743, -32.796, -23.48, -20.089, -32.22, -29.298, -20.4, -22.481, -27.474, -23.045, -25.258, -23.202, -20.496, -20.538, -23.167, -23.899, -20.571, -25.181, -20.968, -27.043, -20.87, -21.076, -29.371, -22.32, -25.917, -26.964, -21.57, -22.505, -20.795, -20.443, -24.745, -25.683, -21.513, -23.766, -23.906, -21.203, -22.016, -23.623, -28.322, -29.617, -24.983, -22.079, -29.161, -21.792, -26.381, -20.538, -24.361, -20.394, -23.67, -23.655, -25.073, -22.327, -24.854, -20.901, -30.47, -25.131, -22.768, -22.455, -28.013, -21.2, -21.265, -22.241, -23.811, -20.306, -30.479, -22.557, -21.88, -25.49, -22.095, -20.689, -24.814, -23.811, -26.726, -28.505, -21.495, -23.646, -20.405, -29.76, -25.934, -26.742, -21.903, -30.016, -30.558, -22.421, -23.791, -21.178, -24.937, -33.395, -21.391, -20.994, -21.941, -20.816, -23.295, -20.167, -20.951, -24.249, -25.533, 0.386, 0.351, 0.439, 0.407, 0.353, 0.447, 0.346, 0.38, 0.355, 0.528, 0.418, 0.489, 0.349, 0.891, 0.487, 0.368, 0.347, 0.368, 0.341, 0.4, 0.862, 0.344, 0.364, 0.567, 0.424, 0.392, 0.378, 0.435, 0.402, 0.407, 0.579, 0.36, 0.362, 0.417, 0.371, 0.505, 0.598, 0.402, 0.619, 0.431, 0.393, 0.409, 0.388, 0.35, 0.499, 0.424, 0.359, 0.353, 0.597, 0.379, 0.345, 0.424, 0.5, 0.564, 0.375, 0.372, 0.343, 0.442, 0.374, 0.342, 0.415, 0.349, 0.513, 0.377, 0.357, 0.446, 0.491, 0.406, 0.379, 0.369, 0.387, 0.342, 0.374, 0.48, 0.499, 0.375, 0.423, 0.504, 0.601, 0.348, 0.357, 0.342, 0.417, 0.394, 0.53, 0.379, 0.37, 0.387, 0.521, 0.473, 0.436, 0.413, 0.443, 0.364, 0.496, 0.354, 0.368, 0.369, 0.375, 0.393, 0.678, 0.356, 0.5, 0.443, 0.368, 0.346, 0.344, 0.357, 0.447, 0.437, 0.366, 0.339, 0.525, 0.358, 0.409, 0.486, 0.362, 0.514, 0.539, 0.376, 0.403, 0.417, 0.404, 0.414, 0.36, 0.356, 0.489, 0.544, 0.543, 0.345, 0.362, 0.539, 0.508, 0.48, 0.36, 0.361, 0.359, 0.377, 0.402, 0.34, 0.402, 0.506, 0.39, 0.347, 0.359, 0.403, 0.382, 0.392, 0.568, 0.382, 0.47, 0.344, 0.382, 0.387, 0.39, 0.429, 0.367, 0.357, 0.457, 0.582, 0.427, 0.476, 0.38, 0.362, 0.442, 0.338, 0.501, 0.353, 0.351, 0.43, 0.346, 0.368, 0.508, 0.365, 0.45, 0.441, 0.337, 0.366, 0.55, 0.851, 0.361, 0.374, 0.429, 0.4, 0.521, 0.955, 0.384, 0.397, 0.43, 0.445, 0.409, 0.391, 0.496, 0.355, 0.369, 0.361, 0.364, 0.339, 0.433, 0.4, 0.366, 0.477, 0.49, 0.377, 0.349, 0.339, 0.361, 0.382, 0.35, 0.522, 0.444, 0.439, 0.54, 0.38, 0.497, 0.338, 0.935, 0.354, 0.425, 0.382, 0.438, 0.47, 0.701, 0.367, 0.371, 0.619, 0.352, 0.559, 0.372, 0.352, 0.4, 0.371, 0.348, 0.37, 0.375, 0.595, 0.378, 0.349, 0.347, 0.422, 0.351, 0.492, 0.344, 0.84, 0.55, 0.421, 0.429, 0.394, 0.35, 0.427, 0.38, 0.351, 0.37, 0.462, 0.441, 0.411, 0.382, 0.425, 0.483, 0.34, 0.372, 0.546, 0.384, 0.338, 0.548, 0.363, 0.474, 0.393, 0.381, 0.359, 0.92, 0.387, 0.461, 0.522, 0.497, 0.405, 0.368, 0.42, 0.449, 0.343, 0.381, 0.353, 0.392, 0.515, 0.388, 0.368, 0.342, 0.366, 0.351, 0.421, 0.446, 0.378, 0.559, 0.405, 0.349, 0.454, 0.399, 0.478, 0.494, 0.416, 0.416, 0.73, 0.357, 0.377, 0.411, 0.36, 0.5, 0.43, 0.341, 0.348, 0.502, 0.357, 0.46, 0.34, 0.481, 0.376, 0.363, 0.351, 0.397, 0.341, 0.479, 0.377, 0.341, 0.338, 0.376, 0.372, 0.361, 0.342, 0.351, 0.364, 0.51, 0.543, 0.41, 0.394, 0.406, 0.451, 0.371, 0.46, 0.422, 0.336, 0.38, 0.574, 0.366, 0.449, 0.345, 0.449, 0.351, 0.414, 0.347, 0.481, 0.368, 0.494, 0.409, 0.389, 0.344, 0.872, 0.343, 0.363, 0.392, 0.37, 0.473, 0.371, 0.386, 0.374, 0.347, 0.346, 0.373, 0.354, 0.51, 0.398, 0.53, 0.474, 0.372, 0.53, 0.368, 0.338, 0.378, 0.474, 0.362, 0.52, 0.458, 0.348, 0.48, 0.34, 0.34, 0.442, 0.338, 0.409, 0.346, 0.358, 0.348, 0.409, 0.513, 0.379, 0.372, 0.4, 0.937, 0.496, 0.365, 0.507, 0.391, 0.347, 0.723, 0.437, 0.35, 0.54, 0.472, 0.383, 0.337, 0.398, 0.41, 0.376, 0.489]\n",
            "length for acousticness =  675 \n",
            "\n",
            "mean = 0.17812871735974206 std = 0.3042516506881788\n",
            "Outliers from Z-scores method instrumentalness:  [100.0, 97.0, 97.0, 97.0, 98.0, 100.0, 99.0, -31.3, -30.707, -21.748, -31.385, -28.315, -22.094, -23.738, -21.114, -27.383, -28.639, -34.825, -30.252, -20.254, -23.323, -23.969, -20.447, -20.219, -21.95, -23.057, -26.14, -20.659, -23.658, -23.13, -23.209, -20.317, -23.625, -22.227, -24.735, -22.977, -21.216, -29.399, -23.246, -24.082, -22.751, -29.454, -20.82, -22.925, -21.022, -20.995, -21.197, -22.8, -27.06, -27.822, -21.082, -20.449, -21.941, -20.976, -21.724, -20.783, -21.091, -27.214, -29.808, -24.881, -24.035, -22.008, -22.841, -25.285, -21.322, -22.668, -29.991, -22.122, -26.299, -21.734, -22.247, -25.363, -28.954, -25.963, -20.659, -20.747, -25.163, -20.742, -33.082, -24.389, -23.455, -20.472, -21.361, -21.52, -26.075, -23.518, -27.331, -36.214, -23.653, -21.153, -26.292, -27.629, -20.22, -23.455, -23.917, -34.378, -22.533, -20.758, -22.61, -24.094, -20.567, -23.987, -25.174, -35.154, -25.232, -20.872, -21.152, -25.725, -20.494, -22.487, -26.419, -24.053, -24.809, -25.363, -22.17, -20.508, -30.124, -21.435, -20.901, -39.952, -21.126, -20.892, -23.822, -22.627, -24.547, -22.164, -21.438, -21.788, -23.714, -20.359, -28.994, -28.091, -29.891, -21.302, -28.545, -25.358, -30.245, -25.046, -31.858, -20.404, -23.396, -22.639, -20.501, -22.005, -25.66, -20.593, -24.002, -22.355, -25.658, -23.175, -24.913, -20.316, -25.279, -23.806, -20.596, -28.399, -22.227, -25.266, -22.159, -24.467, -24.906, -24.659, -26.466, -20.682, -24.253, -25.743, -32.796, -23.48, -20.089, -32.22, -29.298, -20.4, -22.481, -27.474, -23.045, -25.258, -23.202, -20.496, -20.538, -23.167, -23.899, -20.571, -25.181, -20.968, -27.043, -20.87, -21.076, -29.371, -22.32, -25.917, -26.964, -21.57, -22.505, -20.795, -20.443, -24.745, -25.683, -21.513, -23.766, -23.906, -21.203, -22.016, -23.623, -28.322, -29.617, -24.983, -22.079, -29.161, -21.792, -26.381, -20.538, -24.361, -20.394, -23.67, -23.655, -25.073, -22.327, -24.854, -20.901, -30.47, -25.131, -22.768, -22.455, -28.013, -21.2, -21.265, -22.241, -23.811, -20.306, -30.479, -22.557, -21.88, -25.49, -22.095, -20.689, -24.814, -23.811, -26.726, -28.505, -21.495, -23.646, -20.405, -29.76, -25.934, -26.742, -21.903, -30.016, -30.558, -22.421, -23.791, -21.178, -24.937, -33.395, -21.391, -20.994, -21.941, -20.816, -23.295, -20.167, -20.951, -24.249, -25.533, 0.386, 0.351, 0.439, 0.407, 0.353, 0.447, 0.346, 0.38, 0.355, 0.528, 0.418, 0.489, 0.349, 0.891, 0.487, 0.368, 0.347, 0.368, 0.341, 0.4, 0.862, 0.344, 0.364, 0.567, 0.424, 0.392, 0.378, 0.435, 0.402, 0.407, 0.579, 0.36, 0.362, 0.417, 0.371, 0.505, 0.598, 0.402, 0.619, 0.431, 0.393, 0.409, 0.388, 0.35, 0.499, 0.424, 0.359, 0.353, 0.597, 0.379, 0.345, 0.424, 0.5, 0.564, 0.375, 0.372, 0.343, 0.442, 0.374, 0.342, 0.415, 0.349, 0.513, 0.377, 0.357, 0.446, 0.491, 0.406, 0.379, 0.369, 0.387, 0.342, 0.374, 0.48, 0.499, 0.375, 0.423, 0.504, 0.601, 0.348, 0.357, 0.342, 0.417, 0.394, 0.53, 0.379, 0.37, 0.387, 0.521, 0.473, 0.436, 0.413, 0.443, 0.364, 0.496, 0.354, 0.368, 0.369, 0.375, 0.393, 0.678, 0.356, 0.5, 0.443, 0.368, 0.346, 0.344, 0.357, 0.447, 0.437, 0.366, 0.339, 0.525, 0.358, 0.409, 0.486, 0.362, 0.514, 0.539, 0.376, 0.403, 0.417, 0.404, 0.414, 0.36, 0.356, 0.489, 0.544, 0.543, 0.345, 0.362, 0.539, 0.508, 0.48, 0.36, 0.361, 0.359, 0.377, 0.402, 0.34, 0.402, 0.506, 0.39, 0.347, 0.359, 0.403, 0.382, 0.392, 0.568, 0.382, 0.47, 0.344, 0.382, 0.387, 0.39, 0.429, 0.367, 0.357, 0.457, 0.582, 0.427, 0.476, 0.38, 0.362, 0.442, 0.338, 0.501, 0.353, 0.351, 0.43, 0.346, 0.368, 0.508, 0.365, 0.45, 0.441, 0.337, 0.366, 0.55, 0.851, 0.361, 0.374, 0.429, 0.4, 0.521, 0.955, 0.384, 0.397, 0.43, 0.445, 0.409, 0.391, 0.496, 0.355, 0.369, 0.361, 0.364, 0.339, 0.433, 0.4, 0.366, 0.477, 0.49, 0.377, 0.349, 0.339, 0.361, 0.382, 0.35, 0.522, 0.444, 0.439, 0.54, 0.38, 0.497, 0.338, 0.935, 0.354, 0.425, 0.382, 0.438, 0.47, 0.701, 0.367, 0.371, 0.619, 0.352, 0.559, 0.372, 0.352, 0.4, 0.371, 0.348, 0.37, 0.375, 0.595, 0.378, 0.349, 0.347, 0.422, 0.351, 0.492, 0.344, 0.84, 0.55, 0.421, 0.429, 0.394, 0.35, 0.427, 0.38, 0.351, 0.37, 0.462, 0.441, 0.411, 0.382, 0.425, 0.483, 0.34, 0.372, 0.546, 0.384, 0.338, 0.548, 0.363, 0.474, 0.393, 0.381, 0.359, 0.92, 0.387, 0.461, 0.522, 0.497, 0.405, 0.368, 0.42, 0.449, 0.343, 0.381, 0.353, 0.392, 0.515, 0.388, 0.368, 0.342, 0.366, 0.351, 0.421, 0.446, 0.378, 0.559, 0.405, 0.349, 0.454, 0.399, 0.478, 0.494, 0.416, 0.416, 0.73, 0.357, 0.377, 0.411, 0.36, 0.5, 0.43, 0.341, 0.348, 0.502, 0.357, 0.46, 0.34, 0.481, 0.376, 0.363, 0.351, 0.397, 0.341, 0.479, 0.377, 0.341, 0.338, 0.376, 0.372, 0.361, 0.342, 0.351, 0.364, 0.51, 0.543, 0.41, 0.394, 0.406, 0.451, 0.371, 0.46, 0.422, 0.336, 0.38, 0.574, 0.366, 0.449, 0.345, 0.449, 0.351, 0.414, 0.347, 0.481, 0.368, 0.494, 0.409, 0.389, 0.344, 0.872, 0.343, 0.363, 0.392, 0.37, 0.473, 0.371, 0.386, 0.374, 0.347, 0.346, 0.373, 0.354, 0.51, 0.398, 0.53, 0.474, 0.372, 0.53, 0.368, 0.338, 0.378, 0.474, 0.362, 0.52, 0.458, 0.348, 0.48, 0.34, 0.34, 0.442, 0.338, 0.409, 0.346, 0.358, 0.348, 0.409, 0.513, 0.379, 0.372, 0.4, 0.937, 0.496, 0.365, 0.507, 0.391, 0.347, 0.723, 0.437, 0.35, 0.54, 0.472, 0.383, 0.337, 0.398, 0.41, 0.376, 0.489]\n",
            "length for instrumentalness =  675 \n",
            "\n",
            "mean = 0.19578227979994442 std = 0.15925221516899124\n",
            "Outliers from Z-scores method liveness:  [100.0, 97.0, 97.0, 97.0, 98.0, 100.0, 99.0, -31.3, -30.707, -21.748, -31.385, -28.315, -22.094, -23.738, -21.114, -27.383, -28.639, -34.825, -30.252, -20.254, -23.323, -23.969, -20.447, -20.219, -21.95, -23.057, -26.14, -20.659, -23.658, -23.13, -23.209, -20.317, -23.625, -22.227, -24.735, -22.977, -21.216, -29.399, -23.246, -24.082, -22.751, -29.454, -20.82, -22.925, -21.022, -20.995, -21.197, -22.8, -27.06, -27.822, -21.082, -20.449, -21.941, -20.976, -21.724, -20.783, -21.091, -27.214, -29.808, -24.881, -24.035, -22.008, -22.841, -25.285, -21.322, -22.668, -29.991, -22.122, -26.299, -21.734, -22.247, -25.363, -28.954, -25.963, -20.659, -20.747, -25.163, -20.742, -33.082, -24.389, -23.455, -20.472, -21.361, -21.52, -26.075, -23.518, -27.331, -36.214, -23.653, -21.153, -26.292, -27.629, -20.22, -23.455, -23.917, -34.378, -22.533, -20.758, -22.61, -24.094, -20.567, -23.987, -25.174, -35.154, -25.232, -20.872, -21.152, -25.725, -20.494, -22.487, -26.419, -24.053, -24.809, -25.363, -22.17, -20.508, -30.124, -21.435, -20.901, -39.952, -21.126, -20.892, -23.822, -22.627, -24.547, -22.164, -21.438, -21.788, -23.714, -20.359, -28.994, -28.091, -29.891, -21.302, -28.545, -25.358, -30.245, -25.046, -31.858, -20.404, -23.396, -22.639, -20.501, -22.005, -25.66, -20.593, -24.002, -22.355, -25.658, -23.175, -24.913, -20.316, -25.279, -23.806, -20.596, -28.399, -22.227, -25.266, -22.159, -24.467, -24.906, -24.659, -26.466, -20.682, -24.253, -25.743, -32.796, -23.48, -20.089, -32.22, -29.298, -20.4, -22.481, -27.474, -23.045, -25.258, -23.202, -20.496, -20.538, -23.167, -23.899, -20.571, -25.181, -20.968, -27.043, -20.87, -21.076, -29.371, -22.32, -25.917, -26.964, -21.57, -22.505, -20.795, -20.443, -24.745, -25.683, -21.513, -23.766, -23.906, -21.203, -22.016, -23.623, -28.322, -29.617, -24.983, -22.079, -29.161, -21.792, -26.381, -20.538, -24.361, -20.394, -23.67, -23.655, -25.073, -22.327, -24.854, -20.901, -30.47, -25.131, -22.768, -22.455, -28.013, -21.2, -21.265, -22.241, -23.811, -20.306, -30.479, -22.557, -21.88, -25.49, -22.095, -20.689, -24.814, -23.811, -26.726, -28.505, -21.495, -23.646, -20.405, -29.76, -25.934, -26.742, -21.903, -30.016, -30.558, -22.421, -23.791, -21.178, -24.937, -33.395, -21.391, -20.994, -21.941, -20.816, -23.295, -20.167, -20.951, -24.249, -25.533, 0.386, 0.351, 0.439, 0.407, 0.353, 0.447, 0.346, 0.38, 0.355, 0.528, 0.418, 0.489, 0.349, 0.891, 0.487, 0.368, 0.347, 0.368, 0.341, 0.4, 0.862, 0.344, 0.364, 0.567, 0.424, 0.392, 0.378, 0.435, 0.402, 0.407, 0.579, 0.36, 0.362, 0.417, 0.371, 0.505, 0.598, 0.402, 0.619, 0.431, 0.393, 0.409, 0.388, 0.35, 0.499, 0.424, 0.359, 0.353, 0.597, 0.379, 0.345, 0.424, 0.5, 0.564, 0.375, 0.372, 0.343, 0.442, 0.374, 0.342, 0.415, 0.349, 0.513, 0.377, 0.357, 0.446, 0.491, 0.406, 0.379, 0.369, 0.387, 0.342, 0.374, 0.48, 0.499, 0.375, 0.423, 0.504, 0.601, 0.348, 0.357, 0.342, 0.417, 0.394, 0.53, 0.379, 0.37, 0.387, 0.521, 0.473, 0.436, 0.413, 0.443, 0.364, 0.496, 0.354, 0.368, 0.369, 0.375, 0.393, 0.678, 0.356, 0.5, 0.443, 0.368, 0.346, 0.344, 0.357, 0.447, 0.437, 0.366, 0.339, 0.525, 0.358, 0.409, 0.486, 0.362, 0.514, 0.539, 0.376, 0.403, 0.417, 0.404, 0.414, 0.36, 0.356, 0.489, 0.544, 0.543, 0.345, 0.362, 0.539, 0.508, 0.48, 0.36, 0.361, 0.359, 0.377, 0.402, 0.34, 0.402, 0.506, 0.39, 0.347, 0.359, 0.403, 0.382, 0.392, 0.568, 0.382, 0.47, 0.344, 0.382, 0.387, 0.39, 0.429, 0.367, 0.357, 0.457, 0.582, 0.427, 0.476, 0.38, 0.362, 0.442, 0.338, 0.501, 0.353, 0.351, 0.43, 0.346, 0.368, 0.508, 0.365, 0.45, 0.441, 0.337, 0.366, 0.55, 0.851, 0.361, 0.374, 0.429, 0.4, 0.521, 0.955, 0.384, 0.397, 0.43, 0.445, 0.409, 0.391, 0.496, 0.355, 0.369, 0.361, 0.364, 0.339, 0.433, 0.4, 0.366, 0.477, 0.49, 0.377, 0.349, 0.339, 0.361, 0.382, 0.35, 0.522, 0.444, 0.439, 0.54, 0.38, 0.497, 0.338, 0.935, 0.354, 0.425, 0.382, 0.438, 0.47, 0.701, 0.367, 0.371, 0.619, 0.352, 0.559, 0.372, 0.352, 0.4, 0.371, 0.348, 0.37, 0.375, 0.595, 0.378, 0.349, 0.347, 0.422, 0.351, 0.492, 0.344, 0.84, 0.55, 0.421, 0.429, 0.394, 0.35, 0.427, 0.38, 0.351, 0.37, 0.462, 0.441, 0.411, 0.382, 0.425, 0.483, 0.34, 0.372, 0.546, 0.384, 0.338, 0.548, 0.363, 0.474, 0.393, 0.381, 0.359, 0.92, 0.387, 0.461, 0.522, 0.497, 0.405, 0.368, 0.42, 0.449, 0.343, 0.381, 0.353, 0.392, 0.515, 0.388, 0.368, 0.342, 0.366, 0.351, 0.421, 0.446, 0.378, 0.559, 0.405, 0.349, 0.454, 0.399, 0.478, 0.494, 0.416, 0.416, 0.73, 0.357, 0.377, 0.411, 0.36, 0.5, 0.43, 0.341, 0.348, 0.502, 0.357, 0.46, 0.34, 0.481, 0.376, 0.363, 0.351, 0.397, 0.341, 0.479, 0.377, 0.341, 0.338, 0.376, 0.372, 0.361, 0.342, 0.351, 0.364, 0.51, 0.543, 0.41, 0.394, 0.406, 0.451, 0.371, 0.46, 0.422, 0.336, 0.38, 0.574, 0.366, 0.449, 0.345, 0.449, 0.351, 0.414, 0.347, 0.481, 0.368, 0.494, 0.409, 0.389, 0.344, 0.872, 0.343, 0.363, 0.392, 0.37, 0.473, 0.371, 0.386, 0.374, 0.347, 0.346, 0.373, 0.354, 0.51, 0.398, 0.53, 0.474, 0.372, 0.53, 0.368, 0.338, 0.378, 0.474, 0.362, 0.52, 0.458, 0.348, 0.48, 0.34, 0.34, 0.442, 0.338, 0.409, 0.346, 0.358, 0.348, 0.409, 0.513, 0.379, 0.372, 0.4, 0.937, 0.496, 0.365, 0.507, 0.391, 0.347, 0.723, 0.437, 0.35, 0.54, 0.472, 0.383, 0.337, 0.398, 0.41, 0.376, 0.489, 0.751, 0.698, 0.718, 0.7, 0.771, 0.787, 0.769, 0.676, 0.696, 0.678, 0.801, 0.692, 0.971, 0.68, 0.719, 0.889, 0.899, 0.687, 0.676, 0.979, 0.741, 0.974, 0.886, 0.952, 0.982, 0.926, 0.866, 0.75, 0.723, 0.953, 0.678, 0.803, 0.723, 0.686, 0.702, 0.676, 0.756, 0.68, 0.873, 0.759, 0.955, 0.986, 0.684, 0.707, 0.98, 0.956, 0.983, 0.879, 0.819, 0.703, 0.834, 0.706, 0.989, 0.984, 0.906, 0.971, 0.723, 0.702, 0.709, 0.868, 0.674, 0.687, 0.762, 0.87, 0.689, 0.752, 0.935, 0.76, 0.791, 0.841, 0.746, 0.986, 0.876, 0.981, 0.697, 0.744, 0.691, 0.719, 0.679, 0.944, 0.913, 0.853, 0.728, 0.856, 0.917, 0.893, 0.859, 0.702, 0.702, 0.988, 0.966, 0.814, 0.932, 0.762, 0.898, 0.674, 0.769, 0.739, 0.738, 0.694, 0.677, 0.693, 0.853, 0.956, 0.896, 0.773, 0.771, 0.877, 0.763, 0.75, 0.851, 0.689, 0.789, 0.858, 0.811, 0.756, 0.706, 0.913, 0.868, 0.988, 0.725, 0.793, 0.726, 0.93, 0.95, 0.713, 0.806, 0.724, 0.973, 0.987, 0.827, 0.699, 0.809, 0.918, 0.967, 0.691, 0.703, 0.675, 0.964, 0.985, 0.928, 0.708, 0.801, 0.853, 0.756, 0.813, 0.687, 0.827, 0.953, 0.982, 0.815, 0.859, 0.969, 0.739, 0.708, 0.838, 0.799, 0.976, 0.948, 0.78, 0.908, 0.801, 0.879, 0.765, 0.872, 0.968, 0.677, 0.685, 0.702, 0.679, 0.874, 0.734, 0.792, 0.732, 0.679, 0.879, 0.806, 0.713, 0.961, 0.704, 0.985, 0.972, 0.798, 0.78, 0.923, 0.687, 0.974, 0.714, 0.819, 0.773, 0.909, 0.992, 0.686, 0.801, 0.933, 0.751, 0.967, 0.693, 0.937, 0.683, 0.689, 0.678, 0.678, 0.796, 0.853, 0.679, 0.73, 0.825, 0.766, 0.959, 0.876, 0.716, 0.75, 0.758, 0.71, 0.744, 0.847, 0.846, 0.938, 0.836, 0.746, 0.748, 0.688, 0.686, 0.683, 0.726, 0.986, 0.811, 0.811, 0.855, 0.822, 0.676, 0.707, 0.847, 0.762, 0.972, 0.964, 0.959, 0.977, 0.891, 0.77, 0.68, 0.906, 0.685, 0.698, 0.953, 0.973, 0.983, 0.952, 0.832, 0.904, 0.906, 0.71, 0.958, 0.717, 0.743, 0.741, 0.975, 0.694, 0.965, 0.967, 0.932, 0.684, 0.916, 0.984, 0.911, 0.948, 0.935, 0.675, 0.677, 0.95, 0.964, 0.675, 0.95, 0.937, 0.702, 0.97, 0.802, 0.846, 0.893, 0.773, 0.733, 0.727, 0.816, 0.835, 0.706, 0.976, 0.762, 0.789, 0.721, 0.781, 0.749, 0.74, 0.68, 0.938, 0.807, 0.884, 0.868, 0.689, 0.852, 0.77, 0.839, 0.684, 0.839, 0.873, 0.909, 0.676, 0.939, 0.714, 0.687, 0.972, 0.924, 0.691, 0.95, 0.937, 0.764, 0.989, 0.734, 0.752, 0.732, 0.943, 0.686, 0.899, 0.863, 0.974, 0.712, 0.897, 0.781, 0.752, 0.769, 0.681, 0.726, 0.979, 0.92, 0.96, 0.735, 0.712, 0.962, 0.723, 0.696, 0.701, 0.911, 0.677, 0.825, 0.961, 0.879, 0.723, 0.96, 0.694, 0.954, 0.926, 0.792, 0.77, 0.917, 0.944, 0.877, 0.862, 0.977, 0.708, 0.7, 0.706, 0.982, 0.691, 0.811, 0.84, 0.899, 0.68, 0.892, 0.957, 0.841, 0.962, 0.834, 0.923, 0.813, 0.973, 0.689]\n",
            "length for liveness =  1051 \n",
            "\n",
            "mean = 0.4863790150041678 std = 0.23946786468521378\n",
            "Outliers from Z-scores method valence:  [100.0, 97.0, 97.0, 97.0, 98.0, 100.0, 99.0, -31.3, -30.707, -21.748, -31.385, -28.315, -22.094, -23.738, -21.114, -27.383, -28.639, -34.825, -30.252, -20.254, -23.323, -23.969, -20.447, -20.219, -21.95, -23.057, -26.14, -20.659, -23.658, -23.13, -23.209, -20.317, -23.625, -22.227, -24.735, -22.977, -21.216, -29.399, -23.246, -24.082, -22.751, -29.454, -20.82, -22.925, -21.022, -20.995, -21.197, -22.8, -27.06, -27.822, -21.082, -20.449, -21.941, -20.976, -21.724, -20.783, -21.091, -27.214, -29.808, -24.881, -24.035, -22.008, -22.841, -25.285, -21.322, -22.668, -29.991, -22.122, -26.299, -21.734, -22.247, -25.363, -28.954, -25.963, -20.659, -20.747, -25.163, -20.742, -33.082, -24.389, -23.455, -20.472, -21.361, -21.52, -26.075, -23.518, -27.331, -36.214, -23.653, -21.153, -26.292, -27.629, -20.22, -23.455, -23.917, -34.378, -22.533, -20.758, -22.61, -24.094, -20.567, -23.987, -25.174, -35.154, -25.232, -20.872, -21.152, -25.725, -20.494, -22.487, -26.419, -24.053, -24.809, -25.363, -22.17, -20.508, -30.124, -21.435, -20.901, -39.952, -21.126, -20.892, -23.822, -22.627, -24.547, -22.164, -21.438, -21.788, -23.714, -20.359, -28.994, -28.091, -29.891, -21.302, -28.545, -25.358, -30.245, -25.046, -31.858, -20.404, -23.396, -22.639, -20.501, -22.005, -25.66, -20.593, -24.002, -22.355, -25.658, -23.175, -24.913, -20.316, -25.279, -23.806, -20.596, -28.399, -22.227, -25.266, -22.159, -24.467, -24.906, -24.659, -26.466, -20.682, -24.253, -25.743, -32.796, -23.48, -20.089, -32.22, -29.298, -20.4, -22.481, -27.474, -23.045, -25.258, -23.202, -20.496, -20.538, -23.167, -23.899, -20.571, -25.181, -20.968, -27.043, -20.87, -21.076, -29.371, -22.32, -25.917, -26.964, -21.57, -22.505, -20.795, -20.443, -24.745, -25.683, -21.513, -23.766, -23.906, -21.203, -22.016, -23.623, -28.322, -29.617, -24.983, -22.079, -29.161, -21.792, -26.381, -20.538, -24.361, -20.394, -23.67, -23.655, -25.073, -22.327, -24.854, -20.901, -30.47, -25.131, -22.768, -22.455, -28.013, -21.2, -21.265, -22.241, -23.811, -20.306, -30.479, -22.557, -21.88, -25.49, -22.095, -20.689, -24.814, -23.811, -26.726, -28.505, -21.495, -23.646, -20.405, -29.76, -25.934, -26.742, -21.903, -30.016, -30.558, -22.421, -23.791, -21.178, -24.937, -33.395, -21.391, -20.994, -21.941, -20.816, -23.295, -20.167, -20.951, -24.249, -25.533, 0.386, 0.351, 0.439, 0.407, 0.353, 0.447, 0.346, 0.38, 0.355, 0.528, 0.418, 0.489, 0.349, 0.891, 0.487, 0.368, 0.347, 0.368, 0.341, 0.4, 0.862, 0.344, 0.364, 0.567, 0.424, 0.392, 0.378, 0.435, 0.402, 0.407, 0.579, 0.36, 0.362, 0.417, 0.371, 0.505, 0.598, 0.402, 0.619, 0.431, 0.393, 0.409, 0.388, 0.35, 0.499, 0.424, 0.359, 0.353, 0.597, 0.379, 0.345, 0.424, 0.5, 0.564, 0.375, 0.372, 0.343, 0.442, 0.374, 0.342, 0.415, 0.349, 0.513, 0.377, 0.357, 0.446, 0.491, 0.406, 0.379, 0.369, 0.387, 0.342, 0.374, 0.48, 0.499, 0.375, 0.423, 0.504, 0.601, 0.348, 0.357, 0.342, 0.417, 0.394, 0.53, 0.379, 0.37, 0.387, 0.521, 0.473, 0.436, 0.413, 0.443, 0.364, 0.496, 0.354, 0.368, 0.369, 0.375, 0.393, 0.678, 0.356, 0.5, 0.443, 0.368, 0.346, 0.344, 0.357, 0.447, 0.437, 0.366, 0.339, 0.525, 0.358, 0.409, 0.486, 0.362, 0.514, 0.539, 0.376, 0.403, 0.417, 0.404, 0.414, 0.36, 0.356, 0.489, 0.544, 0.543, 0.345, 0.362, 0.539, 0.508, 0.48, 0.36, 0.361, 0.359, 0.377, 0.402, 0.34, 0.402, 0.506, 0.39, 0.347, 0.359, 0.403, 0.382, 0.392, 0.568, 0.382, 0.47, 0.344, 0.382, 0.387, 0.39, 0.429, 0.367, 0.357, 0.457, 0.582, 0.427, 0.476, 0.38, 0.362, 0.442, 0.338, 0.501, 0.353, 0.351, 0.43, 0.346, 0.368, 0.508, 0.365, 0.45, 0.441, 0.337, 0.366, 0.55, 0.851, 0.361, 0.374, 0.429, 0.4, 0.521, 0.955, 0.384, 0.397, 0.43, 0.445, 0.409, 0.391, 0.496, 0.355, 0.369, 0.361, 0.364, 0.339, 0.433, 0.4, 0.366, 0.477, 0.49, 0.377, 0.349, 0.339, 0.361, 0.382, 0.35, 0.522, 0.444, 0.439, 0.54, 0.38, 0.497, 0.338, 0.935, 0.354, 0.425, 0.382, 0.438, 0.47, 0.701, 0.367, 0.371, 0.619, 0.352, 0.559, 0.372, 0.352, 0.4, 0.371, 0.348, 0.37, 0.375, 0.595, 0.378, 0.349, 0.347, 0.422, 0.351, 0.492, 0.344, 0.84, 0.55, 0.421, 0.429, 0.394, 0.35, 0.427, 0.38, 0.351, 0.37, 0.462, 0.441, 0.411, 0.382, 0.425, 0.483, 0.34, 0.372, 0.546, 0.384, 0.338, 0.548, 0.363, 0.474, 0.393, 0.381, 0.359, 0.92, 0.387, 0.461, 0.522, 0.497, 0.405, 0.368, 0.42, 0.449, 0.343, 0.381, 0.353, 0.392, 0.515, 0.388, 0.368, 0.342, 0.366, 0.351, 0.421, 0.446, 0.378, 0.559, 0.405, 0.349, 0.454, 0.399, 0.478, 0.494, 0.416, 0.416, 0.73, 0.357, 0.377, 0.411, 0.36, 0.5, 0.43, 0.341, 0.348, 0.502, 0.357, 0.46, 0.34, 0.481, 0.376, 0.363, 0.351, 0.397, 0.341, 0.479, 0.377, 0.341, 0.338, 0.376, 0.372, 0.361, 0.342, 0.351, 0.364, 0.51, 0.543, 0.41, 0.394, 0.406, 0.451, 0.371, 0.46, 0.422, 0.336, 0.38, 0.574, 0.366, 0.449, 0.345, 0.449, 0.351, 0.414, 0.347, 0.481, 0.368, 0.494, 0.409, 0.389, 0.344, 0.872, 0.343, 0.363, 0.392, 0.37, 0.473, 0.371, 0.386, 0.374, 0.347, 0.346, 0.373, 0.354, 0.51, 0.398, 0.53, 0.474, 0.372, 0.53, 0.368, 0.338, 0.378, 0.474, 0.362, 0.52, 0.458, 0.348, 0.48, 0.34, 0.34, 0.442, 0.338, 0.409, 0.346, 0.358, 0.348, 0.409, 0.513, 0.379, 0.372, 0.4, 0.937, 0.496, 0.365, 0.507, 0.391, 0.347, 0.723, 0.437, 0.35, 0.54, 0.472, 0.383, 0.337, 0.398, 0.41, 0.376, 0.489, 0.751, 0.698, 0.718, 0.7, 0.771, 0.787, 0.769, 0.676, 0.696, 0.678, 0.801, 0.692, 0.971, 0.68, 0.719, 0.889, 0.899, 0.687, 0.676, 0.979, 0.741, 0.974, 0.886, 0.952, 0.982, 0.926, 0.866, 0.75, 0.723, 0.953, 0.678, 0.803, 0.723, 0.686, 0.702, 0.676, 0.756, 0.68, 0.873, 0.759, 0.955, 0.986, 0.684, 0.707, 0.98, 0.956, 0.983, 0.879, 0.819, 0.703, 0.834, 0.706, 0.989, 0.984, 0.906, 0.971, 0.723, 0.702, 0.709, 0.868, 0.674, 0.687, 0.762, 0.87, 0.689, 0.752, 0.935, 0.76, 0.791, 0.841, 0.746, 0.986, 0.876, 0.981, 0.697, 0.744, 0.691, 0.719, 0.679, 0.944, 0.913, 0.853, 0.728, 0.856, 0.917, 0.893, 0.859, 0.702, 0.702, 0.988, 0.966, 0.814, 0.932, 0.762, 0.898, 0.674, 0.769, 0.739, 0.738, 0.694, 0.677, 0.693, 0.853, 0.956, 0.896, 0.773, 0.771, 0.877, 0.763, 0.75, 0.851, 0.689, 0.789, 0.858, 0.811, 0.756, 0.706, 0.913, 0.868, 0.988, 0.725, 0.793, 0.726, 0.93, 0.95, 0.713, 0.806, 0.724, 0.973, 0.987, 0.827, 0.699, 0.809, 0.918, 0.967, 0.691, 0.703, 0.675, 0.964, 0.985, 0.928, 0.708, 0.801, 0.853, 0.756, 0.813, 0.687, 0.827, 0.953, 0.982, 0.815, 0.859, 0.969, 0.739, 0.708, 0.838, 0.799, 0.976, 0.948, 0.78, 0.908, 0.801, 0.879, 0.765, 0.872, 0.968, 0.677, 0.685, 0.702, 0.679, 0.874, 0.734, 0.792, 0.732, 0.679, 0.879, 0.806, 0.713, 0.961, 0.704, 0.985, 0.972, 0.798, 0.78, 0.923, 0.687, 0.974, 0.714, 0.819, 0.773, 0.909, 0.992, 0.686, 0.801, 0.933, 0.751, 0.967, 0.693, 0.937, 0.683, 0.689, 0.678, 0.678, 0.796, 0.853, 0.679, 0.73, 0.825, 0.766, 0.959, 0.876, 0.716, 0.75, 0.758, 0.71, 0.744, 0.847, 0.846, 0.938, 0.836, 0.746, 0.748, 0.688, 0.686, 0.683, 0.726, 0.986, 0.811, 0.811, 0.855, 0.822, 0.676, 0.707, 0.847, 0.762, 0.972, 0.964, 0.959, 0.977, 0.891, 0.77, 0.68, 0.906, 0.685, 0.698, 0.953, 0.973, 0.983, 0.952, 0.832, 0.904, 0.906, 0.71, 0.958, 0.717, 0.743, 0.741, 0.975, 0.694, 0.965, 0.967, 0.932, 0.684, 0.916, 0.984, 0.911, 0.948, 0.935, 0.675, 0.677, 0.95, 0.964, 0.675, 0.95, 0.937, 0.702, 0.97, 0.802, 0.846, 0.893, 0.773, 0.733, 0.727, 0.816, 0.835, 0.706, 0.976, 0.762, 0.789, 0.721, 0.781, 0.749, 0.74, 0.68, 0.938, 0.807, 0.884, 0.868, 0.689, 0.852, 0.77, 0.839, 0.684, 0.839, 0.873, 0.909, 0.676, 0.939, 0.714, 0.687, 0.972, 0.924, 0.691, 0.95, 0.937, 0.764, 0.989, 0.734, 0.752, 0.732, 0.943, 0.686, 0.899, 0.863, 0.974, 0.712, 0.897, 0.781, 0.752, 0.769, 0.681, 0.726, 0.979, 0.92, 0.96, 0.735, 0.712, 0.962, 0.723, 0.696, 0.701, 0.911, 0.677, 0.825, 0.961, 0.879, 0.723, 0.96, 0.694, 0.954, 0.926, 0.792, 0.77, 0.917, 0.944, 0.877, 0.862, 0.977, 0.708, 0.7, 0.706, 0.982, 0.691, 0.811, 0.84, 0.899, 0.68, 0.892, 0.957, 0.841, 0.962, 0.834, 0.923, 0.813, 0.973, 0.689]\n",
            "length for valence =  1051 \n",
            "\n",
            "mean = 122.69537190886358 std = 29.537464542804774\n",
            "Outliers from Z-scores method tempo:  [100.0, 97.0, 97.0, 97.0, 98.0, 100.0, 99.0, -31.3, -30.707, -21.748, -31.385, -28.315, -22.094, -23.738, -21.114, -27.383, -28.639, -34.825, -30.252, -20.254, -23.323, -23.969, -20.447, -20.219, -21.95, -23.057, -26.14, -20.659, -23.658, -23.13, -23.209, -20.317, -23.625, -22.227, -24.735, -22.977, -21.216, -29.399, -23.246, -24.082, -22.751, -29.454, -20.82, -22.925, -21.022, -20.995, -21.197, -22.8, -27.06, -27.822, -21.082, -20.449, -21.941, -20.976, -21.724, -20.783, -21.091, -27.214, -29.808, -24.881, -24.035, -22.008, -22.841, -25.285, -21.322, -22.668, -29.991, -22.122, -26.299, -21.734, -22.247, -25.363, -28.954, -25.963, -20.659, -20.747, -25.163, -20.742, -33.082, -24.389, -23.455, -20.472, -21.361, -21.52, -26.075, -23.518, -27.331, -36.214, -23.653, -21.153, -26.292, -27.629, -20.22, -23.455, -23.917, -34.378, -22.533, -20.758, -22.61, -24.094, -20.567, -23.987, -25.174, -35.154, -25.232, -20.872, -21.152, -25.725, -20.494, -22.487, -26.419, -24.053, -24.809, -25.363, -22.17, -20.508, -30.124, -21.435, -20.901, -39.952, -21.126, -20.892, -23.822, -22.627, -24.547, -22.164, -21.438, -21.788, -23.714, -20.359, -28.994, -28.091, -29.891, -21.302, -28.545, -25.358, -30.245, -25.046, -31.858, -20.404, -23.396, -22.639, -20.501, -22.005, -25.66, -20.593, -24.002, -22.355, -25.658, -23.175, -24.913, -20.316, -25.279, -23.806, -20.596, -28.399, -22.227, -25.266, -22.159, -24.467, -24.906, -24.659, -26.466, -20.682, -24.253, -25.743, -32.796, -23.48, -20.089, -32.22, -29.298, -20.4, -22.481, -27.474, -23.045, -25.258, -23.202, -20.496, -20.538, -23.167, -23.899, -20.571, -25.181, -20.968, -27.043, -20.87, -21.076, -29.371, -22.32, -25.917, -26.964, -21.57, -22.505, -20.795, -20.443, -24.745, -25.683, -21.513, -23.766, -23.906, -21.203, -22.016, -23.623, -28.322, -29.617, -24.983, -22.079, -29.161, -21.792, -26.381, -20.538, -24.361, -20.394, -23.67, -23.655, -25.073, -22.327, -24.854, -20.901, -30.47, -25.131, -22.768, -22.455, -28.013, -21.2, -21.265, -22.241, -23.811, -20.306, -30.479, -22.557, -21.88, -25.49, -22.095, -20.689, -24.814, -23.811, -26.726, -28.505, -21.495, -23.646, -20.405, -29.76, -25.934, -26.742, -21.903, -30.016, -30.558, -22.421, -23.791, -21.178, -24.937, -33.395, -21.391, -20.994, -21.941, -20.816, -23.295, -20.167, -20.951, -24.249, -25.533, 0.386, 0.351, 0.439, 0.407, 0.353, 0.447, 0.346, 0.38, 0.355, 0.528, 0.418, 0.489, 0.349, 0.891, 0.487, 0.368, 0.347, 0.368, 0.341, 0.4, 0.862, 0.344, 0.364, 0.567, 0.424, 0.392, 0.378, 0.435, 0.402, 0.407, 0.579, 0.36, 0.362, 0.417, 0.371, 0.505, 0.598, 0.402, 0.619, 0.431, 0.393, 0.409, 0.388, 0.35, 0.499, 0.424, 0.359, 0.353, 0.597, 0.379, 0.345, 0.424, 0.5, 0.564, 0.375, 0.372, 0.343, 0.442, 0.374, 0.342, 0.415, 0.349, 0.513, 0.377, 0.357, 0.446, 0.491, 0.406, 0.379, 0.369, 0.387, 0.342, 0.374, 0.48, 0.499, 0.375, 0.423, 0.504, 0.601, 0.348, 0.357, 0.342, 0.417, 0.394, 0.53, 0.379, 0.37, 0.387, 0.521, 0.473, 0.436, 0.413, 0.443, 0.364, 0.496, 0.354, 0.368, 0.369, 0.375, 0.393, 0.678, 0.356, 0.5, 0.443, 0.368, 0.346, 0.344, 0.357, 0.447, 0.437, 0.366, 0.339, 0.525, 0.358, 0.409, 0.486, 0.362, 0.514, 0.539, 0.376, 0.403, 0.417, 0.404, 0.414, 0.36, 0.356, 0.489, 0.544, 0.543, 0.345, 0.362, 0.539, 0.508, 0.48, 0.36, 0.361, 0.359, 0.377, 0.402, 0.34, 0.402, 0.506, 0.39, 0.347, 0.359, 0.403, 0.382, 0.392, 0.568, 0.382, 0.47, 0.344, 0.382, 0.387, 0.39, 0.429, 0.367, 0.357, 0.457, 0.582, 0.427, 0.476, 0.38, 0.362, 0.442, 0.338, 0.501, 0.353, 0.351, 0.43, 0.346, 0.368, 0.508, 0.365, 0.45, 0.441, 0.337, 0.366, 0.55, 0.851, 0.361, 0.374, 0.429, 0.4, 0.521, 0.955, 0.384, 0.397, 0.43, 0.445, 0.409, 0.391, 0.496, 0.355, 0.369, 0.361, 0.364, 0.339, 0.433, 0.4, 0.366, 0.477, 0.49, 0.377, 0.349, 0.339, 0.361, 0.382, 0.35, 0.522, 0.444, 0.439, 0.54, 0.38, 0.497, 0.338, 0.935, 0.354, 0.425, 0.382, 0.438, 0.47, 0.701, 0.367, 0.371, 0.619, 0.352, 0.559, 0.372, 0.352, 0.4, 0.371, 0.348, 0.37, 0.375, 0.595, 0.378, 0.349, 0.347, 0.422, 0.351, 0.492, 0.344, 0.84, 0.55, 0.421, 0.429, 0.394, 0.35, 0.427, 0.38, 0.351, 0.37, 0.462, 0.441, 0.411, 0.382, 0.425, 0.483, 0.34, 0.372, 0.546, 0.384, 0.338, 0.548, 0.363, 0.474, 0.393, 0.381, 0.359, 0.92, 0.387, 0.461, 0.522, 0.497, 0.405, 0.368, 0.42, 0.449, 0.343, 0.381, 0.353, 0.392, 0.515, 0.388, 0.368, 0.342, 0.366, 0.351, 0.421, 0.446, 0.378, 0.559, 0.405, 0.349, 0.454, 0.399, 0.478, 0.494, 0.416, 0.416, 0.73, 0.357, 0.377, 0.411, 0.36, 0.5, 0.43, 0.341, 0.348, 0.502, 0.357, 0.46, 0.34, 0.481, 0.376, 0.363, 0.351, 0.397, 0.341, 0.479, 0.377, 0.341, 0.338, 0.376, 0.372, 0.361, 0.342, 0.351, 0.364, 0.51, 0.543, 0.41, 0.394, 0.406, 0.451, 0.371, 0.46, 0.422, 0.336, 0.38, 0.574, 0.366, 0.449, 0.345, 0.449, 0.351, 0.414, 0.347, 0.481, 0.368, 0.494, 0.409, 0.389, 0.344, 0.872, 0.343, 0.363, 0.392, 0.37, 0.473, 0.371, 0.386, 0.374, 0.347, 0.346, 0.373, 0.354, 0.51, 0.398, 0.53, 0.474, 0.372, 0.53, 0.368, 0.338, 0.378, 0.474, 0.362, 0.52, 0.458, 0.348, 0.48, 0.34, 0.34, 0.442, 0.338, 0.409, 0.346, 0.358, 0.348, 0.409, 0.513, 0.379, 0.372, 0.4, 0.937, 0.496, 0.365, 0.507, 0.391, 0.347, 0.723, 0.437, 0.35, 0.54, 0.472, 0.383, 0.337, 0.398, 0.41, 0.376, 0.489, 0.751, 0.698, 0.718, 0.7, 0.771, 0.787, 0.769, 0.676, 0.696, 0.678, 0.801, 0.692, 0.971, 0.68, 0.719, 0.889, 0.899, 0.687, 0.676, 0.979, 0.741, 0.974, 0.886, 0.952, 0.982, 0.926, 0.866, 0.75, 0.723, 0.953, 0.678, 0.803, 0.723, 0.686, 0.702, 0.676, 0.756, 0.68, 0.873, 0.759, 0.955, 0.986, 0.684, 0.707, 0.98, 0.956, 0.983, 0.879, 0.819, 0.703, 0.834, 0.706, 0.989, 0.984, 0.906, 0.971, 0.723, 0.702, 0.709, 0.868, 0.674, 0.687, 0.762, 0.87, 0.689, 0.752, 0.935, 0.76, 0.791, 0.841, 0.746, 0.986, 0.876, 0.981, 0.697, 0.744, 0.691, 0.719, 0.679, 0.944, 0.913, 0.853, 0.728, 0.856, 0.917, 0.893, 0.859, 0.702, 0.702, 0.988, 0.966, 0.814, 0.932, 0.762, 0.898, 0.674, 0.769, 0.739, 0.738, 0.694, 0.677, 0.693, 0.853, 0.956, 0.896, 0.773, 0.771, 0.877, 0.763, 0.75, 0.851, 0.689, 0.789, 0.858, 0.811, 0.756, 0.706, 0.913, 0.868, 0.988, 0.725, 0.793, 0.726, 0.93, 0.95, 0.713, 0.806, 0.724, 0.973, 0.987, 0.827, 0.699, 0.809, 0.918, 0.967, 0.691, 0.703, 0.675, 0.964, 0.985, 0.928, 0.708, 0.801, 0.853, 0.756, 0.813, 0.687, 0.827, 0.953, 0.982, 0.815, 0.859, 0.969, 0.739, 0.708, 0.838, 0.799, 0.976, 0.948, 0.78, 0.908, 0.801, 0.879, 0.765, 0.872, 0.968, 0.677, 0.685, 0.702, 0.679, 0.874, 0.734, 0.792, 0.732, 0.679, 0.879, 0.806, 0.713, 0.961, 0.704, 0.985, 0.972, 0.798, 0.78, 0.923, 0.687, 0.974, 0.714, 0.819, 0.773, 0.909, 0.992, 0.686, 0.801, 0.933, 0.751, 0.967, 0.693, 0.937, 0.683, 0.689, 0.678, 0.678, 0.796, 0.853, 0.679, 0.73, 0.825, 0.766, 0.959, 0.876, 0.716, 0.75, 0.758, 0.71, 0.744, 0.847, 0.846, 0.938, 0.836, 0.746, 0.748, 0.688, 0.686, 0.683, 0.726, 0.986, 0.811, 0.811, 0.855, 0.822, 0.676, 0.707, 0.847, 0.762, 0.972, 0.964, 0.959, 0.977, 0.891, 0.77, 0.68, 0.906, 0.685, 0.698, 0.953, 0.973, 0.983, 0.952, 0.832, 0.904, 0.906, 0.71, 0.958, 0.717, 0.743, 0.741, 0.975, 0.694, 0.965, 0.967, 0.932, 0.684, 0.916, 0.984, 0.911, 0.948, 0.935, 0.675, 0.677, 0.95, 0.964, 0.675, 0.95, 0.937, 0.702, 0.97, 0.802, 0.846, 0.893, 0.773, 0.733, 0.727, 0.816, 0.835, 0.706, 0.976, 0.762, 0.789, 0.721, 0.781, 0.749, 0.74, 0.68, 0.938, 0.807, 0.884, 0.868, 0.689, 0.852, 0.77, 0.839, 0.684, 0.839, 0.873, 0.909, 0.676, 0.939, 0.714, 0.687, 0.972, 0.924, 0.691, 0.95, 0.937, 0.764, 0.989, 0.734, 0.752, 0.732, 0.943, 0.686, 0.899, 0.863, 0.974, 0.712, 0.897, 0.781, 0.752, 0.769, 0.681, 0.726, 0.979, 0.92, 0.96, 0.735, 0.712, 0.962, 0.723, 0.696, 0.701, 0.911, 0.677, 0.825, 0.961, 0.879, 0.723, 0.96, 0.694, 0.954, 0.926, 0.792, 0.77, 0.917, 0.944, 0.877, 0.862, 0.977, 0.708, 0.7, 0.706, 0.982, 0.691, 0.811, 0.84, 0.899, 0.68, 0.892, 0.957, 0.841, 0.962, 0.834, 0.923, 0.813, 0.973, 0.689, 212.049, 217.416, 216.053, 216.053, 30.557, 216.091, 217.416, 216.02]\n",
            "length for tempo =  1059 \n",
            "\n",
            "mean = 200094.22282411318 std = 111685.21897218276\n",
            "Outliers from Z-scores method duration_in min/ms:  [100.0, 97.0, 97.0, 97.0, 98.0, 100.0, 99.0, -31.3, -30.707, -21.748, -31.385, -28.315, -22.094, -23.738, -21.114, -27.383, -28.639, -34.825, -30.252, -20.254, -23.323, -23.969, -20.447, -20.219, -21.95, -23.057, -26.14, -20.659, -23.658, -23.13, -23.209, -20.317, -23.625, -22.227, -24.735, -22.977, -21.216, -29.399, -23.246, -24.082, -22.751, -29.454, -20.82, -22.925, -21.022, -20.995, -21.197, -22.8, -27.06, -27.822, -21.082, -20.449, -21.941, -20.976, -21.724, -20.783, -21.091, -27.214, -29.808, -24.881, -24.035, -22.008, -22.841, -25.285, -21.322, -22.668, -29.991, -22.122, -26.299, -21.734, -22.247, -25.363, -28.954, -25.963, -20.659, -20.747, -25.163, -20.742, -33.082, -24.389, -23.455, -20.472, -21.361, -21.52, -26.075, -23.518, -27.331, -36.214, -23.653, -21.153, -26.292, -27.629, -20.22, -23.455, -23.917, -34.378, -22.533, -20.758, -22.61, -24.094, -20.567, -23.987, -25.174, -35.154, -25.232, -20.872, -21.152, -25.725, -20.494, -22.487, -26.419, -24.053, -24.809, -25.363, -22.17, -20.508, -30.124, -21.435, -20.901, -39.952, -21.126, -20.892, -23.822, -22.627, -24.547, -22.164, -21.438, -21.788, -23.714, -20.359, -28.994, -28.091, -29.891, -21.302, -28.545, -25.358, -30.245, -25.046, -31.858, -20.404, -23.396, -22.639, -20.501, -22.005, -25.66, -20.593, -24.002, -22.355, -25.658, -23.175, -24.913, -20.316, -25.279, -23.806, -20.596, -28.399, -22.227, -25.266, -22.159, -24.467, -24.906, -24.659, -26.466, -20.682, -24.253, -25.743, -32.796, -23.48, -20.089, -32.22, -29.298, -20.4, -22.481, -27.474, -23.045, -25.258, -23.202, -20.496, -20.538, -23.167, -23.899, -20.571, -25.181, -20.968, -27.043, -20.87, -21.076, -29.371, -22.32, -25.917, -26.964, -21.57, -22.505, -20.795, -20.443, -24.745, -25.683, -21.513, -23.766, -23.906, -21.203, -22.016, -23.623, -28.322, -29.617, -24.983, -22.079, -29.161, -21.792, -26.381, -20.538, -24.361, -20.394, -23.67, -23.655, -25.073, -22.327, -24.854, -20.901, -30.47, -25.131, -22.768, -22.455, -28.013, -21.2, -21.265, -22.241, -23.811, -20.306, -30.479, -22.557, -21.88, -25.49, -22.095, -20.689, -24.814, -23.811, -26.726, -28.505, -21.495, -23.646, -20.405, -29.76, -25.934, -26.742, -21.903, -30.016, -30.558, -22.421, -23.791, -21.178, -24.937, -33.395, -21.391, -20.994, -21.941, -20.816, -23.295, -20.167, -20.951, -24.249, -25.533, 0.386, 0.351, 0.439, 0.407, 0.353, 0.447, 0.346, 0.38, 0.355, 0.528, 0.418, 0.489, 0.349, 0.891, 0.487, 0.368, 0.347, 0.368, 0.341, 0.4, 0.862, 0.344, 0.364, 0.567, 0.424, 0.392, 0.378, 0.435, 0.402, 0.407, 0.579, 0.36, 0.362, 0.417, 0.371, 0.505, 0.598, 0.402, 0.619, 0.431, 0.393, 0.409, 0.388, 0.35, 0.499, 0.424, 0.359, 0.353, 0.597, 0.379, 0.345, 0.424, 0.5, 0.564, 0.375, 0.372, 0.343, 0.442, 0.374, 0.342, 0.415, 0.349, 0.513, 0.377, 0.357, 0.446, 0.491, 0.406, 0.379, 0.369, 0.387, 0.342, 0.374, 0.48, 0.499, 0.375, 0.423, 0.504, 0.601, 0.348, 0.357, 0.342, 0.417, 0.394, 0.53, 0.379, 0.37, 0.387, 0.521, 0.473, 0.436, 0.413, 0.443, 0.364, 0.496, 0.354, 0.368, 0.369, 0.375, 0.393, 0.678, 0.356, 0.5, 0.443, 0.368, 0.346, 0.344, 0.357, 0.447, 0.437, 0.366, 0.339, 0.525, 0.358, 0.409, 0.486, 0.362, 0.514, 0.539, 0.376, 0.403, 0.417, 0.404, 0.414, 0.36, 0.356, 0.489, 0.544, 0.543, 0.345, 0.362, 0.539, 0.508, 0.48, 0.36, 0.361, 0.359, 0.377, 0.402, 0.34, 0.402, 0.506, 0.39, 0.347, 0.359, 0.403, 0.382, 0.392, 0.568, 0.382, 0.47, 0.344, 0.382, 0.387, 0.39, 0.429, 0.367, 0.357, 0.457, 0.582, 0.427, 0.476, 0.38, 0.362, 0.442, 0.338, 0.501, 0.353, 0.351, 0.43, 0.346, 0.368, 0.508, 0.365, 0.45, 0.441, 0.337, 0.366, 0.55, 0.851, 0.361, 0.374, 0.429, 0.4, 0.521, 0.955, 0.384, 0.397, 0.43, 0.445, 0.409, 0.391, 0.496, 0.355, 0.369, 0.361, 0.364, 0.339, 0.433, 0.4, 0.366, 0.477, 0.49, 0.377, 0.349, 0.339, 0.361, 0.382, 0.35, 0.522, 0.444, 0.439, 0.54, 0.38, 0.497, 0.338, 0.935, 0.354, 0.425, 0.382, 0.438, 0.47, 0.701, 0.367, 0.371, 0.619, 0.352, 0.559, 0.372, 0.352, 0.4, 0.371, 0.348, 0.37, 0.375, 0.595, 0.378, 0.349, 0.347, 0.422, 0.351, 0.492, 0.344, 0.84, 0.55, 0.421, 0.429, 0.394, 0.35, 0.427, 0.38, 0.351, 0.37, 0.462, 0.441, 0.411, 0.382, 0.425, 0.483, 0.34, 0.372, 0.546, 0.384, 0.338, 0.548, 0.363, 0.474, 0.393, 0.381, 0.359, 0.92, 0.387, 0.461, 0.522, 0.497, 0.405, 0.368, 0.42, 0.449, 0.343, 0.381, 0.353, 0.392, 0.515, 0.388, 0.368, 0.342, 0.366, 0.351, 0.421, 0.446, 0.378, 0.559, 0.405, 0.349, 0.454, 0.399, 0.478, 0.494, 0.416, 0.416, 0.73, 0.357, 0.377, 0.411, 0.36, 0.5, 0.43, 0.341, 0.348, 0.502, 0.357, 0.46, 0.34, 0.481, 0.376, 0.363, 0.351, 0.397, 0.341, 0.479, 0.377, 0.341, 0.338, 0.376, 0.372, 0.361, 0.342, 0.351, 0.364, 0.51, 0.543, 0.41, 0.394, 0.406, 0.451, 0.371, 0.46, 0.422, 0.336, 0.38, 0.574, 0.366, 0.449, 0.345, 0.449, 0.351, 0.414, 0.347, 0.481, 0.368, 0.494, 0.409, 0.389, 0.344, 0.872, 0.343, 0.363, 0.392, 0.37, 0.473, 0.371, 0.386, 0.374, 0.347, 0.346, 0.373, 0.354, 0.51, 0.398, 0.53, 0.474, 0.372, 0.53, 0.368, 0.338, 0.378, 0.474, 0.362, 0.52, 0.458, 0.348, 0.48, 0.34, 0.34, 0.442, 0.338, 0.409, 0.346, 0.358, 0.348, 0.409, 0.513, 0.379, 0.372, 0.4, 0.937, 0.496, 0.365, 0.507, 0.391, 0.347, 0.723, 0.437, 0.35, 0.54, 0.472, 0.383, 0.337, 0.398, 0.41, 0.376, 0.489, 0.751, 0.698, 0.718, 0.7, 0.771, 0.787, 0.769, 0.676, 0.696, 0.678, 0.801, 0.692, 0.971, 0.68, 0.719, 0.889, 0.899, 0.687, 0.676, 0.979, 0.741, 0.974, 0.886, 0.952, 0.982, 0.926, 0.866, 0.75, 0.723, 0.953, 0.678, 0.803, 0.723, 0.686, 0.702, 0.676, 0.756, 0.68, 0.873, 0.759, 0.955, 0.986, 0.684, 0.707, 0.98, 0.956, 0.983, 0.879, 0.819, 0.703, 0.834, 0.706, 0.989, 0.984, 0.906, 0.971, 0.723, 0.702, 0.709, 0.868, 0.674, 0.687, 0.762, 0.87, 0.689, 0.752, 0.935, 0.76, 0.791, 0.841, 0.746, 0.986, 0.876, 0.981, 0.697, 0.744, 0.691, 0.719, 0.679, 0.944, 0.913, 0.853, 0.728, 0.856, 0.917, 0.893, 0.859, 0.702, 0.702, 0.988, 0.966, 0.814, 0.932, 0.762, 0.898, 0.674, 0.769, 0.739, 0.738, 0.694, 0.677, 0.693, 0.853, 0.956, 0.896, 0.773, 0.771, 0.877, 0.763, 0.75, 0.851, 0.689, 0.789, 0.858, 0.811, 0.756, 0.706, 0.913, 0.868, 0.988, 0.725, 0.793, 0.726, 0.93, 0.95, 0.713, 0.806, 0.724, 0.973, 0.987, 0.827, 0.699, 0.809, 0.918, 0.967, 0.691, 0.703, 0.675, 0.964, 0.985, 0.928, 0.708, 0.801, 0.853, 0.756, 0.813, 0.687, 0.827, 0.953, 0.982, 0.815, 0.859, 0.969, 0.739, 0.708, 0.838, 0.799, 0.976, 0.948, 0.78, 0.908, 0.801, 0.879, 0.765, 0.872, 0.968, 0.677, 0.685, 0.702, 0.679, 0.874, 0.734, 0.792, 0.732, 0.679, 0.879, 0.806, 0.713, 0.961, 0.704, 0.985, 0.972, 0.798, 0.78, 0.923, 0.687, 0.974, 0.714, 0.819, 0.773, 0.909, 0.992, 0.686, 0.801, 0.933, 0.751, 0.967, 0.693, 0.937, 0.683, 0.689, 0.678, 0.678, 0.796, 0.853, 0.679, 0.73, 0.825, 0.766, 0.959, 0.876, 0.716, 0.75, 0.758, 0.71, 0.744, 0.847, 0.846, 0.938, 0.836, 0.746, 0.748, 0.688, 0.686, 0.683, 0.726, 0.986, 0.811, 0.811, 0.855, 0.822, 0.676, 0.707, 0.847, 0.762, 0.972, 0.964, 0.959, 0.977, 0.891, 0.77, 0.68, 0.906, 0.685, 0.698, 0.953, 0.973, 0.983, 0.952, 0.832, 0.904, 0.906, 0.71, 0.958, 0.717, 0.743, 0.741, 0.975, 0.694, 0.965, 0.967, 0.932, 0.684, 0.916, 0.984, 0.911, 0.948, 0.935, 0.675, 0.677, 0.95, 0.964, 0.675, 0.95, 0.937, 0.702, 0.97, 0.802, 0.846, 0.893, 0.773, 0.733, 0.727, 0.816, 0.835, 0.706, 0.976, 0.762, 0.789, 0.721, 0.781, 0.749, 0.74, 0.68, 0.938, 0.807, 0.884, 0.868, 0.689, 0.852, 0.77, 0.839, 0.684, 0.839, 0.873, 0.909, 0.676, 0.939, 0.714, 0.687, 0.972, 0.924, 0.691, 0.95, 0.937, 0.764, 0.989, 0.734, 0.752, 0.732, 0.943, 0.686, 0.899, 0.863, 0.974, 0.712, 0.897, 0.781, 0.752, 0.769, 0.681, 0.726, 0.979, 0.92, 0.96, 0.735, 0.712, 0.962, 0.723, 0.696, 0.701, 0.911, 0.677, 0.825, 0.961, 0.879, 0.723, 0.96, 0.694, 0.954, 0.926, 0.792, 0.77, 0.917, 0.944, 0.877, 0.862, 0.977, 0.708, 0.7, 0.706, 0.982, 0.691, 0.811, 0.84, 0.899, 0.68, 0.892, 0.957, 0.841, 0.962, 0.834, 0.923, 0.813, 0.973, 0.689, 212.049, 217.416, 216.053, 216.053, 30.557, 216.091, 217.416, 216.02, 1041200.0, 650467.0, 838157.0, 744569.0, 787933.0, 1244613.0, 559893.0, 640250.0, 922218.0, 550480.0, 571895.0, 758360.0, 1385907.0, 576912.0, 620101.0, 577980.0, 536227.0, 811077.0, 542587.0, 787547.0, 679647.0, 1233667.0, 565973.0, 665600.0, 645000.0, 572133.0, 535360.0, 989947.0, 543760.0, 897708.0, 1090787.0, 594453.0, 589307.0, 576703.0, 656934.0, 1083755.0, 1284507.0, 593387.0, 537777.0, 550633.0, 595680.0, 600250.0, 753893.0, 811077.0, 561707.0, 650747.0, 577000.0, 561067.0, 600283.0, 762667.0, 594213.0, 752798.0, 665080.0, 645000.0, 554893.0, 1392667.0, 804933.0, 574733.0, 550507.0, 592507.0, 688133.0, 590720.0, 594000.0, 623733.0, 1095394.0, 539493.0, 654427.0, 811077.0, 547107.0, 535800.0, 848347.0, 950210.0, 626933.0, 922506.0, 740520.0, 608253.0, 554613.0, 548827.0, 654123.0, 756547.0, 621154.0, 573989.0, 635272.0, 621000.0, 652187.0, 641320.0, 596885.0, 537203.0, 943529.0, 1019625.0, 536067.0, 576556.0, 795013.0, 594227.0, 599678.0, 692747.0, 576703.0, 623387.0, 582360.0, 681560.0, 1477187.0, 556227.0, 1385907.0, 701960.0, 709333.0, 548270.0, 586493.0, 570613.0, 565973.0, 547960.0]\n",
            "length for duration_in min/ms =  1169 \n",
            "\n",
            "mean = 3.9243539872186717 std = 0.35950761804156584\n",
            "Outliers from Z-scores method time_signature:  [100.0, 97.0, 97.0, 97.0, 98.0, 100.0, 99.0, -31.3, -30.707, -21.748, -31.385, -28.315, -22.094, -23.738, -21.114, -27.383, -28.639, -34.825, -30.252, -20.254, -23.323, -23.969, -20.447, -20.219, -21.95, -23.057, -26.14, -20.659, -23.658, -23.13, -23.209, -20.317, -23.625, -22.227, -24.735, -22.977, -21.216, -29.399, -23.246, -24.082, -22.751, -29.454, -20.82, -22.925, -21.022, -20.995, -21.197, -22.8, -27.06, -27.822, -21.082, -20.449, -21.941, -20.976, -21.724, -20.783, -21.091, -27.214, -29.808, -24.881, -24.035, -22.008, -22.841, -25.285, -21.322, -22.668, -29.991, -22.122, -26.299, -21.734, -22.247, -25.363, -28.954, -25.963, -20.659, -20.747, -25.163, -20.742, -33.082, -24.389, -23.455, -20.472, -21.361, -21.52, -26.075, -23.518, -27.331, -36.214, -23.653, -21.153, -26.292, -27.629, -20.22, -23.455, -23.917, -34.378, -22.533, -20.758, -22.61, -24.094, -20.567, -23.987, -25.174, -35.154, -25.232, -20.872, -21.152, -25.725, -20.494, -22.487, -26.419, -24.053, -24.809, -25.363, -22.17, -20.508, -30.124, -21.435, -20.901, -39.952, -21.126, -20.892, -23.822, -22.627, -24.547, -22.164, -21.438, -21.788, -23.714, -20.359, -28.994, -28.091, -29.891, -21.302, -28.545, -25.358, -30.245, -25.046, -31.858, -20.404, -23.396, -22.639, -20.501, -22.005, -25.66, -20.593, -24.002, -22.355, -25.658, -23.175, -24.913, -20.316, -25.279, -23.806, -20.596, -28.399, -22.227, -25.266, -22.159, -24.467, -24.906, -24.659, -26.466, -20.682, -24.253, -25.743, -32.796, -23.48, -20.089, -32.22, -29.298, -20.4, -22.481, -27.474, -23.045, -25.258, -23.202, -20.496, -20.538, -23.167, -23.899, -20.571, -25.181, -20.968, -27.043, -20.87, -21.076, -29.371, -22.32, -25.917, -26.964, -21.57, -22.505, -20.795, -20.443, -24.745, -25.683, -21.513, -23.766, -23.906, -21.203, -22.016, -23.623, -28.322, -29.617, -24.983, -22.079, -29.161, -21.792, -26.381, -20.538, -24.361, -20.394, -23.67, -23.655, -25.073, -22.327, -24.854, -20.901, -30.47, -25.131, -22.768, -22.455, -28.013, -21.2, -21.265, -22.241, -23.811, -20.306, -30.479, -22.557, -21.88, -25.49, -22.095, -20.689, -24.814, -23.811, -26.726, -28.505, -21.495, -23.646, -20.405, -29.76, -25.934, -26.742, -21.903, -30.016, -30.558, -22.421, -23.791, -21.178, -24.937, -33.395, -21.391, -20.994, -21.941, -20.816, -23.295, -20.167, -20.951, -24.249, -25.533, 0.386, 0.351, 0.439, 0.407, 0.353, 0.447, 0.346, 0.38, 0.355, 0.528, 0.418, 0.489, 0.349, 0.891, 0.487, 0.368, 0.347, 0.368, 0.341, 0.4, 0.862, 0.344, 0.364, 0.567, 0.424, 0.392, 0.378, 0.435, 0.402, 0.407, 0.579, 0.36, 0.362, 0.417, 0.371, 0.505, 0.598, 0.402, 0.619, 0.431, 0.393, 0.409, 0.388, 0.35, 0.499, 0.424, 0.359, 0.353, 0.597, 0.379, 0.345, 0.424, 0.5, 0.564, 0.375, 0.372, 0.343, 0.442, 0.374, 0.342, 0.415, 0.349, 0.513, 0.377, 0.357, 0.446, 0.491, 0.406, 0.379, 0.369, 0.387, 0.342, 0.374, 0.48, 0.499, 0.375, 0.423, 0.504, 0.601, 0.348, 0.357, 0.342, 0.417, 0.394, 0.53, 0.379, 0.37, 0.387, 0.521, 0.473, 0.436, 0.413, 0.443, 0.364, 0.496, 0.354, 0.368, 0.369, 0.375, 0.393, 0.678, 0.356, 0.5, 0.443, 0.368, 0.346, 0.344, 0.357, 0.447, 0.437, 0.366, 0.339, 0.525, 0.358, 0.409, 0.486, 0.362, 0.514, 0.539, 0.376, 0.403, 0.417, 0.404, 0.414, 0.36, 0.356, 0.489, 0.544, 0.543, 0.345, 0.362, 0.539, 0.508, 0.48, 0.36, 0.361, 0.359, 0.377, 0.402, 0.34, 0.402, 0.506, 0.39, 0.347, 0.359, 0.403, 0.382, 0.392, 0.568, 0.382, 0.47, 0.344, 0.382, 0.387, 0.39, 0.429, 0.367, 0.357, 0.457, 0.582, 0.427, 0.476, 0.38, 0.362, 0.442, 0.338, 0.501, 0.353, 0.351, 0.43, 0.346, 0.368, 0.508, 0.365, 0.45, 0.441, 0.337, 0.366, 0.55, 0.851, 0.361, 0.374, 0.429, 0.4, 0.521, 0.955, 0.384, 0.397, 0.43, 0.445, 0.409, 0.391, 0.496, 0.355, 0.369, 0.361, 0.364, 0.339, 0.433, 0.4, 0.366, 0.477, 0.49, 0.377, 0.349, 0.339, 0.361, 0.382, 0.35, 0.522, 0.444, 0.439, 0.54, 0.38, 0.497, 0.338, 0.935, 0.354, 0.425, 0.382, 0.438, 0.47, 0.701, 0.367, 0.371, 0.619, 0.352, 0.559, 0.372, 0.352, 0.4, 0.371, 0.348, 0.37, 0.375, 0.595, 0.378, 0.349, 0.347, 0.422, 0.351, 0.492, 0.344, 0.84, 0.55, 0.421, 0.429, 0.394, 0.35, 0.427, 0.38, 0.351, 0.37, 0.462, 0.441, 0.411, 0.382, 0.425, 0.483, 0.34, 0.372, 0.546, 0.384, 0.338, 0.548, 0.363, 0.474, 0.393, 0.381, 0.359, 0.92, 0.387, 0.461, 0.522, 0.497, 0.405, 0.368, 0.42, 0.449, 0.343, 0.381, 0.353, 0.392, 0.515, 0.388, 0.368, 0.342, 0.366, 0.351, 0.421, 0.446, 0.378, 0.559, 0.405, 0.349, 0.454, 0.399, 0.478, 0.494, 0.416, 0.416, 0.73, 0.357, 0.377, 0.411, 0.36, 0.5, 0.43, 0.341, 0.348, 0.502, 0.357, 0.46, 0.34, 0.481, 0.376, 0.363, 0.351, 0.397, 0.341, 0.479, 0.377, 0.341, 0.338, 0.376, 0.372, 0.361, 0.342, 0.351, 0.364, 0.51, 0.543, 0.41, 0.394, 0.406, 0.451, 0.371, 0.46, 0.422, 0.336, 0.38, 0.574, 0.366, 0.449, 0.345, 0.449, 0.351, 0.414, 0.347, 0.481, 0.368, 0.494, 0.409, 0.389, 0.344, 0.872, 0.343, 0.363, 0.392, 0.37, 0.473, 0.371, 0.386, 0.374, 0.347, 0.346, 0.373, 0.354, 0.51, 0.398, 0.53, 0.474, 0.372, 0.53, 0.368, 0.338, 0.378, 0.474, 0.362, 0.52, 0.458, 0.348, 0.48, 0.34, 0.34, 0.442, 0.338, 0.409, 0.346, 0.358, 0.348, 0.409, 0.513, 0.379, 0.372, 0.4, 0.937, 0.496, 0.365, 0.507, 0.391, 0.347, 0.723, 0.437, 0.35, 0.54, 0.472, 0.383, 0.337, 0.398, 0.41, 0.376, 0.489, 0.751, 0.698, 0.718, 0.7, 0.771, 0.787, 0.769, 0.676, 0.696, 0.678, 0.801, 0.692, 0.971, 0.68, 0.719, 0.889, 0.899, 0.687, 0.676, 0.979, 0.741, 0.974, 0.886, 0.952, 0.982, 0.926, 0.866, 0.75, 0.723, 0.953, 0.678, 0.803, 0.723, 0.686, 0.702, 0.676, 0.756, 0.68, 0.873, 0.759, 0.955, 0.986, 0.684, 0.707, 0.98, 0.956, 0.983, 0.879, 0.819, 0.703, 0.834, 0.706, 0.989, 0.984, 0.906, 0.971, 0.723, 0.702, 0.709, 0.868, 0.674, 0.687, 0.762, 0.87, 0.689, 0.752, 0.935, 0.76, 0.791, 0.841, 0.746, 0.986, 0.876, 0.981, 0.697, 0.744, 0.691, 0.719, 0.679, 0.944, 0.913, 0.853, 0.728, 0.856, 0.917, 0.893, 0.859, 0.702, 0.702, 0.988, 0.966, 0.814, 0.932, 0.762, 0.898, 0.674, 0.769, 0.739, 0.738, 0.694, 0.677, 0.693, 0.853, 0.956, 0.896, 0.773, 0.771, 0.877, 0.763, 0.75, 0.851, 0.689, 0.789, 0.858, 0.811, 0.756, 0.706, 0.913, 0.868, 0.988, 0.725, 0.793, 0.726, 0.93, 0.95, 0.713, 0.806, 0.724, 0.973, 0.987, 0.827, 0.699, 0.809, 0.918, 0.967, 0.691, 0.703, 0.675, 0.964, 0.985, 0.928, 0.708, 0.801, 0.853, 0.756, 0.813, 0.687, 0.827, 0.953, 0.982, 0.815, 0.859, 0.969, 0.739, 0.708, 0.838, 0.799, 0.976, 0.948, 0.78, 0.908, 0.801, 0.879, 0.765, 0.872, 0.968, 0.677, 0.685, 0.702, 0.679, 0.874, 0.734, 0.792, 0.732, 0.679, 0.879, 0.806, 0.713, 0.961, 0.704, 0.985, 0.972, 0.798, 0.78, 0.923, 0.687, 0.974, 0.714, 0.819, 0.773, 0.909, 0.992, 0.686, 0.801, 0.933, 0.751, 0.967, 0.693, 0.937, 0.683, 0.689, 0.678, 0.678, 0.796, 0.853, 0.679, 0.73, 0.825, 0.766, 0.959, 0.876, 0.716, 0.75, 0.758, 0.71, 0.744, 0.847, 0.846, 0.938, 0.836, 0.746, 0.748, 0.688, 0.686, 0.683, 0.726, 0.986, 0.811, 0.811, 0.855, 0.822, 0.676, 0.707, 0.847, 0.762, 0.972, 0.964, 0.959, 0.977, 0.891, 0.77, 0.68, 0.906, 0.685, 0.698, 0.953, 0.973, 0.983, 0.952, 0.832, 0.904, 0.906, 0.71, 0.958, 0.717, 0.743, 0.741, 0.975, 0.694, 0.965, 0.967, 0.932, 0.684, 0.916, 0.984, 0.911, 0.948, 0.935, 0.675, 0.677, 0.95, 0.964, 0.675, 0.95, 0.937, 0.702, 0.97, 0.802, 0.846, 0.893, 0.773, 0.733, 0.727, 0.816, 0.835, 0.706, 0.976, 0.762, 0.789, 0.721, 0.781, 0.749, 0.74, 0.68, 0.938, 0.807, 0.884, 0.868, 0.689, 0.852, 0.77, 0.839, 0.684, 0.839, 0.873, 0.909, 0.676, 0.939, 0.714, 0.687, 0.972, 0.924, 0.691, 0.95, 0.937, 0.764, 0.989, 0.734, 0.752, 0.732, 0.943, 0.686, 0.899, 0.863, 0.974, 0.712, 0.897, 0.781, 0.752, 0.769, 0.681, 0.726, 0.979, 0.92, 0.96, 0.735, 0.712, 0.962, 0.723, 0.696, 0.701, 0.911, 0.677, 0.825, 0.961, 0.879, 0.723, 0.96, 0.694, 0.954, 0.926, 0.792, 0.77, 0.917, 0.944, 0.877, 0.862, 0.977, 0.708, 0.7, 0.706, 0.982, 0.691, 0.811, 0.84, 0.899, 0.68, 0.892, 0.957, 0.841, 0.962, 0.834, 0.923, 0.813, 0.973, 0.689, 212.049, 217.416, 216.053, 216.053, 30.557, 216.091, 217.416, 216.02, 1041200.0, 650467.0, 838157.0, 744569.0, 787933.0, 1244613.0, 559893.0, 640250.0, 922218.0, 550480.0, 571895.0, 758360.0, 1385907.0, 576912.0, 620101.0, 577980.0, 536227.0, 811077.0, 542587.0, 787547.0, 679647.0, 1233667.0, 565973.0, 665600.0, 645000.0, 572133.0, 535360.0, 989947.0, 543760.0, 897708.0, 1090787.0, 594453.0, 589307.0, 576703.0, 656934.0, 1083755.0, 1284507.0, 593387.0, 537777.0, 550633.0, 595680.0, 600250.0, 753893.0, 811077.0, 561707.0, 650747.0, 577000.0, 561067.0, 600283.0, 762667.0, 594213.0, 752798.0, 665080.0, 645000.0, 554893.0, 1392667.0, 804933.0, 574733.0, 550507.0, 592507.0, 688133.0, 590720.0, 594000.0, 623733.0, 1095394.0, 539493.0, 654427.0, 811077.0, 547107.0, 535800.0, 848347.0, 950210.0, 626933.0, 922506.0, 740520.0, 608253.0, 554613.0, 548827.0, 654123.0, 756547.0, 621154.0, 573989.0, 635272.0, 621000.0, 652187.0, 641320.0, 596885.0, 537203.0, 943529.0, 1019625.0, 536067.0, 576556.0, 795013.0, 594227.0, 599678.0, 692747.0, 576703.0, 623387.0, 582360.0, 681560.0, 1477187.0, 556227.0, 1385907.0, 701960.0, 709333.0, 548270.0, 586493.0, 570613.0, 565973.0, 547960.0, 1, 1, 1, 1, 1, 1, 1, 1, 1, 1, 1, 1, 1, 1, 1, 1, 1, 1, 1, 1, 1, 1, 1, 1, 1, 1, 1, 1, 1, 1, 1, 1, 1, 1, 1, 1, 1, 1, 1, 1, 1, 1, 1, 1, 1, 1, 1, 1, 1, 1, 1, 1, 1, 1, 1, 1, 1, 1, 1, 1, 1, 1, 1, 1, 1, 1, 1, 1, 1, 1, 1, 1, 1, 1, 1, 1, 1, 1, 1, 1, 1, 1, 1, 1, 1, 1, 1]\n",
            "length for time_signature =  1256 \n",
            "\n",
            "mean = 6.695679355376494 std = 3.206058571306777\n",
            "Outliers from Z-scores method Class:  [100.0, 97.0, 97.0, 97.0, 98.0, 100.0, 99.0, -31.3, -30.707, -21.748, -31.385, -28.315, -22.094, -23.738, -21.114, -27.383, -28.639, -34.825, -30.252, -20.254, -23.323, -23.969, -20.447, -20.219, -21.95, -23.057, -26.14, -20.659, -23.658, -23.13, -23.209, -20.317, -23.625, -22.227, -24.735, -22.977, -21.216, -29.399, -23.246, -24.082, -22.751, -29.454, -20.82, -22.925, -21.022, -20.995, -21.197, -22.8, -27.06, -27.822, -21.082, -20.449, -21.941, -20.976, -21.724, -20.783, -21.091, -27.214, -29.808, -24.881, -24.035, -22.008, -22.841, -25.285, -21.322, -22.668, -29.991, -22.122, -26.299, -21.734, -22.247, -25.363, -28.954, -25.963, -20.659, -20.747, -25.163, -20.742, -33.082, -24.389, -23.455, -20.472, -21.361, -21.52, -26.075, -23.518, -27.331, -36.214, -23.653, -21.153, -26.292, -27.629, -20.22, -23.455, -23.917, -34.378, -22.533, -20.758, -22.61, -24.094, -20.567, -23.987, -25.174, -35.154, -25.232, -20.872, -21.152, -25.725, -20.494, -22.487, -26.419, -24.053, -24.809, -25.363, -22.17, -20.508, -30.124, -21.435, -20.901, -39.952, -21.126, -20.892, -23.822, -22.627, -24.547, -22.164, -21.438, -21.788, -23.714, -20.359, -28.994, -28.091, -29.891, -21.302, -28.545, -25.358, -30.245, -25.046, -31.858, -20.404, -23.396, -22.639, -20.501, -22.005, -25.66, -20.593, -24.002, -22.355, -25.658, -23.175, -24.913, -20.316, -25.279, -23.806, -20.596, -28.399, -22.227, -25.266, -22.159, -24.467, -24.906, -24.659, -26.466, -20.682, -24.253, -25.743, -32.796, -23.48, -20.089, -32.22, -29.298, -20.4, -22.481, -27.474, -23.045, -25.258, -23.202, -20.496, -20.538, -23.167, -23.899, -20.571, -25.181, -20.968, -27.043, -20.87, -21.076, -29.371, -22.32, -25.917, -26.964, -21.57, -22.505, -20.795, -20.443, -24.745, -25.683, -21.513, -23.766, -23.906, -21.203, -22.016, -23.623, -28.322, -29.617, -24.983, -22.079, -29.161, -21.792, -26.381, -20.538, -24.361, -20.394, -23.67, -23.655, -25.073, -22.327, -24.854, -20.901, -30.47, -25.131, -22.768, -22.455, -28.013, -21.2, -21.265, -22.241, -23.811, -20.306, -30.479, -22.557, -21.88, -25.49, -22.095, -20.689, -24.814, -23.811, -26.726, -28.505, -21.495, -23.646, -20.405, -29.76, -25.934, -26.742, -21.903, -30.016, -30.558, -22.421, -23.791, -21.178, -24.937, -33.395, -21.391, -20.994, -21.941, -20.816, -23.295, -20.167, -20.951, -24.249, -25.533, 0.386, 0.351, 0.439, 0.407, 0.353, 0.447, 0.346, 0.38, 0.355, 0.528, 0.418, 0.489, 0.349, 0.891, 0.487, 0.368, 0.347, 0.368, 0.341, 0.4, 0.862, 0.344, 0.364, 0.567, 0.424, 0.392, 0.378, 0.435, 0.402, 0.407, 0.579, 0.36, 0.362, 0.417, 0.371, 0.505, 0.598, 0.402, 0.619, 0.431, 0.393, 0.409, 0.388, 0.35, 0.499, 0.424, 0.359, 0.353, 0.597, 0.379, 0.345, 0.424, 0.5, 0.564, 0.375, 0.372, 0.343, 0.442, 0.374, 0.342, 0.415, 0.349, 0.513, 0.377, 0.357, 0.446, 0.491, 0.406, 0.379, 0.369, 0.387, 0.342, 0.374, 0.48, 0.499, 0.375, 0.423, 0.504, 0.601, 0.348, 0.357, 0.342, 0.417, 0.394, 0.53, 0.379, 0.37, 0.387, 0.521, 0.473, 0.436, 0.413, 0.443, 0.364, 0.496, 0.354, 0.368, 0.369, 0.375, 0.393, 0.678, 0.356, 0.5, 0.443, 0.368, 0.346, 0.344, 0.357, 0.447, 0.437, 0.366, 0.339, 0.525, 0.358, 0.409, 0.486, 0.362, 0.514, 0.539, 0.376, 0.403, 0.417, 0.404, 0.414, 0.36, 0.356, 0.489, 0.544, 0.543, 0.345, 0.362, 0.539, 0.508, 0.48, 0.36, 0.361, 0.359, 0.377, 0.402, 0.34, 0.402, 0.506, 0.39, 0.347, 0.359, 0.403, 0.382, 0.392, 0.568, 0.382, 0.47, 0.344, 0.382, 0.387, 0.39, 0.429, 0.367, 0.357, 0.457, 0.582, 0.427, 0.476, 0.38, 0.362, 0.442, 0.338, 0.501, 0.353, 0.351, 0.43, 0.346, 0.368, 0.508, 0.365, 0.45, 0.441, 0.337, 0.366, 0.55, 0.851, 0.361, 0.374, 0.429, 0.4, 0.521, 0.955, 0.384, 0.397, 0.43, 0.445, 0.409, 0.391, 0.496, 0.355, 0.369, 0.361, 0.364, 0.339, 0.433, 0.4, 0.366, 0.477, 0.49, 0.377, 0.349, 0.339, 0.361, 0.382, 0.35, 0.522, 0.444, 0.439, 0.54, 0.38, 0.497, 0.338, 0.935, 0.354, 0.425, 0.382, 0.438, 0.47, 0.701, 0.367, 0.371, 0.619, 0.352, 0.559, 0.372, 0.352, 0.4, 0.371, 0.348, 0.37, 0.375, 0.595, 0.378, 0.349, 0.347, 0.422, 0.351, 0.492, 0.344, 0.84, 0.55, 0.421, 0.429, 0.394, 0.35, 0.427, 0.38, 0.351, 0.37, 0.462, 0.441, 0.411, 0.382, 0.425, 0.483, 0.34, 0.372, 0.546, 0.384, 0.338, 0.548, 0.363, 0.474, 0.393, 0.381, 0.359, 0.92, 0.387, 0.461, 0.522, 0.497, 0.405, 0.368, 0.42, 0.449, 0.343, 0.381, 0.353, 0.392, 0.515, 0.388, 0.368, 0.342, 0.366, 0.351, 0.421, 0.446, 0.378, 0.559, 0.405, 0.349, 0.454, 0.399, 0.478, 0.494, 0.416, 0.416, 0.73, 0.357, 0.377, 0.411, 0.36, 0.5, 0.43, 0.341, 0.348, 0.502, 0.357, 0.46, 0.34, 0.481, 0.376, 0.363, 0.351, 0.397, 0.341, 0.479, 0.377, 0.341, 0.338, 0.376, 0.372, 0.361, 0.342, 0.351, 0.364, 0.51, 0.543, 0.41, 0.394, 0.406, 0.451, 0.371, 0.46, 0.422, 0.336, 0.38, 0.574, 0.366, 0.449, 0.345, 0.449, 0.351, 0.414, 0.347, 0.481, 0.368, 0.494, 0.409, 0.389, 0.344, 0.872, 0.343, 0.363, 0.392, 0.37, 0.473, 0.371, 0.386, 0.374, 0.347, 0.346, 0.373, 0.354, 0.51, 0.398, 0.53, 0.474, 0.372, 0.53, 0.368, 0.338, 0.378, 0.474, 0.362, 0.52, 0.458, 0.348, 0.48, 0.34, 0.34, 0.442, 0.338, 0.409, 0.346, 0.358, 0.348, 0.409, 0.513, 0.379, 0.372, 0.4, 0.937, 0.496, 0.365, 0.507, 0.391, 0.347, 0.723, 0.437, 0.35, 0.54, 0.472, 0.383, 0.337, 0.398, 0.41, 0.376, 0.489, 0.751, 0.698, 0.718, 0.7, 0.771, 0.787, 0.769, 0.676, 0.696, 0.678, 0.801, 0.692, 0.971, 0.68, 0.719, 0.889, 0.899, 0.687, 0.676, 0.979, 0.741, 0.974, 0.886, 0.952, 0.982, 0.926, 0.866, 0.75, 0.723, 0.953, 0.678, 0.803, 0.723, 0.686, 0.702, 0.676, 0.756, 0.68, 0.873, 0.759, 0.955, 0.986, 0.684, 0.707, 0.98, 0.956, 0.983, 0.879, 0.819, 0.703, 0.834, 0.706, 0.989, 0.984, 0.906, 0.971, 0.723, 0.702, 0.709, 0.868, 0.674, 0.687, 0.762, 0.87, 0.689, 0.752, 0.935, 0.76, 0.791, 0.841, 0.746, 0.986, 0.876, 0.981, 0.697, 0.744, 0.691, 0.719, 0.679, 0.944, 0.913, 0.853, 0.728, 0.856, 0.917, 0.893, 0.859, 0.702, 0.702, 0.988, 0.966, 0.814, 0.932, 0.762, 0.898, 0.674, 0.769, 0.739, 0.738, 0.694, 0.677, 0.693, 0.853, 0.956, 0.896, 0.773, 0.771, 0.877, 0.763, 0.75, 0.851, 0.689, 0.789, 0.858, 0.811, 0.756, 0.706, 0.913, 0.868, 0.988, 0.725, 0.793, 0.726, 0.93, 0.95, 0.713, 0.806, 0.724, 0.973, 0.987, 0.827, 0.699, 0.809, 0.918, 0.967, 0.691, 0.703, 0.675, 0.964, 0.985, 0.928, 0.708, 0.801, 0.853, 0.756, 0.813, 0.687, 0.827, 0.953, 0.982, 0.815, 0.859, 0.969, 0.739, 0.708, 0.838, 0.799, 0.976, 0.948, 0.78, 0.908, 0.801, 0.879, 0.765, 0.872, 0.968, 0.677, 0.685, 0.702, 0.679, 0.874, 0.734, 0.792, 0.732, 0.679, 0.879, 0.806, 0.713, 0.961, 0.704, 0.985, 0.972, 0.798, 0.78, 0.923, 0.687, 0.974, 0.714, 0.819, 0.773, 0.909, 0.992, 0.686, 0.801, 0.933, 0.751, 0.967, 0.693, 0.937, 0.683, 0.689, 0.678, 0.678, 0.796, 0.853, 0.679, 0.73, 0.825, 0.766, 0.959, 0.876, 0.716, 0.75, 0.758, 0.71, 0.744, 0.847, 0.846, 0.938, 0.836, 0.746, 0.748, 0.688, 0.686, 0.683, 0.726, 0.986, 0.811, 0.811, 0.855, 0.822, 0.676, 0.707, 0.847, 0.762, 0.972, 0.964, 0.959, 0.977, 0.891, 0.77, 0.68, 0.906, 0.685, 0.698, 0.953, 0.973, 0.983, 0.952, 0.832, 0.904, 0.906, 0.71, 0.958, 0.717, 0.743, 0.741, 0.975, 0.694, 0.965, 0.967, 0.932, 0.684, 0.916, 0.984, 0.911, 0.948, 0.935, 0.675, 0.677, 0.95, 0.964, 0.675, 0.95, 0.937, 0.702, 0.97, 0.802, 0.846, 0.893, 0.773, 0.733, 0.727, 0.816, 0.835, 0.706, 0.976, 0.762, 0.789, 0.721, 0.781, 0.749, 0.74, 0.68, 0.938, 0.807, 0.884, 0.868, 0.689, 0.852, 0.77, 0.839, 0.684, 0.839, 0.873, 0.909, 0.676, 0.939, 0.714, 0.687, 0.972, 0.924, 0.691, 0.95, 0.937, 0.764, 0.989, 0.734, 0.752, 0.732, 0.943, 0.686, 0.899, 0.863, 0.974, 0.712, 0.897, 0.781, 0.752, 0.769, 0.681, 0.726, 0.979, 0.92, 0.96, 0.735, 0.712, 0.962, 0.723, 0.696, 0.701, 0.911, 0.677, 0.825, 0.961, 0.879, 0.723, 0.96, 0.694, 0.954, 0.926, 0.792, 0.77, 0.917, 0.944, 0.877, 0.862, 0.977, 0.708, 0.7, 0.706, 0.982, 0.691, 0.811, 0.84, 0.899, 0.68, 0.892, 0.957, 0.841, 0.962, 0.834, 0.923, 0.813, 0.973, 0.689, 212.049, 217.416, 216.053, 216.053, 30.557, 216.091, 217.416, 216.02, 1041200.0, 650467.0, 838157.0, 744569.0, 787933.0, 1244613.0, 559893.0, 640250.0, 922218.0, 550480.0, 571895.0, 758360.0, 1385907.0, 576912.0, 620101.0, 577980.0, 536227.0, 811077.0, 542587.0, 787547.0, 679647.0, 1233667.0, 565973.0, 665600.0, 645000.0, 572133.0, 535360.0, 989947.0, 543760.0, 897708.0, 1090787.0, 594453.0, 589307.0, 576703.0, 656934.0, 1083755.0, 1284507.0, 593387.0, 537777.0, 550633.0, 595680.0, 600250.0, 753893.0, 811077.0, 561707.0, 650747.0, 577000.0, 561067.0, 600283.0, 762667.0, 594213.0, 752798.0, 665080.0, 645000.0, 554893.0, 1392667.0, 804933.0, 574733.0, 550507.0, 592507.0, 688133.0, 590720.0, 594000.0, 623733.0, 1095394.0, 539493.0, 654427.0, 811077.0, 547107.0, 535800.0, 848347.0, 950210.0, 626933.0, 922506.0, 740520.0, 608253.0, 554613.0, 548827.0, 654123.0, 756547.0, 621154.0, 573989.0, 635272.0, 621000.0, 652187.0, 641320.0, 596885.0, 537203.0, 943529.0, 1019625.0, 536067.0, 576556.0, 795013.0, 594227.0, 599678.0, 692747.0, 576703.0, 623387.0, 582360.0, 681560.0, 1477187.0, 556227.0, 1385907.0, 701960.0, 709333.0, 548270.0, 586493.0, 570613.0, 565973.0, 547960.0, 1, 1, 1, 1, 1, 1, 1, 1, 1, 1, 1, 1, 1, 1, 1, 1, 1, 1, 1, 1, 1, 1, 1, 1, 1, 1, 1, 1, 1, 1, 1, 1, 1, 1, 1, 1, 1, 1, 1, 1, 1, 1, 1, 1, 1, 1, 1, 1, 1, 1, 1, 1, 1, 1, 1, 1, 1, 1, 1, 1, 1, 1, 1, 1, 1, 1, 1, 1, 1, 1, 1, 1, 1, 1, 1, 1, 1, 1, 1, 1, 1, 1, 1, 1, 1, 1, 1]\n",
            "length for Class =  1256 \n",
            "\n"
          ]
        }
      ]
    },
    {
      "cell_type": "markdown",
      "source": [
        "#building a model:"
      ],
      "metadata": {
        "id": "KonzWjDepnVi"
      }
    },
    {
      "cell_type": "code",
      "source": [
        "X = new_df.drop('Class', axis=1)\n",
        "Y = new_df['Class']"
      ],
      "metadata": {
        "id": "9xsmm9WO93aE"
      },
      "execution_count": null,
      "outputs": []
    },
    {
      "cell_type": "code",
      "source": [
        "X_train, X_test, Y_train, Y_test = train_test_split(X, Y, test_size=0.3, stratify=Y, random_state=42)"
      ],
      "metadata": {
        "id": "mE-BIAe3-Ckv"
      },
      "execution_count": null,
      "outputs": []
    },
    {
      "cell_type": "markdown",
      "source": [
        "##SVC"
      ],
      "metadata": {
        "id": "efaQ5_YTxJFk"
      }
    },
    {
      "cell_type": "code",
      "source": [
        "import numpy as np\n",
        "from sklearn.pipeline import make_pipeline\n",
        "from sklearn.preprocessing import StandardScaler\n",
        "from sklearn.svm import SVC\n"
      ],
      "metadata": {
        "id": "72e4NQ4JxLMR"
      },
      "execution_count": null,
      "outputs": []
    },
    {
      "cell_type": "code",
      "source": [
        "#manually tune the class weight:\n",
        "cw = {}\n",
        "for l in set(Y_train):\n",
        "    cw[l] = np.sum(Y_train == l)\n",
        "    # if cw[l] <= 225:\n",
        "    #   cw[l] = cw[l]*4\n",
        "    # if cw[l] <= 350:\n",
        "    #   cw[l] = cw[l]*4\n",
        "    # elif cw[l] > 2000:\n",
        "    #   cw[l] = cw[l]/2\n",
        "print(cw)"
      ],
      "metadata": {
        "colab": {
          "base_uri": "https://localhost:8080/"
        },
        "id": "2fQNPmlP3bPX",
        "outputId": "36830017-f407-458e-dab2-1a8b2365ef87"
      },
      "execution_count": null,
      "outputs": [
        {
          "output_type": "stream",
          "name": "stdout",
          "text": [
            "{0: 350, 1: 769, 2: 713, 3: 225, 4: 217, 5: 810, 6: 1448, 7: 323, 8: 1038, 9: 1413, 10: 2771}\n"
          ]
        }
      ]
    },
    {
      "cell_type": "code",
      "source": [
        "clf = make_pipeline(StandardScaler(), SVC(gamma='auto', class_weight='balanced'))\n",
        "clf.fit(X_train, Y_train)"
      ],
      "metadata": {
        "colab": {
          "base_uri": "https://localhost:8080/"
        },
        "id": "9Sl-u6io3Zt0",
        "outputId": "7085be5e-a769-42a5-b04e-dc19f5af25b1"
      },
      "execution_count": null,
      "outputs": [
        {
          "output_type": "execute_result",
          "data": {
            "text/plain": [
              "Pipeline(steps=[('standardscaler', StandardScaler()),\n",
              "                ('svc', SVC(class_weight='balanced', gamma='auto'))])"
            ]
          },
          "metadata": {},
          "execution_count": 253
        }
      ]
    },
    {
      "cell_type": "code",
      "source": [
        "y_pred = clf.predict(X_test)\n",
        "print(classification_report(y_pred, Y_test))\n",
        "#class4, class3, class7, class0 less than 1000, class2, class1, class5, class8 less than 2000, class10 more than 2000 records\n",
        "#this is unbalance data\n"
      ],
      "metadata": {
        "colab": {
          "base_uri": "https://localhost:8080/"
        },
        "id": "JvSJRbK2x5ha",
        "outputId": "924f0921-072f-4c35-dac9-4a5711105c5b"
      },
      "execution_count": null,
      "outputs": [
        {
          "output_type": "stream",
          "name": "stdout",
          "text": [
            "              precision    recall  f1-score   support\n",
            "\n",
            "           0       0.79      0.51      0.62        83\n",
            "           1       0.59      0.26      0.36       347\n",
            "           2       0.72      0.35      0.47       205\n",
            "           3       0.82      0.74      0.78        54\n",
            "           4       0.95      0.50      0.65       142\n",
            "           5       0.89      0.75      0.81       580\n",
            "           6       0.46      0.36      0.40       270\n",
            "           7       0.76      0.84      0.80        19\n",
            "           8       0.65      0.30      0.41       202\n",
            "           9       0.80      0.96      0.88      1896\n",
            "          10       0.42      0.66      0.51       498\n",
            "\n",
            "    accuracy                           0.72      4296\n",
            "   macro avg       0.71      0.57      0.61      4296\n",
            "weighted avg       0.73      0.72      0.70      4296\n",
            "\n"
          ]
        }
      ]
    },
    {
      "cell_type": "code",
      "source": [
        "accuracy_score(y_pred, Y_test)"
      ],
      "metadata": {
        "colab": {
          "base_uri": "https://localhost:8080/"
        },
        "id": "sOYOnpf-3RDI",
        "outputId": "64adbb38-60fa-460b-ff4b-78e68788e192"
      },
      "execution_count": null,
      "outputs": [
        {
          "output_type": "execute_result",
          "data": {
            "text/plain": [
              "0.7155493482309124"
            ]
          },
          "metadata": {},
          "execution_count": 255
        }
      ]
    },
    {
      "cell_type": "markdown",
      "source": [
        "##Decesion Tree:"
      ],
      "metadata": {
        "id": "0MRt0OIIwoy4"
      }
    },
    {
      "cell_type": "code",
      "source": [
        "decesion_model = DecisionTreeClassifier(class_weight='balanced')\n",
        "decesion_model.fit(X_train, Y_train)\n",
        "prediction = decesion_model.predict(X_test)"
      ],
      "metadata": {
        "id": "YuBIP6M2wYzw"
      },
      "execution_count": null,
      "outputs": []
    },
    {
      "cell_type": "code",
      "source": [
        "print(classification_report(prediction, Y_test))"
      ],
      "metadata": {
        "colab": {
          "base_uri": "https://localhost:8080/"
        },
        "id": "thEF1ewGA0Bb",
        "outputId": "a2bd551b-2c9d-4825-d68f-b7c5163b2749"
      },
      "execution_count": null,
      "outputs": [
        {
          "output_type": "stream",
          "name": "stdout",
          "text": [
            "              precision    recall  f1-score   support\n",
            "\n",
            "           0       0.75      0.78      0.77        51\n",
            "           1       0.63      0.58      0.61       167\n",
            "           2       0.57      0.61      0.59        93\n",
            "           3       0.80      0.81      0.80        48\n",
            "           4       0.81      0.91      0.86        67\n",
            "           5       0.85      0.87      0.86       471\n",
            "           6       0.60      0.62      0.61       203\n",
            "           7       0.86      0.78      0.82        23\n",
            "           8       0.55      0.63      0.59        83\n",
            "           9       0.95      0.95      0.95      2277\n",
            "          10       0.81      0.79      0.80       813\n",
            "\n",
            "    accuracy                           0.86      4296\n",
            "   macro avg       0.74      0.76      0.75      4296\n",
            "weighted avg       0.86      0.86      0.86      4296\n",
            "\n"
          ]
        }
      ]
    },
    {
      "cell_type": "code",
      "source": [
        "test_data_acc = accuracy_score(prediction, Y_test)\n",
        "print('accuracy score of the test data : ', test_data_acc)"
      ],
      "metadata": {
        "colab": {
          "base_uri": "https://localhost:8080/"
        },
        "id": "cWY2v9QLwYwW",
        "outputId": "784daa68-3464-4698-fd44-f43cf8cea64a"
      },
      "execution_count": null,
      "outputs": [
        {
          "output_type": "stream",
          "name": "stdout",
          "text": [
            "accuracy score of the test data :  0.861731843575419\n"
          ]
        }
      ]
    },
    {
      "cell_type": "markdown",
      "source": [
        "##Random Forests:"
      ],
      "metadata": {
        "id": "HLRTczDYw1rD"
      }
    },
    {
      "cell_type": "code",
      "source": [
        "forest_model = RandomForestClassifier(class_weight='balanced')\n",
        "forest_model.fit(X_train, Y_train)\n",
        "prediction = forest_model.predict(X_test)"
      ],
      "metadata": {
        "id": "-BurPuVzwYis"
      },
      "execution_count": null,
      "outputs": []
    },
    {
      "cell_type": "code",
      "source": [
        "print(classification_report(prediction, Y_test))"
      ],
      "metadata": {
        "colab": {
          "base_uri": "https://localhost:8080/"
        },
        "id": "yfjzMdBLAXBf",
        "outputId": "470221b0-8a68-4141-fb9b-722d37bd02d7"
      },
      "execution_count": null,
      "outputs": [
        {
          "output_type": "stream",
          "name": "stdout",
          "text": [
            "              precision    recall  f1-score   support\n",
            "\n",
            "           0       0.62      0.75      0.68        44\n",
            "           1       0.05      0.70      0.09        10\n",
            "           2       0.38      0.62      0.47        61\n",
            "           3       0.82      0.85      0.83        47\n",
            "           4       0.77      0.83      0.80        70\n",
            "           5       0.85      0.81      0.83       508\n",
            "           6       0.12      0.57      0.20        44\n",
            "           7       0.90      0.86      0.88        22\n",
            "           8       0.33      0.61      0.43        51\n",
            "           9       0.92      0.90      0.91      2328\n",
            "          10       0.82      0.59      0.68      1111\n",
            "\n",
            "    accuracy                           0.79      4296\n",
            "   macro avg       0.60      0.74      0.62      4296\n",
            "weighted avg       0.86      0.79      0.82      4296\n",
            "\n"
          ]
        }
      ]
    },
    {
      "cell_type": "code",
      "source": [
        "training_data_accuracy = accuracy_score(prediction, Y_test)\n",
        "print('accuracy score of the test data : ', training_data_accuracy)"
      ],
      "metadata": {
        "colab": {
          "base_uri": "https://localhost:8080/"
        },
        "id": "_jXtnvnzw66f",
        "outputId": "64bed242-9eb8-46c9-f37a-b1fa4e701299"
      },
      "execution_count": null,
      "outputs": [
        {
          "output_type": "stream",
          "name": "stdout",
          "text": [
            "accuracy score of the test data :  0.7930633147113594\n"
          ]
        }
      ]
    },
    {
      "cell_type": "code",
      "source": [],
      "metadata": {
        "id": "TX6s5oMc_XUd"
      },
      "execution_count": null,
      "outputs": []
    },
    {
      "cell_type": "markdown",
      "source": [
        "####make a submission"
      ],
      "metadata": {
        "id": "Ln0zPk9fRH20"
      }
    },
    {
      "cell_type": "code",
      "source": [
        "data_test"
      ],
      "metadata": {
        "colab": {
          "base_uri": "https://localhost:8080/",
          "height": 661
        },
        "id": "2AJvv1Ii_hIH",
        "outputId": "da6d0760-c40e-45a0-e2f5-90dda727149c"
      },
      "execution_count": null,
      "outputs": [
        {
          "output_type": "execute_result",
          "data": {
            "text/plain": [
              "         Id        Artist Name                            Track Name  \\\n",
              "0     14397    Juan Pablo Vega          Matando (feat. Vic Mirallas)   \n",
              "1     14398          Kappi Kat                               Baarish   \n",
              "2     14399    Plain White T's                     Hey There Delilah   \n",
              "3     14400      WALK THE MOON                      Different Colors   \n",
              "4     14401              Peled                              ◊ß◊®◊ô◊ñ   \n",
              "...     ...                ...                                   ...   \n",
              "3595  17992  Within Temptation                       Stand My Ground   \n",
              "3596  17993              Dikla                        ◊©◊ë◊ï◊¢◊ô◊ô◊ù   \n",
              "3597  17994           Cut Copy  Hearts On Fire - Calvin Harris Remix   \n",
              "3598  17995        Jethro Tull            Thick as a Brick - Edit #1   \n",
              "3599  17996               MIKA                           Grace Kelly   \n",
              "\n",
              "      Popularity  danceability  energy  key  loudness  mode  speechiness  \\\n",
              "0            NaN         0.691   0.670  2.0    -7.093     0       0.0941   \n",
              "1           14.0         0.461   0.777  2.0    -7.469     1       0.0306   \n",
              "2           80.0         0.656   0.291  2.0   -10.572     1       0.0293   \n",
              "3           52.0         0.480   0.826  NaN    -4.602     1       0.0397   \n",
              "4           23.0         0.734   0.729  1.0    -6.381     0       0.2830   \n",
              "...          ...           ...     ...  ...       ...   ...          ...   \n",
              "3595        55.0         0.271   0.866  5.0    -4.072     0       0.0578   \n",
              "3596        38.0         0.598   0.690  5.0    -4.758     0       0.3030   \n",
              "3597        18.0         0.783   0.820  1.0    -6.102     1       0.0489   \n",
              "3598        38.0         0.443   0.401  5.0   -13.997     1       0.0426   \n",
              "3599        69.0         0.675   0.828  NaN    -5.799     1       0.0454   \n",
              "\n",
              "      acousticness  instrumentalness  liveness  valence    tempo  \\\n",
              "0         0.075700          0.035200    0.1970    0.635   89.965   \n",
              "1         0.388000          0.923000    0.2910    0.525  163.043   \n",
              "2         0.872000               NaN    0.1140    0.298  103.971   \n",
              "3         0.000797          0.000001    0.1250    0.687   96.000   \n",
              "4         0.147000               NaN    0.0672    0.805   76.030   \n",
              "...            ...               ...       ...      ...      ...   \n",
              "3595      0.048900          0.000762    0.1160    0.127  175.665   \n",
              "3596      0.363000               NaN    0.0519    0.653  187.934   \n",
              "3597      0.000540          0.499000    0.0628    0.235  129.015   \n",
              "3598      0.263000               NaN    0.1680    0.751  168.209   \n",
              "3599      0.024200          0.010200    0.3640    0.669  122.229   \n",
              "\n",
              "      duration_in min/ms  time_signature  \n",
              "0               200000.0               4  \n",
              "1               283909.0               4  \n",
              "2               232533.0               4  \n",
              "3               222053.0               4  \n",
              "4               118439.0               4  \n",
              "...                  ...             ...  \n",
              "3595            267987.0               4  \n",
              "3596            198300.0               4  \n",
              "3597            339213.0               4  \n",
              "3598            182587.0               3  \n",
              "3599            187733.0               4  \n",
              "\n",
              "[3600 rows x 17 columns]"
            ],
            "text/html": [
              "\n",
              "  <div id=\"df-9949505d-aecb-486a-a066-670d9001b6fa\">\n",
              "    <div class=\"colab-df-container\">\n",
              "      <div>\n",
              "<style scoped>\n",
              "    .dataframe tbody tr th:only-of-type {\n",
              "        vertical-align: middle;\n",
              "    }\n",
              "\n",
              "    .dataframe tbody tr th {\n",
              "        vertical-align: top;\n",
              "    }\n",
              "\n",
              "    .dataframe thead th {\n",
              "        text-align: right;\n",
              "    }\n",
              "</style>\n",
              "<table border=\"1\" class=\"dataframe\">\n",
              "  <thead>\n",
              "    <tr style=\"text-align: right;\">\n",
              "      <th></th>\n",
              "      <th>Id</th>\n",
              "      <th>Artist Name</th>\n",
              "      <th>Track Name</th>\n",
              "      <th>Popularity</th>\n",
              "      <th>danceability</th>\n",
              "      <th>energy</th>\n",
              "      <th>key</th>\n",
              "      <th>loudness</th>\n",
              "      <th>mode</th>\n",
              "      <th>speechiness</th>\n",
              "      <th>acousticness</th>\n",
              "      <th>instrumentalness</th>\n",
              "      <th>liveness</th>\n",
              "      <th>valence</th>\n",
              "      <th>tempo</th>\n",
              "      <th>duration_in min/ms</th>\n",
              "      <th>time_signature</th>\n",
              "    </tr>\n",
              "  </thead>\n",
              "  <tbody>\n",
              "    <tr>\n",
              "      <th>0</th>\n",
              "      <td>14397</td>\n",
              "      <td>Juan Pablo Vega</td>\n",
              "      <td>Matando (feat. Vic Mirallas)</td>\n",
              "      <td>NaN</td>\n",
              "      <td>0.691</td>\n",
              "      <td>0.670</td>\n",
              "      <td>2.0</td>\n",
              "      <td>-7.093</td>\n",
              "      <td>0</td>\n",
              "      <td>0.0941</td>\n",
              "      <td>0.075700</td>\n",
              "      <td>0.035200</td>\n",
              "      <td>0.1970</td>\n",
              "      <td>0.635</td>\n",
              "      <td>89.965</td>\n",
              "      <td>200000.0</td>\n",
              "      <td>4</td>\n",
              "    </tr>\n",
              "    <tr>\n",
              "      <th>1</th>\n",
              "      <td>14398</td>\n",
              "      <td>Kappi Kat</td>\n",
              "      <td>Baarish</td>\n",
              "      <td>14.0</td>\n",
              "      <td>0.461</td>\n",
              "      <td>0.777</td>\n",
              "      <td>2.0</td>\n",
              "      <td>-7.469</td>\n",
              "      <td>1</td>\n",
              "      <td>0.0306</td>\n",
              "      <td>0.388000</td>\n",
              "      <td>0.923000</td>\n",
              "      <td>0.2910</td>\n",
              "      <td>0.525</td>\n",
              "      <td>163.043</td>\n",
              "      <td>283909.0</td>\n",
              "      <td>4</td>\n",
              "    </tr>\n",
              "    <tr>\n",
              "      <th>2</th>\n",
              "      <td>14399</td>\n",
              "      <td>Plain White T's</td>\n",
              "      <td>Hey There Delilah</td>\n",
              "      <td>80.0</td>\n",
              "      <td>0.656</td>\n",
              "      <td>0.291</td>\n",
              "      <td>2.0</td>\n",
              "      <td>-10.572</td>\n",
              "      <td>1</td>\n",
              "      <td>0.0293</td>\n",
              "      <td>0.872000</td>\n",
              "      <td>NaN</td>\n",
              "      <td>0.1140</td>\n",
              "      <td>0.298</td>\n",
              "      <td>103.971</td>\n",
              "      <td>232533.0</td>\n",
              "      <td>4</td>\n",
              "    </tr>\n",
              "    <tr>\n",
              "      <th>3</th>\n",
              "      <td>14400</td>\n",
              "      <td>WALK THE MOON</td>\n",
              "      <td>Different Colors</td>\n",
              "      <td>52.0</td>\n",
              "      <td>0.480</td>\n",
              "      <td>0.826</td>\n",
              "      <td>NaN</td>\n",
              "      <td>-4.602</td>\n",
              "      <td>1</td>\n",
              "      <td>0.0397</td>\n",
              "      <td>0.000797</td>\n",
              "      <td>0.000001</td>\n",
              "      <td>0.1250</td>\n",
              "      <td>0.687</td>\n",
              "      <td>96.000</td>\n",
              "      <td>222053.0</td>\n",
              "      <td>4</td>\n",
              "    </tr>\n",
              "    <tr>\n",
              "      <th>4</th>\n",
              "      <td>14401</td>\n",
              "      <td>Peled</td>\n",
              "      <td>◊ß◊®◊ô◊ñ</td>\n",
              "      <td>23.0</td>\n",
              "      <td>0.734</td>\n",
              "      <td>0.729</td>\n",
              "      <td>1.0</td>\n",
              "      <td>-6.381</td>\n",
              "      <td>0</td>\n",
              "      <td>0.2830</td>\n",
              "      <td>0.147000</td>\n",
              "      <td>NaN</td>\n",
              "      <td>0.0672</td>\n",
              "      <td>0.805</td>\n",
              "      <td>76.030</td>\n",
              "      <td>118439.0</td>\n",
              "      <td>4</td>\n",
              "    </tr>\n",
              "    <tr>\n",
              "      <th>...</th>\n",
              "      <td>...</td>\n",
              "      <td>...</td>\n",
              "      <td>...</td>\n",
              "      <td>...</td>\n",
              "      <td>...</td>\n",
              "      <td>...</td>\n",
              "      <td>...</td>\n",
              "      <td>...</td>\n",
              "      <td>...</td>\n",
              "      <td>...</td>\n",
              "      <td>...</td>\n",
              "      <td>...</td>\n",
              "      <td>...</td>\n",
              "      <td>...</td>\n",
              "      <td>...</td>\n",
              "      <td>...</td>\n",
              "      <td>...</td>\n",
              "    </tr>\n",
              "    <tr>\n",
              "      <th>3595</th>\n",
              "      <td>17992</td>\n",
              "      <td>Within Temptation</td>\n",
              "      <td>Stand My Ground</td>\n",
              "      <td>55.0</td>\n",
              "      <td>0.271</td>\n",
              "      <td>0.866</td>\n",
              "      <td>5.0</td>\n",
              "      <td>-4.072</td>\n",
              "      <td>0</td>\n",
              "      <td>0.0578</td>\n",
              "      <td>0.048900</td>\n",
              "      <td>0.000762</td>\n",
              "      <td>0.1160</td>\n",
              "      <td>0.127</td>\n",
              "      <td>175.665</td>\n",
              "      <td>267987.0</td>\n",
              "      <td>4</td>\n",
              "    </tr>\n",
              "    <tr>\n",
              "      <th>3596</th>\n",
              "      <td>17993</td>\n",
              "      <td>Dikla</td>\n",
              "      <td>◊©◊ë◊ï◊¢◊ô◊ô◊ù</td>\n",
              "      <td>38.0</td>\n",
              "      <td>0.598</td>\n",
              "      <td>0.690</td>\n",
              "      <td>5.0</td>\n",
              "      <td>-4.758</td>\n",
              "      <td>0</td>\n",
              "      <td>0.3030</td>\n",
              "      <td>0.363000</td>\n",
              "      <td>NaN</td>\n",
              "      <td>0.0519</td>\n",
              "      <td>0.653</td>\n",
              "      <td>187.934</td>\n",
              "      <td>198300.0</td>\n",
              "      <td>4</td>\n",
              "    </tr>\n",
              "    <tr>\n",
              "      <th>3597</th>\n",
              "      <td>17994</td>\n",
              "      <td>Cut Copy</td>\n",
              "      <td>Hearts On Fire - Calvin Harris Remix</td>\n",
              "      <td>18.0</td>\n",
              "      <td>0.783</td>\n",
              "      <td>0.820</td>\n",
              "      <td>1.0</td>\n",
              "      <td>-6.102</td>\n",
              "      <td>1</td>\n",
              "      <td>0.0489</td>\n",
              "      <td>0.000540</td>\n",
              "      <td>0.499000</td>\n",
              "      <td>0.0628</td>\n",
              "      <td>0.235</td>\n",
              "      <td>129.015</td>\n",
              "      <td>339213.0</td>\n",
              "      <td>4</td>\n",
              "    </tr>\n",
              "    <tr>\n",
              "      <th>3598</th>\n",
              "      <td>17995</td>\n",
              "      <td>Jethro Tull</td>\n",
              "      <td>Thick as a Brick - Edit #1</td>\n",
              "      <td>38.0</td>\n",
              "      <td>0.443</td>\n",
              "      <td>0.401</td>\n",
              "      <td>5.0</td>\n",
              "      <td>-13.997</td>\n",
              "      <td>1</td>\n",
              "      <td>0.0426</td>\n",
              "      <td>0.263000</td>\n",
              "      <td>NaN</td>\n",
              "      <td>0.1680</td>\n",
              "      <td>0.751</td>\n",
              "      <td>168.209</td>\n",
              "      <td>182587.0</td>\n",
              "      <td>3</td>\n",
              "    </tr>\n",
              "    <tr>\n",
              "      <th>3599</th>\n",
              "      <td>17996</td>\n",
              "      <td>MIKA</td>\n",
              "      <td>Grace Kelly</td>\n",
              "      <td>69.0</td>\n",
              "      <td>0.675</td>\n",
              "      <td>0.828</td>\n",
              "      <td>NaN</td>\n",
              "      <td>-5.799</td>\n",
              "      <td>1</td>\n",
              "      <td>0.0454</td>\n",
              "      <td>0.024200</td>\n",
              "      <td>0.010200</td>\n",
              "      <td>0.3640</td>\n",
              "      <td>0.669</td>\n",
              "      <td>122.229</td>\n",
              "      <td>187733.0</td>\n",
              "      <td>4</td>\n",
              "    </tr>\n",
              "  </tbody>\n",
              "</table>\n",
              "<p>3600 rows × 17 columns</p>\n",
              "</div>\n",
              "      <button class=\"colab-df-convert\" onclick=\"convertToInteractive('df-9949505d-aecb-486a-a066-670d9001b6fa')\"\n",
              "              title=\"Convert this dataframe to an interactive table.\"\n",
              "              style=\"display:none;\">\n",
              "        \n",
              "  <svg xmlns=\"http://www.w3.org/2000/svg\" height=\"24px\"viewBox=\"0 0 24 24\"\n",
              "       width=\"24px\">\n",
              "    <path d=\"M0 0h24v24H0V0z\" fill=\"none\"/>\n",
              "    <path d=\"M18.56 5.44l.94 2.06.94-2.06 2.06-.94-2.06-.94-.94-2.06-.94 2.06-2.06.94zm-11 1L8.5 8.5l.94-2.06 2.06-.94-2.06-.94L8.5 2.5l-.94 2.06-2.06.94zm10 10l.94 2.06.94-2.06 2.06-.94-2.06-.94-.94-2.06-.94 2.06-2.06.94z\"/><path d=\"M17.41 7.96l-1.37-1.37c-.4-.4-.92-.59-1.43-.59-.52 0-1.04.2-1.43.59L10.3 9.45l-7.72 7.72c-.78.78-.78 2.05 0 2.83L4 21.41c.39.39.9.59 1.41.59.51 0 1.02-.2 1.41-.59l7.78-7.78 2.81-2.81c.8-.78.8-2.07 0-2.86zM5.41 20L4 18.59l7.72-7.72 1.47 1.35L5.41 20z\"/>\n",
              "  </svg>\n",
              "      </button>\n",
              "      \n",
              "  <style>\n",
              "    .colab-df-container {\n",
              "      display:flex;\n",
              "      flex-wrap:wrap;\n",
              "      gap: 12px;\n",
              "    }\n",
              "\n",
              "    .colab-df-convert {\n",
              "      background-color: #E8F0FE;\n",
              "      border: none;\n",
              "      border-radius: 50%;\n",
              "      cursor: pointer;\n",
              "      display: none;\n",
              "      fill: #1967D2;\n",
              "      height: 32px;\n",
              "      padding: 0 0 0 0;\n",
              "      width: 32px;\n",
              "    }\n",
              "\n",
              "    .colab-df-convert:hover {\n",
              "      background-color: #E2EBFA;\n",
              "      box-shadow: 0px 1px 2px rgba(60, 64, 67, 0.3), 0px 1px 3px 1px rgba(60, 64, 67, 0.15);\n",
              "      fill: #174EA6;\n",
              "    }\n",
              "\n",
              "    [theme=dark] .colab-df-convert {\n",
              "      background-color: #3B4455;\n",
              "      fill: #D2E3FC;\n",
              "    }\n",
              "\n",
              "    [theme=dark] .colab-df-convert:hover {\n",
              "      background-color: #434B5C;\n",
              "      box-shadow: 0px 1px 3px 1px rgba(0, 0, 0, 0.15);\n",
              "      filter: drop-shadow(0px 1px 2px rgba(0, 0, 0, 0.3));\n",
              "      fill: #FFFFFF;\n",
              "    }\n",
              "  </style>\n",
              "\n",
              "      <script>\n",
              "        const buttonEl =\n",
              "          document.querySelector('#df-9949505d-aecb-486a-a066-670d9001b6fa button.colab-df-convert');\n",
              "        buttonEl.style.display =\n",
              "          google.colab.kernel.accessAllowed ? 'block' : 'none';\n",
              "\n",
              "        async function convertToInteractive(key) {\n",
              "          const element = document.querySelector('#df-9949505d-aecb-486a-a066-670d9001b6fa');\n",
              "          const dataTable =\n",
              "            await google.colab.kernel.invokeFunction('convertToInteractive',\n",
              "                                                     [key], {});\n",
              "          if (!dataTable) return;\n",
              "\n",
              "          const docLinkHtml = 'Like what you see? Visit the ' +\n",
              "            '<a target=\"_blank\" href=https://colab.research.google.com/notebooks/data_table.ipynb>data table notebook</a>'\n",
              "            + ' to learn more about interactive tables.';\n",
              "          element.innerHTML = '';\n",
              "          dataTable['output_type'] = 'display_data';\n",
              "          await google.colab.output.renderOutput(dataTable, element);\n",
              "          const docLink = document.createElement('div');\n",
              "          docLink.innerHTML = docLinkHtml;\n",
              "          element.appendChild(docLink);\n",
              "        }\n",
              "      </script>\n",
              "    </div>\n",
              "  </div>\n",
              "  "
            ]
          },
          "metadata": {},
          "execution_count": 270
        }
      ]
    },
    {
      "cell_type": "markdown",
      "source": [
        "processing test data"
      ],
      "metadata": {
        "id": "W9pDaG7O_q5f"
      }
    },
    {
      "cell_type": "code",
      "source": [
        "test = data_test.copy()"
      ],
      "metadata": {
        "id": "H-yfrWLbAyum"
      },
      "execution_count": null,
      "outputs": []
    },
    {
      "cell_type": "code",
      "source": [
        "test['Popularity'].fillna(test['Popularity'].mean(), inplace=True)"
      ],
      "metadata": {
        "id": "C5xNADhdJnWA"
      },
      "execution_count": null,
      "outputs": []
    },
    {
      "cell_type": "code",
      "source": [
        "from sklearn.preprocessing import LabelEncoder\n",
        "labelencoder = LabelEncoder()\n",
        "test['Artist Name'] = labelencoder.fit_transform(test['Artist Name'])\n",
        "test['Track Name'] = labelencoder.fit_transform(test['Track Name'])"
      ],
      "metadata": {
        "id": "5NYKnz2TAyuo"
      },
      "execution_count": null,
      "outputs": []
    },
    {
      "cell_type": "code",
      "source": [
        "test.isna().sum()"
      ],
      "metadata": {
        "colab": {
          "base_uri": "https://localhost:8080/"
        },
        "outputId": "5792d053-5385-40b7-d3b7-9c85315737bf",
        "id": "kf72zG4LAyuq"
      },
      "execution_count": null,
      "outputs": [
        {
          "output_type": "execute_result",
          "data": {
            "text/plain": [
              "Id                      0\n",
              "Artist Name             0\n",
              "Track Name              0\n",
              "Popularity              0\n",
              "danceability            0\n",
              "energy                  0\n",
              "key                   405\n",
              "loudness                0\n",
              "mode                    0\n",
              "speechiness             0\n",
              "acousticness            0\n",
              "instrumentalness      836\n",
              "liveness                0\n",
              "valence                 0\n",
              "tempo                   0\n",
              "duration_in min/ms      0\n",
              "time_signature          0\n",
              "dtype: int64"
            ]
          },
          "metadata": {},
          "execution_count": 451
        }
      ]
    },
    {
      "cell_type": "markdown",
      "source": [
        "handling instrumentalness"
      ],
      "metadata": {
        "id": "oXg904kvAyus"
      }
    },
    {
      "cell_type": "code",
      "source": [
        "test_data_naa = test[test[\"instrumentalness\"].isnull()]"
      ],
      "metadata": {
        "id": "IHkJuLzcAyuu"
      },
      "execution_count": null,
      "outputs": []
    },
    {
      "cell_type": "code",
      "source": [
        "test.dropna(inplace=True)"
      ],
      "metadata": {
        "id": "wxXhyPaaAyuv"
      },
      "execution_count": null,
      "outputs": []
    },
    {
      "cell_type": "code",
      "source": [
        "x_train = test.drop(\"instrumentalness\", axis=1)\n",
        "x_test = test_data_naa.drop(\"instrumentalness\", axis=1)\n",
        "y_train = test[\"instrumentalness\"]"
      ],
      "metadata": {
        "id": "QyqJv78mAyuw"
      },
      "execution_count": null,
      "outputs": []
    },
    {
      "cell_type": "code",
      "source": [
        "x_test.dropna(inplace=True)"
      ],
      "metadata": {
        "id": "QcH7_zMNAyux"
      },
      "execution_count": null,
      "outputs": []
    },
    {
      "cell_type": "code",
      "source": [
        "x_test.isna().sum()"
      ],
      "metadata": {
        "colab": {
          "base_uri": "https://localhost:8080/"
        },
        "outputId": "0e438186-7a1f-4966-c950-1973b349fc48",
        "id": "GzlEhIimAyuy"
      },
      "execution_count": null,
      "outputs": [
        {
          "output_type": "execute_result",
          "data": {
            "text/plain": [
              "Id                    0\n",
              "Artist Name           0\n",
              "Track Name            0\n",
              "Popularity            0\n",
              "danceability          0\n",
              "energy                0\n",
              "key                   0\n",
              "loudness              0\n",
              "mode                  0\n",
              "speechiness           0\n",
              "acousticness          0\n",
              "liveness              0\n",
              "valence               0\n",
              "tempo                 0\n",
              "duration_in min/ms    0\n",
              "time_signature        0\n",
              "dtype: int64"
            ]
          },
          "metadata": {},
          "execution_count": 456
        }
      ]
    },
    {
      "cell_type": "code",
      "source": [
        "from sklearn.linear_model import LinearRegression\n",
        "model = LinearRegression()\n",
        "model.fit(x_train, y_train)\n",
        "y_pred = model.predict(x_test)"
      ],
      "metadata": {
        "id": "QwY3mZfvAyuz"
      },
      "execution_count": null,
      "outputs": []
    },
    {
      "cell_type": "code",
      "source": [
        "print(x_train.shape, x_test.shape, y_pred.shape)"
      ],
      "metadata": {
        "colab": {
          "base_uri": "https://localhost:8080/"
        },
        "outputId": "91a20da8-1370-47d4-d1fb-515bbf296eca",
        "id": "hRDsDfXKAyu0"
      },
      "execution_count": null,
      "outputs": [
        {
          "output_type": "stream",
          "name": "stdout",
          "text": [
            "(2463, 16) (732, 16) (732,)\n"
          ]
        }
      ]
    },
    {
      "cell_type": "code",
      "source": [
        "prediction3 = pd.DataFrame({'instrumentalness': y_pred})"
      ],
      "metadata": {
        "id": "8PX8-3w7Ayu1"
      },
      "execution_count": null,
      "outputs": []
    },
    {
      "cell_type": "code",
      "source": [
        "prediction3.isna().sum()"
      ],
      "metadata": {
        "colab": {
          "base_uri": "https://localhost:8080/"
        },
        "outputId": "ccf8be9c-8933-4032-b26f-89456f673ae2",
        "id": "4nV85CNFAyu2"
      },
      "execution_count": null,
      "outputs": [
        {
          "output_type": "execute_result",
          "data": {
            "text/plain": [
              "instrumentalness    0\n",
              "dtype: int64"
            ]
          },
          "metadata": {},
          "execution_count": 460
        }
      ]
    },
    {
      "cell_type": "code",
      "source": [
        "final_instrumentalness_test = pd.merge(x_test, prediction3, how=\"inner\",on=x_test['Artist Name'])\n"
      ],
      "metadata": {
        "id": "pX86b5xTAyu3"
      },
      "execution_count": null,
      "outputs": []
    },
    {
      "cell_type": "code",
      "source": [
        "final_instrumentalness_test.shape"
      ],
      "metadata": {
        "colab": {
          "base_uri": "https://localhost:8080/"
        },
        "outputId": "f1d44ea0-a0be-4dbc-87b3-aa02e90921d6",
        "id": "lsFDamffAyu3"
      },
      "execution_count": null,
      "outputs": [
        {
          "output_type": "execute_result",
          "data": {
            "text/plain": [
              "(1090, 18)"
            ]
          },
          "metadata": {},
          "execution_count": 462
        }
      ]
    },
    {
      "cell_type": "code",
      "source": [
        "final_instrumentalness_test.drop(final_instrumentalness_test[['key_0']], axis=1)"
      ],
      "metadata": {
        "colab": {
          "base_uri": "https://localhost:8080/",
          "height": 505
        },
        "outputId": "ed59efe9-43c6-4c0f-e161-1fb5a628056a",
        "id": "_XgSYH_uAyu4"
      },
      "execution_count": null,
      "outputs": [
        {
          "output_type": "execute_result",
          "data": {
            "text/plain": [
              "         Id  Artist Name  Track Name  Popularity  danceability  energy   key  \\\n",
              "0     14399         1803        1147        80.0         0.656   0.291   2.0   \n",
              "1     14401         1773        3301        23.0         0.734   0.729   1.0   \n",
              "2     14403          143        3043        73.0         0.348   0.875  11.0   \n",
              "3     14403          143        3043        73.0         0.348   0.875  11.0   \n",
              "4     14403          143        3043        73.0         0.348   0.875  11.0   \n",
              "...     ...          ...         ...         ...           ...     ...   ...   \n",
              "1085  17941         2766        1668        47.0         0.586   0.893   1.0   \n",
              "1086  17971         2687        1879        41.0         0.471   0.802   4.0   \n",
              "1087  17973         1675         206        49.0         0.616   0.753   7.0   \n",
              "1088  17993          600        3271        38.0         0.598   0.690   5.0   \n",
              "1089  17995         1103        2780        38.0         0.443   0.401   5.0   \n",
              "\n",
              "      loudness  mode  speechiness  acousticness  liveness  valence    tempo  \\\n",
              "0      -10.572     1       0.0293       0.87200    0.1140    0.298  103.971   \n",
              "1       -6.381     0       0.2830       0.14700    0.0672    0.805   76.030   \n",
              "2       -4.758     0       0.1990       0.03410    0.1170    0.407  169.152   \n",
              "3       -4.758     0       0.1990       0.03410    0.1170    0.407  169.152   \n",
              "4       -4.758     0       0.1990       0.03410    0.1170    0.407  169.152   \n",
              "...        ...   ...          ...           ...       ...      ...      ...   \n",
              "1085    -3.494     0       0.1570       0.06760    0.2550    0.492   89.930   \n",
              "1086    -5.037     0       0.0642       0.00309    0.3610    0.406   82.332   \n",
              "1087    -5.912     1       0.0485       0.10600    0.2670    0.553   85.002   \n",
              "1088    -4.758     0       0.3030       0.36300    0.0519    0.653  187.934   \n",
              "1089   -13.997     1       0.0426       0.26300    0.1680    0.751  168.209   \n",
              "\n",
              "      duration_in min/ms  time_signature  instrumentalness  \n",
              "0               232533.0               4          0.096353  \n",
              "1               118439.0               4          0.037527  \n",
              "2               202133.0               4          0.066989  \n",
              "3               202133.0               4          0.146371  \n",
              "4               202133.0               4         -0.054029  \n",
              "...                  ...             ...               ...  \n",
              "1085            178793.0               4          0.029438  \n",
              "1086            183720.0               4          0.108208  \n",
              "1087            178932.0               4          0.079016  \n",
              "1088            198300.0               4         -0.062767  \n",
              "1089            182587.0               3          0.194027  \n",
              "\n",
              "[1090 rows x 17 columns]"
            ],
            "text/html": [
              "\n",
              "  <div id=\"df-6ab7dca5-9466-4ebe-8319-92e6b72ba460\">\n",
              "    <div class=\"colab-df-container\">\n",
              "      <div>\n",
              "<style scoped>\n",
              "    .dataframe tbody tr th:only-of-type {\n",
              "        vertical-align: middle;\n",
              "    }\n",
              "\n",
              "    .dataframe tbody tr th {\n",
              "        vertical-align: top;\n",
              "    }\n",
              "\n",
              "    .dataframe thead th {\n",
              "        text-align: right;\n",
              "    }\n",
              "</style>\n",
              "<table border=\"1\" class=\"dataframe\">\n",
              "  <thead>\n",
              "    <tr style=\"text-align: right;\">\n",
              "      <th></th>\n",
              "      <th>Id</th>\n",
              "      <th>Artist Name</th>\n",
              "      <th>Track Name</th>\n",
              "      <th>Popularity</th>\n",
              "      <th>danceability</th>\n",
              "      <th>energy</th>\n",
              "      <th>key</th>\n",
              "      <th>loudness</th>\n",
              "      <th>mode</th>\n",
              "      <th>speechiness</th>\n",
              "      <th>acousticness</th>\n",
              "      <th>liveness</th>\n",
              "      <th>valence</th>\n",
              "      <th>tempo</th>\n",
              "      <th>duration_in min/ms</th>\n",
              "      <th>time_signature</th>\n",
              "      <th>instrumentalness</th>\n",
              "    </tr>\n",
              "  </thead>\n",
              "  <tbody>\n",
              "    <tr>\n",
              "      <th>0</th>\n",
              "      <td>14399</td>\n",
              "      <td>1803</td>\n",
              "      <td>1147</td>\n",
              "      <td>80.0</td>\n",
              "      <td>0.656</td>\n",
              "      <td>0.291</td>\n",
              "      <td>2.0</td>\n",
              "      <td>-10.572</td>\n",
              "      <td>1</td>\n",
              "      <td>0.0293</td>\n",
              "      <td>0.87200</td>\n",
              "      <td>0.1140</td>\n",
              "      <td>0.298</td>\n",
              "      <td>103.971</td>\n",
              "      <td>232533.0</td>\n",
              "      <td>4</td>\n",
              "      <td>0.096353</td>\n",
              "    </tr>\n",
              "    <tr>\n",
              "      <th>1</th>\n",
              "      <td>14401</td>\n",
              "      <td>1773</td>\n",
              "      <td>3301</td>\n",
              "      <td>23.0</td>\n",
              "      <td>0.734</td>\n",
              "      <td>0.729</td>\n",
              "      <td>1.0</td>\n",
              "      <td>-6.381</td>\n",
              "      <td>0</td>\n",
              "      <td>0.2830</td>\n",
              "      <td>0.14700</td>\n",
              "      <td>0.0672</td>\n",
              "      <td>0.805</td>\n",
              "      <td>76.030</td>\n",
              "      <td>118439.0</td>\n",
              "      <td>4</td>\n",
              "      <td>0.037527</td>\n",
              "    </tr>\n",
              "    <tr>\n",
              "      <th>2</th>\n",
              "      <td>14403</td>\n",
              "      <td>143</td>\n",
              "      <td>3043</td>\n",
              "      <td>73.0</td>\n",
              "      <td>0.348</td>\n",
              "      <td>0.875</td>\n",
              "      <td>11.0</td>\n",
              "      <td>-4.758</td>\n",
              "      <td>0</td>\n",
              "      <td>0.1990</td>\n",
              "      <td>0.03410</td>\n",
              "      <td>0.1170</td>\n",
              "      <td>0.407</td>\n",
              "      <td>169.152</td>\n",
              "      <td>202133.0</td>\n",
              "      <td>4</td>\n",
              "      <td>0.066989</td>\n",
              "    </tr>\n",
              "    <tr>\n",
              "      <th>3</th>\n",
              "      <td>14403</td>\n",
              "      <td>143</td>\n",
              "      <td>3043</td>\n",
              "      <td>73.0</td>\n",
              "      <td>0.348</td>\n",
              "      <td>0.875</td>\n",
              "      <td>11.0</td>\n",
              "      <td>-4.758</td>\n",
              "      <td>0</td>\n",
              "      <td>0.1990</td>\n",
              "      <td>0.03410</td>\n",
              "      <td>0.1170</td>\n",
              "      <td>0.407</td>\n",
              "      <td>169.152</td>\n",
              "      <td>202133.0</td>\n",
              "      <td>4</td>\n",
              "      <td>0.146371</td>\n",
              "    </tr>\n",
              "    <tr>\n",
              "      <th>4</th>\n",
              "      <td>14403</td>\n",
              "      <td>143</td>\n",
              "      <td>3043</td>\n",
              "      <td>73.0</td>\n",
              "      <td>0.348</td>\n",
              "      <td>0.875</td>\n",
              "      <td>11.0</td>\n",
              "      <td>-4.758</td>\n",
              "      <td>0</td>\n",
              "      <td>0.1990</td>\n",
              "      <td>0.03410</td>\n",
              "      <td>0.1170</td>\n",
              "      <td>0.407</td>\n",
              "      <td>169.152</td>\n",
              "      <td>202133.0</td>\n",
              "      <td>4</td>\n",
              "      <td>-0.054029</td>\n",
              "    </tr>\n",
              "    <tr>\n",
              "      <th>...</th>\n",
              "      <td>...</td>\n",
              "      <td>...</td>\n",
              "      <td>...</td>\n",
              "      <td>...</td>\n",
              "      <td>...</td>\n",
              "      <td>...</td>\n",
              "      <td>...</td>\n",
              "      <td>...</td>\n",
              "      <td>...</td>\n",
              "      <td>...</td>\n",
              "      <td>...</td>\n",
              "      <td>...</td>\n",
              "      <td>...</td>\n",
              "      <td>...</td>\n",
              "      <td>...</td>\n",
              "      <td>...</td>\n",
              "      <td>...</td>\n",
              "    </tr>\n",
              "    <tr>\n",
              "      <th>1085</th>\n",
              "      <td>17941</td>\n",
              "      <td>2766</td>\n",
              "      <td>1668</td>\n",
              "      <td>47.0</td>\n",
              "      <td>0.586</td>\n",
              "      <td>0.893</td>\n",
              "      <td>1.0</td>\n",
              "      <td>-3.494</td>\n",
              "      <td>0</td>\n",
              "      <td>0.1570</td>\n",
              "      <td>0.06760</td>\n",
              "      <td>0.2550</td>\n",
              "      <td>0.492</td>\n",
              "      <td>89.930</td>\n",
              "      <td>178793.0</td>\n",
              "      <td>4</td>\n",
              "      <td>0.029438</td>\n",
              "    </tr>\n",
              "    <tr>\n",
              "      <th>1086</th>\n",
              "      <td>17971</td>\n",
              "      <td>2687</td>\n",
              "      <td>1879</td>\n",
              "      <td>41.0</td>\n",
              "      <td>0.471</td>\n",
              "      <td>0.802</td>\n",
              "      <td>4.0</td>\n",
              "      <td>-5.037</td>\n",
              "      <td>0</td>\n",
              "      <td>0.0642</td>\n",
              "      <td>0.00309</td>\n",
              "      <td>0.3610</td>\n",
              "      <td>0.406</td>\n",
              "      <td>82.332</td>\n",
              "      <td>183720.0</td>\n",
              "      <td>4</td>\n",
              "      <td>0.108208</td>\n",
              "    </tr>\n",
              "    <tr>\n",
              "      <th>1087</th>\n",
              "      <td>17973</td>\n",
              "      <td>1675</td>\n",
              "      <td>206</td>\n",
              "      <td>49.0</td>\n",
              "      <td>0.616</td>\n",
              "      <td>0.753</td>\n",
              "      <td>7.0</td>\n",
              "      <td>-5.912</td>\n",
              "      <td>1</td>\n",
              "      <td>0.0485</td>\n",
              "      <td>0.10600</td>\n",
              "      <td>0.2670</td>\n",
              "      <td>0.553</td>\n",
              "      <td>85.002</td>\n",
              "      <td>178932.0</td>\n",
              "      <td>4</td>\n",
              "      <td>0.079016</td>\n",
              "    </tr>\n",
              "    <tr>\n",
              "      <th>1088</th>\n",
              "      <td>17993</td>\n",
              "      <td>600</td>\n",
              "      <td>3271</td>\n",
              "      <td>38.0</td>\n",
              "      <td>0.598</td>\n",
              "      <td>0.690</td>\n",
              "      <td>5.0</td>\n",
              "      <td>-4.758</td>\n",
              "      <td>0</td>\n",
              "      <td>0.3030</td>\n",
              "      <td>0.36300</td>\n",
              "      <td>0.0519</td>\n",
              "      <td>0.653</td>\n",
              "      <td>187.934</td>\n",
              "      <td>198300.0</td>\n",
              "      <td>4</td>\n",
              "      <td>-0.062767</td>\n",
              "    </tr>\n",
              "    <tr>\n",
              "      <th>1089</th>\n",
              "      <td>17995</td>\n",
              "      <td>1103</td>\n",
              "      <td>2780</td>\n",
              "      <td>38.0</td>\n",
              "      <td>0.443</td>\n",
              "      <td>0.401</td>\n",
              "      <td>5.0</td>\n",
              "      <td>-13.997</td>\n",
              "      <td>1</td>\n",
              "      <td>0.0426</td>\n",
              "      <td>0.26300</td>\n",
              "      <td>0.1680</td>\n",
              "      <td>0.751</td>\n",
              "      <td>168.209</td>\n",
              "      <td>182587.0</td>\n",
              "      <td>3</td>\n",
              "      <td>0.194027</td>\n",
              "    </tr>\n",
              "  </tbody>\n",
              "</table>\n",
              "<p>1090 rows × 17 columns</p>\n",
              "</div>\n",
              "      <button class=\"colab-df-convert\" onclick=\"convertToInteractive('df-6ab7dca5-9466-4ebe-8319-92e6b72ba460')\"\n",
              "              title=\"Convert this dataframe to an interactive table.\"\n",
              "              style=\"display:none;\">\n",
              "        \n",
              "  <svg xmlns=\"http://www.w3.org/2000/svg\" height=\"24px\"viewBox=\"0 0 24 24\"\n",
              "       width=\"24px\">\n",
              "    <path d=\"M0 0h24v24H0V0z\" fill=\"none\"/>\n",
              "    <path d=\"M18.56 5.44l.94 2.06.94-2.06 2.06-.94-2.06-.94-.94-2.06-.94 2.06-2.06.94zm-11 1L8.5 8.5l.94-2.06 2.06-.94-2.06-.94L8.5 2.5l-.94 2.06-2.06.94zm10 10l.94 2.06.94-2.06 2.06-.94-2.06-.94-.94-2.06-.94 2.06-2.06.94z\"/><path d=\"M17.41 7.96l-1.37-1.37c-.4-.4-.92-.59-1.43-.59-.52 0-1.04.2-1.43.59L10.3 9.45l-7.72 7.72c-.78.78-.78 2.05 0 2.83L4 21.41c.39.39.9.59 1.41.59.51 0 1.02-.2 1.41-.59l7.78-7.78 2.81-2.81c.8-.78.8-2.07 0-2.86zM5.41 20L4 18.59l7.72-7.72 1.47 1.35L5.41 20z\"/>\n",
              "  </svg>\n",
              "      </button>\n",
              "      \n",
              "  <style>\n",
              "    .colab-df-container {\n",
              "      display:flex;\n",
              "      flex-wrap:wrap;\n",
              "      gap: 12px;\n",
              "    }\n",
              "\n",
              "    .colab-df-convert {\n",
              "      background-color: #E8F0FE;\n",
              "      border: none;\n",
              "      border-radius: 50%;\n",
              "      cursor: pointer;\n",
              "      display: none;\n",
              "      fill: #1967D2;\n",
              "      height: 32px;\n",
              "      padding: 0 0 0 0;\n",
              "      width: 32px;\n",
              "    }\n",
              "\n",
              "    .colab-df-convert:hover {\n",
              "      background-color: #E2EBFA;\n",
              "      box-shadow: 0px 1px 2px rgba(60, 64, 67, 0.3), 0px 1px 3px 1px rgba(60, 64, 67, 0.15);\n",
              "      fill: #174EA6;\n",
              "    }\n",
              "\n",
              "    [theme=dark] .colab-df-convert {\n",
              "      background-color: #3B4455;\n",
              "      fill: #D2E3FC;\n",
              "    }\n",
              "\n",
              "    [theme=dark] .colab-df-convert:hover {\n",
              "      background-color: #434B5C;\n",
              "      box-shadow: 0px 1px 3px 1px rgba(0, 0, 0, 0.15);\n",
              "      filter: drop-shadow(0px 1px 2px rgba(0, 0, 0, 0.3));\n",
              "      fill: #FFFFFF;\n",
              "    }\n",
              "  </style>\n",
              "\n",
              "      <script>\n",
              "        const buttonEl =\n",
              "          document.querySelector('#df-6ab7dca5-9466-4ebe-8319-92e6b72ba460 button.colab-df-convert');\n",
              "        buttonEl.style.display =\n",
              "          google.colab.kernel.accessAllowed ? 'block' : 'none';\n",
              "\n",
              "        async function convertToInteractive(key) {\n",
              "          const element = document.querySelector('#df-6ab7dca5-9466-4ebe-8319-92e6b72ba460');\n",
              "          const dataTable =\n",
              "            await google.colab.kernel.invokeFunction('convertToInteractive',\n",
              "                                                     [key], {});\n",
              "          if (!dataTable) return;\n",
              "\n",
              "          const docLinkHtml = 'Like what you see? Visit the ' +\n",
              "            '<a target=\"_blank\" href=https://colab.research.google.com/notebooks/data_table.ipynb>data table notebook</a>'\n",
              "            + ' to learn more about interactive tables.';\n",
              "          element.innerHTML = '';\n",
              "          dataTable['output_type'] = 'display_data';\n",
              "          await google.colab.output.renderOutput(dataTable, element);\n",
              "          const docLink = document.createElement('div');\n",
              "          docLink.innerHTML = docLinkHtml;\n",
              "          element.appendChild(docLink);\n",
              "        }\n",
              "      </script>\n",
              "    </div>\n",
              "  </div>\n",
              "  "
            ]
          },
          "metadata": {},
          "execution_count": 463
        }
      ]
    },
    {
      "cell_type": "markdown",
      "source": [
        "handling key"
      ],
      "metadata": {
        "id": "LxBvyaOyAyu5"
      }
    },
    {
      "cell_type": "code",
      "source": [
        "test = data_test.copy()"
      ],
      "metadata": {
        "id": "d-r8ylV6Ayu5"
      },
      "execution_count": null,
      "outputs": []
    },
    {
      "cell_type": "code",
      "source": [
        "test['Popularity'].fillna(test['Popularity'].mean(), inplace=True)"
      ],
      "metadata": {
        "id": "IZNDomAUJ70X"
      },
      "execution_count": null,
      "outputs": []
    },
    {
      "cell_type": "code",
      "source": [
        "from sklearn.preprocessing import LabelEncoder\n",
        "labelencoder = LabelEncoder()\n",
        "test['Artist Name'] = labelencoder.fit_transform(test['Artist Name'])\n",
        "test['Track Name'] = labelencoder.fit_transform(test['Track Name'])"
      ],
      "metadata": {
        "id": "tAKgTsDyAyu6"
      },
      "execution_count": null,
      "outputs": []
    },
    {
      "cell_type": "code",
      "source": [
        "test_data_na_key1= test[test[\"key\"].isnull()]"
      ],
      "metadata": {
        "id": "DH6OVb6hAyu6"
      },
      "execution_count": null,
      "outputs": []
    },
    {
      "cell_type": "code",
      "source": [
        "test.dropna(inplace=True)"
      ],
      "metadata": {
        "id": "D2Si6FI4Ayu6"
      },
      "execution_count": null,
      "outputs": []
    },
    {
      "cell_type": "code",
      "source": [
        "x_train = test.drop(\"key\", axis=1)\n",
        "x_test = test_data_na_key1.drop(\"key\", axis=1)\n",
        "y_train = test[\"key\"]"
      ],
      "metadata": {
        "id": "r0sBocygAyu7"
      },
      "execution_count": null,
      "outputs": []
    },
    {
      "cell_type": "code",
      "source": [
        "x_test.dropna(inplace=True)"
      ],
      "metadata": {
        "id": "PFAgke94Ayu7"
      },
      "execution_count": null,
      "outputs": []
    },
    {
      "cell_type": "code",
      "source": [
        "x_test.isna().sum()"
      ],
      "metadata": {
        "colab": {
          "base_uri": "https://localhost:8080/"
        },
        "outputId": "a3b23432-e349-4b05-c15e-e8be24399f06",
        "id": "SYqSb45FAyu8"
      },
      "execution_count": null,
      "outputs": [
        {
          "output_type": "execute_result",
          "data": {
            "text/plain": [
              "Id                    0\n",
              "Artist Name           0\n",
              "Track Name            0\n",
              "Popularity            0\n",
              "danceability          0\n",
              "energy                0\n",
              "loudness              0\n",
              "mode                  0\n",
              "speechiness           0\n",
              "acousticness          0\n",
              "instrumentalness      0\n",
              "liveness              0\n",
              "valence               0\n",
              "tempo                 0\n",
              "duration_in min/ms    0\n",
              "time_signature        0\n",
              "dtype: int64"
            ]
          },
          "metadata": {},
          "execution_count": 473
        }
      ]
    },
    {
      "cell_type": "code",
      "source": [
        "from sklearn.linear_model import LinearRegression\n",
        "model = LinearRegression()\n",
        "model.fit(x_train, y_train)\n",
        "y_pred = model.predict(x_test)"
      ],
      "metadata": {
        "id": "3y9iB8YoAyu8"
      },
      "execution_count": null,
      "outputs": []
    },
    {
      "cell_type": "code",
      "source": [
        "print(x_train.shape, x_test.shape, y_pred.shape)"
      ],
      "metadata": {
        "colab": {
          "base_uri": "https://localhost:8080/"
        },
        "outputId": "d6297aa5-28b8-44ce-d1d3-5cc79d7081c8",
        "id": "i7WStr2IAyu8"
      },
      "execution_count": null,
      "outputs": [
        {
          "output_type": "stream",
          "name": "stdout",
          "text": [
            "(2463, 16) (301, 16) (301,)\n"
          ]
        }
      ]
    },
    {
      "cell_type": "code",
      "source": [
        "prediction4 = pd.DataFrame({'key': y_pred})"
      ],
      "metadata": {
        "id": "ywUbVT1tAyu9"
      },
      "execution_count": null,
      "outputs": []
    },
    {
      "cell_type": "code",
      "source": [
        "prediction4.isna().sum()"
      ],
      "metadata": {
        "colab": {
          "base_uri": "https://localhost:8080/"
        },
        "outputId": "95988214-261e-42c8-9364-44dc5bf8d054",
        "id": "1wPmu-PfAyu9"
      },
      "execution_count": null,
      "outputs": [
        {
          "output_type": "execute_result",
          "data": {
            "text/plain": [
              "key    0\n",
              "dtype: int64"
            ]
          },
          "metadata": {},
          "execution_count": 477
        }
      ]
    },
    {
      "cell_type": "code",
      "source": [
        "final_key_test = pd.merge(x_test, prediction4, how=\"inner\",on=x_test['Artist Name'])"
      ],
      "metadata": {
        "id": "9wOCQEEgAyu-"
      },
      "execution_count": null,
      "outputs": []
    },
    {
      "cell_type": "code",
      "source": [
        "final_key_test.shape"
      ],
      "metadata": {
        "colab": {
          "base_uri": "https://localhost:8080/"
        },
        "outputId": "067c3e33-567a-4e4b-ad00-57fabbbda603",
        "id": "cNoKXIhjAyu-"
      },
      "execution_count": null,
      "outputs": [
        {
          "output_type": "execute_result",
          "data": {
            "text/plain": [
              "(327, 18)"
            ]
          },
          "metadata": {},
          "execution_count": 479
        }
      ]
    },
    {
      "cell_type": "code",
      "source": [
        "final_key_test.isna().sum()"
      ],
      "metadata": {
        "colab": {
          "base_uri": "https://localhost:8080/"
        },
        "outputId": "a9967f5c-73af-4da3-ccd9-dd8269d754d0",
        "id": "nDNknzkrAyu-"
      },
      "execution_count": null,
      "outputs": [
        {
          "output_type": "execute_result",
          "data": {
            "text/plain": [
              "key_0                 0\n",
              "Id                    0\n",
              "Artist Name           0\n",
              "Track Name            0\n",
              "Popularity            0\n",
              "danceability          0\n",
              "energy                0\n",
              "loudness              0\n",
              "mode                  0\n",
              "speechiness           0\n",
              "acousticness          0\n",
              "instrumentalness      0\n",
              "liveness              0\n",
              "valence               0\n",
              "tempo                 0\n",
              "duration_in min/ms    0\n",
              "time_signature        0\n",
              "key                   0\n",
              "dtype: int64"
            ]
          },
          "metadata": {},
          "execution_count": 480
        }
      ]
    },
    {
      "cell_type": "code",
      "source": [
        "final_key_test.drop(final_key[['key_0']], axis=1)"
      ],
      "metadata": {
        "colab": {
          "base_uri": "https://localhost:8080/",
          "height": 505
        },
        "outputId": "ff79e750-4723-4ab3-f29a-b0eb910714c0",
        "id": "DRniD2BHAyu_"
      },
      "execution_count": null,
      "outputs": [
        {
          "output_type": "execute_result",
          "data": {
            "text/plain": [
              "        Id  Artist Name  Track Name  Popularity  danceability  energy  \\\n",
              "0    14400         2609         709        52.0         0.480  0.8260   \n",
              "1    14413         1216        2650        37.0         0.887  0.8550   \n",
              "2    14419         2469         631        37.0         0.489  0.5930   \n",
              "3    14422         2443        2296        94.0         0.650  0.8250   \n",
              "4    14462          925        2187        42.0         0.523  0.9830   \n",
              "..     ...          ...         ...         ...           ...     ...   \n",
              "322  17958         1195        1860        48.0         0.506  0.9070   \n",
              "323  17961          783        1803        55.0         0.115  0.2570   \n",
              "324  17969         2056         561        51.0         0.543  0.9270   \n",
              "325  17987         1110        1470        34.0         0.620  0.0827   \n",
              "326  17996         1435        1058        69.0         0.675  0.8280   \n",
              "\n",
              "     loudness  mode  speechiness  acousticness  instrumentalness  liveness  \\\n",
              "0      -4.602     1       0.0397      0.000797          0.000001    0.1250   \n",
              "1      -6.210     1       0.1860      0.146000          0.000037    0.1090   \n",
              "2      -6.912     1       0.0312      0.353000          0.032100    0.1430   \n",
              "3      -4.645     1       0.0325      0.021500          0.000024    0.0936   \n",
              "4      -3.421     1       0.1960      0.001240          0.000003    0.0728   \n",
              "..        ...   ...          ...           ...               ...       ...   \n",
              "322    -4.011     1       0.0391      0.000019          0.336000    0.5730   \n",
              "323   -14.611     0       0.0349      0.805000          0.819000    0.1840   \n",
              "324    -5.209     1       0.0755      0.000342          0.543000    0.0327   \n",
              "325   -20.880     1       0.0625      0.368000          0.051000    0.0621   \n",
              "326    -5.799     1       0.0454      0.024200          0.010200    0.3640   \n",
              "\n",
              "     valence    tempo  duration_in min/ms  time_signature       key  \n",
              "0     0.6870   96.000       222053.000000               4  5.728633  \n",
              "1     0.6700  116.982       188777.000000               4  5.951317  \n",
              "2     0.3570  125.016       279081.000000               4  5.484661  \n",
              "3     0.5930  118.091            3.183567               4  5.594283  \n",
              "4     0.4040  139.017       272121.000000               4  5.796224  \n",
              "..       ...      ...                 ...             ...       ...  \n",
              "322   0.5470  156.050       188853.000000               4  5.931945  \n",
              "323   0.0725   93.784       530894.000000               4  6.127161  \n",
              "324   0.3540  120.097       182333.000000               4  5.724735  \n",
              "325   0.4240  145.108       437573.000000               3  5.553966  \n",
              "326   0.6690  122.229       187733.000000               4  5.881629  \n",
              "\n",
              "[327 rows x 17 columns]"
            ],
            "text/html": [
              "\n",
              "  <div id=\"df-e0953228-497d-41a6-84d0-09f6ab093d0f\">\n",
              "    <div class=\"colab-df-container\">\n",
              "      <div>\n",
              "<style scoped>\n",
              "    .dataframe tbody tr th:only-of-type {\n",
              "        vertical-align: middle;\n",
              "    }\n",
              "\n",
              "    .dataframe tbody tr th {\n",
              "        vertical-align: top;\n",
              "    }\n",
              "\n",
              "    .dataframe thead th {\n",
              "        text-align: right;\n",
              "    }\n",
              "</style>\n",
              "<table border=\"1\" class=\"dataframe\">\n",
              "  <thead>\n",
              "    <tr style=\"text-align: right;\">\n",
              "      <th></th>\n",
              "      <th>Id</th>\n",
              "      <th>Artist Name</th>\n",
              "      <th>Track Name</th>\n",
              "      <th>Popularity</th>\n",
              "      <th>danceability</th>\n",
              "      <th>energy</th>\n",
              "      <th>loudness</th>\n",
              "      <th>mode</th>\n",
              "      <th>speechiness</th>\n",
              "      <th>acousticness</th>\n",
              "      <th>instrumentalness</th>\n",
              "      <th>liveness</th>\n",
              "      <th>valence</th>\n",
              "      <th>tempo</th>\n",
              "      <th>duration_in min/ms</th>\n",
              "      <th>time_signature</th>\n",
              "      <th>key</th>\n",
              "    </tr>\n",
              "  </thead>\n",
              "  <tbody>\n",
              "    <tr>\n",
              "      <th>0</th>\n",
              "      <td>14400</td>\n",
              "      <td>2609</td>\n",
              "      <td>709</td>\n",
              "      <td>52.0</td>\n",
              "      <td>0.480</td>\n",
              "      <td>0.8260</td>\n",
              "      <td>-4.602</td>\n",
              "      <td>1</td>\n",
              "      <td>0.0397</td>\n",
              "      <td>0.000797</td>\n",
              "      <td>0.000001</td>\n",
              "      <td>0.1250</td>\n",
              "      <td>0.6870</td>\n",
              "      <td>96.000</td>\n",
              "      <td>222053.000000</td>\n",
              "      <td>4</td>\n",
              "      <td>5.728633</td>\n",
              "    </tr>\n",
              "    <tr>\n",
              "      <th>1</th>\n",
              "      <td>14413</td>\n",
              "      <td>1216</td>\n",
              "      <td>2650</td>\n",
              "      <td>37.0</td>\n",
              "      <td>0.887</td>\n",
              "      <td>0.8550</td>\n",
              "      <td>-6.210</td>\n",
              "      <td>1</td>\n",
              "      <td>0.1860</td>\n",
              "      <td>0.146000</td>\n",
              "      <td>0.000037</td>\n",
              "      <td>0.1090</td>\n",
              "      <td>0.6700</td>\n",
              "      <td>116.982</td>\n",
              "      <td>188777.000000</td>\n",
              "      <td>4</td>\n",
              "      <td>5.951317</td>\n",
              "    </tr>\n",
              "    <tr>\n",
              "      <th>2</th>\n",
              "      <td>14419</td>\n",
              "      <td>2469</td>\n",
              "      <td>631</td>\n",
              "      <td>37.0</td>\n",
              "      <td>0.489</td>\n",
              "      <td>0.5930</td>\n",
              "      <td>-6.912</td>\n",
              "      <td>1</td>\n",
              "      <td>0.0312</td>\n",
              "      <td>0.353000</td>\n",
              "      <td>0.032100</td>\n",
              "      <td>0.1430</td>\n",
              "      <td>0.3570</td>\n",
              "      <td>125.016</td>\n",
              "      <td>279081.000000</td>\n",
              "      <td>4</td>\n",
              "      <td>5.484661</td>\n",
              "    </tr>\n",
              "    <tr>\n",
              "      <th>3</th>\n",
              "      <td>14422</td>\n",
              "      <td>2443</td>\n",
              "      <td>2296</td>\n",
              "      <td>94.0</td>\n",
              "      <td>0.650</td>\n",
              "      <td>0.8250</td>\n",
              "      <td>-4.645</td>\n",
              "      <td>1</td>\n",
              "      <td>0.0325</td>\n",
              "      <td>0.021500</td>\n",
              "      <td>0.000024</td>\n",
              "      <td>0.0936</td>\n",
              "      <td>0.5930</td>\n",
              "      <td>118.091</td>\n",
              "      <td>3.183567</td>\n",
              "      <td>4</td>\n",
              "      <td>5.594283</td>\n",
              "    </tr>\n",
              "    <tr>\n",
              "      <th>4</th>\n",
              "      <td>14462</td>\n",
              "      <td>925</td>\n",
              "      <td>2187</td>\n",
              "      <td>42.0</td>\n",
              "      <td>0.523</td>\n",
              "      <td>0.9830</td>\n",
              "      <td>-3.421</td>\n",
              "      <td>1</td>\n",
              "      <td>0.1960</td>\n",
              "      <td>0.001240</td>\n",
              "      <td>0.000003</td>\n",
              "      <td>0.0728</td>\n",
              "      <td>0.4040</td>\n",
              "      <td>139.017</td>\n",
              "      <td>272121.000000</td>\n",
              "      <td>4</td>\n",
              "      <td>5.796224</td>\n",
              "    </tr>\n",
              "    <tr>\n",
              "      <th>...</th>\n",
              "      <td>...</td>\n",
              "      <td>...</td>\n",
              "      <td>...</td>\n",
              "      <td>...</td>\n",
              "      <td>...</td>\n",
              "      <td>...</td>\n",
              "      <td>...</td>\n",
              "      <td>...</td>\n",
              "      <td>...</td>\n",
              "      <td>...</td>\n",
              "      <td>...</td>\n",
              "      <td>...</td>\n",
              "      <td>...</td>\n",
              "      <td>...</td>\n",
              "      <td>...</td>\n",
              "      <td>...</td>\n",
              "      <td>...</td>\n",
              "    </tr>\n",
              "    <tr>\n",
              "      <th>322</th>\n",
              "      <td>17958</td>\n",
              "      <td>1195</td>\n",
              "      <td>1860</td>\n",
              "      <td>48.0</td>\n",
              "      <td>0.506</td>\n",
              "      <td>0.9070</td>\n",
              "      <td>-4.011</td>\n",
              "      <td>1</td>\n",
              "      <td>0.0391</td>\n",
              "      <td>0.000019</td>\n",
              "      <td>0.336000</td>\n",
              "      <td>0.5730</td>\n",
              "      <td>0.5470</td>\n",
              "      <td>156.050</td>\n",
              "      <td>188853.000000</td>\n",
              "      <td>4</td>\n",
              "      <td>5.931945</td>\n",
              "    </tr>\n",
              "    <tr>\n",
              "      <th>323</th>\n",
              "      <td>17961</td>\n",
              "      <td>783</td>\n",
              "      <td>1803</td>\n",
              "      <td>55.0</td>\n",
              "      <td>0.115</td>\n",
              "      <td>0.2570</td>\n",
              "      <td>-14.611</td>\n",
              "      <td>0</td>\n",
              "      <td>0.0349</td>\n",
              "      <td>0.805000</td>\n",
              "      <td>0.819000</td>\n",
              "      <td>0.1840</td>\n",
              "      <td>0.0725</td>\n",
              "      <td>93.784</td>\n",
              "      <td>530894.000000</td>\n",
              "      <td>4</td>\n",
              "      <td>6.127161</td>\n",
              "    </tr>\n",
              "    <tr>\n",
              "      <th>324</th>\n",
              "      <td>17969</td>\n",
              "      <td>2056</td>\n",
              "      <td>561</td>\n",
              "      <td>51.0</td>\n",
              "      <td>0.543</td>\n",
              "      <td>0.9270</td>\n",
              "      <td>-5.209</td>\n",
              "      <td>1</td>\n",
              "      <td>0.0755</td>\n",
              "      <td>0.000342</td>\n",
              "      <td>0.543000</td>\n",
              "      <td>0.0327</td>\n",
              "      <td>0.3540</td>\n",
              "      <td>120.097</td>\n",
              "      <td>182333.000000</td>\n",
              "      <td>4</td>\n",
              "      <td>5.724735</td>\n",
              "    </tr>\n",
              "    <tr>\n",
              "      <th>325</th>\n",
              "      <td>17987</td>\n",
              "      <td>1110</td>\n",
              "      <td>1470</td>\n",
              "      <td>34.0</td>\n",
              "      <td>0.620</td>\n",
              "      <td>0.0827</td>\n",
              "      <td>-20.880</td>\n",
              "      <td>1</td>\n",
              "      <td>0.0625</td>\n",
              "      <td>0.368000</td>\n",
              "      <td>0.051000</td>\n",
              "      <td>0.0621</td>\n",
              "      <td>0.4240</td>\n",
              "      <td>145.108</td>\n",
              "      <td>437573.000000</td>\n",
              "      <td>3</td>\n",
              "      <td>5.553966</td>\n",
              "    </tr>\n",
              "    <tr>\n",
              "      <th>326</th>\n",
              "      <td>17996</td>\n",
              "      <td>1435</td>\n",
              "      <td>1058</td>\n",
              "      <td>69.0</td>\n",
              "      <td>0.675</td>\n",
              "      <td>0.8280</td>\n",
              "      <td>-5.799</td>\n",
              "      <td>1</td>\n",
              "      <td>0.0454</td>\n",
              "      <td>0.024200</td>\n",
              "      <td>0.010200</td>\n",
              "      <td>0.3640</td>\n",
              "      <td>0.6690</td>\n",
              "      <td>122.229</td>\n",
              "      <td>187733.000000</td>\n",
              "      <td>4</td>\n",
              "      <td>5.881629</td>\n",
              "    </tr>\n",
              "  </tbody>\n",
              "</table>\n",
              "<p>327 rows × 17 columns</p>\n",
              "</div>\n",
              "      <button class=\"colab-df-convert\" onclick=\"convertToInteractive('df-e0953228-497d-41a6-84d0-09f6ab093d0f')\"\n",
              "              title=\"Convert this dataframe to an interactive table.\"\n",
              "              style=\"display:none;\">\n",
              "        \n",
              "  <svg xmlns=\"http://www.w3.org/2000/svg\" height=\"24px\"viewBox=\"0 0 24 24\"\n",
              "       width=\"24px\">\n",
              "    <path d=\"M0 0h24v24H0V0z\" fill=\"none\"/>\n",
              "    <path d=\"M18.56 5.44l.94 2.06.94-2.06 2.06-.94-2.06-.94-.94-2.06-.94 2.06-2.06.94zm-11 1L8.5 8.5l.94-2.06 2.06-.94-2.06-.94L8.5 2.5l-.94 2.06-2.06.94zm10 10l.94 2.06.94-2.06 2.06-.94-2.06-.94-.94-2.06-.94 2.06-2.06.94z\"/><path d=\"M17.41 7.96l-1.37-1.37c-.4-.4-.92-.59-1.43-.59-.52 0-1.04.2-1.43.59L10.3 9.45l-7.72 7.72c-.78.78-.78 2.05 0 2.83L4 21.41c.39.39.9.59 1.41.59.51 0 1.02-.2 1.41-.59l7.78-7.78 2.81-2.81c.8-.78.8-2.07 0-2.86zM5.41 20L4 18.59l7.72-7.72 1.47 1.35L5.41 20z\"/>\n",
              "  </svg>\n",
              "      </button>\n",
              "      \n",
              "  <style>\n",
              "    .colab-df-container {\n",
              "      display:flex;\n",
              "      flex-wrap:wrap;\n",
              "      gap: 12px;\n",
              "    }\n",
              "\n",
              "    .colab-df-convert {\n",
              "      background-color: #E8F0FE;\n",
              "      border: none;\n",
              "      border-radius: 50%;\n",
              "      cursor: pointer;\n",
              "      display: none;\n",
              "      fill: #1967D2;\n",
              "      height: 32px;\n",
              "      padding: 0 0 0 0;\n",
              "      width: 32px;\n",
              "    }\n",
              "\n",
              "    .colab-df-convert:hover {\n",
              "      background-color: #E2EBFA;\n",
              "      box-shadow: 0px 1px 2px rgba(60, 64, 67, 0.3), 0px 1px 3px 1px rgba(60, 64, 67, 0.15);\n",
              "      fill: #174EA6;\n",
              "    }\n",
              "\n",
              "    [theme=dark] .colab-df-convert {\n",
              "      background-color: #3B4455;\n",
              "      fill: #D2E3FC;\n",
              "    }\n",
              "\n",
              "    [theme=dark] .colab-df-convert:hover {\n",
              "      background-color: #434B5C;\n",
              "      box-shadow: 0px 1px 3px 1px rgba(0, 0, 0, 0.15);\n",
              "      filter: drop-shadow(0px 1px 2px rgba(0, 0, 0, 0.3));\n",
              "      fill: #FFFFFF;\n",
              "    }\n",
              "  </style>\n",
              "\n",
              "      <script>\n",
              "        const buttonEl =\n",
              "          document.querySelector('#df-e0953228-497d-41a6-84d0-09f6ab093d0f button.colab-df-convert');\n",
              "        buttonEl.style.display =\n",
              "          google.colab.kernel.accessAllowed ? 'block' : 'none';\n",
              "\n",
              "        async function convertToInteractive(key) {\n",
              "          const element = document.querySelector('#df-e0953228-497d-41a6-84d0-09f6ab093d0f');\n",
              "          const dataTable =\n",
              "            await google.colab.kernel.invokeFunction('convertToInteractive',\n",
              "                                                     [key], {});\n",
              "          if (!dataTable) return;\n",
              "\n",
              "          const docLinkHtml = 'Like what you see? Visit the ' +\n",
              "            '<a target=\"_blank\" href=https://colab.research.google.com/notebooks/data_table.ipynb>data table notebook</a>'\n",
              "            + ' to learn more about interactive tables.';\n",
              "          element.innerHTML = '';\n",
              "          dataTable['output_type'] = 'display_data';\n",
              "          await google.colab.output.renderOutput(dataTable, element);\n",
              "          const docLink = document.createElement('div');\n",
              "          docLink.innerHTML = docLinkHtml;\n",
              "          element.appendChild(docLink);\n",
              "        }\n",
              "      </script>\n",
              "    </div>\n",
              "  </div>\n",
              "  "
            ]
          },
          "metadata": {},
          "execution_count": 481
        }
      ]
    },
    {
      "cell_type": "code",
      "source": [
        "data_test.columns"
      ],
      "metadata": {
        "colab": {
          "base_uri": "https://localhost:8080/"
        },
        "outputId": "94c033ee-3439-4e1c-ceda-08642a3677dd",
        "id": "paVjG7qxAyu_"
      },
      "execution_count": null,
      "outputs": [
        {
          "output_type": "execute_result",
          "data": {
            "text/plain": [
              "Index(['Id', 'Artist Name', 'Track Name', 'Popularity', 'danceability',\n",
              "       'energy', 'key', 'loudness', 'mode', 'speechiness', 'acousticness',\n",
              "       'instrumentalness', 'liveness', 'valence', 'tempo',\n",
              "       'duration_in min/ms', 'time_signature'],\n",
              "      dtype='object')"
            ]
          },
          "metadata": {},
          "execution_count": 482
        }
      ]
    },
    {
      "cell_type": "code",
      "source": [
        "s_1 = {'Id':final_instrumentalness_test['Id'], 'Artist Name': final_instrumentalness_test['Artist Name'], 'Track Name': final_instrumentalness_test['Track Name'],\n",
        "      'Popularity': final_instrumentalness_test['Popularity'],'danceability': final_instrumentalness_test['danceability'],\n",
        "       'energy': final_instrumentalness_test['energy'], 'key': final_instrumentalness_test['key'], 'loudness': final_instrumentalness_test['loudness'], 'mode': final_instrumentalness_test['mode'],\n",
        "       'speechiness': final_instrumentalness_test['speechiness'], 'acousticness': final_instrumentalness_test['acousticness'],\n",
        "       'instrumentalness': final_instrumentalness_test['instrumentalness'],'liveness': final_instrumentalness_test['liveness'], 'valence': final_instrumentalness_test['valence'],\n",
        "       'tempo': final_instrumentalness_test['tempo'],'duration_in min/ms':final_instrumentalness_test['duration_in min/ms'],'time_signature':final_instrumentalness_test['time_signature']}\n",
        "\n",
        "s_2 = {'Id':final_key_test['Id'], 'Artist Name': final_key_test['Artist Name'], 'Track Name': final_key_test['Track Name'],'Popularity': final_key_test['Popularity'],'danceability': final_key_test['danceability'],\n",
        "       'energy': final_key_test['energy'], 'key': final_key_test['key'], 'loudness': final_key_test['loudness'], 'mode': final_key_test['mode'],'speechiness': final_key_test['speechiness'], 'acousticness': final_key_test['acousticness'],\n",
        "       'instrumentalness': final_key_test['instrumentalness'],'liveness': final_key_test['liveness'], 'valence': final_key_test['valence'],\n",
        "       'tempo': final_key_test['tempo'],'duration_in min/ms':final_key_test['duration_in min/ms'],'time_signature':final_key_test['time_signature']}\n",
        "\n",
        "\n",
        "df_1 = pd.DataFrame(s_1)\n",
        "df_2 = pd.DataFrame(s_2)"
      ],
      "metadata": {
        "id": "9W21ZH3nAyu_"
      },
      "execution_count": null,
      "outputs": []
    },
    {
      "cell_type": "code",
      "source": [],
      "metadata": {
        "id": "uv1SFbMuIXan"
      },
      "execution_count": null,
      "outputs": []
    },
    {
      "cell_type": "code",
      "source": [
        "new_df_test = pd.merge(df_1, df_2,  how=\"outer\", validate=\"one_to_one\")"
      ],
      "metadata": {
        "id": "ldnIjrKPAyu_"
      },
      "execution_count": null,
      "outputs": []
    },
    {
      "cell_type": "code",
      "source": [
        "new_df_test.shape"
      ],
      "metadata": {
        "colab": {
          "base_uri": "https://localhost:8080/"
        },
        "outputId": "29bfe8d8-bfd5-4279-bc35-9cb5edda1af0",
        "id": "fvXRTFtqAyvA"
      },
      "execution_count": null,
      "outputs": [
        {
          "output_type": "execute_result",
          "data": {
            "text/plain": [
              "(1417, 17)"
            ]
          },
          "metadata": {},
          "execution_count": 485
        }
      ]
    },
    {
      "cell_type": "code",
      "source": [
        "new_df_test.isna().sum()"
      ],
      "metadata": {
        "colab": {
          "base_uri": "https://localhost:8080/"
        },
        "outputId": "b5ddbe48-6257-4e5e-c22c-bc239b29b036",
        "id": "3jUVG11sAyvA"
      },
      "execution_count": null,
      "outputs": [
        {
          "output_type": "execute_result",
          "data": {
            "text/plain": [
              "Id                    0\n",
              "Artist Name           0\n",
              "Track Name            0\n",
              "Popularity            0\n",
              "danceability          0\n",
              "energy                0\n",
              "key                   0\n",
              "loudness              0\n",
              "mode                  0\n",
              "speechiness           0\n",
              "acousticness          0\n",
              "instrumentalness      0\n",
              "liveness              0\n",
              "valence               0\n",
              "tempo                 0\n",
              "duration_in min/ms    0\n",
              "time_signature        0\n",
              "dtype: int64"
            ]
          },
          "metadata": {},
          "execution_count": 486
        }
      ]
    },
    {
      "cell_type": "code",
      "source": [
        "new_df_test"
      ],
      "metadata": {
        "colab": {
          "base_uri": "https://localhost:8080/",
          "height": 505
        },
        "id": "xJ35VoxiAyKv",
        "outputId": "800c06ce-b455-4194-958b-c3b7abe12cdf"
      },
      "execution_count": null,
      "outputs": [
        {
          "output_type": "execute_result",
          "data": {
            "text/plain": [
              "         Id  Artist Name  Track Name  Popularity  danceability  energy  \\\n",
              "0     14399         1803        1147        80.0         0.656  0.2910   \n",
              "1     14401         1773        3301        23.0         0.734  0.7290   \n",
              "2     14403          143        3043        73.0         0.348  0.8750   \n",
              "3     14403          143        3043        73.0         0.348  0.8750   \n",
              "4     14403          143        3043        73.0         0.348  0.8750   \n",
              "...     ...          ...         ...         ...           ...     ...   \n",
              "1412  17958         1195        1860        48.0         0.506  0.9070   \n",
              "1413  17961          783        1803        55.0         0.115  0.2570   \n",
              "1414  17969         2056         561        51.0         0.543  0.9270   \n",
              "1415  17987         1110        1470        34.0         0.620  0.0827   \n",
              "1416  17996         1435        1058        69.0         0.675  0.8280   \n",
              "\n",
              "            key  loudness  mode  speechiness  acousticness  instrumentalness  \\\n",
              "0      2.000000   -10.572     1       0.0293      0.872000          0.096353   \n",
              "1      1.000000    -6.381     0       0.2830      0.147000          0.037527   \n",
              "2     11.000000    -4.758     0       0.1990      0.034100          0.066989   \n",
              "3     11.000000    -4.758     0       0.1990      0.034100          0.146371   \n",
              "4     11.000000    -4.758     0       0.1990      0.034100         -0.054029   \n",
              "...         ...       ...   ...          ...           ...               ...   \n",
              "1412   5.931945    -4.011     1       0.0391      0.000019          0.336000   \n",
              "1413   6.127161   -14.611     0       0.0349      0.805000          0.819000   \n",
              "1414   5.724735    -5.209     1       0.0755      0.000342          0.543000   \n",
              "1415   5.553966   -20.880     1       0.0625      0.368000          0.051000   \n",
              "1416   5.881629    -5.799     1       0.0454      0.024200          0.010200   \n",
              "\n",
              "      liveness  valence    tempo  duration_in min/ms  time_signature  \n",
              "0       0.1140   0.2980  103.971            232533.0               4  \n",
              "1       0.0672   0.8050   76.030            118439.0               4  \n",
              "2       0.1170   0.4070  169.152            202133.0               4  \n",
              "3       0.1170   0.4070  169.152            202133.0               4  \n",
              "4       0.1170   0.4070  169.152            202133.0               4  \n",
              "...        ...      ...      ...                 ...             ...  \n",
              "1412    0.5730   0.5470  156.050            188853.0               4  \n",
              "1413    0.1840   0.0725   93.784            530894.0               4  \n",
              "1414    0.0327   0.3540  120.097            182333.0               4  \n",
              "1415    0.0621   0.4240  145.108            437573.0               3  \n",
              "1416    0.3640   0.6690  122.229            187733.0               4  \n",
              "\n",
              "[1417 rows x 17 columns]"
            ],
            "text/html": [
              "\n",
              "  <div id=\"df-db7b5c9f-ccdf-421b-9f78-e3bc2960ef47\">\n",
              "    <div class=\"colab-df-container\">\n",
              "      <div>\n",
              "<style scoped>\n",
              "    .dataframe tbody tr th:only-of-type {\n",
              "        vertical-align: middle;\n",
              "    }\n",
              "\n",
              "    .dataframe tbody tr th {\n",
              "        vertical-align: top;\n",
              "    }\n",
              "\n",
              "    .dataframe thead th {\n",
              "        text-align: right;\n",
              "    }\n",
              "</style>\n",
              "<table border=\"1\" class=\"dataframe\">\n",
              "  <thead>\n",
              "    <tr style=\"text-align: right;\">\n",
              "      <th></th>\n",
              "      <th>Id</th>\n",
              "      <th>Artist Name</th>\n",
              "      <th>Track Name</th>\n",
              "      <th>Popularity</th>\n",
              "      <th>danceability</th>\n",
              "      <th>energy</th>\n",
              "      <th>key</th>\n",
              "      <th>loudness</th>\n",
              "      <th>mode</th>\n",
              "      <th>speechiness</th>\n",
              "      <th>acousticness</th>\n",
              "      <th>instrumentalness</th>\n",
              "      <th>liveness</th>\n",
              "      <th>valence</th>\n",
              "      <th>tempo</th>\n",
              "      <th>duration_in min/ms</th>\n",
              "      <th>time_signature</th>\n",
              "    </tr>\n",
              "  </thead>\n",
              "  <tbody>\n",
              "    <tr>\n",
              "      <th>0</th>\n",
              "      <td>14399</td>\n",
              "      <td>1803</td>\n",
              "      <td>1147</td>\n",
              "      <td>80.0</td>\n",
              "      <td>0.656</td>\n",
              "      <td>0.2910</td>\n",
              "      <td>2.000000</td>\n",
              "      <td>-10.572</td>\n",
              "      <td>1</td>\n",
              "      <td>0.0293</td>\n",
              "      <td>0.872000</td>\n",
              "      <td>0.096353</td>\n",
              "      <td>0.1140</td>\n",
              "      <td>0.2980</td>\n",
              "      <td>103.971</td>\n",
              "      <td>232533.0</td>\n",
              "      <td>4</td>\n",
              "    </tr>\n",
              "    <tr>\n",
              "      <th>1</th>\n",
              "      <td>14401</td>\n",
              "      <td>1773</td>\n",
              "      <td>3301</td>\n",
              "      <td>23.0</td>\n",
              "      <td>0.734</td>\n",
              "      <td>0.7290</td>\n",
              "      <td>1.000000</td>\n",
              "      <td>-6.381</td>\n",
              "      <td>0</td>\n",
              "      <td>0.2830</td>\n",
              "      <td>0.147000</td>\n",
              "      <td>0.037527</td>\n",
              "      <td>0.0672</td>\n",
              "      <td>0.8050</td>\n",
              "      <td>76.030</td>\n",
              "      <td>118439.0</td>\n",
              "      <td>4</td>\n",
              "    </tr>\n",
              "    <tr>\n",
              "      <th>2</th>\n",
              "      <td>14403</td>\n",
              "      <td>143</td>\n",
              "      <td>3043</td>\n",
              "      <td>73.0</td>\n",
              "      <td>0.348</td>\n",
              "      <td>0.8750</td>\n",
              "      <td>11.000000</td>\n",
              "      <td>-4.758</td>\n",
              "      <td>0</td>\n",
              "      <td>0.1990</td>\n",
              "      <td>0.034100</td>\n",
              "      <td>0.066989</td>\n",
              "      <td>0.1170</td>\n",
              "      <td>0.4070</td>\n",
              "      <td>169.152</td>\n",
              "      <td>202133.0</td>\n",
              "      <td>4</td>\n",
              "    </tr>\n",
              "    <tr>\n",
              "      <th>3</th>\n",
              "      <td>14403</td>\n",
              "      <td>143</td>\n",
              "      <td>3043</td>\n",
              "      <td>73.0</td>\n",
              "      <td>0.348</td>\n",
              "      <td>0.8750</td>\n",
              "      <td>11.000000</td>\n",
              "      <td>-4.758</td>\n",
              "      <td>0</td>\n",
              "      <td>0.1990</td>\n",
              "      <td>0.034100</td>\n",
              "      <td>0.146371</td>\n",
              "      <td>0.1170</td>\n",
              "      <td>0.4070</td>\n",
              "      <td>169.152</td>\n",
              "      <td>202133.0</td>\n",
              "      <td>4</td>\n",
              "    </tr>\n",
              "    <tr>\n",
              "      <th>4</th>\n",
              "      <td>14403</td>\n",
              "      <td>143</td>\n",
              "      <td>3043</td>\n",
              "      <td>73.0</td>\n",
              "      <td>0.348</td>\n",
              "      <td>0.8750</td>\n",
              "      <td>11.000000</td>\n",
              "      <td>-4.758</td>\n",
              "      <td>0</td>\n",
              "      <td>0.1990</td>\n",
              "      <td>0.034100</td>\n",
              "      <td>-0.054029</td>\n",
              "      <td>0.1170</td>\n",
              "      <td>0.4070</td>\n",
              "      <td>169.152</td>\n",
              "      <td>202133.0</td>\n",
              "      <td>4</td>\n",
              "    </tr>\n",
              "    <tr>\n",
              "      <th>...</th>\n",
              "      <td>...</td>\n",
              "      <td>...</td>\n",
              "      <td>...</td>\n",
              "      <td>...</td>\n",
              "      <td>...</td>\n",
              "      <td>...</td>\n",
              "      <td>...</td>\n",
              "      <td>...</td>\n",
              "      <td>...</td>\n",
              "      <td>...</td>\n",
              "      <td>...</td>\n",
              "      <td>...</td>\n",
              "      <td>...</td>\n",
              "      <td>...</td>\n",
              "      <td>...</td>\n",
              "      <td>...</td>\n",
              "      <td>...</td>\n",
              "    </tr>\n",
              "    <tr>\n",
              "      <th>1412</th>\n",
              "      <td>17958</td>\n",
              "      <td>1195</td>\n",
              "      <td>1860</td>\n",
              "      <td>48.0</td>\n",
              "      <td>0.506</td>\n",
              "      <td>0.9070</td>\n",
              "      <td>5.931945</td>\n",
              "      <td>-4.011</td>\n",
              "      <td>1</td>\n",
              "      <td>0.0391</td>\n",
              "      <td>0.000019</td>\n",
              "      <td>0.336000</td>\n",
              "      <td>0.5730</td>\n",
              "      <td>0.5470</td>\n",
              "      <td>156.050</td>\n",
              "      <td>188853.0</td>\n",
              "      <td>4</td>\n",
              "    </tr>\n",
              "    <tr>\n",
              "      <th>1413</th>\n",
              "      <td>17961</td>\n",
              "      <td>783</td>\n",
              "      <td>1803</td>\n",
              "      <td>55.0</td>\n",
              "      <td>0.115</td>\n",
              "      <td>0.2570</td>\n",
              "      <td>6.127161</td>\n",
              "      <td>-14.611</td>\n",
              "      <td>0</td>\n",
              "      <td>0.0349</td>\n",
              "      <td>0.805000</td>\n",
              "      <td>0.819000</td>\n",
              "      <td>0.1840</td>\n",
              "      <td>0.0725</td>\n",
              "      <td>93.784</td>\n",
              "      <td>530894.0</td>\n",
              "      <td>4</td>\n",
              "    </tr>\n",
              "    <tr>\n",
              "      <th>1414</th>\n",
              "      <td>17969</td>\n",
              "      <td>2056</td>\n",
              "      <td>561</td>\n",
              "      <td>51.0</td>\n",
              "      <td>0.543</td>\n",
              "      <td>0.9270</td>\n",
              "      <td>5.724735</td>\n",
              "      <td>-5.209</td>\n",
              "      <td>1</td>\n",
              "      <td>0.0755</td>\n",
              "      <td>0.000342</td>\n",
              "      <td>0.543000</td>\n",
              "      <td>0.0327</td>\n",
              "      <td>0.3540</td>\n",
              "      <td>120.097</td>\n",
              "      <td>182333.0</td>\n",
              "      <td>4</td>\n",
              "    </tr>\n",
              "    <tr>\n",
              "      <th>1415</th>\n",
              "      <td>17987</td>\n",
              "      <td>1110</td>\n",
              "      <td>1470</td>\n",
              "      <td>34.0</td>\n",
              "      <td>0.620</td>\n",
              "      <td>0.0827</td>\n",
              "      <td>5.553966</td>\n",
              "      <td>-20.880</td>\n",
              "      <td>1</td>\n",
              "      <td>0.0625</td>\n",
              "      <td>0.368000</td>\n",
              "      <td>0.051000</td>\n",
              "      <td>0.0621</td>\n",
              "      <td>0.4240</td>\n",
              "      <td>145.108</td>\n",
              "      <td>437573.0</td>\n",
              "      <td>3</td>\n",
              "    </tr>\n",
              "    <tr>\n",
              "      <th>1416</th>\n",
              "      <td>17996</td>\n",
              "      <td>1435</td>\n",
              "      <td>1058</td>\n",
              "      <td>69.0</td>\n",
              "      <td>0.675</td>\n",
              "      <td>0.8280</td>\n",
              "      <td>5.881629</td>\n",
              "      <td>-5.799</td>\n",
              "      <td>1</td>\n",
              "      <td>0.0454</td>\n",
              "      <td>0.024200</td>\n",
              "      <td>0.010200</td>\n",
              "      <td>0.3640</td>\n",
              "      <td>0.6690</td>\n",
              "      <td>122.229</td>\n",
              "      <td>187733.0</td>\n",
              "      <td>4</td>\n",
              "    </tr>\n",
              "  </tbody>\n",
              "</table>\n",
              "<p>1417 rows × 17 columns</p>\n",
              "</div>\n",
              "      <button class=\"colab-df-convert\" onclick=\"convertToInteractive('df-db7b5c9f-ccdf-421b-9f78-e3bc2960ef47')\"\n",
              "              title=\"Convert this dataframe to an interactive table.\"\n",
              "              style=\"display:none;\">\n",
              "        \n",
              "  <svg xmlns=\"http://www.w3.org/2000/svg\" height=\"24px\"viewBox=\"0 0 24 24\"\n",
              "       width=\"24px\">\n",
              "    <path d=\"M0 0h24v24H0V0z\" fill=\"none\"/>\n",
              "    <path d=\"M18.56 5.44l.94 2.06.94-2.06 2.06-.94-2.06-.94-.94-2.06-.94 2.06-2.06.94zm-11 1L8.5 8.5l.94-2.06 2.06-.94-2.06-.94L8.5 2.5l-.94 2.06-2.06.94zm10 10l.94 2.06.94-2.06 2.06-.94-2.06-.94-.94-2.06-.94 2.06-2.06.94z\"/><path d=\"M17.41 7.96l-1.37-1.37c-.4-.4-.92-.59-1.43-.59-.52 0-1.04.2-1.43.59L10.3 9.45l-7.72 7.72c-.78.78-.78 2.05 0 2.83L4 21.41c.39.39.9.59 1.41.59.51 0 1.02-.2 1.41-.59l7.78-7.78 2.81-2.81c.8-.78.8-2.07 0-2.86zM5.41 20L4 18.59l7.72-7.72 1.47 1.35L5.41 20z\"/>\n",
              "  </svg>\n",
              "      </button>\n",
              "      \n",
              "  <style>\n",
              "    .colab-df-container {\n",
              "      display:flex;\n",
              "      flex-wrap:wrap;\n",
              "      gap: 12px;\n",
              "    }\n",
              "\n",
              "    .colab-df-convert {\n",
              "      background-color: #E8F0FE;\n",
              "      border: none;\n",
              "      border-radius: 50%;\n",
              "      cursor: pointer;\n",
              "      display: none;\n",
              "      fill: #1967D2;\n",
              "      height: 32px;\n",
              "      padding: 0 0 0 0;\n",
              "      width: 32px;\n",
              "    }\n",
              "\n",
              "    .colab-df-convert:hover {\n",
              "      background-color: #E2EBFA;\n",
              "      box-shadow: 0px 1px 2px rgba(60, 64, 67, 0.3), 0px 1px 3px 1px rgba(60, 64, 67, 0.15);\n",
              "      fill: #174EA6;\n",
              "    }\n",
              "\n",
              "    [theme=dark] .colab-df-convert {\n",
              "      background-color: #3B4455;\n",
              "      fill: #D2E3FC;\n",
              "    }\n",
              "\n",
              "    [theme=dark] .colab-df-convert:hover {\n",
              "      background-color: #434B5C;\n",
              "      box-shadow: 0px 1px 3px 1px rgba(0, 0, 0, 0.15);\n",
              "      filter: drop-shadow(0px 1px 2px rgba(0, 0, 0, 0.3));\n",
              "      fill: #FFFFFF;\n",
              "    }\n",
              "  </style>\n",
              "\n",
              "      <script>\n",
              "        const buttonEl =\n",
              "          document.querySelector('#df-db7b5c9f-ccdf-421b-9f78-e3bc2960ef47 button.colab-df-convert');\n",
              "        buttonEl.style.display =\n",
              "          google.colab.kernel.accessAllowed ? 'block' : 'none';\n",
              "\n",
              "        async function convertToInteractive(key) {\n",
              "          const element = document.querySelector('#df-db7b5c9f-ccdf-421b-9f78-e3bc2960ef47');\n",
              "          const dataTable =\n",
              "            await google.colab.kernel.invokeFunction('convertToInteractive',\n",
              "                                                     [key], {});\n",
              "          if (!dataTable) return;\n",
              "\n",
              "          const docLinkHtml = 'Like what you see? Visit the ' +\n",
              "            '<a target=\"_blank\" href=https://colab.research.google.com/notebooks/data_table.ipynb>data table notebook</a>'\n",
              "            + ' to learn more about interactive tables.';\n",
              "          element.innerHTML = '';\n",
              "          dataTable['output_type'] = 'display_data';\n",
              "          await google.colab.output.renderOutput(dataTable, element);\n",
              "          const docLink = document.createElement('div');\n",
              "          docLink.innerHTML = docLinkHtml;\n",
              "          element.appendChild(docLink);\n",
              "        }\n",
              "      </script>\n",
              "    </div>\n",
              "  </div>\n",
              "  "
            ]
          },
          "metadata": {},
          "execution_count": 487
        }
      ]
    },
    {
      "cell_type": "code",
      "source": [],
      "metadata": {
        "id": "Vp4IVuez_t3d"
      },
      "execution_count": null,
      "outputs": []
    },
    {
      "cell_type": "code",
      "source": [],
      "metadata": {
        "id": "_WOwe2FU_t0q"
      },
      "execution_count": null,
      "outputs": []
    },
    {
      "cell_type": "code",
      "source": [
        "prediction_test = forest_model.predict(new_df_test)"
      ],
      "metadata": {
        "id": "vI7E1IgpOeF-"
      },
      "execution_count": null,
      "outputs": []
    },
    {
      "cell_type": "code",
      "source": [
        "submission = pd.DataFrame({'Id':new_df_test['Id'], 'Class':prediction_test})"
      ],
      "metadata": {
        "id": "oywbTGYlOsnR"
      },
      "execution_count": null,
      "outputs": []
    },
    {
      "cell_type": "code",
      "source": [
        "submission"
      ],
      "metadata": {
        "colab": {
          "base_uri": "https://localhost:8080/",
          "height": 424
        },
        "id": "soI6HnBNPYuO",
        "outputId": "8c5ab2e3-de67-4764-b6bf-6ba7f6275776"
      },
      "execution_count": null,
      "outputs": [
        {
          "output_type": "execute_result",
          "data": {
            "text/plain": [
              "         Id  Class\n",
              "0     14399      9\n",
              "1     14401      5\n",
              "2     14403      6\n",
              "3     14403      6\n",
              "4     14403      6\n",
              "...     ...    ...\n",
              "1350  17958      1\n",
              "1351  17961      6\n",
              "1352  17969     10\n",
              "1353  17987      2\n",
              "1354  17996     10\n",
              "\n",
              "[1355 rows x 2 columns]"
            ],
            "text/html": [
              "\n",
              "  <div id=\"df-82d4e89f-7f28-4267-92f5-b8de45dd2c38\">\n",
              "    <div class=\"colab-df-container\">\n",
              "      <div>\n",
              "<style scoped>\n",
              "    .dataframe tbody tr th:only-of-type {\n",
              "        vertical-align: middle;\n",
              "    }\n",
              "\n",
              "    .dataframe tbody tr th {\n",
              "        vertical-align: top;\n",
              "    }\n",
              "\n",
              "    .dataframe thead th {\n",
              "        text-align: right;\n",
              "    }\n",
              "</style>\n",
              "<table border=\"1\" class=\"dataframe\">\n",
              "  <thead>\n",
              "    <tr style=\"text-align: right;\">\n",
              "      <th></th>\n",
              "      <th>Id</th>\n",
              "      <th>Class</th>\n",
              "    </tr>\n",
              "  </thead>\n",
              "  <tbody>\n",
              "    <tr>\n",
              "      <th>0</th>\n",
              "      <td>14399</td>\n",
              "      <td>9</td>\n",
              "    </tr>\n",
              "    <tr>\n",
              "      <th>1</th>\n",
              "      <td>14401</td>\n",
              "      <td>5</td>\n",
              "    </tr>\n",
              "    <tr>\n",
              "      <th>2</th>\n",
              "      <td>14403</td>\n",
              "      <td>6</td>\n",
              "    </tr>\n",
              "    <tr>\n",
              "      <th>3</th>\n",
              "      <td>14403</td>\n",
              "      <td>6</td>\n",
              "    </tr>\n",
              "    <tr>\n",
              "      <th>4</th>\n",
              "      <td>14403</td>\n",
              "      <td>6</td>\n",
              "    </tr>\n",
              "    <tr>\n",
              "      <th>...</th>\n",
              "      <td>...</td>\n",
              "      <td>...</td>\n",
              "    </tr>\n",
              "    <tr>\n",
              "      <th>1350</th>\n",
              "      <td>17958</td>\n",
              "      <td>1</td>\n",
              "    </tr>\n",
              "    <tr>\n",
              "      <th>1351</th>\n",
              "      <td>17961</td>\n",
              "      <td>6</td>\n",
              "    </tr>\n",
              "    <tr>\n",
              "      <th>1352</th>\n",
              "      <td>17969</td>\n",
              "      <td>10</td>\n",
              "    </tr>\n",
              "    <tr>\n",
              "      <th>1353</th>\n",
              "      <td>17987</td>\n",
              "      <td>2</td>\n",
              "    </tr>\n",
              "    <tr>\n",
              "      <th>1354</th>\n",
              "      <td>17996</td>\n",
              "      <td>10</td>\n",
              "    </tr>\n",
              "  </tbody>\n",
              "</table>\n",
              "<p>1355 rows × 2 columns</p>\n",
              "</div>\n",
              "      <button class=\"colab-df-convert\" onclick=\"convertToInteractive('df-82d4e89f-7f28-4267-92f5-b8de45dd2c38')\"\n",
              "              title=\"Convert this dataframe to an interactive table.\"\n",
              "              style=\"display:none;\">\n",
              "        \n",
              "  <svg xmlns=\"http://www.w3.org/2000/svg\" height=\"24px\"viewBox=\"0 0 24 24\"\n",
              "       width=\"24px\">\n",
              "    <path d=\"M0 0h24v24H0V0z\" fill=\"none\"/>\n",
              "    <path d=\"M18.56 5.44l.94 2.06.94-2.06 2.06-.94-2.06-.94-.94-2.06-.94 2.06-2.06.94zm-11 1L8.5 8.5l.94-2.06 2.06-.94-2.06-.94L8.5 2.5l-.94 2.06-2.06.94zm10 10l.94 2.06.94-2.06 2.06-.94-2.06-.94-.94-2.06-.94 2.06-2.06.94z\"/><path d=\"M17.41 7.96l-1.37-1.37c-.4-.4-.92-.59-1.43-.59-.52 0-1.04.2-1.43.59L10.3 9.45l-7.72 7.72c-.78.78-.78 2.05 0 2.83L4 21.41c.39.39.9.59 1.41.59.51 0 1.02-.2 1.41-.59l7.78-7.78 2.81-2.81c.8-.78.8-2.07 0-2.86zM5.41 20L4 18.59l7.72-7.72 1.47 1.35L5.41 20z\"/>\n",
              "  </svg>\n",
              "      </button>\n",
              "      \n",
              "  <style>\n",
              "    .colab-df-container {\n",
              "      display:flex;\n",
              "      flex-wrap:wrap;\n",
              "      gap: 12px;\n",
              "    }\n",
              "\n",
              "    .colab-df-convert {\n",
              "      background-color: #E8F0FE;\n",
              "      border: none;\n",
              "      border-radius: 50%;\n",
              "      cursor: pointer;\n",
              "      display: none;\n",
              "      fill: #1967D2;\n",
              "      height: 32px;\n",
              "      padding: 0 0 0 0;\n",
              "      width: 32px;\n",
              "    }\n",
              "\n",
              "    .colab-df-convert:hover {\n",
              "      background-color: #E2EBFA;\n",
              "      box-shadow: 0px 1px 2px rgba(60, 64, 67, 0.3), 0px 1px 3px 1px rgba(60, 64, 67, 0.15);\n",
              "      fill: #174EA6;\n",
              "    }\n",
              "\n",
              "    [theme=dark] .colab-df-convert {\n",
              "      background-color: #3B4455;\n",
              "      fill: #D2E3FC;\n",
              "    }\n",
              "\n",
              "    [theme=dark] .colab-df-convert:hover {\n",
              "      background-color: #434B5C;\n",
              "      box-shadow: 0px 1px 3px 1px rgba(0, 0, 0, 0.15);\n",
              "      filter: drop-shadow(0px 1px 2px rgba(0, 0, 0, 0.3));\n",
              "      fill: #FFFFFF;\n",
              "    }\n",
              "  </style>\n",
              "\n",
              "      <script>\n",
              "        const buttonEl =\n",
              "          document.querySelector('#df-82d4e89f-7f28-4267-92f5-b8de45dd2c38 button.colab-df-convert');\n",
              "        buttonEl.style.display =\n",
              "          google.colab.kernel.accessAllowed ? 'block' : 'none';\n",
              "\n",
              "        async function convertToInteractive(key) {\n",
              "          const element = document.querySelector('#df-82d4e89f-7f28-4267-92f5-b8de45dd2c38');\n",
              "          const dataTable =\n",
              "            await google.colab.kernel.invokeFunction('convertToInteractive',\n",
              "                                                     [key], {});\n",
              "          if (!dataTable) return;\n",
              "\n",
              "          const docLinkHtml = 'Like what you see? Visit the ' +\n",
              "            '<a target=\"_blank\" href=https://colab.research.google.com/notebooks/data_table.ipynb>data table notebook</a>'\n",
              "            + ' to learn more about interactive tables.';\n",
              "          element.innerHTML = '';\n",
              "          dataTable['output_type'] = 'display_data';\n",
              "          await google.colab.output.renderOutput(dataTable, element);\n",
              "          const docLink = document.createElement('div');\n",
              "          docLink.innerHTML = docLinkHtml;\n",
              "          element.appendChild(docLink);\n",
              "        }\n",
              "      </script>\n",
              "    </div>\n",
              "  </div>\n",
              "  "
            ]
          },
          "metadata": {},
          "execution_count": 419
        }
      ]
    },
    {
      "cell_type": "code",
      "source": [
        "from google.colab import files\n",
        "\n",
        "submission.to_csv('submission.csv', encoding = 'utf-8-sig', index=False,header = 1)\n",
        "files.download('submission.csv')"
      ],
      "metadata": {
        "colab": {
          "base_uri": "https://localhost:8080/",
          "height": 17
        },
        "id": "vGXUwMadPDWJ",
        "outputId": "719f12ed-494c-4ab0-be5e-8d23379c0047"
      },
      "execution_count": null,
      "outputs": [
        {
          "output_type": "display_data",
          "data": {
            "text/plain": [
              "<IPython.core.display.Javascript object>"
            ],
            "application/javascript": [
              "\n",
              "    async function download(id, filename, size) {\n",
              "      if (!google.colab.kernel.accessAllowed) {\n",
              "        return;\n",
              "      }\n",
              "      const div = document.createElement('div');\n",
              "      const label = document.createElement('label');\n",
              "      label.textContent = `Downloading \"${filename}\": `;\n",
              "      div.appendChild(label);\n",
              "      const progress = document.createElement('progress');\n",
              "      progress.max = size;\n",
              "      div.appendChild(progress);\n",
              "      document.body.appendChild(div);\n",
              "\n",
              "      const buffers = [];\n",
              "      let downloaded = 0;\n",
              "\n",
              "      const channel = await google.colab.kernel.comms.open(id);\n",
              "      // Send a message to notify the kernel that we're ready.\n",
              "      channel.send({})\n",
              "\n",
              "      for await (const message of channel.messages) {\n",
              "        // Send a message to notify the kernel that we're ready.\n",
              "        channel.send({})\n",
              "        if (message.buffers) {\n",
              "          for (const buffer of message.buffers) {\n",
              "            buffers.push(buffer);\n",
              "            downloaded += buffer.byteLength;\n",
              "            progress.value = downloaded;\n",
              "          }\n",
              "        }\n",
              "      }\n",
              "      const blob = new Blob(buffers, {type: 'application/binary'});\n",
              "      const a = document.createElement('a');\n",
              "      a.href = window.URL.createObjectURL(blob);\n",
              "      a.download = filename;\n",
              "      div.appendChild(a);\n",
              "      a.click();\n",
              "      div.remove();\n",
              "    }\n",
              "  "
            ]
          },
          "metadata": {}
        },
        {
          "output_type": "display_data",
          "data": {
            "text/plain": [
              "<IPython.core.display.Javascript object>"
            ],
            "application/javascript": [
              "download(\"download_b7160deb-4441-4926-8d16-7baa7878c0af\", \"submission.csv\", 95269)"
            ]
          },
          "metadata": {}
        }
      ]
    },
    {
      "cell_type": "code",
      "source": [
        "data_test.shape"
      ],
      "metadata": {
        "colab": {
          "base_uri": "https://localhost:8080/"
        },
        "id": "PqOBw8ZDECyh",
        "outputId": "bbfed88d-76f8-4f50-d5a2-d588b0902c4b"
      },
      "execution_count": null,
      "outputs": [
        {
          "output_type": "execute_result",
          "data": {
            "text/plain": [
              "(3600, 17)"
            ]
          },
          "metadata": {},
          "execution_count": 420
        }
      ]
    },
    {
      "cell_type": "code",
      "source": [
        "submission.duplicated().sum()"
      ],
      "metadata": {
        "colab": {
          "base_uri": "https://localhost:8080/"
        },
        "id": "Aq07noe8EMYl",
        "outputId": "437158b0-b358-4386-fe54-8bea05842d21"
      },
      "execution_count": null,
      "outputs": [
        {
          "output_type": "execute_result",
          "data": {
            "text/plain": [
              "335"
            ]
          },
          "metadata": {},
          "execution_count": 421
        }
      ]
    },
    {
      "cell_type": "code",
      "source": [
        "submission.shape"
      ],
      "metadata": {
        "colab": {
          "base_uri": "https://localhost:8080/"
        },
        "id": "bY77KOL7H4hY",
        "outputId": "bf649eda-9fe9-4667-c295-4375ff463e78"
      },
      "execution_count": null,
      "outputs": [
        {
          "output_type": "execute_result",
          "data": {
            "text/plain": [
              "(1355, 2)"
            ]
          },
          "metadata": {},
          "execution_count": 422
        }
      ]
    },
    {
      "cell_type": "code",
      "source": [
        "submission.isna().sum()"
      ],
      "metadata": {
        "colab": {
          "base_uri": "https://localhost:8080/"
        },
        "id": "LDf4l-tyETcV",
        "outputId": "931b467c-4691-4d53-946f-781feb7e054f"
      },
      "execution_count": null,
      "outputs": [
        {
          "output_type": "execute_result",
          "data": {
            "text/plain": [
              "Id       0\n",
              "Class    0\n",
              "dtype: int64"
            ]
          },
          "metadata": {},
          "execution_count": 423
        }
      ]
    },
    {
      "cell_type": "markdown",
      "source": [
        "##KNN:"
      ],
      "metadata": {
        "id": "jgQF4BP2w_Vo"
      }
    },
    {
      "cell_type": "code",
      "source": [
        "knn_model = KNeighborsClassifier(n_neighbors=20)\n",
        "knn_model.fit(X_train, Y_train)\n",
        "prediction = knn_model.predict(X_test)"
      ],
      "metadata": {
        "id": "CgQcOcHqw607"
      },
      "execution_count": null,
      "outputs": []
    },
    {
      "cell_type": "code",
      "source": [
        "print(classification_report(prediction, Y_test))"
      ],
      "metadata": {
        "colab": {
          "base_uri": "https://localhost:8080/"
        },
        "id": "PuUt1rhWBg7F",
        "outputId": "ddaa92a5-99e9-47ad-9adb-c590c474a857"
      },
      "execution_count": null,
      "outputs": [
        {
          "output_type": "stream",
          "name": "stdout",
          "text": [
            "              precision    recall  f1-score   support\n",
            "\n",
            "           0       0.26      0.37      0.31        38\n",
            "           1       0.09      0.24      0.13        58\n",
            "           2       0.06      0.22      0.09        27\n",
            "           3       0.37      0.43      0.40        42\n",
            "           4       0.27      0.37      0.31        54\n",
            "           5       0.42      0.40      0.41       511\n",
            "           6       0.11      0.24      0.16        99\n",
            "           7       0.00      0.00      0.00         0\n",
            "           8       0.00      0.00      0.00        13\n",
            "           9       0.89      0.80      0.84      2546\n",
            "          10       0.53      0.46      0.49       908\n",
            "\n",
            "    accuracy                           0.64      4296\n",
            "   macro avg       0.27      0.32      0.29      4296\n",
            "weighted avg       0.71      0.64      0.67      4296\n",
            "\n"
          ]
        },
        {
          "output_type": "stream",
          "name": "stderr",
          "text": [
            "/usr/local/lib/python3.7/dist-packages/sklearn/metrics/_classification.py:1318: UndefinedMetricWarning: Recall and F-score are ill-defined and being set to 0.0 in labels with no true samples. Use `zero_division` parameter to control this behavior.\n",
            "  _warn_prf(average, modifier, msg_start, len(result))\n",
            "/usr/local/lib/python3.7/dist-packages/sklearn/metrics/_classification.py:1318: UndefinedMetricWarning: Recall and F-score are ill-defined and being set to 0.0 in labels with no true samples. Use `zero_division` parameter to control this behavior.\n",
            "  _warn_prf(average, modifier, msg_start, len(result))\n",
            "/usr/local/lib/python3.7/dist-packages/sklearn/metrics/_classification.py:1318: UndefinedMetricWarning: Recall and F-score are ill-defined and being set to 0.0 in labels with no true samples. Use `zero_division` parameter to control this behavior.\n",
            "  _warn_prf(average, modifier, msg_start, len(result))\n"
          ]
        }
      ]
    },
    {
      "cell_type": "code",
      "source": [
        "accuracy_score(prediction, Y_test)"
      ],
      "metadata": {
        "colab": {
          "base_uri": "https://localhost:8080/"
        },
        "id": "V3sVg5bAw6vl",
        "outputId": "0e6a209e-5e45-440e-8e79-bc5169888299"
      },
      "execution_count": null,
      "outputs": [
        {
          "output_type": "execute_result",
          "data": {
            "text/plain": [
              "0.638733705772812"
            ]
          },
          "metadata": {},
          "execution_count": 264
        }
      ]
    },
    {
      "cell_type": "markdown",
      "source": [
        "##XGBClassifire:"
      ],
      "metadata": {
        "id": "7FisWnXfxCXO"
      }
    },
    {
      "cell_type": "code",
      "source": [
        "sw = {}\n",
        "for l in set(Y_train):\n",
        "    sw[l] = np.sum(Y_train == l)\n",
        "print(sw)"
      ],
      "metadata": {
        "colab": {
          "base_uri": "https://localhost:8080/"
        },
        "id": "-r2vQvm-CvPe",
        "outputId": "79ad81f2-0eb2-4f35-86b1-c5d95857c43a"
      },
      "execution_count": null,
      "outputs": [
        {
          "output_type": "stream",
          "name": "stdout",
          "text": [
            "{0: 125, 1: 355, 2: 232, 3: 114, 4: 176, 5: 1132, 6: 489, 7: 50, 8: 219, 9: 5288, 10: 1844}\n"
          ]
        }
      ]
    },
    {
      "cell_type": "code",
      "source": [
        "xgb_model = XGBClassifier(sample_weight=sw)\n",
        "xgb_model.fit(X_train, Y_train)\n",
        "prediction = xgb_model.predict(X_test)"
      ],
      "metadata": {
        "id": "jbNUxQIXw6sy"
      },
      "execution_count": null,
      "outputs": []
    },
    {
      "cell_type": "code",
      "source": [
        "print(classification_report(prediction, Y_test))"
      ],
      "metadata": {
        "colab": {
          "base_uri": "https://localhost:8080/"
        },
        "id": "qDVfdTJDDBnE",
        "outputId": "f08a126a-e7be-447e-a4d8-405eb9b45151"
      },
      "execution_count": null,
      "outputs": [
        {
          "output_type": "stream",
          "name": "stdout",
          "text": [
            "              precision    recall  f1-score   support\n",
            "\n",
            "           0       0.62      0.75      0.68        44\n",
            "           1       0.05      0.70      0.09        10\n",
            "           2       0.38      0.62      0.47        61\n",
            "           3       0.82      0.85      0.83        47\n",
            "           4       0.77      0.83      0.80        70\n",
            "           5       0.85      0.81      0.83       508\n",
            "           6       0.12      0.57      0.20        44\n",
            "           7       0.90      0.86      0.88        22\n",
            "           8       0.33      0.61      0.43        51\n",
            "           9       0.92      0.90      0.91      2328\n",
            "          10       0.82      0.59      0.68      1111\n",
            "\n",
            "    accuracy                           0.79      4296\n",
            "   macro avg       0.60      0.74      0.62      4296\n",
            "weighted avg       0.86      0.79      0.82      4296\n",
            "\n"
          ]
        }
      ]
    },
    {
      "cell_type": "code",
      "source": [
        "accuracy_score(prediction, Y_test)"
      ],
      "metadata": {
        "colab": {
          "base_uri": "https://localhost:8080/"
        },
        "id": "te3JpmrgxIxk",
        "outputId": "182c3cb5-2cb2-4ea3-a601-32aabbb0ea49"
      },
      "execution_count": null,
      "outputs": [
        {
          "output_type": "execute_result",
          "data": {
            "text/plain": [
              "0.7930633147113594"
            ]
          },
          "metadata": {},
          "execution_count": 268
        }
      ]
    },
    {
      "cell_type": "markdown",
      "source": [
        "##SGDClassifire:\n",
        "\n",
        "\n",
        "\n",
        "```\n",
        "# This classifier make a bad prediction because this model for binary classification and our problem multicalss classification\n",
        "```\n",
        "\n"
      ],
      "metadata": {
        "id": "5Y1UXOSjxJ3l"
      }
    },
    {
      "cell_type": "code",
      "source": [
        "sgd_model = SGDClassifier(class_weight=sw)\n",
        "sgd_model.fit(X_train, Y_train)\n",
        "prediction = sgd_model.predict(X_test)"
      ],
      "metadata": {
        "id": "pru0yNiexIrN"
      },
      "execution_count": null,
      "outputs": []
    },
    {
      "cell_type": "code",
      "source": [
        "print(classification_report(prediction, Y_test))"
      ],
      "metadata": {
        "colab": {
          "base_uri": "https://localhost:8080/"
        },
        "id": "Zk_a5wyUDpxa",
        "outputId": "45a77a0c-a201-401c-b46a-04e79887775c"
      },
      "execution_count": null,
      "outputs": [
        {
          "output_type": "stream",
          "name": "stdout",
          "text": [
            "              precision    recall  f1-score   support\n",
            "\n",
            "           0       0.00      0.00      0.00         0\n",
            "           1       0.00      0.00      0.00         0\n",
            "           2       0.00      0.00      0.00         0\n",
            "           3       0.00      0.00      0.00         0\n",
            "           4       0.00      0.00      0.00         0\n",
            "           5       0.00      0.00      0.00         0\n",
            "           6       1.00      0.14      0.25      4319\n",
            "           7       0.00      0.00      0.00         0\n",
            "           8       0.00      0.00      0.00         0\n",
            "           9       0.00      0.00      0.00         0\n",
            "          10       0.00      0.00      0.00         0\n",
            "\n",
            "    accuracy                           0.14      4319\n",
            "   macro avg       0.09      0.01      0.02      4319\n",
            "weighted avg       1.00      0.14      0.25      4319\n",
            "\n"
          ]
        },
        {
          "output_type": "stream",
          "name": "stderr",
          "text": [
            "/usr/local/lib/python3.7/dist-packages/sklearn/metrics/_classification.py:1318: UndefinedMetricWarning: Recall and F-score are ill-defined and being set to 0.0 in labels with no true samples. Use `zero_division` parameter to control this behavior.\n",
            "  _warn_prf(average, modifier, msg_start, len(result))\n",
            "/usr/local/lib/python3.7/dist-packages/sklearn/metrics/_classification.py:1318: UndefinedMetricWarning: Recall and F-score are ill-defined and being set to 0.0 in labels with no true samples. Use `zero_division` parameter to control this behavior.\n",
            "  _warn_prf(average, modifier, msg_start, len(result))\n",
            "/usr/local/lib/python3.7/dist-packages/sklearn/metrics/_classification.py:1318: UndefinedMetricWarning: Recall and F-score are ill-defined and being set to 0.0 in labels with no true samples. Use `zero_division` parameter to control this behavior.\n",
            "  _warn_prf(average, modifier, msg_start, len(result))\n"
          ]
        }
      ]
    },
    {
      "cell_type": "code",
      "source": [
        "accuracy_score(prediction, Y_test)"
      ],
      "metadata": {
        "colab": {
          "base_uri": "https://localhost:8080/"
        },
        "id": "lKMlp_TfDrP9",
        "outputId": "668c532b-69ba-4fe2-b6de-ffde6b6665e2"
      },
      "execution_count": null,
      "outputs": [
        {
          "output_type": "execute_result",
          "data": {
            "text/plain": [
              "0.27506367214633015"
            ]
          },
          "metadata": {},
          "execution_count": 137
        }
      ]
    },
    {
      "cell_type": "markdown",
      "source": [
        "##GradientBoosting"
      ],
      "metadata": {
        "id": "g0NagL_xZaM0"
      }
    },
    {
      "cell_type": "code",
      "source": [
        "from sklearn.ensemble import GradientBoostingClassifier\n",
        "clf = GradientBoostingClassifier(n_estimators=100, learning_rate=0.1,max_depth=2, random_state=20)\n",
        "clf.fit(X_train, Y_train)\n",
        "clf.score(X_test, Y_test)"
      ],
      "metadata": {
        "colab": {
          "base_uri": "https://localhost:8080/"
        },
        "id": "v-unvCEPZXFe",
        "outputId": "289d6fbe-8343-41bb-f0fa-8762390075cc"
      },
      "execution_count": null,
      "outputs": [
        {
          "output_type": "execute_result",
          "data": {
            "text/plain": [
              "0.7700186219739292"
            ]
          },
          "metadata": {},
          "execution_count": 269
        }
      ]
    },
    {
      "cell_type": "code",
      "source": [
        "y_pred = clf.predict(X_test)"
      ],
      "metadata": {
        "id": "oxfahX47FobG"
      },
      "execution_count": null,
      "outputs": []
    },
    {
      "cell_type": "code",
      "source": [
        "print(classification_report(y_pred, Y_test))"
      ],
      "metadata": {
        "colab": {
          "base_uri": "https://localhost:8080/"
        },
        "id": "ES-YtnNpFhVC",
        "outputId": "4f3a7b42-eefc-48da-ad28-89cdbf68f6fc"
      },
      "execution_count": null,
      "outputs": [
        {
          "output_type": "stream",
          "name": "stdout",
          "text": [
            "              precision    recall  f1-score   support\n",
            "\n",
            "           0       0.66      0.76      0.71        46\n",
            "           1       0.05      0.35      0.08        20\n",
            "           2       0.35      0.71      0.47        49\n",
            "           3       0.78      0.86      0.82        44\n",
            "           4       0.59      0.73      0.65        60\n",
            "           5       0.82      0.83      0.82       479\n",
            "           6       0.08      0.46      0.14        37\n",
            "           7       0.76      0.73      0.74        22\n",
            "           8       0.37      0.50      0.43        70\n",
            "           9       0.92      0.87      0.89      2416\n",
            "          10       0.75      0.56      0.64      1053\n",
            "\n",
            "    accuracy                           0.77      4296\n",
            "   macro avg       0.56      0.67      0.58      4296\n",
            "weighted avg       0.83      0.77      0.79      4296\n",
            "\n"
          ]
        }
      ]
    },
    {
      "cell_type": "markdown",
      "source": [
        "##ExtraTreesClassifier"
      ],
      "metadata": {
        "id": "f44IfDwrdo-9"
      }
    },
    {
      "cell_type": "code",
      "source": [
        "from sklearn.ensemble import ExtraTreesClassifier\n",
        "clf = ExtraTreesClassifier(class_weight='balanced')\n",
        "clf.fit(X_train, Y_train)\n",
        "clf.score(X_test, Y_test)"
      ],
      "metadata": {
        "colab": {
          "base_uri": "https://localhost:8080/"
        },
        "id": "TRkncEHsdoSU",
        "outputId": "06f52164-43c6-4e4f-ce88-fcc94c2ca8e1"
      },
      "execution_count": null,
      "outputs": [
        {
          "output_type": "execute_result",
          "data": {
            "text/plain": [
              "0.8945530726256983"
            ]
          },
          "metadata": {},
          "execution_count": 273
        }
      ]
    },
    {
      "cell_type": "code",
      "source": [
        "y_pred = clf.predict(X_test)"
      ],
      "metadata": {
        "id": "LWEKvV01CFf5"
      },
      "execution_count": null,
      "outputs": []
    },
    {
      "cell_type": "code",
      "source": [
        "print(classification_report(y_pred, Y_test))"
      ],
      "metadata": {
        "id": "5gFglZ4WCFwF",
        "colab": {
          "base_uri": "https://localhost:8080/"
        },
        "outputId": "429251a6-0367-496e-ce32-7d7fff09fdce"
      },
      "execution_count": null,
      "outputs": [
        {
          "output_type": "stream",
          "name": "stdout",
          "text": [
            "              precision    recall  f1-score   support\n",
            "\n",
            "           0       0.75      0.80      0.78        50\n",
            "           1       0.63      0.82      0.72       118\n",
            "           2       0.50      0.79      0.61        63\n",
            "           3       0.84      0.95      0.89        43\n",
            "           4       0.89      0.96      0.92        70\n",
            "           5       0.94      0.91      0.92       499\n",
            "           6       0.60      0.84      0.70       150\n",
            "           7       0.90      0.90      0.90        21\n",
            "           8       0.48      0.78      0.59        58\n",
            "           9       0.97      0.95      0.96      2324\n",
            "          10       0.89      0.78      0.84       900\n",
            "\n",
            "    accuracy                           0.89      4296\n",
            "   macro avg       0.76      0.86      0.80      4296\n",
            "weighted avg       0.91      0.89      0.90      4296\n",
            "\n"
          ]
        }
      ]
    },
    {
      "cell_type": "code",
      "source": [],
      "metadata": {
        "id": "zKDQKbsFIv42"
      },
      "execution_count": null,
      "outputs": []
    },
    {
      "cell_type": "code",
      "source": [],
      "metadata": {
        "id": "VkkCbFFP-ivJ"
      },
      "execution_count": null,
      "outputs": []
    },
    {
      "cell_type": "markdown",
      "source": [
        "# this is the first try (preprocessing)"
      ],
      "metadata": {
        "id": "Sfw2tkTa-mrz"
      }
    },
    {
      "cell_type": "markdown",
      "source": [
        "##Data pre-processing"
      ],
      "metadata": {
        "id": "PhEXIMFTvcPn"
      }
    },
    {
      "cell_type": "markdown",
      "source": [
        "**handling outliers**"
      ],
      "metadata": {
        "id": "l4mi4j3TNhZ6"
      }
    },
    {
      "cell_type": "markdown",
      "source": [
        "training data"
      ],
      "metadata": {
        "id": "0yYmIEVDK_Cx"
      }
    },
    {
      "cell_type": "code",
      "source": [
        "numeric_features"
      ],
      "metadata": {
        "colab": {
          "base_uri": "https://localhost:8080/"
        },
        "id": "0p8Whhs5_bo8",
        "outputId": "2ee1edae-e7c6-42aa-fc1f-1bcb19b31c5c"
      },
      "execution_count": null,
      "outputs": [
        {
          "output_type": "execute_result",
          "data": {
            "text/plain": [
              "Index(['Popularity', 'danceability', 'energy', 'key', 'loudness', 'mode',\n",
              "       'speechiness', 'acousticness', 'instrumentalness', 'liveness',\n",
              "       'valence', 'tempo', 'duration_in min/ms', 'time_signature'],\n",
              "      dtype='object')"
            ]
          },
          "metadata": {},
          "execution_count": 22
        }
      ]
    },
    {
      "cell_type": "code",
      "source": [
        "null = ['Popularity', 'key', 'instrumentalness']\n",
        "for i in null:\n",
        "  data_train[i].fillna(data_train[i].mean(), axis=0, inplace=True)\n"
      ],
      "metadata": {
        "id": "7qs143heFby2"
      },
      "execution_count": null,
      "outputs": []
    },
    {
      "cell_type": "code",
      "source": [
        "data_train.isna().sum()"
      ],
      "metadata": {
        "colab": {
          "base_uri": "https://localhost:8080/"
        },
        "id": "5hk-CFOKFU_1",
        "outputId": "7b30e7f7-34c5-4197-f2c3-5bd5e6d33669"
      },
      "execution_count": null,
      "outputs": [
        {
          "output_type": "execute_result",
          "data": {
            "text/plain": [
              "Id                    0\n",
              "Artist Name           0\n",
              "Track Name            0\n",
              "Popularity            0\n",
              "danceability          0\n",
              "energy                0\n",
              "key                   0\n",
              "loudness              0\n",
              "mode                  0\n",
              "speechiness           0\n",
              "acousticness          0\n",
              "instrumentalness      0\n",
              "liveness              0\n",
              "valence               0\n",
              "tempo                 0\n",
              "duration_in min/ms    0\n",
              "time_signature        0\n",
              "Class                 0\n",
              "dtype: int64"
            ]
          },
          "metadata": {},
          "execution_count": 70
        }
      ]
    },
    {
      "cell_type": "code",
      "source": [
        "for x in ['Popularity', 'danceability', 'energy', 'key', 'loudness', 'mode','speechiness', 'acousticness', 'instrumentalness', 'liveness','valence', 'tempo', 'duration_in min/ms', 'time_signature']:\n",
        "    q75,q25 = np.percentile(data_train.loc[:,x],[75,25])\n",
        "    intr_qr = q75-q25\n",
        "\n",
        "    max = q75+(1.5*intr_qr)\n",
        "    min = q25-(1.5*intr_qr)\n",
        "\n",
        "    data_train.loc[data_train[x] < min,x] = np.nan\n",
        "    data_train.loc[data_train[x] > max,x] = np.nan"
      ],
      "metadata": {
        "id": "GEf3w_Eh8CmT"
      },
      "execution_count": null,
      "outputs": []
    },
    {
      "cell_type": "code",
      "source": [
        "data_train.isnull().sum()\n"
      ],
      "metadata": {
        "colab": {
          "base_uri": "https://localhost:8080/"
        },
        "id": "It5AfQ0A8Ckd",
        "outputId": "c6dbec0a-ef87-430e-8045-1681b0c87a65"
      },
      "execution_count": null,
      "outputs": [
        {
          "output_type": "execute_result",
          "data": {
            "text/plain": [
              "Id                       0\n",
              "Artist Name              0\n",
              "Track Name               0\n",
              "Popularity              32\n",
              "danceability            29\n",
              "energy                   0\n",
              "key                      0\n",
              "loudness               648\n",
              "mode                     0\n",
              "speechiness           1633\n",
              "acousticness             0\n",
              "instrumentalness      2077\n",
              "liveness               767\n",
              "valence                  0\n",
              "tempo                   32\n",
              "duration_in min/ms    2583\n",
              "time_signature        1247\n",
              "Class                    0\n",
              "dtype: int64"
            ]
          },
          "metadata": {},
          "execution_count": 72
        }
      ]
    },
    {
      "cell_type": "code",
      "source": [
        "# data_train.dropna(axis=0, inplace=True)\n",
        "for x in ['Popularity', 'danceability', 'energy', 'key', 'loudness', 'mode','speechiness', 'acousticness', 'instrumentalness', 'liveness','valence', 'tempo', 'duration_in min/ms', 'time_signature']:\n",
        "   data_train[x].fillna(data_train[x].median(), axis=0 ,inplace=True)\n"
      ],
      "metadata": {
        "id": "sjI-mlGZMgW9"
      },
      "execution_count": null,
      "outputs": []
    },
    {
      "cell_type": "code",
      "source": [
        "data_train.isna().sum()"
      ],
      "metadata": {
        "colab": {
          "base_uri": "https://localhost:8080/"
        },
        "id": "Xzwz7Zh2MpgD",
        "outputId": "6158f9b5-94d3-4f17-d4c5-d6b077fc5329"
      },
      "execution_count": null,
      "outputs": [
        {
          "output_type": "execute_result",
          "data": {
            "text/plain": [
              "Id                    0\n",
              "Artist Name           0\n",
              "Track Name            0\n",
              "Popularity            0\n",
              "danceability          0\n",
              "energy                0\n",
              "key                   0\n",
              "loudness              0\n",
              "mode                  0\n",
              "speechiness           0\n",
              "acousticness          0\n",
              "instrumentalness      0\n",
              "liveness              0\n",
              "valence               0\n",
              "tempo                 0\n",
              "duration_in min/ms    0\n",
              "time_signature        0\n",
              "Class                 0\n",
              "dtype: int64"
            ]
          },
          "metadata": {},
          "execution_count": 74
        }
      ]
    },
    {
      "cell_type": "markdown",
      "source": [
        "test data"
      ],
      "metadata": {
        "id": "YCgAxTBbLEP3"
      }
    },
    {
      "cell_type": "code",
      "source": [
        "print(numeric_features)\n",
        "print(categorical_feature)"
      ],
      "metadata": {
        "colab": {
          "base_uri": "https://localhost:8080/"
        },
        "id": "vZzPw4WvLF2q",
        "outputId": "32abe172-07a4-47ad-fb5c-e875d095ae10"
      },
      "execution_count": null,
      "outputs": [
        {
          "output_type": "stream",
          "name": "stdout",
          "text": [
            "Index(['Popularity', 'danceability', 'energy', 'key', 'loudness', 'mode',\n",
            "       'speechiness', 'acousticness', 'instrumentalness', 'liveness',\n",
            "       'valence', 'tempo', 'duration_in min/ms', 'time_signature'],\n",
            "      dtype='object')\n",
            "Index(['Artist Name', 'Track Name'], dtype='object')\n"
          ]
        }
      ]
    },
    {
      "cell_type": "code",
      "source": [
        "data_test.isna().sum()"
      ],
      "metadata": {
        "colab": {
          "base_uri": "https://localhost:8080/"
        },
        "id": "7T4MGBrnLFzx",
        "outputId": "99bd81a1-9822-4b1d-babd-1653c5ae5f87"
      },
      "execution_count": null,
      "outputs": [
        {
          "output_type": "execute_result",
          "data": {
            "text/plain": [
              "Id                      0\n",
              "Artist Name             0\n",
              "Track Name              0\n",
              "Popularity             95\n",
              "danceability            0\n",
              "energy                  0\n",
              "key                   405\n",
              "loudness                0\n",
              "mode                    0\n",
              "speechiness             0\n",
              "acousticness            0\n",
              "instrumentalness      836\n",
              "liveness                0\n",
              "valence                 0\n",
              "tempo                   0\n",
              "duration_in min/ms      0\n",
              "time_signature          0\n",
              "dtype: int64"
            ]
          },
          "metadata": {},
          "execution_count": 108
        }
      ]
    },
    {
      "cell_type": "code",
      "source": [
        "for i in null:\n",
        "  data_test[i].fillna(data_test[i].mean(), axis=0, inplace=True)"
      ],
      "metadata": {
        "id": "KhwWAFpCLFxO"
      },
      "execution_count": null,
      "outputs": []
    },
    {
      "cell_type": "code",
      "source": [
        "for x in ['Popularity', 'danceability', 'energy', 'key', 'loudness', 'mode','speechiness', 'acousticness', 'instrumentalness', 'liveness','valence', 'tempo', 'duration_in min/ms', 'time_signature']:\n",
        "    q75,q25 = np.percentile(data_test.loc[:,x],[75,25])\n",
        "    intr_qr = q75-q25\n",
        "\n",
        "    max = q75+(1.5*intr_qr)\n",
        "    min = q25-(1.5*intr_qr)\n",
        "\n",
        "    data_test.loc[data_test[x] < min,x] = np.nan\n",
        "    data_test.loc[data_test[x] > max,x] = np.nan"
      ],
      "metadata": {
        "id": "zCFMB2OhMEu7"
      },
      "execution_count": null,
      "outputs": []
    },
    {
      "cell_type": "code",
      "source": [
        "data_test.isna().sum()"
      ],
      "metadata": {
        "colab": {
          "base_uri": "https://localhost:8080/"
        },
        "id": "f1Ul9qHKL5i-",
        "outputId": "c5bf81ae-5069-4c48-ed00-676894c57620"
      },
      "execution_count": null,
      "outputs": [
        {
          "output_type": "execute_result",
          "data": {
            "text/plain": [
              "Id                      0\n",
              "Artist Name             0\n",
              "Track Name              0\n",
              "Popularity              9\n",
              "danceability            4\n",
              "energy                  0\n",
              "key                     0\n",
              "loudness              169\n",
              "mode                    0\n",
              "speechiness           403\n",
              "acousticness            0\n",
              "instrumentalness      517\n",
              "liveness              191\n",
              "valence                 0\n",
              "tempo                   6\n",
              "duration_in min/ms    658\n",
              "time_signature        298\n",
              "dtype: int64"
            ]
          },
          "metadata": {},
          "execution_count": 112
        }
      ]
    },
    {
      "cell_type": "code",
      "source": [
        "# data_train.dropna(axis=0, inplace=True)\n",
        "for x in ['Popularity', 'danceability', 'energy', 'key', 'loudness', 'mode','speechiness', 'acousticness', 'instrumentalness', 'liveness','valence', 'tempo', 'duration_in min/ms', 'time_signature']:\n",
        "   data_test[x].fillna(data_test[x].median(), axis=0 ,inplace=True)\n"
      ],
      "metadata": {
        "id": "ah53e6w2MWzM"
      },
      "execution_count": null,
      "outputs": []
    },
    {
      "cell_type": "code",
      "source": [
        "data_test.isna().sum()"
      ],
      "metadata": {
        "colab": {
          "base_uri": "https://localhost:8080/"
        },
        "id": "NcICOD1iMddJ",
        "outputId": "af5f2afe-16e0-418e-f096-8b391ffd4fc5"
      },
      "execution_count": null,
      "outputs": [
        {
          "output_type": "execute_result",
          "data": {
            "text/plain": [
              "Id                    0\n",
              "Artist Name           0\n",
              "Track Name            0\n",
              "Popularity            0\n",
              "danceability          0\n",
              "energy                0\n",
              "key                   0\n",
              "loudness              0\n",
              "mode                  0\n",
              "speechiness           0\n",
              "acousticness          0\n",
              "instrumentalness      0\n",
              "liveness              0\n",
              "valence               0\n",
              "tempo                 0\n",
              "duration_in min/ms    0\n",
              "time_signature        0\n",
              "dtype: int64"
            ]
          },
          "metadata": {},
          "execution_count": 114
        }
      ]
    },
    {
      "cell_type": "markdown",
      "source": [
        "**handling categorical data**"
      ],
      "metadata": {
        "id": "hiatbJdANLzW"
      }
    },
    {
      "cell_type": "markdown",
      "source": [
        "train data"
      ],
      "metadata": {
        "id": "GIHLYX0_MjGc"
      }
    },
    {
      "cell_type": "code",
      "source": [
        "categorical_feature"
      ],
      "metadata": {
        "colab": {
          "base_uri": "https://localhost:8080/"
        },
        "id": "KdYn6xGANxSX",
        "outputId": "a3c06c52-1b6f-4381-e3d4-0602aae0a509"
      },
      "execution_count": null,
      "outputs": [
        {
          "output_type": "execute_result",
          "data": {
            "text/plain": [
              "Index(['Artist Name', 'Track Name'], dtype='object')"
            ]
          },
          "metadata": {},
          "execution_count": 75
        }
      ]
    },
    {
      "cell_type": "code",
      "source": [
        "data_train['Artist Name'].unique()"
      ],
      "metadata": {
        "colab": {
          "base_uri": "https://localhost:8080/"
        },
        "id": "E6M-JK_MN6OM",
        "outputId": "9abfd208-1e9b-4d84-eb56-b6ddd51f144a"
      },
      "execution_count": null,
      "outputs": [
        {
          "output_type": "execute_result",
          "data": {
            "text/plain": [
              "array(['Marina Maximilian', 'The Black Keys', 'Royal & the Serpent', ...,\n",
              "       'Cold Years', 'The Jaded Hearts Club', 'Freddy Fender'],\n",
              "      dtype=object)"
            ]
          },
          "metadata": {},
          "execution_count": 76
        }
      ]
    },
    {
      "cell_type": "code",
      "source": [
        "data_train['Track Name'].unique()"
      ],
      "metadata": {
        "colab": {
          "base_uri": "https://localhost:8080/"
        },
        "id": "SFcOHakvOERt",
        "outputId": "1dc7bd9d-35e1-4a69-e096-17e5502a8c84"
      },
      "execution_count": null,
      "outputs": [
        {
          "output_type": "execute_result",
          "data": {
            "text/plain": [
              "array(['Not Afraid', \"Howlin' for You\", 'phuck u', ..., 'Too Far Gone',\n",
              "       \"Reach Out I'll Be There\", 'Before the Next Teardrop Falls'],\n",
              "      dtype=object)"
            ]
          },
          "metadata": {},
          "execution_count": 77
        }
      ]
    },
    {
      "cell_type": "code",
      "source": [
        "from sklearn.preprocessing import LabelEncoder\n",
        "labelencoder = LabelEncoder()\n",
        "data_train['Artist Name'] = labelencoder.fit_transform(data_train['Artist Name'])\n",
        "data_train['Track Name'] = labelencoder.fit_transform(data_train['Track Name'])"
      ],
      "metadata": {
        "id": "iJac971iTfVA"
      },
      "execution_count": null,
      "outputs": []
    },
    {
      "cell_type": "code",
      "source": [
        "data_train.shape"
      ],
      "metadata": {
        "colab": {
          "base_uri": "https://localhost:8080/"
        },
        "id": "jO3Vv4bxTAaF",
        "outputId": "539f6b52-41bb-4fe4-ce6e-7a1e6bee59f5"
      },
      "execution_count": null,
      "outputs": [
        {
          "output_type": "execute_result",
          "data": {
            "text/plain": [
              "(14396, 18)"
            ]
          },
          "metadata": {},
          "execution_count": 79
        }
      ]
    },
    {
      "cell_type": "code",
      "source": [
        "data_train.head()"
      ],
      "metadata": {
        "colab": {
          "base_uri": "https://localhost:8080/",
          "height": 288
        },
        "id": "bWgsWLM5NOZw",
        "outputId": "dc3b6b4a-1b8f-4aad-ec37-cc48273853ee"
      },
      "execution_count": null,
      "outputs": [
        {
          "output_type": "execute_result",
          "data": {
            "text/plain": [
              "   Id  Artist Name  Track Name  Popularity  danceability  energy        key  \\\n",
              "0   1         4260        6755   37.000000         0.334   0.536   9.000000   \n",
              "1   2         6558        4263   67.000000         0.725   0.747  11.000000   \n",
              "2   3         5639       11474   44.525208         0.584   0.804   7.000000   \n",
              "3   4         1750        6223   12.000000         0.515   0.308   5.953781   \n",
              "4   5         1377        6441   48.000000         0.565   0.777   6.000000   \n",
              "\n",
              "   loudness  mode  speechiness  acousticness  instrumentalness  liveness  \\\n",
              "0    -6.649   0.0       0.0381      0.378000          0.178129     0.106   \n",
              "1    -5.545   1.0       0.0876      0.027200          0.046800     0.104   \n",
              "2    -6.094   1.0       0.0619      0.000968          0.011000     0.284   \n",
              "3   -14.711   1.0       0.0312      0.907000          0.021300     0.300   \n",
              "4    -5.096   0.0       0.0435      0.183000          0.178129     0.211   \n",
              "\n",
              "   valence    tempo  duration_in min/ms  time_signature  Class  \n",
              "0    0.235  152.429            204947.0             4.0      9  \n",
              "1    0.380  132.921            191956.0             4.0      6  \n",
              "2    0.635  159.953            161037.0             4.0     10  \n",
              "3    0.501  172.472            298093.0             4.0      2  \n",
              "4    0.619   88.311            254145.0             4.0      5  "
            ],
            "text/html": [
              "\n",
              "  <div id=\"df-ae23d96f-1fd4-4604-a8bf-f72205c9f7a5\">\n",
              "    <div class=\"colab-df-container\">\n",
              "      <div>\n",
              "<style scoped>\n",
              "    .dataframe tbody tr th:only-of-type {\n",
              "        vertical-align: middle;\n",
              "    }\n",
              "\n",
              "    .dataframe tbody tr th {\n",
              "        vertical-align: top;\n",
              "    }\n",
              "\n",
              "    .dataframe thead th {\n",
              "        text-align: right;\n",
              "    }\n",
              "</style>\n",
              "<table border=\"1\" class=\"dataframe\">\n",
              "  <thead>\n",
              "    <tr style=\"text-align: right;\">\n",
              "      <th></th>\n",
              "      <th>Id</th>\n",
              "      <th>Artist Name</th>\n",
              "      <th>Track Name</th>\n",
              "      <th>Popularity</th>\n",
              "      <th>danceability</th>\n",
              "      <th>energy</th>\n",
              "      <th>key</th>\n",
              "      <th>loudness</th>\n",
              "      <th>mode</th>\n",
              "      <th>speechiness</th>\n",
              "      <th>acousticness</th>\n",
              "      <th>instrumentalness</th>\n",
              "      <th>liveness</th>\n",
              "      <th>valence</th>\n",
              "      <th>tempo</th>\n",
              "      <th>duration_in min/ms</th>\n",
              "      <th>time_signature</th>\n",
              "      <th>Class</th>\n",
              "    </tr>\n",
              "  </thead>\n",
              "  <tbody>\n",
              "    <tr>\n",
              "      <th>0</th>\n",
              "      <td>1</td>\n",
              "      <td>4260</td>\n",
              "      <td>6755</td>\n",
              "      <td>37.000000</td>\n",
              "      <td>0.334</td>\n",
              "      <td>0.536</td>\n",
              "      <td>9.000000</td>\n",
              "      <td>-6.649</td>\n",
              "      <td>0.0</td>\n",
              "      <td>0.0381</td>\n",
              "      <td>0.378000</td>\n",
              "      <td>0.178129</td>\n",
              "      <td>0.106</td>\n",
              "      <td>0.235</td>\n",
              "      <td>152.429</td>\n",
              "      <td>204947.0</td>\n",
              "      <td>4.0</td>\n",
              "      <td>9</td>\n",
              "    </tr>\n",
              "    <tr>\n",
              "      <th>1</th>\n",
              "      <td>2</td>\n",
              "      <td>6558</td>\n",
              "      <td>4263</td>\n",
              "      <td>67.000000</td>\n",
              "      <td>0.725</td>\n",
              "      <td>0.747</td>\n",
              "      <td>11.000000</td>\n",
              "      <td>-5.545</td>\n",
              "      <td>1.0</td>\n",
              "      <td>0.0876</td>\n",
              "      <td>0.027200</td>\n",
              "      <td>0.046800</td>\n",
              "      <td>0.104</td>\n",
              "      <td>0.380</td>\n",
              "      <td>132.921</td>\n",
              "      <td>191956.0</td>\n",
              "      <td>4.0</td>\n",
              "      <td>6</td>\n",
              "    </tr>\n",
              "    <tr>\n",
              "      <th>2</th>\n",
              "      <td>3</td>\n",
              "      <td>5639</td>\n",
              "      <td>11474</td>\n",
              "      <td>44.525208</td>\n",
              "      <td>0.584</td>\n",
              "      <td>0.804</td>\n",
              "      <td>7.000000</td>\n",
              "      <td>-6.094</td>\n",
              "      <td>1.0</td>\n",
              "      <td>0.0619</td>\n",
              "      <td>0.000968</td>\n",
              "      <td>0.011000</td>\n",
              "      <td>0.284</td>\n",
              "      <td>0.635</td>\n",
              "      <td>159.953</td>\n",
              "      <td>161037.0</td>\n",
              "      <td>4.0</td>\n",
              "      <td>10</td>\n",
              "    </tr>\n",
              "    <tr>\n",
              "      <th>3</th>\n",
              "      <td>4</td>\n",
              "      <td>1750</td>\n",
              "      <td>6223</td>\n",
              "      <td>12.000000</td>\n",
              "      <td>0.515</td>\n",
              "      <td>0.308</td>\n",
              "      <td>5.953781</td>\n",
              "      <td>-14.711</td>\n",
              "      <td>1.0</td>\n",
              "      <td>0.0312</td>\n",
              "      <td>0.907000</td>\n",
              "      <td>0.021300</td>\n",
              "      <td>0.300</td>\n",
              "      <td>0.501</td>\n",
              "      <td>172.472</td>\n",
              "      <td>298093.0</td>\n",
              "      <td>4.0</td>\n",
              "      <td>2</td>\n",
              "    </tr>\n",
              "    <tr>\n",
              "      <th>4</th>\n",
              "      <td>5</td>\n",
              "      <td>1377</td>\n",
              "      <td>6441</td>\n",
              "      <td>48.000000</td>\n",
              "      <td>0.565</td>\n",
              "      <td>0.777</td>\n",
              "      <td>6.000000</td>\n",
              "      <td>-5.096</td>\n",
              "      <td>0.0</td>\n",
              "      <td>0.0435</td>\n",
              "      <td>0.183000</td>\n",
              "      <td>0.178129</td>\n",
              "      <td>0.211</td>\n",
              "      <td>0.619</td>\n",
              "      <td>88.311</td>\n",
              "      <td>254145.0</td>\n",
              "      <td>4.0</td>\n",
              "      <td>5</td>\n",
              "    </tr>\n",
              "  </tbody>\n",
              "</table>\n",
              "</div>\n",
              "      <button class=\"colab-df-convert\" onclick=\"convertToInteractive('df-ae23d96f-1fd4-4604-a8bf-f72205c9f7a5')\"\n",
              "              title=\"Convert this dataframe to an interactive table.\"\n",
              "              style=\"display:none;\">\n",
              "        \n",
              "  <svg xmlns=\"http://www.w3.org/2000/svg\" height=\"24px\"viewBox=\"0 0 24 24\"\n",
              "       width=\"24px\">\n",
              "    <path d=\"M0 0h24v24H0V0z\" fill=\"none\"/>\n",
              "    <path d=\"M18.56 5.44l.94 2.06.94-2.06 2.06-.94-2.06-.94-.94-2.06-.94 2.06-2.06.94zm-11 1L8.5 8.5l.94-2.06 2.06-.94-2.06-.94L8.5 2.5l-.94 2.06-2.06.94zm10 10l.94 2.06.94-2.06 2.06-.94-2.06-.94-.94-2.06-.94 2.06-2.06.94z\"/><path d=\"M17.41 7.96l-1.37-1.37c-.4-.4-.92-.59-1.43-.59-.52 0-1.04.2-1.43.59L10.3 9.45l-7.72 7.72c-.78.78-.78 2.05 0 2.83L4 21.41c.39.39.9.59 1.41.59.51 0 1.02-.2 1.41-.59l7.78-7.78 2.81-2.81c.8-.78.8-2.07 0-2.86zM5.41 20L4 18.59l7.72-7.72 1.47 1.35L5.41 20z\"/>\n",
              "  </svg>\n",
              "      </button>\n",
              "      \n",
              "  <style>\n",
              "    .colab-df-container {\n",
              "      display:flex;\n",
              "      flex-wrap:wrap;\n",
              "      gap: 12px;\n",
              "    }\n",
              "\n",
              "    .colab-df-convert {\n",
              "      background-color: #E8F0FE;\n",
              "      border: none;\n",
              "      border-radius: 50%;\n",
              "      cursor: pointer;\n",
              "      display: none;\n",
              "      fill: #1967D2;\n",
              "      height: 32px;\n",
              "      padding: 0 0 0 0;\n",
              "      width: 32px;\n",
              "    }\n",
              "\n",
              "    .colab-df-convert:hover {\n",
              "      background-color: #E2EBFA;\n",
              "      box-shadow: 0px 1px 2px rgba(60, 64, 67, 0.3), 0px 1px 3px 1px rgba(60, 64, 67, 0.15);\n",
              "      fill: #174EA6;\n",
              "    }\n",
              "\n",
              "    [theme=dark] .colab-df-convert {\n",
              "      background-color: #3B4455;\n",
              "      fill: #D2E3FC;\n",
              "    }\n",
              "\n",
              "    [theme=dark] .colab-df-convert:hover {\n",
              "      background-color: #434B5C;\n",
              "      box-shadow: 0px 1px 3px 1px rgba(0, 0, 0, 0.15);\n",
              "      filter: drop-shadow(0px 1px 2px rgba(0, 0, 0, 0.3));\n",
              "      fill: #FFFFFF;\n",
              "    }\n",
              "  </style>\n",
              "\n",
              "      <script>\n",
              "        const buttonEl =\n",
              "          document.querySelector('#df-ae23d96f-1fd4-4604-a8bf-f72205c9f7a5 button.colab-df-convert');\n",
              "        buttonEl.style.display =\n",
              "          google.colab.kernel.accessAllowed ? 'block' : 'none';\n",
              "\n",
              "        async function convertToInteractive(key) {\n",
              "          const element = document.querySelector('#df-ae23d96f-1fd4-4604-a8bf-f72205c9f7a5');\n",
              "          const dataTable =\n",
              "            await google.colab.kernel.invokeFunction('convertToInteractive',\n",
              "                                                     [key], {});\n",
              "          if (!dataTable) return;\n",
              "\n",
              "          const docLinkHtml = 'Like what you see? Visit the ' +\n",
              "            '<a target=\"_blank\" href=https://colab.research.google.com/notebooks/data_table.ipynb>data table notebook</a>'\n",
              "            + ' to learn more about interactive tables.';\n",
              "          element.innerHTML = '';\n",
              "          dataTable['output_type'] = 'display_data';\n",
              "          await google.colab.output.renderOutput(dataTable, element);\n",
              "          const docLink = document.createElement('div');\n",
              "          docLink.innerHTML = docLinkHtml;\n",
              "          element.appendChild(docLink);\n",
              "        }\n",
              "      </script>\n",
              "    </div>\n",
              "  </div>\n",
              "  "
            ]
          },
          "metadata": {},
          "execution_count": 118
        }
      ]
    },
    {
      "cell_type": "markdown",
      "source": [
        "test data"
      ],
      "metadata": {
        "id": "hOIfgXs9MmR5"
      }
    },
    {
      "cell_type": "code",
      "source": [
        "from sklearn.preprocessing import LabelEncoder\n",
        "labelencoder = LabelEncoder()\n",
        "data_test['Artist Name'] = labelencoder.fit_transform(data_test['Artist Name'])\n",
        "data_test['Track Name'] = labelencoder.fit_transform(data_test['Track Name'])"
      ],
      "metadata": {
        "id": "1mbY9nGwMr8F"
      },
      "execution_count": null,
      "outputs": []
    },
    {
      "cell_type": "code",
      "source": [
        "data_test.head()"
      ],
      "metadata": {
        "colab": {
          "base_uri": "https://localhost:8080/",
          "height": 288
        },
        "id": "vNKLuajMNZhf",
        "outputId": "87baa5b1-f1b1-4fa2-8f06-975a637b7098"
      },
      "execution_count": null,
      "outputs": [
        {
          "output_type": "execute_result",
          "data": {
            "text/plain": [
              "      Id  Artist Name  Track Name  Popularity  danceability  energy       key  \\\n",
              "0  14397         1159        1714   44.459629         0.691   0.670  2.000000   \n",
              "1  14398         1205         207   14.000000         0.461   0.777  2.000000   \n",
              "2  14399         1803        1147   80.000000         0.656   0.291  2.000000   \n",
              "3  14400         2609         709   52.000000         0.480   0.826  5.947105   \n",
              "4  14401         1773        3301   23.000000         0.734   0.729  1.000000   \n",
              "\n",
              "   loudness  mode  speechiness  acousticness  instrumentalness  liveness  \\\n",
              "0    -7.093   0.0       0.0941      0.075700          0.035200    0.1970   \n",
              "1    -7.469   1.0       0.0306      0.388000          0.008520    0.2910   \n",
              "2   -10.572   1.0       0.0293      0.872000          0.175336    0.1140   \n",
              "3    -4.602   1.0       0.0397      0.000797          0.000001    0.1250   \n",
              "4    -6.381   0.0       0.0444      0.147000          0.175336    0.0672   \n",
              "\n",
              "   valence    tempo  duration_in min/ms  time_signature  \n",
              "0    0.635   89.965            200000.0             4.0  \n",
              "1    0.525  163.043            283909.0             4.0  \n",
              "2    0.298  103.971            232533.0             4.0  \n",
              "3    0.687   96.000            222053.0             4.0  \n",
              "4    0.805   76.030            118439.0             4.0  "
            ],
            "text/html": [
              "\n",
              "  <div id=\"df-c4b9dac9-a242-44d1-8d09-66ecd124b9c7\">\n",
              "    <div class=\"colab-df-container\">\n",
              "      <div>\n",
              "<style scoped>\n",
              "    .dataframe tbody tr th:only-of-type {\n",
              "        vertical-align: middle;\n",
              "    }\n",
              "\n",
              "    .dataframe tbody tr th {\n",
              "        vertical-align: top;\n",
              "    }\n",
              "\n",
              "    .dataframe thead th {\n",
              "        text-align: right;\n",
              "    }\n",
              "</style>\n",
              "<table border=\"1\" class=\"dataframe\">\n",
              "  <thead>\n",
              "    <tr style=\"text-align: right;\">\n",
              "      <th></th>\n",
              "      <th>Id</th>\n",
              "      <th>Artist Name</th>\n",
              "      <th>Track Name</th>\n",
              "      <th>Popularity</th>\n",
              "      <th>danceability</th>\n",
              "      <th>energy</th>\n",
              "      <th>key</th>\n",
              "      <th>loudness</th>\n",
              "      <th>mode</th>\n",
              "      <th>speechiness</th>\n",
              "      <th>acousticness</th>\n",
              "      <th>instrumentalness</th>\n",
              "      <th>liveness</th>\n",
              "      <th>valence</th>\n",
              "      <th>tempo</th>\n",
              "      <th>duration_in min/ms</th>\n",
              "      <th>time_signature</th>\n",
              "    </tr>\n",
              "  </thead>\n",
              "  <tbody>\n",
              "    <tr>\n",
              "      <th>0</th>\n",
              "      <td>14397</td>\n",
              "      <td>1159</td>\n",
              "      <td>1714</td>\n",
              "      <td>44.459629</td>\n",
              "      <td>0.691</td>\n",
              "      <td>0.670</td>\n",
              "      <td>2.000000</td>\n",
              "      <td>-7.093</td>\n",
              "      <td>0.0</td>\n",
              "      <td>0.0941</td>\n",
              "      <td>0.075700</td>\n",
              "      <td>0.035200</td>\n",
              "      <td>0.1970</td>\n",
              "      <td>0.635</td>\n",
              "      <td>89.965</td>\n",
              "      <td>200000.0</td>\n",
              "      <td>4.0</td>\n",
              "    </tr>\n",
              "    <tr>\n",
              "      <th>1</th>\n",
              "      <td>14398</td>\n",
              "      <td>1205</td>\n",
              "      <td>207</td>\n",
              "      <td>14.000000</td>\n",
              "      <td>0.461</td>\n",
              "      <td>0.777</td>\n",
              "      <td>2.000000</td>\n",
              "      <td>-7.469</td>\n",
              "      <td>1.0</td>\n",
              "      <td>0.0306</td>\n",
              "      <td>0.388000</td>\n",
              "      <td>0.008520</td>\n",
              "      <td>0.2910</td>\n",
              "      <td>0.525</td>\n",
              "      <td>163.043</td>\n",
              "      <td>283909.0</td>\n",
              "      <td>4.0</td>\n",
              "    </tr>\n",
              "    <tr>\n",
              "      <th>2</th>\n",
              "      <td>14399</td>\n",
              "      <td>1803</td>\n",
              "      <td>1147</td>\n",
              "      <td>80.000000</td>\n",
              "      <td>0.656</td>\n",
              "      <td>0.291</td>\n",
              "      <td>2.000000</td>\n",
              "      <td>-10.572</td>\n",
              "      <td>1.0</td>\n",
              "      <td>0.0293</td>\n",
              "      <td>0.872000</td>\n",
              "      <td>0.175336</td>\n",
              "      <td>0.1140</td>\n",
              "      <td>0.298</td>\n",
              "      <td>103.971</td>\n",
              "      <td>232533.0</td>\n",
              "      <td>4.0</td>\n",
              "    </tr>\n",
              "    <tr>\n",
              "      <th>3</th>\n",
              "      <td>14400</td>\n",
              "      <td>2609</td>\n",
              "      <td>709</td>\n",
              "      <td>52.000000</td>\n",
              "      <td>0.480</td>\n",
              "      <td>0.826</td>\n",
              "      <td>5.947105</td>\n",
              "      <td>-4.602</td>\n",
              "      <td>1.0</td>\n",
              "      <td>0.0397</td>\n",
              "      <td>0.000797</td>\n",
              "      <td>0.000001</td>\n",
              "      <td>0.1250</td>\n",
              "      <td>0.687</td>\n",
              "      <td>96.000</td>\n",
              "      <td>222053.0</td>\n",
              "      <td>4.0</td>\n",
              "    </tr>\n",
              "    <tr>\n",
              "      <th>4</th>\n",
              "      <td>14401</td>\n",
              "      <td>1773</td>\n",
              "      <td>3301</td>\n",
              "      <td>23.000000</td>\n",
              "      <td>0.734</td>\n",
              "      <td>0.729</td>\n",
              "      <td>1.000000</td>\n",
              "      <td>-6.381</td>\n",
              "      <td>0.0</td>\n",
              "      <td>0.0444</td>\n",
              "      <td>0.147000</td>\n",
              "      <td>0.175336</td>\n",
              "      <td>0.0672</td>\n",
              "      <td>0.805</td>\n",
              "      <td>76.030</td>\n",
              "      <td>118439.0</td>\n",
              "      <td>4.0</td>\n",
              "    </tr>\n",
              "  </tbody>\n",
              "</table>\n",
              "</div>\n",
              "      <button class=\"colab-df-convert\" onclick=\"convertToInteractive('df-c4b9dac9-a242-44d1-8d09-66ecd124b9c7')\"\n",
              "              title=\"Convert this dataframe to an interactive table.\"\n",
              "              style=\"display:none;\">\n",
              "        \n",
              "  <svg xmlns=\"http://www.w3.org/2000/svg\" height=\"24px\"viewBox=\"0 0 24 24\"\n",
              "       width=\"24px\">\n",
              "    <path d=\"M0 0h24v24H0V0z\" fill=\"none\"/>\n",
              "    <path d=\"M18.56 5.44l.94 2.06.94-2.06 2.06-.94-2.06-.94-.94-2.06-.94 2.06-2.06.94zm-11 1L8.5 8.5l.94-2.06 2.06-.94-2.06-.94L8.5 2.5l-.94 2.06-2.06.94zm10 10l.94 2.06.94-2.06 2.06-.94-2.06-.94-.94-2.06-.94 2.06-2.06.94z\"/><path d=\"M17.41 7.96l-1.37-1.37c-.4-.4-.92-.59-1.43-.59-.52 0-1.04.2-1.43.59L10.3 9.45l-7.72 7.72c-.78.78-.78 2.05 0 2.83L4 21.41c.39.39.9.59 1.41.59.51 0 1.02-.2 1.41-.59l7.78-7.78 2.81-2.81c.8-.78.8-2.07 0-2.86zM5.41 20L4 18.59l7.72-7.72 1.47 1.35L5.41 20z\"/>\n",
              "  </svg>\n",
              "      </button>\n",
              "      \n",
              "  <style>\n",
              "    .colab-df-container {\n",
              "      display:flex;\n",
              "      flex-wrap:wrap;\n",
              "      gap: 12px;\n",
              "    }\n",
              "\n",
              "    .colab-df-convert {\n",
              "      background-color: #E8F0FE;\n",
              "      border: none;\n",
              "      border-radius: 50%;\n",
              "      cursor: pointer;\n",
              "      display: none;\n",
              "      fill: #1967D2;\n",
              "      height: 32px;\n",
              "      padding: 0 0 0 0;\n",
              "      width: 32px;\n",
              "    }\n",
              "\n",
              "    .colab-df-convert:hover {\n",
              "      background-color: #E2EBFA;\n",
              "      box-shadow: 0px 1px 2px rgba(60, 64, 67, 0.3), 0px 1px 3px 1px rgba(60, 64, 67, 0.15);\n",
              "      fill: #174EA6;\n",
              "    }\n",
              "\n",
              "    [theme=dark] .colab-df-convert {\n",
              "      background-color: #3B4455;\n",
              "      fill: #D2E3FC;\n",
              "    }\n",
              "\n",
              "    [theme=dark] .colab-df-convert:hover {\n",
              "      background-color: #434B5C;\n",
              "      box-shadow: 0px 1px 3px 1px rgba(0, 0, 0, 0.15);\n",
              "      filter: drop-shadow(0px 1px 2px rgba(0, 0, 0, 0.3));\n",
              "      fill: #FFFFFF;\n",
              "    }\n",
              "  </style>\n",
              "\n",
              "      <script>\n",
              "        const buttonEl =\n",
              "          document.querySelector('#df-c4b9dac9-a242-44d1-8d09-66ecd124b9c7 button.colab-df-convert');\n",
              "        buttonEl.style.display =\n",
              "          google.colab.kernel.accessAllowed ? 'block' : 'none';\n",
              "\n",
              "        async function convertToInteractive(key) {\n",
              "          const element = document.querySelector('#df-c4b9dac9-a242-44d1-8d09-66ecd124b9c7');\n",
              "          const dataTable =\n",
              "            await google.colab.kernel.invokeFunction('convertToInteractive',\n",
              "                                                     [key], {});\n",
              "          if (!dataTable) return;\n",
              "\n",
              "          const docLinkHtml = 'Like what you see? Visit the ' +\n",
              "            '<a target=\"_blank\" href=https://colab.research.google.com/notebooks/data_table.ipynb>data table notebook</a>'\n",
              "            + ' to learn more about interactive tables.';\n",
              "          element.innerHTML = '';\n",
              "          dataTable['output_type'] = 'display_data';\n",
              "          await google.colab.output.renderOutput(dataTable, element);\n",
              "          const docLink = document.createElement('div');\n",
              "          docLink.innerHTML = docLinkHtml;\n",
              "          element.appendChild(docLink);\n",
              "        }\n",
              "      </script>\n",
              "    </div>\n",
              "  </div>\n",
              "  "
            ]
          },
          "metadata": {},
          "execution_count": 120
        }
      ]
    },
    {
      "cell_type": "markdown",
      "source": [
        "###split the data_train"
      ],
      "metadata": {
        "id": "I0H7_bFdoixy"
      }
    },
    {
      "cell_type": "code",
      "source": [
        "X = data_train.drop('Class', axis=1)\n",
        "Y = data_train['Class']"
      ],
      "metadata": {
        "id": "_f11k6rgnAIz"
      },
      "execution_count": null,
      "outputs": []
    },
    {
      "cell_type": "code",
      "source": [
        "X_train, X_test, Y_train, Y_test = train_test_split(X, Y, test_size=0.3, stratify=Y, random_state=42)"
      ],
      "metadata": {
        "id": "rrMFLw_TnALR"
      },
      "execution_count": null,
      "outputs": []
    },
    {
      "cell_type": "code",
      "source": [],
      "metadata": {
        "id": "PwUWO9oKXq9M"
      },
      "execution_count": null,
      "outputs": []
    }
  ]
}